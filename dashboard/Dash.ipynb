{
 "cells": [
  {
   "cell_type": "markdown",
   "metadata": {},
   "source": [
    "# Setup"
   ]
  },
  {
   "cell_type": "code",
   "execution_count": 1,
   "metadata": {},
   "outputs": [
    {
     "name": "stdout",
     "output_type": "stream",
     "text": [
      "/home/umni2/a/umnilab/users/verma99/mk/spr_4711/code\n"
     ]
    }
   ],
   "source": [
    "!pwd"
   ]
  },
  {
   "cell_type": "code",
   "execution_count": 2,
   "metadata": {},
   "outputs": [],
   "source": [
    "from mobilkit.umni import *\n",
    "from project import *"
   ]
  },
  {
   "cell_type": "code",
   "execution_count": 3,
   "metadata": {},
   "outputs": [],
   "source": [
    "from dash import Dash, dcc, html, Input, Output\n",
    "import dash_bootstrap_components as dbc\n",
    "import plotly.express as px\n",
    "# import plotly.graph_objects as go"
   ]
  },
  {
   "cell_type": "code",
   "execution_count": 4,
   "metadata": {},
   "outputs": [],
   "source": [
    "app = Dash(__name__)\n",
    "app.title = 'Indiana Transport Equity Atlas'"
   ]
  },
  {
   "cell_type": "code",
   "execution_count": 5,
   "metadata": {},
   "outputs": [],
   "source": [
    "app.layout = html.Div([\n",
    "    html.H1('My own web application dashboards with Dash', style=D(\n",
    "        textAlign='left', fontFamily='Noto Sans', color='purple')),\n",
    "    dcc.RadioItems(id='scale-selector', value='County', inline=True,\n",
    "                   style=D(width='40%', fontFamily='Arial', size='14px'),\n",
    "                   options=[D(label=x, value=x) for x in SCALES]),\n",
    "    html.Div(id='output-container', children=[]),\n",
    "    html.Br(),\n",
    "    dcc.Graph(id='map-main')\n",
    "])"
   ]
  },
  {
   "cell_type": "code",
   "execution_count": 6,
   "metadata": {},
   "outputs": [
    {
     "name": "stdout",
     "output_type": "stream",
     "text": [
      "6,417 rows x 6 cols; Memory: 1.4 MiB; CRS: EPSG:4326\n"
     ]
    },
    {
     "data": {
      "text/html": [
       "<div>\n",
       "<style scoped>\n",
       "    .dataframe tbody tr th:only-of-type {\n",
       "        vertical-align: middle;\n",
       "    }\n",
       "\n",
       "    .dataframe tbody tr th {\n",
       "        vertical-align: top;\n",
       "    }\n",
       "\n",
       "    .dataframe thead th {\n",
       "        text-align: right;\n",
       "    }\n",
       "</style>\n",
       "<table border=\"1\" class=\"dataframe\">\n",
       "  <thead>\n",
       "    <tr style=\"text-align: right;\">\n",
       "      <th></th>\n",
       "      <th>geoid</th>\n",
       "      <th>name</th>\n",
       "      <th>aland</th>\n",
       "      <th>awater</th>\n",
       "      <th>geometry</th>\n",
       "      <th>scale</th>\n",
       "    </tr>\n",
       "  </thead>\n",
       "  <tbody>\n",
       "    <tr>\n",
       "      <th></th>\n",
       "      <td>&lt;object&gt;</td>\n",
       "      <td>&lt;object&gt;</td>\n",
       "      <td>&lt;int64&gt;</td>\n",
       "      <td>&lt;int64&gt;</td>\n",
       "      <td>&lt;geometry&gt;</td>\n",
       "      <td>&lt;object&gt;</td>\n",
       "    </tr>\n",
       "    <tr>\n",
       "      <th>0</th>\n",
       "      <td>18083</td>\n",
       "      <td>Knox</td>\n",
       "      <td>1336514262</td>\n",
       "      <td>20755159</td>\n",
       "      <td>POLYGON ((-87.506221 38.733533, -87.506172 38....</td>\n",
       "      <td>COUNTY</td>\n",
       "    </tr>\n",
       "  </tbody>\n",
       "</table>\n",
       "</div>"
      ],
      "text/plain": [
       "      geoid      name       aland    awater  \\\n",
       "   <object>  <object>     <int64>   <int64>   \n",
       "0     18083      Knox  1336514262  20755159   \n",
       "\n",
       "                                            geometry     scale  \n",
       "                                          <geometry>  <object>  \n",
       "0  POLYGON ((-87.506221 38.733533, -87.506172 38....    COUNTY  "
      ]
     },
     "metadata": {},
     "output_type": "display_data"
    }
   ],
   "source": [
    "zones = gpd.read_parquet('../data/zones/zones_2010.parquet').set_crs(CRS_DEG).disp()"
   ]
  },
  {
   "cell_type": "code",
   "execution_count": null,
   "metadata": {},
   "outputs": [
    {
     "name": "stdout",
     "output_type": "stream",
     "text": [
      "356,286 rows x 7 cols; Memory: 5.8 MiB\n"
     ]
    },
    {
     "data": {
      "text/html": [
       "<div>\n",
       "<style scoped>\n",
       "    .dataframe tbody tr th:only-of-type {\n",
       "        vertical-align: middle;\n",
       "    }\n",
       "\n",
       "    .dataframe tbody tr th {\n",
       "        vertical-align: top;\n",
       "    }\n",
       "\n",
       "    .dataframe thead th {\n",
       "        text-align: right;\n",
       "    }\n",
       "</style>\n",
       "<table border=\"1\" class=\"dataframe\">\n",
       "  <thead>\n",
       "    <tr style=\"text-align: right;\">\n",
       "      <th></th>\n",
       "      <th>scale</th>\n",
       "      <th>is_ses</th>\n",
       "      <th>is_derived</th>\n",
       "      <th>is_pctile</th>\n",
       "      <th>variable</th>\n",
       "      <th>geoid</th>\n",
       "      <th>value</th>\n",
       "    </tr>\n",
       "  </thead>\n",
       "  <tbody>\n",
       "    <tr>\n",
       "      <th></th>\n",
       "      <td>&lt;category&gt;</td>\n",
       "      <td>&lt;bool&gt;</td>\n",
       "      <td>&lt;bool&gt;</td>\n",
       "      <td>&lt;bool&gt;</td>\n",
       "      <td>&lt;category&gt;</td>\n",
       "      <td>&lt;category&gt;</td>\n",
       "      <td>&lt;float64&gt;</td>\n",
       "    </tr>\n",
       "    <tr>\n",
       "      <th>0</th>\n",
       "      <td>TRACT</td>\n",
       "      <td>True</td>\n",
       "      <td>False</td>\n",
       "      <td>False</td>\n",
       "      <td>Total: Population</td>\n",
       "      <td>18001030100</td>\n",
       "      <td>4826.0</td>\n",
       "    </tr>\n",
       "  </tbody>\n",
       "</table>\n",
       "</div>"
      ],
      "text/plain": [
       "        scale  is_ses is_derived is_pctile           variable        geoid  \\\n",
       "   <category>  <bool>     <bool>    <bool>         <category>   <category>   \n",
       "0       TRACT    True      False     False  Total: Population  18001030100   \n",
       "\n",
       "       value  \n",
       "   <float64>  \n",
       "0     4826.0  "
      ]
     },
     "metadata": {},
     "output_type": "display_data"
    }
   ],
   "source": [
    "ejs = pd.read_parquet('../data/ejs/ejs.parquet').disp()"
   ]
  },
  {
   "cell_type": "code",
   "execution_count": 8,
   "metadata": {},
   "outputs": [],
   "source": [
    "@app.callback(\n",
    "    Output('map-main', 'figure'),\n",
    "    Input('scale-selector', 'value'))\n",
    "def plot_map(scale, zones=zones):\n",
    "    df = zones.query(f'scale==\"{scale.upper()}\"')\n",
    "    df = df.assign(area_sqmi=df.aland / 2.59e+6)\n",
    "    # fig = px.choropleth(\n",
    "    #     df.assign(area_sqmi=df.aland / 2.59e+6),\n",
    "    #     geojson=zjson[scale.upper()],\n",
    "    #     template='plotly_dark', rendermode='webgl',\n",
    "    #     locations='geoid', color='area_sqmi')\n",
    "    # fig.update_geos(scope='usa', fitbounds='geojson', visible=True)\n",
    "    fig = px.choropleth(\n",
    "        df,\n",
    "        geojson=df.geometry,\n",
    "        locations=df.geoid,\n",
    "        color='area_sqmi',\n",
    "        # projection='transverse mercator',\n",
    "        template='plotly',\n",
    "        # template='plotly_dark',\n",
    "    )\n",
    "    fig.update_geos(scope='usa', fitbounds='geojson', visible=True)\n",
    "    fig.update_layout(height=1000, width=800, margin=D(l=0, r=0, b=0, t=0))\n",
    "    return fig"
   ]
  },
  {
   "cell_type": "code",
   "execution_count": 9,
   "metadata": {},
   "outputs": [
    {
     "name": "stdout",
     "output_type": "stream",
     "text": [
      "Dash app running on http://127.0.0.1:8005/\n"
     ]
    }
   ],
   "source": [
    "app.run(debug=True, port=8005, threaded=True, jupyter_mode='external')"
   ]
  },
  {
   "cell_type": "code",
   "execution_count": null,
   "metadata": {},
   "outputs": [],
   "source": []
  },
  {
   "cell_type": "code",
   "execution_count": null,
   "metadata": {},
   "outputs": [],
   "source": []
  }
 ],
 "metadata": {
  "kernelspec": {
   "display_name": "mk11",
   "language": "python",
   "name": "python3"
  },
  "language_info": {
   "codemirror_mode": {
    "name": "ipython",
    "version": 3
   },
   "file_extension": ".py",
   "mimetype": "text/x-python",
   "name": "python",
   "nbconvert_exporter": "python",
   "pygments_lexer": "ipython3",
   "version": "3.11.5"
  }
 },
 "nbformat": 4,
 "nbformat_minor": 2
}
