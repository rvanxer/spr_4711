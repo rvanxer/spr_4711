{
 "cells": [
  {
   "cell_type": "markdown",
   "metadata": {},
   "source": [
    "# 1. Setup"
   ]
  },
  {
   "cell_type": "code",
   "execution_count": 1,
   "metadata": {},
   "outputs": [
    {
     "data": {
      "text/plain": [
       "'/home/umni2/a/umnilab/users/verma99/mk/spr_4711/code'"
      ]
     },
     "execution_count": 1,
     "metadata": {},
     "output_type": "execute_result"
    }
   ],
   "source": [
    "!pwd"
   ]
  },
  {
   "cell_type": "code",
   "execution_count": 2,
   "metadata": {},
   "outputs": [],
   "source": [
    "from mobilkit.umni import *"
   ]
  },
  {
   "cell_type": "code",
   "execution_count": 3,
   "metadata": {},
   "outputs": [],
   "source": [
    "import urllib.request"
   ]
  },
  {
   "cell_type": "markdown",
   "metadata": {},
   "source": [
    "# 2. HPMS\n",
    "Highway Performance Monitoring System"
   ]
  },
  {
   "cell_type": "markdown",
   "metadata": {},
   "source": [
    "## 2.1. Download"
   ]
  },
  {
   "cell_type": "code",
   "execution_count": null,
   "metadata": {},
   "outputs": [],
   "source": [
    "# %%bash\n",
    "# dir=../data/hpms; mkdir -p $dir; cd $dir;\n",
    "# wget https://www.bts.gov/sites/bts.dot.gov/files/ntad/HPMS2016.gdb.zip"
   ]
  },
  {
   "cell_type": "code",
   "execution_count": null,
   "metadata": {},
   "outputs": [
    {
     "name": "stderr",
     "output_type": "stream",
     "text": [
      "Setting default log level to \"WARN\".\n",
      "To adjust logging level use sc.setLogLevel(newLevel). For SparkR, use setLogLevel(newLevel).\n",
      "23/10/19 22:03:04 WARN NativeCodeLoader: Unable to load native-hadoop library for your platform... using builtin-java classes where applicable\n",
      "23/10/19 22:03:04 WARN SparkConf: Note that spark.local.dir will be overridden by the value set by the cluster manager (via SPARK_LOCAL_DIRS in mesos/standalone/kubernetes and LOCAL_DIRS in YARN).\n"
     ]
    }
   ],
   "source": [
    "SP.start()"
   ]
  },
  {
   "cell_type": "markdown",
   "metadata": {},
   "source": [
    "## 2.2. Serialize"
   ]
  },
  {
   "cell_type": "code",
   "execution_count": null,
   "metadata": {},
   "outputs": [],
   "source": [
    "# # t=14:10\n",
    "# df = (gpd.read_file('../data/hpms/HPMS2016.gdb.zip', driver='FileGDB')\n",
    "#       .drop(columns=['year_record'])\n",
    "#       .rename(columns={'SHAPE_Length': 'length'})\n",
    "#       .astype(D(is_sample=bool, state_code=CAT, route_id=CAT,\n",
    "#                 national_route_id=CAT, year_last_improv=CAT))).disp()\n",
    "# df.to_parquet('../data/hpms/hpms2016.parquet')"
   ]
  },
  {
   "cell_type": "code",
   "execution_count": null,
   "metadata": {},
   "outputs": [
    {
     "name": "stdout",
     "output_type": "stream",
     "text": [
      "root\n",
      " |-- state_code: integer (nullable = true)\n",
      " |-- route_id: string (nullable = true)\n",
      " |-- national_route_id: string (nullable = true)\n",
      " |-- begin_point: double (nullable = true)\n",
      " |-- end_point: double (nullable = true)\n",
      " |-- aadt: integer (nullable = true)\n",
      " |-- aadt_combination: integer (nullable = true)\n",
      " |-- aadt_single_unit: integer (nullable = true)\n",
      " |-- access_control: short (nullable = true)\n",
      " |-- at_grade_other: double (nullable = true)\n",
      " |-- base_thickness: double (nullable = true)\n",
      " |-- base_type: double (nullable = true)\n",
      " |-- counter_peak_lanes: short (nullable = true)\n",
      " |-- county_code: double (nullable = true)\n",
      " |-- cracking_percent: double (nullable = true)\n",
      " |-- curves_a: double (nullable = true)\n",
      " |-- curves_b: double (nullable = true)\n",
      " |-- curves_c: double (nullable = true)\n",
      " |-- curves_d: double (nullable = true)\n",
      " |-- curves_e: double (nullable = true)\n",
      " |-- curves_f: double (nullable = true)\n",
      " |-- dir_factor: double (nullable = true)\n",
      " |-- f_system: short (nullable = true)\n",
      " |-- facility_type: short (nullable = true)\n",
      " |-- faulting: double (nullable = true)\n",
      " |-- future_aadt: double (nullable = true)\n",
      " |-- future_aadt_year: double (nullable = true)\n",
      " |-- future_facility: double (nullable = true)\n",
      " |-- future_facility_year: double (nullable = true)\n",
      " |-- grades_a: double (nullable = true)\n",
      " |-- grades_b: double (nullable = true)\n",
      " |-- grades_c: double (nullable = true)\n",
      " |-- grades_d: double (nullable = true)\n",
      " |-- grades_e: double (nullable = true)\n",
      " |-- grades_f: double (nullable = true)\n",
      " |-- hov_lanes: short (nullable = true)\n",
      " |-- hov_type: short (nullable = true)\n",
      " |-- iri: integer (nullable = true)\n",
      " |-- iri_year: double (nullable = true)\n",
      " |-- k_factor: double (nullable = true)\n",
      " |-- lane_width: short (nullable = true)\n",
      " |-- last_overlay_thickness: double (nullable = true)\n",
      " |-- median_type: short (nullable = true)\n",
      " |-- median_width: short (nullable = true)\n",
      " |-- nhs: short (nullable = true)\n",
      " |-- nhs_year: double (nullable = true)\n",
      " |-- number_signals: double (nullable = true)\n",
      " |-- ownership: short (nullable = true)\n",
      " |-- pct_green_time: double (nullable = true)\n",
      " |-- pct_pass_sight: double (nullable = true)\n",
      " |-- pct_peak_combination: double (nullable = true)\n",
      " |-- pct_peak_single: double (nullable = true)\n",
      " |-- peak_capacity: double (nullable = true)\n",
      " |-- peak_lanes: short (nullable = true)\n",
      " |-- peak_parking: double (nullable = true)\n",
      " |-- psr: double (nullable = true)\n",
      " |-- route_number: integer (nullable = true)\n",
      " |-- route_name: string (nullable = true)\n",
      " |-- route_qualifier: short (nullable = true)\n",
      " |-- route_signing: short (nullable = true)\n",
      " |-- rutting: double (nullable = true)\n",
      " |-- shoulder_type: short (nullable = true)\n",
      " |-- shoulder_width_l: short (nullable = true)\n",
      " |-- shoulder_width_r: short (nullable = true)\n",
      " |-- signal_type: double (nullable = true)\n",
      " |-- speed_limit: short (nullable = true)\n",
      " |-- stop_signs: double (nullable = true)\n",
      " |-- strahnet: short (nullable = true)\n",
      " |-- structure_type: short (nullable = true)\n",
      " |-- surface_type: short (nullable = true)\n",
      " |-- terrain_type: double (nullable = true)\n",
      " |-- thickness_flexible: double (nullable = true)\n",
      " |-- thickness_rigid: double (nullable = true)\n",
      " |-- through_lanes: short (nullable = true)\n",
      " |-- toll_charged: short (nullable = true)\n",
      " |-- toll_id: string (nullable = true)\n",
      " |-- toll_type: short (nullable = true)\n",
      " |-- truck: short (nullable = true)\n",
      " |-- truck_year: double (nullable = true)\n",
      " |-- turn_lanes_l: double (nullable = true)\n",
      " |-- turn_lanes_r: double (nullable = true)\n",
      " |-- urban_code: integer (nullable = true)\n",
      " |-- widening_obstacle: string (nullable = true)\n",
      " |-- widening_potential: short (nullable = true)\n",
      " |-- expansion_factor: double (nullable = true)\n",
      " |-- year_last_construction: timestamp_ntz (nullable = true)\n",
      " |-- year_last_improv: timestamp_ntz (nullable = true)\n",
      " |-- sample_id: string (nullable = true)\n",
      " |-- is_sample: boolean (nullable = true)\n",
      " |-- length: double (nullable = true)\n",
      " |-- geometry: binary (nullable = true)\n",
      "\n"
     ]
    }
   ],
   "source": [
    "hpms = SP.read_parquet('../data/hpms/hpms2016.parquet').disp(0)"
   ]
  },
  {
   "cell_type": "code",
   "execution_count": null,
   "metadata": {},
   "outputs": [
    {
     "data": {
      "text/plain": [
       "['aadt',\n",
       " 'aadt_combination',\n",
       " 'aadt_single_unit',\n",
       " 'access_control',\n",
       " 'at_grade_other',\n",
       " 'base_thickness',\n",
       " 'base_type',\n",
       " 'begin_point',\n",
       " 'counter_peak_lanes',\n",
       " 'county_code',\n",
       " 'cracking_percent',\n",
       " 'curves_a',\n",
       " 'curves_b',\n",
       " 'curves_c',\n",
       " 'curves_d',\n",
       " 'curves_e',\n",
       " 'curves_f',\n",
       " 'dir_factor',\n",
       " 'end_point',\n",
       " 'expansion_factor',\n",
       " 'f_system',\n",
       " 'facility_type',\n",
       " 'faulting',\n",
       " 'future_aadt',\n",
       " 'future_aadt_year',\n",
       " 'future_facility',\n",
       " 'future_facility_year',\n",
       " 'geometry',\n",
       " 'grades_a',\n",
       " 'grades_b',\n",
       " 'grades_c',\n",
       " 'grades_d',\n",
       " 'grades_e',\n",
       " 'grades_f',\n",
       " 'hov_lanes',\n",
       " 'hov_type',\n",
       " 'iri',\n",
       " 'iri_year',\n",
       " 'is_sample',\n",
       " 'k_factor',\n",
       " 'lane_width',\n",
       " 'last_overlay_thickness',\n",
       " 'length',\n",
       " 'median_type',\n",
       " 'median_width',\n",
       " 'national_route_id',\n",
       " 'nhs',\n",
       " 'nhs_year',\n",
       " 'number_signals',\n",
       " 'ownership',\n",
       " 'pct_green_time',\n",
       " 'pct_pass_sight',\n",
       " 'pct_peak_combination',\n",
       " 'pct_peak_single',\n",
       " 'peak_capacity',\n",
       " 'peak_lanes',\n",
       " 'peak_parking',\n",
       " 'psr',\n",
       " 'route_id',\n",
       " 'route_name',\n",
       " 'route_number',\n",
       " 'route_qualifier',\n",
       " 'route_signing',\n",
       " 'rutting',\n",
       " 'sample_id',\n",
       " 'shoulder_type',\n",
       " 'shoulder_width_l',\n",
       " 'shoulder_width_r',\n",
       " 'signal_type',\n",
       " 'speed_limit',\n",
       " 'state_code',\n",
       " 'stop_signs',\n",
       " 'strahnet',\n",
       " 'structure_type',\n",
       " 'surface_type',\n",
       " 'terrain_type',\n",
       " 'thickness_flexible',\n",
       " 'thickness_rigid',\n",
       " 'through_lanes',\n",
       " 'toll_charged',\n",
       " 'toll_id',\n",
       " 'toll_type',\n",
       " 'truck',\n",
       " 'truck_year',\n",
       " 'turn_lanes_l',\n",
       " 'turn_lanes_r',\n",
       " 'urban_code',\n",
       " 'widening_obstacle',\n",
       " 'widening_potential',\n",
       " 'year_last_construction',\n",
       " 'year_last_improv']"
      ]
     },
     "metadata": {},
     "output_type": "display_data"
    }
   ],
   "source": [
    "sorted(list(hpms.columns))"
   ]
  },
  {
   "cell_type": "code",
   "execution_count": null,
   "metadata": {},
   "outputs": [],
   "source": [
    "# df = pd.read_json('https://geo.dot.gov/server/rest/services/Hosted/Indiana_2018_PR/FeatureServer/0/query?f=json&outfields=*&where=1%3D1&select=route_name&limit=10'); df"
   ]
  },
  {
   "cell_type": "markdown",
   "metadata": {},
   "source": [
    "# 3. Economic Tracker\n",
    "GitHub: https://github.com/OpportunityInsights/EconomicTracker"
   ]
  },
  {
   "cell_type": "code",
   "execution_count": 4,
   "metadata": {},
   "outputs": [],
   "source": [
    "def download_oi_ecotracker_data(overwrite=False):\n",
    "    outfile = Path('../data/_etc/economic_tracker/raw_data.zip')\n",
    "    url = 'https://github.com/OpportunityInsights/EconomicTracker/archive/main.zip'\n",
    "    if outfile.exists() and not overwrite:\n",
    "        return\n",
    "    urllib.request.urlretrieve(url, U.mkfile(outfile))\n",
    "\n",
    "# x = download_oi_ecotracker_data(); x # t=0:22"
   ]
  },
  {
   "cell_type": "code",
   "execution_count": null,
   "metadata": {},
   "outputs": [],
   "source": []
  }
 ],
 "metadata": {
  "kernelspec": {
   "display_name": "mk11",
   "language": "python",
   "name": "python3"
  },
  "language_info": {
   "codemirror_mode": {
    "name": "ipython",
    "version": 3
   },
   "file_extension": ".py",
   "mimetype": "text/x-python",
   "name": "python",
   "nbconvert_exporter": "python",
   "pygments_lexer": "ipython3",
   "version": "3.11.5"
  },
  "orig_nbformat": 4
 },
 "nbformat": 4,
 "nbformat_minor": 2
}
