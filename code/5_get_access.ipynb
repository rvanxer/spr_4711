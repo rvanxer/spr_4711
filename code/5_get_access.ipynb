{
 "cells": [
  {
   "cell_type": "markdown",
   "id": "19e56229",
   "metadata": {},
   "source": [
    "# 1. Setup"
   ]
  },
  {
   "cell_type": "code",
   "execution_count": null,
   "id": "7aa6f1a2",
   "metadata": {
    "tags": []
   },
   "outputs": [
    {
     "ename": "",
     "evalue": "",
     "output_type": "error",
     "traceback": [
      "\u001b[1;31mFailed to start the Kernel. \n",
      "\u001b[1;31mUnable to start Kernel 'mk11 (Python 3.11.6)' due to a timeout waiting for the ports to get used. \n",
      "\u001b[1;31mView Jupyter <a href='command:jupyter.viewOutput'>log</a> for further details."
     ]
    }
   ],
   "source": [
    "from pqdm.processes import pqdm\n",
    "from scipy.spatial import KDTree\n",
    "\n",
    "from utils import *"
   ]
  },
  {
   "cell_type": "markdown",
   "id": "c6dbc699",
   "metadata": {},
   "source": [
    "## 1.1. Parameters"
   ]
  },
  {
   "cell_type": "code",
   "execution_count": null,
   "id": "815edf49",
   "metadata": {},
   "outputs": [
    {
     "ename": "",
     "evalue": "",
     "output_type": "error",
     "traceback": [
      "\u001b[1;31mFailed to start the Kernel. \n",
      "\u001b[1;31mUnable to start Kernel 'mk11 (Python 3.11.6)' due to a timeout waiting for the ports to get used. \n",
      "\u001b[1;31mView Jupyter <a href='command:jupyter.viewOutput'>log</a> for further details."
     ]
    }
   ],
   "source": [
    "# travel time thresholds (in minutes)\n",
    "thresholds = (15, 30, 45, 60, 90)"
   ]
  },
  {
   "cell_type": "code",
   "execution_count": null,
   "id": "7b972c55",
   "metadata": {},
   "outputs": [
    {
     "ename": "",
     "evalue": "",
     "output_type": "error",
     "traceback": [
      "\u001b[1;31mFailed to start the Kernel. \n",
      "\u001b[1;31mUnable to start Kernel 'mk11 (Python 3.11.6)' due to a timeout waiting for the ports to get used. \n",
      "\u001b[1;31mView Jupyter <a href='command:jupyter.viewOutput'>log</a> for further details."
     ]
    }
   ],
   "source": [
    "# max. hypothetical speeds in mi/h\n",
    "max_speeds = D(drive=60, bike=16, walk=4)"
   ]
  },
  {
   "cell_type": "markdown",
   "id": "5f114e85",
   "metadata": {},
   "source": [
    "# 2. Prepare data"
   ]
  },
  {
   "cell_type": "markdown",
   "id": "0334106c",
   "metadata": {},
   "source": [
    "## 2.1. General"
   ]
  },
  {
   "cell_type": "markdown",
   "id": "a0d43e75",
   "metadata": {},
   "source": [
    "### 2.1.1. States & counties"
   ]
  },
  {
   "cell_type": "code",
   "execution_count": null,
   "id": "1432d2ea",
   "metadata": {},
   "outputs": [
    {
     "ename": "",
     "evalue": "",
     "output_type": "error",
     "traceback": [
      "\u001b[1;31mFailed to start the Kernel. \n",
      "\u001b[1;31mUnable to start Kernel 'mk11 (Python 3.11.6)' due to a timeout waiting for the ports to get used. \n",
      "\u001b[1;31mView Jupyter <a href='command:jupyter.viewOutput'>log</a> for further details."
     ]
    }
   ],
   "source": [
    "state_list = (pd.read_csv(DATA / 'zones/state_codes.csv')\n",
    "              .sort_values('fips').head(51).pipe(lambda df: df[\n",
    "                  ~df['name'].isin(['Alaska', 'Hawaii'])])).disp()"
   ]
  },
  {
   "cell_type": "code",
   "execution_count": null,
   "id": "f9c75893",
   "metadata": {},
   "outputs": [
    {
     "ename": "",
     "evalue": "",
     "output_type": "error",
     "traceback": [
      "\u001b[1;31mFailed to start the Kernel. \n",
      "\u001b[1;31mUnable to start Kernel 'mk11 (Python 3.11.6)' due to a timeout waiting for the ports to get used. \n",
      "\u001b[1;31mView Jupyter <a href='command:jupyter.viewOutput'>log</a> for further details."
     ]
    }
   ],
   "source": [
    "us_counties = (gpd.read_parquet(DATA / 'zones/us/county_trim.parquet')\n",
    "               .rename(columns=D(geoid='cnty', name='county'))\n",
    "               [['cnty', 'county', 'geometry']].set_crs(CRS_M)).disp()"
   ]
  },
  {
   "cell_type": "code",
   "execution_count": null,
   "id": "c3fc8a17",
   "metadata": {},
   "outputs": [
    {
     "ename": "",
     "evalue": "",
     "output_type": "error",
     "traceback": [
      "\u001b[1;31mFailed to start the Kernel. \n",
      "\u001b[1;31mUnable to start Kernel 'mk11 (Python 3.11.6)' due to a timeout waiting for the ports to get used. \n",
      "\u001b[1;31mView Jupyter <a href='command:jupyter.viewOutput'>log</a> for further details."
     ]
    }
   ],
   "source": [
    "us_states = gpd.read_parquet(DATA / 'zones/us/state_trim.parquet').set_crs(CRS_M).disp(0)"
   ]
  },
  {
   "cell_type": "markdown",
   "id": "81c9ee13",
   "metadata": {},
   "source": [
    "### 2.1.2. Impedance function"
   ]
  },
  {
   "cell_type": "code",
   "execution_count": null,
   "id": "61ebc604",
   "metadata": {},
   "outputs": [
    {
     "ename": "",
     "evalue": "",
     "output_type": "error",
     "traceback": [
      "\u001b[1;31mFailed to start the Kernel. \n",
      "\u001b[1;31mUnable to start Kernel 'mk11 (Python 3.11.6)' due to a timeout waiting for the ports to get used. \n",
      "\u001b[1;31mView Jupyter <a href='command:jupyter.viewOutput'>log</a> for further details."
     ]
    }
   ],
   "source": [
    "df = pd.read_csv(DATA / 'impedance/fitted-params.csv')\n",
    "df = df.query('mode != \"Transit\" & measure == \"Duration\" & parameter != \"r2\"')\n",
    "df = df.pivot_table('value', ['mode', 'purpose'], 'parameter').reset_index()\n",
    "df['mode'] = df['mode'].str.lower()\n",
    "df['purpose'] = (df['purpose'].str.lower()\n",
    "                 .str.replace('social/recreational', 'leisure')\n",
    "                 .str.replace('other services', 'services'))\n",
    "imped_params = df.rename_axis(None, axis=1).disp()"
   ]
  },
  {
   "cell_type": "markdown",
   "id": "bed50234",
   "metadata": {},
   "source": [
    "### 2.1.3. Opportunities"
   ]
  },
  {
   "cell_type": "code",
   "execution_count": null,
   "id": "45fa9fa0",
   "metadata": {},
   "outputs": [
    {
     "ename": "",
     "evalue": "",
     "output_type": "error",
     "traceback": [
      "\u001b[1;31mFailed to start the Kernel. \n",
      "\u001b[1;31mUnable to start Kernel 'mk11 (Python 3.11.6)' due to a timeout waiting for the ports to get used. \n",
      "\u001b[1;31mView Jupyter <a href='command:jupyter.viewOutput'>log</a> for further details."
     ]
    }
   ],
   "source": [
    "opport = pd.read_parquet(DATA / 'opport/opportunities.parquet').disp()"
   ]
  },
  {
   "cell_type": "code",
   "execution_count": null,
   "id": "1cf73655",
   "metadata": {},
   "outputs": [
    {
     "ename": "",
     "evalue": "",
     "output_type": "error",
     "traceback": [
      "\u001b[1;31mFailed to start the Kernel. \n",
      "\u001b[1;31mUnable to start Kernel 'mk11 (Python 3.11.6)' due to a timeout waiting for the ports to get used. \n",
      "\u001b[1;31mView Jupyter <a href='command:jupyter.viewOutput'>log</a> for further details."
     ]
    }
   ],
   "source": [
    "opport.groupby(['kind','is_work']).size()"
   ]
  },
  {
   "cell_type": "code",
   "execution_count": null,
   "id": "1e7ac18d",
   "metadata": {},
   "outputs": [
    {
     "ename": "",
     "evalue": "",
     "output_type": "error",
     "traceback": [
      "\u001b[1;31mFailed to start the Kernel. \n",
      "\u001b[1;31mUnable to start Kernel 'mk11 (Python 3.11.6)' due to a timeout waiting for the ports to get used. \n",
      "\u001b[1;31mView Jupyter <a href='command:jupyter.viewOutput'>log</a> for further details."
     ]
    }
   ],
   "source": [
    "def get_access(level, region, mode, thresh, year=2020, max_access=False,\n",
    "               opport=opport, max_speeds=max_speeds, params=imped_params):\n",
    "    cat_cols = 'region mode thresh purpose kind geoid'.split()\n",
    "    opport = (opport.groupby(['kind', 'is_work', 'geoid']).sum()\n",
    "              .reset_index().astype(D(kind=str)).query('opport > 0'))\n",
    "    try:\n",
    "        if max_access:\n",
    "            zones = gpd.read_parquet(\n",
    "                DATA / f'zones/{level}_2020.parquet', filters=[\n",
    "                    ('scale','==','bg'), ('region','==',region)]).to_crs(CRS_M)\n",
    "            xy = zones.centroid.get_coordinates() # columns=['x','y']\n",
    "            zones = pd.concat([zones[['geoid', 'geometry']], xy], axis=1)\n",
    "            max_dist = (thresh * 60) * (max_speeds[mode] * MPH2MPS)\n",
    "            tree = KDTree(zones[['x', 'y']])\n",
    "            src, trg = [zones.loc[idx].reset_index(drop=1) for idx in \n",
    "                        tree.query_pairs(max_dist, output_type='ndarray').T]\n",
    "            dist = ((src.x - trg.x) ** 2 + (src.y - trg.y) ** 2) ** 0.5\n",
    "            time = (dist * M2MI / max_speeds[mode]) * 60 # time in minutes\n",
    "            src, trg = src.geoid.values, trg.geoid.values\n",
    "            nodes = list(set(src) | set(trg))\n",
    "            time = (pd.concat([Pdf(D(src=nodes, trg=nodes, time=0)),\n",
    "                                Pdf(D(src=src, trg=trg, time=time)),\n",
    "                                Pdf(D(src=trg, trg=src, time=time))])\n",
    "                    .astype(D(src=CAT, trg=CAT)))\n",
    "            time = time.set_index(['src', 'trg'])['time'] / 60\n",
    "        else:\n",
    "            tt_file = DATA / f'od_cost/osrm/{level}/{region}/bg_{mode}_{year}.parquet'\n",
    "            cols = D(src_geoid='src', trg_geoid='trg', duration='time')\n",
    "            tt = pd.read_parquet(tt_file, columns=cols.keys()).rename(columns=cols)\n",
    "            tt = tt.set_index(['src', 'trg'])['time'] / 60 # travel time in minutes\n",
    "            time = tt[tt <= float(thresh)] # travel times for filtered OD pairs\n",
    "        dfs = []\n",
    "        for (is_work, kind), df in opport.groupby(['is_work', 'kind']):\n",
    "            coef = params.query(f'mode==\"{mode}\"').set_index('purpose')\n",
    "            row = coef.loc['work' if is_work else kind]\n",
    "            od = np.exp(-row.alpha * time ** row.beta).rename('weight').reset_index()\n",
    "            od = od.merge(df, left_on='trg', right_on='geoid')\n",
    "            od['access'] = od['opport'] * od['weight']\n",
    "            xs = od.groupby(['src', 'kind'])['access'].sum().reset_index()\n",
    "            xs = xs.rename(columns=D(src='geoid'))\n",
    "            xs = xs.assign(kind=kind, purpose='work' if is_work else 'nonwork')\n",
    "            dfs.append(xs)\n",
    "        xs = pd.concat(dfs).assign(region=region, mode=mode, thresh=str(thresh))\n",
    "        xs = xs.astype(D(access=np.float32) | {x: CAT for x in cat_cols})\n",
    "        xs = xs[cat_cols + ['access']]\n",
    "    except Exception as e:\n",
    "        print(type(e), e)\n",
    "        xs = Pdf([], columns=cat_cols + ['access'])\n",
    "    return xs\n",
    "\n",
    "# x = get_access('state', 'arkansas', 'drive', 30).disp()\n",
    "x = get_access('msa', 'austin', 'drive', 30).disp()\n",
    "# xmax = get_access('msa', 'austin', 'drive', 60, max_access=True).disp()"
   ]
  },
  {
   "cell_type": "markdown",
   "id": "c7dec6f1",
   "metadata": {},
   "source": [
    "## 2.2. Compute accessibility\n",
    "This only requires total jobs at the destination, not the OD flows."
   ]
  },
  {
   "cell_type": "code",
   "execution_count": 13,
   "id": "f966de9b",
   "metadata": {},
   "outputs": [
    {
     "name": "stdout",
     "output_type": "stream",
     "text": [
      "12,956,475 rows x 7 cols; Memory: 172.8 MiB\n"
     ]
    },
    {
     "data": {
      "text/html": [
       "<div>\n",
       "<style scoped>\n",
       "    .dataframe tbody tr th:only-of-type {\n",
       "        vertical-align: middle;\n",
       "    }\n",
       "\n",
       "    .dataframe tbody tr th {\n",
       "        vertical-align: top;\n",
       "    }\n",
       "\n",
       "    .dataframe thead th {\n",
       "        text-align: right;\n",
       "    }\n",
       "</style>\n",
       "<table border=\"1\" class=\"dataframe\">\n",
       "  <thead>\n",
       "    <tr style=\"text-align: right;\">\n",
       "      <th></th>\n",
       "      <th>region</th>\n",
       "      <th>purpose</th>\n",
       "      <th>kind</th>\n",
       "      <th>mode</th>\n",
       "      <th>thresh</th>\n",
       "      <th>geoid</th>\n",
       "      <th>access</th>\n",
       "    </tr>\n",
       "  </thead>\n",
       "  <tbody>\n",
       "    <tr>\n",
       "      <th></th>\n",
       "      <td>&lt;category&gt;</td>\n",
       "      <td>&lt;category&gt;</td>\n",
       "      <td>&lt;category&gt;</td>\n",
       "      <td>&lt;category&gt;</td>\n",
       "      <td>&lt;category&gt;</td>\n",
       "      <td>&lt;category&gt;</td>\n",
       "      <td>&lt;float32&gt;</td>\n",
       "    </tr>\n",
       "    <tr>\n",
       "      <th>0</th>\n",
       "      <td>seattle</td>\n",
       "      <td>nonwork</td>\n",
       "      <td>leisure</td>\n",
       "      <td>bike</td>\n",
       "      <td>45</td>\n",
       "      <td>530330001011</td>\n",
       "      <td>363.534302</td>\n",
       "    </tr>\n",
       "  </tbody>\n",
       "</table>\n",
       "</div>"
      ],
      "text/plain": [
       "       region     purpose        kind        mode      thresh         geoid  \\\n",
       "   <category>  <category>  <category>  <category>  <category>    <category>   \n",
       "0     seattle     nonwork     leisure        bike          45  530330001011   \n",
       "\n",
       "       access  \n",
       "    <float32>  \n",
       "0  363.534302  "
      ]
     },
     "metadata": {},
     "output_type": "display_data"
    },
    {
     "name": "stdout",
     "output_type": "stream",
     "text": [
      "1,663,319 rows x 7 cols; Memory: 44.3 MiB\n"
     ]
    },
    {
     "data": {
      "text/html": [
       "<div>\n",
       "<style scoped>\n",
       "    .dataframe tbody tr th:only-of-type {\n",
       "        vertical-align: middle;\n",
       "    }\n",
       "\n",
       "    .dataframe tbody tr th {\n",
       "        vertical-align: top;\n",
       "    }\n",
       "\n",
       "    .dataframe thead th {\n",
       "        text-align: right;\n",
       "    }\n",
       "</style>\n",
       "<table border=\"1\" class=\"dataframe\">\n",
       "  <thead>\n",
       "    <tr style=\"text-align: right;\">\n",
       "      <th></th>\n",
       "      <th>region</th>\n",
       "      <th>purpose</th>\n",
       "      <th>kind</th>\n",
       "      <th>mode</th>\n",
       "      <th>thresh</th>\n",
       "      <th>geoid</th>\n",
       "      <th>access</th>\n",
       "    </tr>\n",
       "  </thead>\n",
       "  <tbody>\n",
       "    <tr>\n",
       "      <th></th>\n",
       "      <td>&lt;category&gt;</td>\n",
       "      <td>&lt;category&gt;</td>\n",
       "      <td>&lt;category&gt;</td>\n",
       "      <td>&lt;category&gt;</td>\n",
       "      <td>&lt;category&gt;</td>\n",
       "      <td>&lt;category&gt;</td>\n",
       "      <td>&lt;float32&gt;</td>\n",
       "    </tr>\n",
       "  </tbody>\n",
       "</table>\n",
       "</div>"
      ],
      "text/plain": [
       "      region     purpose        kind        mode      thresh       geoid  \\\n",
       "  <category>  <category>  <category>  <category>  <category>  <category>   \n",
       "\n",
       "     access  \n",
       "  <float32>  "
      ]
     },
     "metadata": {},
     "output_type": "display_data"
    }
   ],
   "source": [
    "def get_access_all(level, max_access=False, year=2020, thresholds=thresholds, \n",
    "                   njobs=16, overwrite=False):\n",
    "    max_label = 'max_' if max_access else ''\n",
    "    outpath = DATA / f'access/{max_label}{level}_{year}.parquet'\n",
    "    if outpath.exists() and not overwrite:\n",
    "        return pd.read_parquet(outpath)\n",
    "    files = sorted(glob(f'{DATA}/od_cost/osrm/{level}/*/bg_*_{year}.parquet'))\n",
    "    cases = sum([[D(level=level, region=f.split('/')[-2], thresh=t, year=year,\n",
    "                    mode=f.split('/')[-1].split('_')[1], max_access=max_access)\n",
    "                  for t in thresholds] for f in files], [])\n",
    "    np.random.seed(1234)\n",
    "    np.random.shuffle(cases) # shuffle to hopefully reduce parallel load\n",
    "    print(len(cases))\n",
    "    xs = pqdm(cases, get_access, n_jobs=njobs, argument_type='kwargs')\n",
    "    cat_cols = 'region purpose kind mode thresh geoid'.split()\n",
    "    xs = pd.concat(xs).reset_index(drop=1).astype(\n",
    "        {x: CAT for x in cat_cols})[cat_cols + ['access']]\n",
    "    xs.to_parquet(mkfile(outpath))\n",
    "    return xs\n",
    "\n",
    "xs_msa = get_access_all('msa', thresholds=thresholds, overwrite=0).disp() # t=17:55\n",
    "# xs_max_msa = get_access_all('msa', max_access=True, thresholds=thresholds, overwrite=0).disp(0) # t=27:38\n",
    "xs_st = get_access_all('state', thresholds=[60], overwrite=0).disp(0) # t=6:17\n",
    "# xs_max_st = get_access_all('state', max_access=True, thresholds=[60], overwrite=0).disp(0) # t=15:14"
   ]
  },
  {
   "cell_type": "markdown",
   "metadata": {},
   "source": [
    "## 2.3. Export data"
   ]
  },
  {
   "cell_type": "code",
   "execution_count": 14,
   "id": "6cdb5bd1",
   "metadata": {},
   "outputs": [
    {
     "name": "stdout",
     "output_type": "stream",
     "text": [
      "237,617 rows x 24 cols; Memory: 77.2 MiB\n"
     ]
    },
    {
     "data": {
      "text/html": [
       "<div>\n",
       "<style scoped>\n",
       "    .dataframe tbody tr th:only-of-type {\n",
       "        vertical-align: middle;\n",
       "    }\n",
       "\n",
       "    .dataframe tbody tr th {\n",
       "        vertical-align: top;\n",
       "    }\n",
       "\n",
       "    .dataframe thead th {\n",
       "        text-align: right;\n",
       "    }\n",
       "</style>\n",
       "<table border=\"1\" class=\"dataframe\">\n",
       "  <thead>\n",
       "    <tr style=\"text-align: right;\">\n",
       "      <th></th>\n",
       "      <th>fips</th>\n",
       "      <th>state</th>\n",
       "      <th>county</th>\n",
       "      <th>msa</th>\n",
       "      <th>bike_poi_30</th>\n",
       "      <th>bike_poi_60</th>\n",
       "      <th>bike_serv_30</th>\n",
       "      <th>bike_serv_60</th>\n",
       "      <th>bike_shop_30</th>\n",
       "      <th>bike_shop_60</th>\n",
       "      <th>...</th>\n",
       "      <th>drive_shop_60</th>\n",
       "      <th>drive_work_60</th>\n",
       "      <th>walk_poi_30</th>\n",
       "      <th>walk_poi_60</th>\n",
       "      <th>walk_serv_30</th>\n",
       "      <th>walk_serv_60</th>\n",
       "      <th>walk_shop_30</th>\n",
       "      <th>walk_shop_60</th>\n",
       "      <th>walk_work_30</th>\n",
       "      <th>walk_work_60</th>\n",
       "    </tr>\n",
       "  </thead>\n",
       "  <tbody>\n",
       "    <tr>\n",
       "      <th></th>\n",
       "      <td>&lt;int64&gt;</td>\n",
       "      <td>&lt;object&gt;</td>\n",
       "      <td>&lt;object&gt;</td>\n",
       "      <td>&lt;object&gt;</td>\n",
       "      <td>&lt;float64&gt;</td>\n",
       "      <td>&lt;float64&gt;</td>\n",
       "      <td>&lt;float64&gt;</td>\n",
       "      <td>&lt;float64&gt;</td>\n",
       "      <td>&lt;float64&gt;</td>\n",
       "      <td>&lt;float64&gt;</td>\n",
       "      <td>...</td>\n",
       "      <td>&lt;float64&gt;</td>\n",
       "      <td>&lt;float64&gt;</td>\n",
       "      <td>&lt;float64&gt;</td>\n",
       "      <td>&lt;float64&gt;</td>\n",
       "      <td>&lt;float64&gt;</td>\n",
       "      <td>&lt;float64&gt;</td>\n",
       "      <td>&lt;float64&gt;</td>\n",
       "      <td>&lt;float64&gt;</td>\n",
       "      <td>&lt;float64&gt;</td>\n",
       "      <td>&lt;float64&gt;</td>\n",
       "    </tr>\n",
       "    <tr>\n",
       "      <th>0</th>\n",
       "      <td>10010201001</td>\n",
       "      <td>AL</td>\n",
       "      <td>Autauga</td>\n",
       "      <td>NaN</td>\n",
       "      <td>NaN</td>\n",
       "      <td>NaN</td>\n",
       "      <td>NaN</td>\n",
       "      <td>NaN</td>\n",
       "      <td>NaN</td>\n",
       "      <td>NaN</td>\n",
       "      <td>...</td>\n",
       "      <td>53.220245</td>\n",
       "      <td>58324.05</td>\n",
       "      <td>NaN</td>\n",
       "      <td>NaN</td>\n",
       "      <td>NaN</td>\n",
       "      <td>NaN</td>\n",
       "      <td>NaN</td>\n",
       "      <td>NaN</td>\n",
       "      <td>NaN</td>\n",
       "      <td>NaN</td>\n",
       "    </tr>\n",
       "  </tbody>\n",
       "</table>\n",
       "<p>2 rows × 24 columns</p>\n",
       "</div>"
      ],
      "text/plain": [
       "          fips     state    county       msa bike_poi_30 bike_poi_60  \\\n",
       "       <int64>  <object>  <object>  <object>   <float64>   <float64>   \n",
       "0  10010201001        AL   Autauga       NaN         NaN         NaN   \n",
       "\n",
       "  bike_serv_30 bike_serv_60 bike_shop_30 bike_shop_60  ... drive_shop_60  \\\n",
       "     <float64>    <float64>    <float64>    <float64>  ...     <float64>   \n",
       "0          NaN          NaN          NaN          NaN  ...     53.220245   \n",
       "\n",
       "  drive_work_60 walk_poi_30 walk_poi_60 walk_serv_30 walk_serv_60  \\\n",
       "      <float64>   <float64>   <float64>    <float64>    <float64>   \n",
       "0      58324.05         NaN         NaN          NaN          NaN   \n",
       "\n",
       "  walk_shop_30 walk_shop_60 walk_work_30 walk_work_60  \n",
       "     <float64>    <float64>    <float64>    <float64>  \n",
       "0          NaN          NaN          NaN          NaN  \n",
       "\n",
       "[2 rows x 24 columns]"
      ]
     },
     "metadata": {},
     "output_type": "display_data"
    }
   ],
   "source": [
    "def export_access(xs_st=xs_st, xs_msa=xs_msa, thresh=('30', '60'),\n",
    "                  kinds=D(total='work', overall='poi',\n",
    "                          shopping='shop', services='serv'),\n",
    "                  counties=us_counties, state_codes=state_list,\n",
    "                  overwrite=False):\n",
    "    outpath = Path('../us_bg_access_data.csv')\n",
    "    if outpath.exists() and not overwrite:\n",
    "        return pd.read_csv(outpath)\n",
    "    bg = xs_st[['geoid']].drop_duplicates()\n",
    "    msa = xs_msa[['geoid', 'region']].drop_duplicates()\n",
    "    msa['msa'] = msa.region.str.replace('-', ' ').str.title()\n",
    "    bg = bg.merge(msa[['geoid', 'msa']], 'left')\n",
    "    bg['cnty'], bg['fips'] = bg.geoid.str[:5], bg.geoid.str[:2].astype(int)\n",
    "    bg = bg.merge(counties[['cnty', 'county']])\n",
    "    bg = bg.merge(state_codes, on='fips').drop(columns='fips')\n",
    "    bg = bg.rename(columns=D(code='state', geoid='fips'))\n",
    "    bg = bg[['fips', 'state', 'county', 'msa']]\n",
    "    xs = pd.concat([xs_msa.query('mode != \"drive\"'), xs_st])\n",
    "    xs = xs.drop(columns=['purpose', 'region'])\n",
    "    xs = xs[(xs.thresh.isin(thresh)) & (xs.kind.isin(kinds.keys()))]\n",
    "    xs['purpose'] = xs.pop('kind').map(kinds).astype(str)\n",
    "    xs = xs.pivot_table('access', 'geoid', ['mode', 'purpose', 'thresh'])\n",
    "    xs.columns = map('_'.join, xs.columns)\n",
    "    xs.columns = ['_'.join(x) for x in xs.columns]\n",
    "    xs = bg.merge(xs, left_on='fips', right_index=True)\n",
    "    xs = xs.sort_values('fips').reset_index(drop=1)\n",
    "    xs.to_csv(mkfile(outpath), index=False)\n",
    "    return xs\n",
    "\n",
    "xs_export = export_access(overwrite=0).disp() # t=0:09"
   ]
  },
  {
   "cell_type": "code",
   "execution_count": null,
   "id": "6223cd10",
   "metadata": {},
   "outputs": [],
   "source": []
  }
 ],
 "metadata": {
  "kernelspec": {
   "display_name": "Python 3 (ipykernel)",
   "language": "python",
   "name": "python3"
  },
  "language_info": {
   "codemirror_mode": {
    "name": "ipython",
    "version": 3
   },
   "file_extension": ".py",
   "mimetype": "text/x-python",
   "name": "python",
   "nbconvert_exporter": "python",
   "pygments_lexer": "ipython3",
   "version": "3.11.6"
  }
 },
 "nbformat": 4,
 "nbformat_minor": 5
}
