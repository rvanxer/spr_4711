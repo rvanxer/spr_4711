{
 "cells": [
  {
   "cell_type": "markdown",
   "id": "7950cdaa-c3e4-4406-b667-0eb61791b3d5",
   "metadata": {},
   "source": [
    "# Setup"
   ]
  },
  {
   "cell_type": "code",
   "execution_count": 1,
   "id": "5f4361c5-b02f-4c5b-ae60-fc3dbd12b54d",
   "metadata": {},
   "outputs": [
    {
     "name": "stdout",
     "output_type": "stream",
     "text": [
      "/home/umni2/a/umnilab/users/verma99/mk/spr_4711/code\n"
     ]
    }
   ],
   "source": [
    "!pwd"
   ]
  },
  {
   "cell_type": "code",
   "execution_count": 2,
   "id": "74e274ae-8992-414a-bc44-4b7756425141",
   "metadata": {},
   "outputs": [],
   "source": [
    "from setup import *"
   ]
  },
  {
   "cell_type": "markdown",
   "id": "51576e31-4111-40cc-a1fb-6d42a871fb19",
   "metadata": {},
   "source": [
    "# Regional boundaries"
   ]
  },
  {
   "cell_type": "markdown",
   "id": "e2bcc7bc-617e-4bc6-a943-6294b712f9ef",
   "metadata": {},
   "source": [
    "## Download data\n",
    "Note that the TIGER/LINE boundaries and ACS data of the subdivisions of Indiana at different scales were already downloaded in [../../spr_4608/code/1_Geometry_ACS.ipynb](../../spr_4608/code/1_Geometry_ACS.ipynb), but they were for the year 2020 (I think). The files were then directly copied from `$MK/spr_4608/data/geometry` to `$MK/spr_4711/data/acs`.\n",
    "\n",
    "However, since the UMN access data used the 2010 definitions, they are downloaded explicitly from the Census website."
   ]
  },
  {
   "cell_type": "code",
   "execution_count": 3,
   "id": "ff1df4e6-40f6-49d5-b560-24b282203948",
   "metadata": {
    "tags": []
   },
   "outputs": [],
   "source": [
    "!mkdir -p ../data/boundary"
   ]
  },
  {
   "cell_type": "markdown",
   "id": "c76cee17-07c3-4342-b15b-746b874558d8",
   "metadata": {
    "tags": []
   },
   "source": [
    "### Blocks"
   ]
  },
  {
   "cell_type": "raw",
   "id": "745b5b02-8231-40a4-b51d-6f2f45aef358",
   "metadata": {
    "tags": []
   },
   "source": [
    "!wget -P ../data/boundary https://www2.census.gov/geo/pvs/tiger2010st/18_Indiana/18/tl_2010_18_tabblock10.zip"
   ]
  },
  {
   "cell_type": "raw",
   "id": "7e10ecab-1c48-4280-9094-19beef45b4ff",
   "metadata": {
    "tags": []
   },
   "source": [
    "%%time\n",
    "# t=2:13\n",
    "df = (gpd.read_file(P.data / 'boundary/tl_2010_18_tabblock10.zip')\n",
    "      .to_crs(CRS_DEG).rename(columns=lambda x: x.lower().replace('10', ''))\n",
    "      [['geoid','aland','awater','geometry']]).disp()\n",
    "df.to_file(P.data / 'boundary/block.geojson')"
   ]
  },
  {
   "cell_type": "markdown",
   "id": "7228ea3f-5d6a-48ea-bb9a-2878dae81517",
   "metadata": {
    "tags": []
   },
   "source": [
    "### Block groups"
   ]
  },
  {
   "cell_type": "raw",
   "id": "643405f0-95c2-4d77-b8d4-8a5794d8523d",
   "metadata": {
    "tags": []
   },
   "source": [
    "!wget -P ../data/boundary https://www2.census.gov/geo/pvs/tiger2010st/18_Indiana/18/tl_2010_18_bg10.zip"
   ]
  },
  {
   "cell_type": "raw",
   "id": "9de34ff0-1108-4575-b227-3ba32ba2a71e",
   "metadata": {
    "tags": []
   },
   "source": [
    "%%time\n",
    "# t=10s\n",
    "df = (gpd.read_file(P.data / 'boundary/tl_2010_18_bg10.zip')\n",
    "      .to_crs(CRS_DEG).rename(columns=lambda x: x.lower().replace('10', ''))\n",
    "      .rename(columns={'namelsad': 'name'})\n",
    "      [['geoid','name','aland','awater','geometry']]).disp()\n",
    "df.to_file(P.data / 'boundary/bg.geojson')"
   ]
  },
  {
   "cell_type": "markdown",
   "id": "5479d2c9-e3e5-4bbf-87b4-e87eddf5e728",
   "metadata": {},
   "source": [
    "### Traffic analysis zones"
   ]
  },
  {
   "cell_type": "raw",
   "id": "c3bc7baa-e3ce-46ea-92e0-2bbf8f902fb7",
   "metadata": {
    "tags": []
   },
   "source": [
    "!wget -P ../data/boundary https://www2.census.gov/geo/pvs/tiger2010st/18_Indiana/18/tl_2011_18_taz10.zip"
   ]
  },
  {
   "cell_type": "raw",
   "id": "803fb50d-6c74-4b09-b308-01d4958f1190",
   "metadata": {
    "tags": []
   },
   "source": [
    "%%time\n",
    "# t=11s\n",
    "df = (gpd.read_file(P.data / 'boundary/tl_2011_18_taz10.zip')\n",
    "      .to_crs(CRS_DEG).rename(columns=lambda x: x.lower().replace('10', ''))\n",
    "      [['geoid','aland','awater','geometry']]).disp()\n",
    "df.to_file(P.data / 'boundary/taz.geojson')"
   ]
  },
  {
   "cell_type": "markdown",
   "id": "ae007e21-18fc-4e24-84f1-6bc6fbb5e0c0",
   "metadata": {},
   "source": [
    "### Tracts"
   ]
  },
  {
   "cell_type": "raw",
   "id": "d525fdce-8a0c-4ea8-a31d-d0f7c2d6cae2",
   "metadata": {
    "tags": []
   },
   "source": [
    "!wget -P ../data/boundary https://www2.census.gov/geo/pvs/tiger2010st/18_Indiana/18/tl_2010_18_tract10.zip"
   ]
  },
  {
   "cell_type": "raw",
   "id": "19851464-63c3-4145-8247-0ba8804d1692",
   "metadata": {
    "tags": []
   },
   "source": [
    "%%time\n",
    "# t=5s\n",
    "df = (gpd.read_file(P.data / 'boundary/tl_2010_18_tract10.zip')\n",
    "      .to_crs(CRS_DEG).rename(columns=lambda x: x.lower().replace('10', ''))\n",
    "      .drop(columns='name').rename(columns={'namelsad': 'name'})\n",
    "      [['geoid','name','aland','awater','geometry']]).disp()\n",
    "df.to_file(P.data / 'boundary/tract.geojson')"
   ]
  },
  {
   "cell_type": "markdown",
   "id": "dde7697c-2727-4ccb-b887-7a9a9aa9f0c0",
   "metadata": {},
   "source": [
    "### Counties"
   ]
  },
  {
   "cell_type": "raw",
   "id": "b29dbb01-a7a8-42be-9039-3bd83649529a",
   "metadata": {
    "tags": []
   },
   "source": [
    "!wget -P ../data/boundary https://www2.census.gov/geo/pvs/tiger2010st/18_Indiana/18/tl_2010_18_county10.zip"
   ]
  },
  {
   "cell_type": "raw",
   "id": "4b6be484-411f-4605-88d2-a9c0f3f3ea87",
   "metadata": {
    "tags": []
   },
   "source": [
    "df = (gpd.read_file(P.data / 'boundary/tl_2010_18_county10.zip')\n",
    "      .to_crs(CRS_DEG).rename(columns=lambda x: x.lower().replace('10', ''))\n",
    "      .drop(columns='name').rename(columns={'namelsad': 'name'})\n",
    "      [['geoid','name','aland','awater','geometry']]).disp()\n",
    "df.to_file(P.data / 'boundary/county.geojson')"
   ]
  },
  {
   "cell_type": "markdown",
   "id": "2471f5e7-7c6a-4aa5-80cd-36ef88f34b7a",
   "metadata": {},
   "source": [
    "### CBSAs"
   ]
  },
  {
   "cell_type": "raw",
   "id": "1cefbfbf-822e-49f8-a9d4-e8e8c7ad0b0f",
   "metadata": {
    "tags": []
   },
   "source": [
    "!wget -P ../data/boundary https://www2.census.gov/geo/pvs/tiger2010st/18_Indiana/18/tl_2010_18_cbsa10.zip"
   ]
  },
  {
   "cell_type": "raw",
   "id": "145bccbc-a198-4f0f-8069-06555e7b0dd8",
   "metadata": {
    "tags": []
   },
   "source": [
    "df = (gpd.read_file(P.data / 'boundary/tl_2010_18_cbsa10.zip')\n",
    "      .to_crs(CRS_DEG).rename(columns=lambda x: x.lower().replace('10', ''))\n",
    "      [['geoid','name','aland','awater','geometry']]).disp()\n",
    "df.to_file(P.data / 'boundary/cbsa.geojson')"
   ]
  },
  {
   "cell_type": "markdown",
   "id": "0d4d0ff8-244b-4068-bcb2-c97b2c50d503",
   "metadata": {
    "tags": []
   },
   "source": [
    "## Combine scales"
   ]
  },
  {
   "cell_type": "code",
   "execution_count": 4,
   "id": "1d79eceb-3e07-4ee8-be60-1a7129bf18fc",
   "metadata": {
    "tags": []
   },
   "outputs": [
    {
     "data": {
      "application/vnd.jupyter.widget-view+json": {
       "model_id": "cfab2a79295a4d6e8b6920d4f580cdd6",
       "version_major": 2,
       "version_minor": 0
      },
      "text/plain": [
       "  0%|          | 0/3 [00:00<?, ?it/s]"
      ]
     },
     "metadata": {},
     "output_type": "display_data"
    },
    {
     "name": "stdout",
     "output_type": "stream",
     "text": [
      "6,417 rows x 6 cols; Memory: 1.4 MiB; CRS: epsg:4326\n"
     ]
    },
    {
     "data": {
      "text/html": [
       "<div>\n",
       "<style scoped>\n",
       "    .dataframe tbody tr th:only-of-type {\n",
       "        vertical-align: middle;\n",
       "    }\n",
       "\n",
       "    .dataframe tbody tr th {\n",
       "        vertical-align: top;\n",
       "    }\n",
       "\n",
       "    .dataframe thead th {\n",
       "        text-align: right;\n",
       "    }\n",
       "</style>\n",
       "<table border=\"1\" class=\"dataframe\">\n",
       "  <thead>\n",
       "    <tr style=\"text-align: right;\">\n",
       "      <th></th>\n",
       "      <th>geoid</th>\n",
       "      <th>name</th>\n",
       "      <th>aland</th>\n",
       "      <th>awater</th>\n",
       "      <th>geometry</th>\n",
       "      <th>scale</th>\n",
       "    </tr>\n",
       "  </thead>\n",
       "  <tbody>\n",
       "    <tr>\n",
       "      <th></th>\n",
       "      <td>&lt;object&gt;</td>\n",
       "      <td>&lt;object&gt;</td>\n",
       "      <td>&lt;int64&gt;</td>\n",
       "      <td>&lt;int64&gt;</td>\n",
       "      <td>&lt;geometry&gt;</td>\n",
       "      <td>&lt;object&gt;</td>\n",
       "    </tr>\n",
       "    <tr>\n",
       "      <th>0</th>\n",
       "      <td>181379685003</td>\n",
       "      <td>Block Group 3</td>\n",
       "      <td>2566010</td>\n",
       "      <td>39626</td>\n",
       "      <td>POLYGON ((-85.20815 39.304011, -85.208134 39.3...</td>\n",
       "      <td>bg</td>\n",
       "    </tr>\n",
       "  </tbody>\n",
       "</table>\n",
       "</div>"
      ],
      "text/plain": [
       "          geoid           name    aland   awater  \\\n",
       "       <object>       <object>  <int64>  <int64>   \n",
       "0  181379685003  Block Group 3  2566010    39626   \n",
       "\n",
       "                                            geometry     scale  \n",
       "                                          <geometry>  <object>  \n",
       "0  POLYGON ((-85.20815 39.304011, -85.208134 39.3...        bg  "
      ]
     },
     "metadata": {},
     "output_type": "display_data"
    },
    {
     "name": "stdout",
     "output_type": "stream",
     "text": [
      "CPU times: user 17.8 s, sys: 210 ms, total: 18 s\n",
      "Wall time: 18.2 s\n"
     ]
    }
   ],
   "source": [
    "%%time\n",
    "# t=22s\n",
    "bound = pd.concat([\n",
    "    gpd.read_file(P.data / f'boundary/{scale}.geojson')\n",
    "    .assign(scale=scale).astype({'geoid': str})\n",
    "    for scale in tqdm(['bg','tract','county'])\n",
    "]).disp()\n",
    "bound.to_file(P.data / f'export/boundaries.geojson')"
   ]
  },
  {
   "cell_type": "code",
   "execution_count": 5,
   "id": "0094d9b5-4728-452b-a965-cfefaec4afd7",
   "metadata": {
    "tags": []
   },
   "outputs": [
    {
     "name": "stdout",
     "output_type": "stream",
     "text": [
      "6,417 rows x 6 cols; Memory: 1.4 MiB; CRS: epsg:4326\n"
     ]
    },
    {
     "data": {
      "text/html": [
       "<div>\n",
       "<style scoped>\n",
       "    .dataframe tbody tr th:only-of-type {\n",
       "        vertical-align: middle;\n",
       "    }\n",
       "\n",
       "    .dataframe tbody tr th {\n",
       "        vertical-align: top;\n",
       "    }\n",
       "\n",
       "    .dataframe thead th {\n",
       "        text-align: right;\n",
       "    }\n",
       "</style>\n",
       "<table border=\"1\" class=\"dataframe\">\n",
       "  <thead>\n",
       "    <tr style=\"text-align: right;\">\n",
       "      <th></th>\n",
       "      <th>geoid</th>\n",
       "      <th>name</th>\n",
       "      <th>aland</th>\n",
       "      <th>awater</th>\n",
       "      <th>scale</th>\n",
       "      <th>geometry</th>\n",
       "    </tr>\n",
       "  </thead>\n",
       "  <tbody>\n",
       "    <tr>\n",
       "      <th></th>\n",
       "      <td>&lt;object&gt;</td>\n",
       "      <td>&lt;object&gt;</td>\n",
       "      <td>&lt;int64&gt;</td>\n",
       "      <td>&lt;int64&gt;</td>\n",
       "      <td>&lt;object&gt;</td>\n",
       "      <td>&lt;geometry&gt;</td>\n",
       "    </tr>\n",
       "    <tr>\n",
       "      <th>0</th>\n",
       "      <td>181379685003</td>\n",
       "      <td>Block Group 3</td>\n",
       "      <td>2566010</td>\n",
       "      <td>39626</td>\n",
       "      <td>bg</td>\n",
       "      <td>POLYGON ((-85.20815 39.304011, -85.208134 39.3...</td>\n",
       "    </tr>\n",
       "  </tbody>\n",
       "</table>\n",
       "</div>"
      ],
      "text/plain": [
       "          geoid           name    aland   awater     scale  \\\n",
       "       <object>       <object>  <int64>  <int64>  <object>   \n",
       "0  181379685003  Block Group 3  2566010    39626        bg   \n",
       "\n",
       "                                            geometry  \n",
       "                                          <geometry>  \n",
       "0  POLYGON ((-85.20815 39.304011, -85.208134 39.3...  "
      ]
     },
     "metadata": {},
     "output_type": "display_data"
    }
   ],
   "source": [
    "bound = gpd.read_file(P.data / 'export/boundaries.geojson').disp()"
   ]
  },
  {
   "cell_type": "markdown",
   "id": "1b167893-cccb-4fff-918f-8898990edf0f",
   "metadata": {},
   "source": [
    "# ACS data"
   ]
  },
  {
   "cell_type": "markdown",
   "id": "959b39a9-d688-4438-bd43-594606315c52",
   "metadata": {},
   "source": [
    "## Download data (not working)\n",
    "For 2010 to suit the AAA calculations"
   ]
  },
  {
   "cell_type": "code",
   "execution_count": 6,
   "id": "16a9e7c5-7b7e-442a-8b4e-38497f729914",
   "metadata": {
    "tags": []
   },
   "outputs": [],
   "source": [
    "def download_acs_shp(scale, year=2012, state=18, root=U.mkdir(P.data / 'geometry'),\n",
    "                     fields=mk.acs.IMP_FIELDS):\n",
    "    assert scale in ['county', 'tract', 'bg', 'city']\n",
    "    # download the shapefile\n",
    "    # shp = (mk.geo.get_tiger_shp(scale, f'{root}/{scale}.shp.zip', fips=18)\n",
    "    #        .rename(columns=str.lower).to_crs(mk.geo.CRS_DEG)\n",
    "    #        [['geoid','namelsad','aland','awater','geometry']])\n",
    "    # download the ACS data\n",
    "    geo = {'state': f'{state:02}'} | dict(\n",
    "        county={'county': '*'},\n",
    "        tract={'county': '*', 'tract': '*'},\n",
    "        bg={'county': '*', 'tract': '*', 'block group': '*'}\n",
    "    )[scale]\n",
    "    acs = mk.acs.download(list(geo.items()), list(fields.keys()), year=year)\n",
    "    return acs\n",
    "           # .rename(columns=fields).reorder_levels(list(geo.keys())))\n",
    "    acs.index = acs.index.map(''.join).rename('geoid')\n",
    "    acs = acs[acs['popu'] > 0]\n",
    "    # join the tables\n",
    "    name = 'name ' if 'name' in shp.columns else ''\n",
    "    shp = (shp[f'geoid {name}namelsad aland awater geometry'.split()]\n",
    "           .merge(acs, on='geoid').astype({'geoid': int}))\n",
    "    return shp\n",
    "    shp.to_file(f'{root}/{scale}.gpkg')\n",
    "    \n",
    "# %time df = download_acs_shp('bg'); df"
   ]
  },
  {
   "cell_type": "markdown",
   "id": "14974c3d-3e06-4ab7-8ffe-cd8146e6e9aa",
   "metadata": {},
   "source": [
    "## Rebase geoids\n",
    "Find the mapping between the latest ACS data's geoids and the 2010 geoids used in the AAA data."
   ]
  },
  {
   "cell_type": "code",
   "execution_count": 7,
   "id": "6dcbb78a-5a53-4c05-9906-65069fd60a99",
   "metadata": {
    "tags": []
   },
   "outputs": [],
   "source": [
    "def map_old_to_new_geoids(scale):\n",
    "    bound_old = gpd.read_file(P.data / f'boundary/{scale}.geojson')\n",
    "    acs_new = gpd.read_file(P.data / f'ACS/{scale}.gpkg')\n",
    "    ixn = acs_new.overlay(bound_old, how='intersection', keep_geom_type=False)\n",
    "    ixn['area'] = ixn.to_crs(CRS_M).area\n",
    "    map_ = (ixn.sort_values('area').groupby('geoid_1').last()\n",
    "            ['geoid_2'].rename('old').rename_axis('new').reset_index())\n",
    "    return map_"
   ]
  },
  {
   "cell_type": "code",
   "execution_count": 8,
   "id": "4ee15bb9-a4f9-4705-b18c-d1bd08747e02",
   "metadata": {
    "tags": []
   },
   "outputs": [
    {
     "name": "stdout",
     "output_type": "stream",
     "text": [
      "CPU times: user 26.5 s, sys: 463 ms, total: 26.9 s\n",
      "Wall time: 27.1 s\n"
     ]
    }
   ],
   "source": [
    "%time new2old = {scale: map_old_to_new_geoids(scale) for scale in ['bg', 'tract', 'county']} # t=28s"
   ]
  },
  {
   "cell_type": "code",
   "execution_count": 9,
   "id": "eab0f2f0-b18f-4777-b06c-26374021585f",
   "metadata": {
    "tags": []
   },
   "outputs": [
    {
     "data": {
      "text/html": [
       "<div>\n",
       "<style scoped>\n",
       "    .dataframe tbody tr th:only-of-type {\n",
       "        vertical-align: middle;\n",
       "    }\n",
       "\n",
       "    .dataframe tbody tr th {\n",
       "        vertical-align: top;\n",
       "    }\n",
       "\n",
       "    .dataframe thead th {\n",
       "        text-align: right;\n",
       "    }\n",
       "</style>\n",
       "<table border=\"1\" class=\"dataframe\">\n",
       "  <thead>\n",
       "    <tr style=\"text-align: right;\">\n",
       "      <th></th>\n",
       "      <th>new</th>\n",
       "      <th>old</th>\n",
       "    </tr>\n",
       "  </thead>\n",
       "  <tbody>\n",
       "    <tr>\n",
       "      <th>0</th>\n",
       "      <td>180010301001</td>\n",
       "      <td>180010301001</td>\n",
       "    </tr>\n",
       "    <tr>\n",
       "      <th>1</th>\n",
       "      <td>180010301002</td>\n",
       "      <td>180010301002</td>\n",
       "    </tr>\n",
       "    <tr>\n",
       "      <th>2</th>\n",
       "      <td>180010301003</td>\n",
       "      <td>180010301003</td>\n",
       "    </tr>\n",
       "  </tbody>\n",
       "</table>\n",
       "</div>"
      ],
      "text/plain": [
       "            new           old\n",
       "0  180010301001  180010301001\n",
       "1  180010301002  180010301002\n",
       "2  180010301003  180010301003"
      ]
     },
     "execution_count": 9,
     "metadata": {},
     "output_type": "execute_result"
    }
   ],
   "source": [
    "new2old['bg'].head(3)"
   ]
  },
  {
   "cell_type": "code",
   "execution_count": 10,
   "id": "77aa85bc-f362-4811-80db-63d4a05889ff",
   "metadata": {
    "tags": []
   },
   "outputs": [],
   "source": [
    "def get_acs_old(scale, maps=new2old):\n",
    "    acs = gpd.read_file(P.data / f'ACS/{scale}.gpkg')\n",
    "    acs = (acs.drop(columns=['namelsad','aland','awater','geometry',\n",
    "                             'age_median','inc_avg','inc_median'])\n",
    "           .rename(columns={'geoid': 'new'})\n",
    "           .merge(maps[scale], on='new', how='left').drop(columns='new')\n",
    "           .rename(columns={'old': 'geoid'}).astype({'geoid': str})\n",
    "           .groupby('geoid').sum(numeric_only=True))\n",
    "    return acs\n",
    "    \n",
    "# %time x = get_acs_old('bg'); x"
   ]
  },
  {
   "cell_type": "code",
   "execution_count": 11,
   "id": "b84b0763-6687-4b97-ba68-f6894445056e",
   "metadata": {
    "tags": []
   },
   "outputs": [
    {
     "name": "stdout",
     "output_type": "stream",
     "text": [
      "6,314 rows x 31 cols; Memory: 2.2 MiB\n"
     ]
    },
    {
     "data": {
      "text/html": [
       "<div>\n",
       "<style scoped>\n",
       "    .dataframe tbody tr th:only-of-type {\n",
       "        vertical-align: middle;\n",
       "    }\n",
       "\n",
       "    .dataframe tbody tr th {\n",
       "        vertical-align: top;\n",
       "    }\n",
       "\n",
       "    .dataframe thead th {\n",
       "        text-align: right;\n",
       "    }\n",
       "</style>\n",
       "<table border=\"1\" class=\"dataframe\">\n",
       "  <thead>\n",
       "    <tr style=\"text-align: right;\">\n",
       "      <th></th>\n",
       "      <th>geoid</th>\n",
       "      <th>scale</th>\n",
       "      <th>popu</th>\n",
       "      <th>hh</th>\n",
       "      <th>age_minor</th>\n",
       "      <th>age_adult</th>\n",
       "      <th>age_senior</th>\n",
       "      <th>sex_female</th>\n",
       "      <th>sex_male</th>\n",
       "      <th>race_white</th>\n",
       "      <th>race_black</th>\n",
       "      <th>edu_eligible</th>\n",
       "      <th>edu_bachelors</th>\n",
       "      <th>employ_total</th>\n",
       "      <th>employ_in_LF</th>\n",
       "      <th>employ_not_in_LF</th>\n",
       "      <th>inc_total</th>\n",
       "      <th>inc_total_hh</th>\n",
       "      <th>hh_poor</th>\n",
       "      <th>hh_nonpoor</th>\n",
       "      <th>cm_car</th>\n",
       "      <th>cm_pool</th>\n",
       "      <th>cm_pt</th>\n",
       "      <th>cm_bus</th>\n",
       "      <th>cm_subway</th>\n",
       "      <th>cm_taxi</th>\n",
       "      <th>cm_bike</th>\n",
       "      <th>cm_walk</th>\n",
       "      <th>cm_wfm</th>\n",
       "      <th>pop_poor</th>\n",
       "      <th>pop_nonpoor</th>\n",
       "    </tr>\n",
       "  </thead>\n",
       "  <tbody>\n",
       "    <tr>\n",
       "      <th></th>\n",
       "      <td>&lt;object&gt;</td>\n",
       "      <td>&lt;object&gt;</td>\n",
       "      <td>&lt;float64&gt;</td>\n",
       "      <td>&lt;float64&gt;</td>\n",
       "      <td>&lt;float64&gt;</td>\n",
       "      <td>&lt;float64&gt;</td>\n",
       "      <td>&lt;float64&gt;</td>\n",
       "      <td>&lt;float64&gt;</td>\n",
       "      <td>&lt;float64&gt;</td>\n",
       "      <td>&lt;float64&gt;</td>\n",
       "      <td>&lt;float64&gt;</td>\n",
       "      <td>&lt;float64&gt;</td>\n",
       "      <td>&lt;float64&gt;</td>\n",
       "      <td>&lt;float64&gt;</td>\n",
       "      <td>&lt;float64&gt;</td>\n",
       "      <td>&lt;float64&gt;</td>\n",
       "      <td>&lt;float64&gt;</td>\n",
       "      <td>&lt;float64&gt;</td>\n",
       "      <td>&lt;float64&gt;</td>\n",
       "      <td>&lt;float64&gt;</td>\n",
       "      <td>&lt;float64&gt;</td>\n",
       "      <td>&lt;float64&gt;</td>\n",
       "      <td>&lt;float64&gt;</td>\n",
       "      <td>&lt;float64&gt;</td>\n",
       "      <td>&lt;float64&gt;</td>\n",
       "      <td>&lt;float64&gt;</td>\n",
       "      <td>&lt;float64&gt;</td>\n",
       "      <td>&lt;float64&gt;</td>\n",
       "      <td>&lt;float64&gt;</td>\n",
       "      <td>&lt;float64&gt;</td>\n",
       "      <td>&lt;float64&gt;</td>\n",
       "    </tr>\n",
       "    <tr>\n",
       "      <th>0</th>\n",
       "      <td>180010301001</td>\n",
       "      <td>bg</td>\n",
       "      <td>1349.0</td>\n",
       "      <td>413.0</td>\n",
       "      <td>402.0</td>\n",
       "      <td>663.0</td>\n",
       "      <td>213.0</td>\n",
       "      <td>700.0</td>\n",
       "      <td>649.0</td>\n",
       "      <td>1345.0</td>\n",
       "      <td>0.0</td>\n",
       "      <td>769.0</td>\n",
       "      <td>111.0</td>\n",
       "      <td>556.0</td>\n",
       "      <td>566.0</td>\n",
       "      <td>383.0</td>\n",
       "      <td>32611900.0</td>\n",
       "      <td>31643000.0</td>\n",
       "      <td>47.0</td>\n",
       "      <td>366.0</td>\n",
       "      <td>410.0</td>\n",
       "      <td>90.0</td>\n",
       "      <td>0.0</td>\n",
       "      <td>0.0</td>\n",
       "      <td>0.0</td>\n",
       "      <td>0.0</td>\n",
       "      <td>0.0</td>\n",
       "      <td>0.0</td>\n",
       "      <td>500.0</td>\n",
       "      <td>NaN</td>\n",
       "      <td>NaN</td>\n",
       "    </tr>\n",
       "  </tbody>\n",
       "</table>\n",
       "</div>"
      ],
      "text/plain": [
       "          geoid     scale       popu         hh  age_minor  age_adult  \\\n",
       "       <object>  <object>  <float64>  <float64>  <float64>  <float64>   \n",
       "0  180010301001        bg     1349.0      413.0      402.0      663.0   \n",
       "\n",
       "  age_senior sex_female   sex_male race_white race_black edu_eligible  \\\n",
       "   <float64>  <float64>  <float64>  <float64>  <float64>    <float64>   \n",
       "0      213.0      700.0      649.0     1345.0        0.0        769.0   \n",
       "\n",
       "  edu_bachelors employ_total employ_in_LF employ_not_in_LF   inc_total  \\\n",
       "      <float64>    <float64>    <float64>        <float64>   <float64>   \n",
       "0         111.0        556.0        566.0            383.0  32611900.0   \n",
       "\n",
       "  inc_total_hh    hh_poor hh_nonpoor     cm_car    cm_pool      cm_pt  \\\n",
       "     <float64>  <float64>  <float64>  <float64>  <float64>  <float64>   \n",
       "0   31643000.0       47.0      366.0      410.0       90.0        0.0   \n",
       "\n",
       "      cm_bus  cm_subway    cm_taxi    cm_bike    cm_walk     cm_wfm  \\\n",
       "   <float64>  <float64>  <float64>  <float64>  <float64>  <float64>   \n",
       "0        0.0        0.0        0.0        0.0        0.0      500.0   \n",
       "\n",
       "    pop_poor pop_nonpoor  \n",
       "   <float64>   <float64>  \n",
       "0        NaN         NaN  "
      ]
     },
     "metadata": {},
     "output_type": "display_data"
    }
   ],
   "source": [
    "acs = []\n",
    "for scale in ['bg','tract','county']:\n",
    "    df = get_acs_old(scale)\n",
    "    df.insert(0, 'scale', scale)\n",
    "    acs.append(df.reset_index())\n",
    "acs = pd.concat(acs).reset_index(drop=True).disp()"
   ]
  },
  {
   "cell_type": "code",
   "execution_count": null,
   "id": "f8e25c37-cb3a-496d-8372-440ead37a67f",
   "metadata": {},
   "outputs": [],
   "source": [
    "{\n",
    "    'Total'\n",
    "}"
   ]
  },
  {
   "cell_type": "code",
   "execution_count": null,
   "id": "f19b8c21-5913-4b29-8425-b917ce0c046f",
   "metadata": {},
   "outputs": [],
   "source": []
  },
  {
   "cell_type": "code",
   "execution_count": null,
   "id": "a0abae81-8614-44fb-bc58-89336b87a73b",
   "metadata": {},
   "outputs": [],
   "source": []
  },
  {
   "cell_type": "code",
   "execution_count": 12,
   "id": "40fcba14-c07a-420e-8730-959578a2e28d",
   "metadata": {
    "tags": []
   },
   "outputs": [],
   "source": [
    "acs.to_csv(P.data / 'export/acs.csv', index=False)"
   ]
  },
  {
   "cell_type": "code",
   "execution_count": null,
   "id": "abfb9c50-41b2-409c-94b6-0768be832119",
   "metadata": {},
   "outputs": [],
   "source": []
  },
  {
   "cell_type": "code",
   "execution_count": null,
   "id": "cfd4ce88-b57f-43b1-9e1c-267c03132403",
   "metadata": {},
   "outputs": [],
   "source": []
  },
  {
   "cell_type": "code",
   "execution_count": null,
   "id": "aa193a3c-6e59-47e1-a7b3-65f5a2925391",
   "metadata": {},
   "outputs": [],
   "source": []
  },
  {
   "cell_type": "code",
   "execution_count": null,
   "id": "eddc30bc-d7ad-4556-8388-96aa1961be03",
   "metadata": {},
   "outputs": [],
   "source": []
  },
  {
   "cell_type": "code",
   "execution_count": 45,
   "id": "c2298765-b6fc-4bc4-8510-e58d50bca555",
   "metadata": {},
   "outputs": [
    {
     "name": "stdout",
     "output_type": "stream",
     "text": [
      "5,272 rows x 37 cols; Memory: 2.0 MiB; CRS: epsg:4326\n"
     ]
    },
    {
     "data": {
      "text/html": [
       "<div>\n",
       "<style scoped>\n",
       "    .dataframe tbody tr th:only-of-type {\n",
       "        vertical-align: middle;\n",
       "    }\n",
       "\n",
       "    .dataframe tbody tr th {\n",
       "        vertical-align: top;\n",
       "    }\n",
       "\n",
       "    .dataframe thead th {\n",
       "        text-align: right;\n",
       "    }\n",
       "</style>\n",
       "<table border=\"1\" class=\"dataframe\">\n",
       "  <thead>\n",
       "    <tr style=\"text-align: right;\">\n",
       "      <th></th>\n",
       "      <th>geoid</th>\n",
       "      <th>namelsad</th>\n",
       "      <th>aland</th>\n",
       "      <th>awater</th>\n",
       "      <th>popu</th>\n",
       "      <th>hh</th>\n",
       "      <th>age_minor</th>\n",
       "      <th>age_adult</th>\n",
       "      <th>age_senior</th>\n",
       "      <th>age_median</th>\n",
       "      <th>sex_female</th>\n",
       "      <th>sex_male</th>\n",
       "      <th>race_white</th>\n",
       "      <th>race_black</th>\n",
       "      <th>edu_eligible</th>\n",
       "      <th>edu_bachelors</th>\n",
       "      <th>employ_total</th>\n",
       "      <th>employ_in_LF</th>\n",
       "      <th>employ_not_in_LF</th>\n",
       "      <th>inc_total</th>\n",
       "      <th>inc_avg</th>\n",
       "      <th>inc_total_hh</th>\n",
       "      <th>inc_median</th>\n",
       "      <th>pop_poor</th>\n",
       "      <th>pop_nonpoor</th>\n",
       "      <th>hh_poor</th>\n",
       "      <th>hh_nonpoor</th>\n",
       "      <th>cm_car</th>\n",
       "      <th>cm_pool</th>\n",
       "      <th>cm_pt</th>\n",
       "      <th>cm_bus</th>\n",
       "      <th>cm_subway</th>\n",
       "      <th>cm_taxi</th>\n",
       "      <th>cm_bike</th>\n",
       "      <th>cm_walk</th>\n",
       "      <th>cm_wfm</th>\n",
       "      <th>geometry</th>\n",
       "    </tr>\n",
       "  </thead>\n",
       "  <tbody>\n",
       "    <tr>\n",
       "      <th></th>\n",
       "      <td>&lt;int64&gt;</td>\n",
       "      <td>&lt;object&gt;</td>\n",
       "      <td>&lt;int64&gt;</td>\n",
       "      <td>&lt;int64&gt;</td>\n",
       "      <td>&lt;float64&gt;</td>\n",
       "      <td>&lt;float64&gt;</td>\n",
       "      <td>&lt;float64&gt;</td>\n",
       "      <td>&lt;float64&gt;</td>\n",
       "      <td>&lt;float64&gt;</td>\n",
       "      <td>&lt;float64&gt;</td>\n",
       "      <td>&lt;float64&gt;</td>\n",
       "      <td>&lt;float64&gt;</td>\n",
       "      <td>&lt;float64&gt;</td>\n",
       "      <td>&lt;float64&gt;</td>\n",
       "      <td>&lt;float64&gt;</td>\n",
       "      <td>&lt;float64&gt;</td>\n",
       "      <td>&lt;float64&gt;</td>\n",
       "      <td>&lt;float64&gt;</td>\n",
       "      <td>&lt;float64&gt;</td>\n",
       "      <td>&lt;float64&gt;</td>\n",
       "      <td>&lt;float64&gt;</td>\n",
       "      <td>&lt;float64&gt;</td>\n",
       "      <td>&lt;float64&gt;</td>\n",
       "      <td>&lt;object&gt;</td>\n",
       "      <td>&lt;object&gt;</td>\n",
       "      <td>&lt;float64&gt;</td>\n",
       "      <td>&lt;float64&gt;</td>\n",
       "      <td>&lt;float64&gt;</td>\n",
       "      <td>&lt;float64&gt;</td>\n",
       "      <td>&lt;float64&gt;</td>\n",
       "      <td>&lt;float64&gt;</td>\n",
       "      <td>&lt;float64&gt;</td>\n",
       "      <td>&lt;float64&gt;</td>\n",
       "      <td>&lt;float64&gt;</td>\n",
       "      <td>&lt;float64&gt;</td>\n",
       "      <td>&lt;float64&gt;</td>\n",
       "      <td>&lt;geometry&gt;</td>\n",
       "    </tr>\n",
       "    <tr>\n",
       "      <th>0</th>\n",
       "      <td>181290406002</td>\n",
       "      <td>Block Group 2</td>\n",
       "      <td>1336298</td>\n",
       "      <td>18390</td>\n",
       "      <td>754.0</td>\n",
       "      <td>302.0</td>\n",
       "      <td>105.0</td>\n",
       "      <td>342.0</td>\n",
       "      <td>276.0</td>\n",
       "      <td>53.7</td>\n",
       "      <td>423.0</td>\n",
       "      <td>331.0</td>\n",
       "      <td>728.0</td>\n",
       "      <td>4.0</td>\n",
       "      <td>618.0</td>\n",
       "      <td>193.0</td>\n",
       "      <td>356.0</td>\n",
       "      <td>378.0</td>\n",
       "      <td>248.0</td>\n",
       "      <td>32933800.0</td>\n",
       "      <td>43679.0</td>\n",
       "      <td>32293400.0</td>\n",
       "      <td>105455.0</td>\n",
       "      <td>None</td>\n",
       "      <td>None</td>\n",
       "      <td>17.0</td>\n",
       "      <td>285.0</td>\n",
       "      <td>282.0</td>\n",
       "      <td>23.0</td>\n",
       "      <td>0.0</td>\n",
       "      <td>0.0</td>\n",
       "      <td>0.0</td>\n",
       "      <td>0.0</td>\n",
       "      <td>0.0</td>\n",
       "      <td>0.0</td>\n",
       "      <td>305.0</td>\n",
       "      <td>POLYGON ((-87.925882 37.934615, -87.925867 37....</td>\n",
       "    </tr>\n",
       "  </tbody>\n",
       "</table>\n",
       "</div>"
      ],
      "text/plain": [
       "          geoid       namelsad    aland   awater       popu         hh  \\\n",
       "        <int64>       <object>  <int64>  <int64>  <float64>  <float64>   \n",
       "0  181290406002  Block Group 2  1336298    18390      754.0      302.0   \n",
       "\n",
       "   age_minor  age_adult age_senior age_median sex_female   sex_male  \\\n",
       "   <float64>  <float64>  <float64>  <float64>  <float64>  <float64>   \n",
       "0      105.0      342.0      276.0       53.7      423.0      331.0   \n",
       "\n",
       "  race_white race_black edu_eligible edu_bachelors employ_total employ_in_LF  \\\n",
       "   <float64>  <float64>    <float64>     <float64>    <float64>    <float64>   \n",
       "0      728.0        4.0        618.0         193.0        356.0        378.0   \n",
       "\n",
       "  employ_not_in_LF   inc_total    inc_avg inc_total_hh inc_median  pop_poor  \\\n",
       "         <float64>   <float64>  <float64>    <float64>  <float64>  <object>   \n",
       "0            248.0  32933800.0    43679.0   32293400.0   105455.0      None   \n",
       "\n",
       "  pop_nonpoor    hh_poor hh_nonpoor     cm_car    cm_pool      cm_pt  \\\n",
       "     <object>  <float64>  <float64>  <float64>  <float64>  <float64>   \n",
       "0        None       17.0      285.0      282.0       23.0        0.0   \n",
       "\n",
       "      cm_bus  cm_subway    cm_taxi    cm_bike    cm_walk     cm_wfm  \\\n",
       "   <float64>  <float64>  <float64>  <float64>  <float64>  <float64>   \n",
       "0        0.0        0.0        0.0        0.0        0.0      305.0   \n",
       "\n",
       "                                            geometry  \n",
       "                                          <geometry>  \n",
       "0  POLYGON ((-87.925882 37.934615, -87.925867 37....  "
      ]
     },
     "metadata": {},
     "output_type": "display_data"
    }
   ],
   "source": [
    "acs = gpd.read_file(P.data / 'ACS/bg.gpkg').disp()"
   ]
  },
  {
   "cell_type": "raw",
   "id": "ac01de7d-3127-496d-bcfa-6dcd2ec47763",
   "metadata": {
    "tags": []
   },
   "source": [
    "ax = U.plot(size=(10, 20), dpi=100, axoff=1)\n",
    "acs.plot(ax=ax, facecolor='none', edgecolor='r', linewidth=.5)\n",
    "x.plot(ax=ax, facecolor='none', edgecolor='grey', linewidth=.5);"
   ]
  },
  {
   "cell_type": "code",
   "execution_count": 6,
   "id": "ede8ffac-49da-4427-aa5f-39d1e418b457",
   "metadata": {},
   "outputs": [
    {
     "data": {
      "image/png": "[encoded data removed]",
      "text/plain": [
       "<Figure size 600x360 with 1 Axes>"
      ]
     },
     "metadata": {},
     "output_type": "display_data"
    }
   ],
   "source": [
    "ax = U.plot(size=(5, 3), ylab='No. of CBGs', xlab='Area (sq.mi.)', dpi=120)\n",
    "(acs.to_crs(CRS_M).area * U.SQM2SQMI).clip(0, 80).hist(ax=ax, bins=80);"
   ]
  },
  {
   "cell_type": "code",
   "execution_count": 7,
   "id": "4e861d0b-e0e9-4c99-b00d-cc8973f82de9",
   "metadata": {},
   "outputs": [],
   "source": [
    "fancy_ses_cols = {\n",
    "    'popu': 'Population',\n",
    "    'hh': 'No. of Households',\n",
    "    'pop_density': 'Popu Density (/sq.mi.)',\n",
    "    'pct_senior': '% Popu Aged >64',\n",
    "    'pct_non_white': '% Popu of Minority Race',\n",
    "    'pct_no_degree': '% Popu without College Degree',\n",
    "    'pct_bpl': '% Popu Below Poverty Line',\n",
    "}"
   ]
  },
  {
   "cell_type": "code",
   "execution_count": 8,
   "id": "11efbb9d-bbc9-48c1-ad78-755a2f8e5528",
   "metadata": {},
   "outputs": [],
   "source": [
    "def get_ses_vars(acs, cols=fancy_ses_cols):\n",
    "    df = acs.set_index(['geoid', 'namelsad']).pipe(lambda df: df[df['popu'] > 0])\n",
    "    # population density\n",
    "    df['area'] = df.to_crs(CRS_M).area * U.SQM2SQMI\n",
    "    df['pop_density'] = df['popu'] / df['area']\n",
    "    # % seniors (aged >64 y)\n",
    "    df['pct_senior'] = 100 * df['age_senior'] / (\n",
    "        df['age_minor'] + df['age_adult'] + df['age_senior'])\n",
    "    # % non-Whites\n",
    "    df['pct_non_white'] = 100 * df['race_white'] / df['popu']\n",
    "    # % population without college degree\n",
    "    df['pct_no_degree'] = 100 * (1 - df['edu_bachelors'] / df['edu_eligible'])\n",
    "    # % population below poverty line\n",
    "    df['pct_bpl'] = 100 * df['pop_poor'] / (df['pop_poor'] + df['pop_nonpoor'])\n",
    "    # % population unemployed\n",
    "    df['pct_unemploy'] = 100 * df['employ_not_in_LF'] / (\n",
    "        df['employ_in_LF'] + df['employ_not_in_LF'])\n",
    "    return df[list(cols.keys()) + ['geometry']].rename(columns=cols).reset_index()\n",
    "    \n",
    "# get_ses_vars(acs)"
   ]
  },
  {
   "cell_type": "code",
   "execution_count": 9,
   "id": "184f6130-f216-442e-8771-b37228c7d593",
   "metadata": {},
   "outputs": [],
   "source": [
    "def save_ses_vars(scale, cols=fancy_ses_cols):\n",
    "    acs = gpd.read_file(P.data / f'acs/{scale}.gpkg')\n",
    "    ses = get_ses_vars(acs, cols)\n",
    "    ses.to_file(P.data / f'acs/ses_{scale}.geojson')"
   ]
  },
  {
   "cell_type": "raw",
   "id": "28fa80c1-45d7-461a-a4f7-7171f20d7806",
   "metadata": {},
   "source": [
    "save_ses_vars('county')"
   ]
  },
  {
   "cell_type": "raw",
   "id": "4f1c511d-3e2b-4e3b-ad0a-cf5ae3b3cd01",
   "metadata": {},
   "source": [
    "save_ses_vars('tract') # t=2s"
   ]
  },
  {
   "cell_type": "raw",
   "id": "a9367c72-3637-4574-a908-1ac919a5d4c7",
   "metadata": {},
   "source": [
    "save_ses_vars('bg') # t=4s"
   ]
  },
  {
   "cell_type": "markdown",
   "id": "7708d680-1eeb-4d08-9b02-a722568b5e4f",
   "metadata": {},
   "source": [
    "# LEHD-LODES"
   ]
  },
  {
   "cell_type": "markdown",
   "id": "ba566921-ad9a-4c6a-b52b-b7019fccf19f",
   "metadata": {},
   "source": [
    "## Download data"
   ]
  },
  {
   "cell_type": "raw",
   "id": "0b8b6049-16f2-435a-bc19-be7b9974c0c4",
   "metadata": {
    "jupyter": {
     "source_hidden": true
    },
    "tags": []
   },
   "source": [
    "P.params.set({'LEHD': {'LODES': {\n",
    "    'geography': {\n",
    "        'crosswalk': {\n",
    "            'tabblk2010': '2010 Census Tabulation Block Code',\n",
    "            'st': 'FIPS State Code',\n",
    "            'stusps': 'USPS State Code',\n",
    "            'stname': 'State Name',\n",
    "            'cty': 'FIPS County Code',\n",
    "            'ctyname': 'County or County Equivalent Name',\n",
    "            'trct': 'Census Tract Code',\n",
    "            'trctname': 'Tract Name, formatted with County and State',\n",
    "            'bgrp': 'Census Blockgroup Code',\n",
    "            'bgrpname': 'Census Blockgroup Name, formatted with Tract, County, and State',\n",
    "            'cbsa': 'CBSA (Metropolitan/Micropolitan Area) Code',\n",
    "            'cbsaname': 'CBSA (Metropolitan/Micropolitan Area) Name',\n",
    "            'zcta': 'ZIP Code Tabulation Area (ZCTA) Code',\n",
    "            'zctaname': 'ZCTA Name',\n",
    "            'stplc': 'Nationally Unique Place Code, (FIPS State + FIPS Place)',\n",
    "            'stplcname': 'Place Name',\n",
    "            'ctycsub': 'Nationally Unique County Subdivision Code, (FIPS State + FIPS County + FIPS County Subdivision)',\n",
    "            'ctycsubname': 'County Subdivision Name',\n",
    "            'stcd116': 'Nationally Unique 116th Congressional District Code, (FIPS State + 2-digit District Number',\n",
    "            'stcd116name': '116th Congressional District Name',\n",
    "            'stsldl': 'Nationally Unique State Legislative District, Lower Chamber, (FIPS State + 3-digit District Number)',\n",
    "            'stsldlname': 'State Legislative District Chamber, Lower Chamber'\n",
    "        }\n",
    "    },\n",
    "    'datasets': {\n",
    "        'od': 'Origin-destination job flows',\n",
    "        'rac': 'Residential area characteristics',\n",
    "        'wac': 'Workplace area characteristics',\n",
    "    },\n",
    "    'job_types': {\n",
    "        'JT00': 'All',\n",
    "        'JT01': 'All Primary',\n",
    "        'JT02': 'All Private',\n",
    "        'JT03': 'Private Primary',\n",
    "        'JT04': 'All Federal',\n",
    "        'JT05': 'All Federal Primary',\n",
    "    },\n",
    "    'parts': {\n",
    "        'main': 'Contains jobs with both workplace and residence in the state',\n",
    "        'aux': 'Contains jobs with the workplace in the state and the residence outside of the state'\n",
    "    },\n",
    "    'segments': {\n",
    "        'S000': 'Total number of jobs',\n",
    "        'SA01': 'Number of jobs of workers age 29 or younger',\n",
    "        'SA02': 'Number of jobs for workers age 30 to 54',\n",
    "        'SA03': 'Number of jobs for workers age 55 or older',\n",
    "        'SE01': 'Number of jobs with earnings $1250/month or less',\n",
    "        'SE02': 'Number of jobs with earnings $1251/month to $3333/month',\n",
    "        'SE03': 'Number of jobs with earnings greater than $3333/month',\n",
    "        'SI01': 'Number of jobs in Goods Producing industry sectors',\n",
    "        'SI02': 'Number of jobs in Trade, Transportation, and Utilities industry sectors',\n",
    "        'SI03': 'Number of jobs in All Other Services industry sectors',\n",
    "    },\n",
    "    'variables': {\n",
    "        'C000': 'Total number of jobs',\n",
    "        'CA01': 'Number of jobs for workers age 29 or younger',\n",
    "        'CA02': 'Number of jobs for workers age 30 to 54',\n",
    "        'CA03': 'Number of jobs for workers age 55 or older',\n",
    "        'CE01': 'Number of jobs with earnings $1250/month or less',\n",
    "        'CE02': 'Number of jobs with earnings $1251/month to $3333/month',\n",
    "        'CE03': 'Number of jobs with earnings greater than $3333/month',\n",
    "        'CNS01': 'Number of jobs in NAICS sector 11 (Agriculture, Forestry, Fishing and Hunting)',\n",
    "        'CNS02': 'Number of jobs in NAICS sector 21 (Mining, Quarrying, and Oil and Gas Extraction)',\n",
    "        'CNS03': 'Number of jobs in NAICS sector 22 (Utilities)',\n",
    "        'CNS04': 'Number of jobs in NAICS sector 23 (Construction)',\n",
    "        'CNS05': 'Number of jobs in NAICS sector 31-33 (Manufacturing)',\n",
    "        'CNS06': 'Number of jobs in NAICS sector 42 (Wholesale Trade)',\n",
    "        'CNS07': 'Number of jobs in NAICS sector 44-45 (Retail Trade)',\n",
    "        'CNS08': 'Number of jobs in NAICS sector 48-49 (Transportation and Warehousing)',\n",
    "        'CNS09': 'Number of jobs in NAICS sector 51 (Information)',\n",
    "        'CNS10': 'Number of jobs in NAICS sector 52 (Finance and Insurance)',\n",
    "        'CNS11': 'Number of jobs in NAICS sector 53 (Real Estate and Rental and Leasing)',\n",
    "        'CNS12': 'Number of jobs in NAICS sector 54 (Professional, Scientific, and Technical Services)',\n",
    "        'CNS13': 'Number of jobs in NAICS sector 55 (Management of Companies and Enterprises)',\n",
    "        'CNS14': 'Number of jobs in NAICS sector 56 (Administrative and Support and Waste Management and Remediation Services)',\n",
    "        'CNS15': 'Number of jobs in NAICS sector 61 (Educational Services)',\n",
    "        'CNS16': 'Number of jobs in NAICS sector 62 (Health Care and Social Assistance)',\n",
    "        'CNS17': 'Number of jobs in NAICS sector 71 (Arts, Entertainment, and Recreation)',\n",
    "        'CNS18': 'Number of jobs in NAICS sector 72 (Accommodation and Food Services)',\n",
    "        'CNS19': 'Number of jobs in NAICS sector 81 (Other Services [except Public Administration])',\n",
    "        'CNS20': 'Number of jobs in NAICS sector 92 (Public Administration)',\n",
    "        'CR01': 'Number of jobs for workers with Race: White, Alone',\n",
    "        'CR02': 'Number of jobs for workers with Race: Black or African American Alone',\n",
    "        'CR03': 'Number of jobs for workers with Race: American Indian or Alaska Native Alone',\n",
    "        'CR04': 'Number of jobs for workers with Race: Asian Alone',\n",
    "        'CR05': 'Number of jobs for workers with Race: Native Hawaiian or Other Pacific Islander Alone',\n",
    "        'CR07': 'Number of jobs for workers with Race: Two or More Race Groups',\n",
    "        'CT01': 'Number of jobs for workers with Ethnicity: Not Hispanic or Latino',\n",
    "        'CT02': 'Number of jobs for workers with Ethnicity: Hispanic or Latino',\n",
    "        'CD01': 'Number of jobs for workers with Educational Attainment: Less than high school',\n",
    "        'CD02': 'Number of jobs for workers with Educational Attainment: High school or equivalent, no college',\n",
    "        'CD03': 'Number of jobs for workers with Educational Attainment: Some college or Associate degree',\n",
    "        'CD04': 'Number of jobs for workers with Educational Attainment: Bachelors degree or advanced degree',\n",
    "        'CS01': 'Number of jobs for workers with Sex: Male',\n",
    "        'CS02': 'Number of jobs for workers with Sex: Female',\n",
    "    }\n",
    "}}})"
   ]
  },
  {
   "cell_type": "raw",
   "id": "c0273194-2e2b-478a-b0c8-895e5f162ad7",
   "metadata": {},
   "source": [
    "P.params.get('LEHD.LODES.variables.CNS14')"
   ]
  },
  {
   "cell_type": "code",
   "execution_count": 10,
   "id": "66f253c1-ee11-40c4-9105-852f3c20124c",
   "metadata": {},
   "outputs": [],
   "source": [
    "def download_lehd_lodes(dataset='od', job_type='JT00', state='in', part='main',\n",
    "                        segment='S000', year=2019, lodes_version=7,\n",
    "                        aggregate_bg=False, save=True):\n",
    "    assert lodes_version in [6, 7]\n",
    "    assert dataset in ['od', 'rac', 'wac']\n",
    "    assert part in ['main', 'aux']\n",
    "    assert job_type in [f'JT{i:02}' for i in range(6)]\n",
    "    assert segment in 'S000 SA01 SA02 SA03 SE01 SE02 SE03 SI01 SI02 SI03'.split()\n",
    "    root = f'https://lehd.ces.census.gov/data/lodes'\n",
    "    fname = {'od': f'{state}_od_{part}_{job_type}_{year}',\n",
    "            'rac': f'{state}_rac_{segment}_{job_type}_{year}',\n",
    "            'wac': f'{state}_wac_{segment}_{job_type}_{year}'}[dataset]\n",
    "    url = f'{root}/LODES{lodes_version}/{state}/{dataset}/{fname}.csv.gz'\n",
    "    df = pd.read_csv(url).drop(columns='createdate', errors='ignore')\n",
    "    idx_cols = {'od': ['h_geocode', 'w_geocode'],\n",
    "                'rac': ['h_geocode'], 'wac': ['w_geocode']}[dataset]\n",
    "    df = df.astype({col: str for col in idx_cols})\n",
    "    if aggregate_bg:\n",
    "        for col in idx_cols:\n",
    "            df[col] = df[col].str.slice(0, 12)\n",
    "        df = df.groupby(idx_cols).sum().reset_index()\n",
    "    if save:\n",
    "        fpath = U.mkdir(P.data / f'lehd_lodes/{dataset}') / f'{fname}.csv'\n",
    "        df.to_csv(fpath, index=False)\n",
    "    return df"
   ]
  },
  {
   "cell_type": "raw",
   "id": "69fe6fc2-0645-4283-b6fc-9a761bd1d2c0",
   "metadata": {},
   "source": [
    "rac = download_lehd_lodes(dataset='rac', aggregate_bg=True).disp()"
   ]
  },
  {
   "cell_type": "raw",
   "id": "b3048980-008f-43c2-8643-5bf3a193b7a2",
   "metadata": {},
   "source": [
    "wac = download_lehd_lodes(dataset='wac', aggregate_bg=True).disp()"
   ]
  },
  {
   "cell_type": "raw",
   "id": "a05e26fe-8394-469c-83d0-5dfe29090820",
   "metadata": {},
   "source": [
    "%time od = download_lehd_lodes(dataset='od', aggregate_bg=True).disp() # t=30s"
   ]
  },
  {
   "cell_type": "code",
   "execution_count": 11,
   "id": "a82af853-3157-4e50-977b-82777cab11d4",
   "metadata": {},
   "outputs": [
    {
     "name": "stdout",
     "output_type": "stream",
     "text": [
      "4,811 rows x 42 cols; Memory: 1.5 MiB\n"
     ]
    },
    {
     "data": {
      "text/html": [
       "<div>\n",
       "<style scoped>\n",
       "    .dataframe tbody tr th:only-of-type {\n",
       "        vertical-align: middle;\n",
       "    }\n",
       "\n",
       "    .dataframe tbody tr th {\n",
       "        vertical-align: top;\n",
       "    }\n",
       "\n",
       "    .dataframe thead th {\n",
       "        text-align: right;\n",
       "    }\n",
       "</style>\n",
       "<table border=\"1\" class=\"dataframe\">\n",
       "  <thead>\n",
       "    <tr style=\"text-align: right;\">\n",
       "      <th></th>\n",
       "      <th>h_geocode</th>\n",
       "      <th>C000</th>\n",
       "      <th>CA01</th>\n",
       "      <th>CA02</th>\n",
       "      <th>CA03</th>\n",
       "      <th>CE01</th>\n",
       "      <th>CE02</th>\n",
       "      <th>CE03</th>\n",
       "      <th>CNS01</th>\n",
       "      <th>CNS02</th>\n",
       "      <th>CNS03</th>\n",
       "      <th>CNS04</th>\n",
       "      <th>CNS05</th>\n",
       "      <th>CNS06</th>\n",
       "      <th>CNS07</th>\n",
       "      <th>CNS08</th>\n",
       "      <th>CNS09</th>\n",
       "      <th>CNS10</th>\n",
       "      <th>CNS11</th>\n",
       "      <th>CNS12</th>\n",
       "      <th>CNS13</th>\n",
       "      <th>CNS14</th>\n",
       "      <th>CNS15</th>\n",
       "      <th>CNS16</th>\n",
       "      <th>CNS17</th>\n",
       "      <th>CNS18</th>\n",
       "      <th>CNS19</th>\n",
       "      <th>CNS20</th>\n",
       "      <th>CR01</th>\n",
       "      <th>CR02</th>\n",
       "      <th>CR03</th>\n",
       "      <th>CR04</th>\n",
       "      <th>CR05</th>\n",
       "      <th>CR07</th>\n",
       "      <th>CT01</th>\n",
       "      <th>CT02</th>\n",
       "      <th>CD01</th>\n",
       "      <th>CD02</th>\n",
       "      <th>CD03</th>\n",
       "      <th>CD04</th>\n",
       "      <th>CS01</th>\n",
       "      <th>CS02</th>\n",
       "    </tr>\n",
       "  </thead>\n",
       "  <tbody>\n",
       "    <tr>\n",
       "      <th></th>\n",
       "      <td>&lt;int64&gt;</td>\n",
       "      <td>&lt;int64&gt;</td>\n",
       "      <td>&lt;int64&gt;</td>\n",
       "      <td>&lt;int64&gt;</td>\n",
       "      <td>&lt;int64&gt;</td>\n",
       "      <td>&lt;int64&gt;</td>\n",
       "      <td>&lt;int64&gt;</td>\n",
       "      <td>&lt;int64&gt;</td>\n",
       "      <td>&lt;int64&gt;</td>\n",
       "      <td>&lt;int64&gt;</td>\n",
       "      <td>&lt;int64&gt;</td>\n",
       "      <td>&lt;int64&gt;</td>\n",
       "      <td>&lt;int64&gt;</td>\n",
       "      <td>&lt;int64&gt;</td>\n",
       "      <td>&lt;int64&gt;</td>\n",
       "      <td>&lt;int64&gt;</td>\n",
       "      <td>&lt;int64&gt;</td>\n",
       "      <td>&lt;int64&gt;</td>\n",
       "      <td>&lt;int64&gt;</td>\n",
       "      <td>&lt;int64&gt;</td>\n",
       "      <td>&lt;int64&gt;</td>\n",
       "      <td>&lt;int64&gt;</td>\n",
       "      <td>&lt;int64&gt;</td>\n",
       "      <td>&lt;int64&gt;</td>\n",
       "      <td>&lt;int64&gt;</td>\n",
       "      <td>&lt;int64&gt;</td>\n",
       "      <td>&lt;int64&gt;</td>\n",
       "      <td>&lt;int64&gt;</td>\n",
       "      <td>&lt;int64&gt;</td>\n",
       "      <td>&lt;int64&gt;</td>\n",
       "      <td>&lt;int64&gt;</td>\n",
       "      <td>&lt;int64&gt;</td>\n",
       "      <td>&lt;int64&gt;</td>\n",
       "      <td>&lt;int64&gt;</td>\n",
       "      <td>&lt;int64&gt;</td>\n",
       "      <td>&lt;int64&gt;</td>\n",
       "      <td>&lt;int64&gt;</td>\n",
       "      <td>&lt;int64&gt;</td>\n",
       "      <td>&lt;int64&gt;</td>\n",
       "      <td>&lt;int64&gt;</td>\n",
       "      <td>&lt;int64&gt;</td>\n",
       "      <td>&lt;int64&gt;</td>\n",
       "    </tr>\n",
       "    <tr>\n",
       "      <th>0</th>\n",
       "      <td>180010301001</td>\n",
       "      <td>493</td>\n",
       "      <td>114</td>\n",
       "      <td>233</td>\n",
       "      <td>146</td>\n",
       "      <td>101</td>\n",
       "      <td>164</td>\n",
       "      <td>228</td>\n",
       "      <td>5</td>\n",
       "      <td>0</td>\n",
       "      <td>4</td>\n",
       "      <td>17</td>\n",
       "      <td>130</td>\n",
       "      <td>24</td>\n",
       "      <td>56</td>\n",
       "      <td>15</td>\n",
       "      <td>5</td>\n",
       "      <td>16</td>\n",
       "      <td>3</td>\n",
       "      <td>14</td>\n",
       "      <td>3</td>\n",
       "      <td>17</td>\n",
       "      <td>34</td>\n",
       "      <td>91</td>\n",
       "      <td>4</td>\n",
       "      <td>26</td>\n",
       "      <td>13</td>\n",
       "      <td>16</td>\n",
       "      <td>489</td>\n",
       "      <td>1</td>\n",
       "      <td>0</td>\n",
       "      <td>1</td>\n",
       "      <td>0</td>\n",
       "      <td>2</td>\n",
       "      <td>475</td>\n",
       "      <td>18</td>\n",
       "      <td>44</td>\n",
       "      <td>133</td>\n",
       "      <td>117</td>\n",
       "      <td>85</td>\n",
       "      <td>264</td>\n",
       "      <td>229</td>\n",
       "    </tr>\n",
       "  </tbody>\n",
       "</table>\n",
       "</div>"
      ],
      "text/plain": [
       "      h_geocode     C000     CA01     CA02     CA03     CE01     CE02  \\\n",
       "        <int64>  <int64>  <int64>  <int64>  <int64>  <int64>  <int64>   \n",
       "0  180010301001      493      114      233      146      101      164   \n",
       "\n",
       "      CE03    CNS01    CNS02    CNS03    CNS04    CNS05    CNS06    CNS07  \\\n",
       "   <int64>  <int64>  <int64>  <int64>  <int64>  <int64>  <int64>  <int64>   \n",
       "0      228        5        0        4       17      130       24       56   \n",
       "\n",
       "     CNS08    CNS09    CNS10    CNS11    CNS12    CNS13    CNS14    CNS15  \\\n",
       "   <int64>  <int64>  <int64>  <int64>  <int64>  <int64>  <int64>  <int64>   \n",
       "0       15        5       16        3       14        3       17       34   \n",
       "\n",
       "     CNS16    CNS17    CNS18    CNS19    CNS20     CR01     CR02     CR03  \\\n",
       "   <int64>  <int64>  <int64>  <int64>  <int64>  <int64>  <int64>  <int64>   \n",
       "0       91        4       26       13       16      489        1        0   \n",
       "\n",
       "      CR04     CR05     CR07     CT01     CT02     CD01     CD02     CD03  \\\n",
       "   <int64>  <int64>  <int64>  <int64>  <int64>  <int64>  <int64>  <int64>   \n",
       "0        1        0        2      475       18       44      133      117   \n",
       "\n",
       "      CD04     CS01     CS02  \n",
       "   <int64>  <int64>  <int64>  \n",
       "0       85      264      229  "
      ]
     },
     "metadata": {},
     "output_type": "display_data"
    }
   ],
   "source": [
    "rac = pd.read_csv(glob(str(P.data) + '/lehd_lodes/rac/*')[0]).disp()"
   ]
  },
  {
   "cell_type": "code",
   "execution_count": 12,
   "id": "099aaebf-cac5-4e37-9e0b-d6cae9e14b52",
   "metadata": {},
   "outputs": [
    {
     "name": "stdout",
     "output_type": "stream",
     "text": [
      "4,783 rows x 52 cols; Memory: 1.9 MiB\n"
     ]
    },
    {
     "data": {
      "text/html": [
       "<div>\n",
       "<style scoped>\n",
       "    .dataframe tbody tr th:only-of-type {\n",
       "        vertical-align: middle;\n",
       "    }\n",
       "\n",
       "    .dataframe tbody tr th {\n",
       "        vertical-align: top;\n",
       "    }\n",
       "\n",
       "    .dataframe thead th {\n",
       "        text-align: right;\n",
       "    }\n",
       "</style>\n",
       "<table border=\"1\" class=\"dataframe\">\n",
       "  <thead>\n",
       "    <tr style=\"text-align: right;\">\n",
       "      <th></th>\n",
       "      <th>w_geocode</th>\n",
       "      <th>C000</th>\n",
       "      <th>CA01</th>\n",
       "      <th>CA02</th>\n",
       "      <th>CA03</th>\n",
       "      <th>CE01</th>\n",
       "      <th>CE02</th>\n",
       "      <th>CE03</th>\n",
       "      <th>CNS01</th>\n",
       "      <th>CNS02</th>\n",
       "      <th>CNS03</th>\n",
       "      <th>CNS04</th>\n",
       "      <th>CNS05</th>\n",
       "      <th>CNS06</th>\n",
       "      <th>CNS07</th>\n",
       "      <th>CNS08</th>\n",
       "      <th>CNS09</th>\n",
       "      <th>CNS10</th>\n",
       "      <th>CNS11</th>\n",
       "      <th>CNS12</th>\n",
       "      <th>CNS13</th>\n",
       "      <th>CNS14</th>\n",
       "      <th>CNS15</th>\n",
       "      <th>CNS16</th>\n",
       "      <th>CNS17</th>\n",
       "      <th>CNS18</th>\n",
       "      <th>CNS19</th>\n",
       "      <th>CNS20</th>\n",
       "      <th>CR01</th>\n",
       "      <th>CR02</th>\n",
       "      <th>CR03</th>\n",
       "      <th>CR04</th>\n",
       "      <th>CR05</th>\n",
       "      <th>CR07</th>\n",
       "      <th>CT01</th>\n",
       "      <th>CT02</th>\n",
       "      <th>CD01</th>\n",
       "      <th>CD02</th>\n",
       "      <th>CD03</th>\n",
       "      <th>CD04</th>\n",
       "      <th>CS01</th>\n",
       "      <th>CS02</th>\n",
       "      <th>CFA01</th>\n",
       "      <th>CFA02</th>\n",
       "      <th>CFA03</th>\n",
       "      <th>CFA04</th>\n",
       "      <th>CFA05</th>\n",
       "      <th>CFS01</th>\n",
       "      <th>CFS02</th>\n",
       "      <th>CFS03</th>\n",
       "      <th>CFS04</th>\n",
       "      <th>CFS05</th>\n",
       "    </tr>\n",
       "  </thead>\n",
       "  <tbody>\n",
       "    <tr>\n",
       "      <th></th>\n",
       "      <td>&lt;int64&gt;</td>\n",
       "      <td>&lt;int64&gt;</td>\n",
       "      <td>&lt;int64&gt;</td>\n",
       "      <td>&lt;int64&gt;</td>\n",
       "      <td>&lt;int64&gt;</td>\n",
       "      <td>&lt;int64&gt;</td>\n",
       "      <td>&lt;int64&gt;</td>\n",
       "      <td>&lt;int64&gt;</td>\n",
       "      <td>&lt;int64&gt;</td>\n",
       "      <td>&lt;int64&gt;</td>\n",
       "      <td>&lt;int64&gt;</td>\n",
       "      <td>&lt;int64&gt;</td>\n",
       "      <td>&lt;int64&gt;</td>\n",
       "      <td>&lt;int64&gt;</td>\n",
       "      <td>&lt;int64&gt;</td>\n",
       "      <td>&lt;int64&gt;</td>\n",
       "      <td>&lt;int64&gt;</td>\n",
       "      <td>&lt;int64&gt;</td>\n",
       "      <td>&lt;int64&gt;</td>\n",
       "      <td>&lt;int64&gt;</td>\n",
       "      <td>&lt;int64&gt;</td>\n",
       "      <td>&lt;int64&gt;</td>\n",
       "      <td>&lt;int64&gt;</td>\n",
       "      <td>&lt;int64&gt;</td>\n",
       "      <td>&lt;int64&gt;</td>\n",
       "      <td>&lt;int64&gt;</td>\n",
       "      <td>&lt;int64&gt;</td>\n",
       "      <td>&lt;int64&gt;</td>\n",
       "      <td>&lt;int64&gt;</td>\n",
       "      <td>&lt;int64&gt;</td>\n",
       "      <td>&lt;int64&gt;</td>\n",
       "      <td>&lt;int64&gt;</td>\n",
       "      <td>&lt;int64&gt;</td>\n",
       "      <td>&lt;int64&gt;</td>\n",
       "      <td>&lt;int64&gt;</td>\n",
       "      <td>&lt;int64&gt;</td>\n",
       "      <td>&lt;int64&gt;</td>\n",
       "      <td>&lt;int64&gt;</td>\n",
       "      <td>&lt;int64&gt;</td>\n",
       "      <td>&lt;int64&gt;</td>\n",
       "      <td>&lt;int64&gt;</td>\n",
       "      <td>&lt;int64&gt;</td>\n",
       "      <td>&lt;int64&gt;</td>\n",
       "      <td>&lt;int64&gt;</td>\n",
       "      <td>&lt;int64&gt;</td>\n",
       "      <td>&lt;int64&gt;</td>\n",
       "      <td>&lt;int64&gt;</td>\n",
       "      <td>&lt;int64&gt;</td>\n",
       "      <td>&lt;int64&gt;</td>\n",
       "      <td>&lt;int64&gt;</td>\n",
       "      <td>&lt;int64&gt;</td>\n",
       "      <td>&lt;int64&gt;</td>\n",
       "    </tr>\n",
       "    <tr>\n",
       "      <th>0</th>\n",
       "      <td>180010301001</td>\n",
       "      <td>102</td>\n",
       "      <td>17</td>\n",
       "      <td>40</td>\n",
       "      <td>45</td>\n",
       "      <td>15</td>\n",
       "      <td>48</td>\n",
       "      <td>39</td>\n",
       "      <td>1</td>\n",
       "      <td>0</td>\n",
       "      <td>0</td>\n",
       "      <td>26</td>\n",
       "      <td>62</td>\n",
       "      <td>0</td>\n",
       "      <td>0</td>\n",
       "      <td>6</td>\n",
       "      <td>0</td>\n",
       "      <td>0</td>\n",
       "      <td>0</td>\n",
       "      <td>4</td>\n",
       "      <td>0</td>\n",
       "      <td>0</td>\n",
       "      <td>0</td>\n",
       "      <td>0</td>\n",
       "      <td>0</td>\n",
       "      <td>0</td>\n",
       "      <td>3</td>\n",
       "      <td>0</td>\n",
       "      <td>99</td>\n",
       "      <td>2</td>\n",
       "      <td>1</td>\n",
       "      <td>0</td>\n",
       "      <td>0</td>\n",
       "      <td>0</td>\n",
       "      <td>96</td>\n",
       "      <td>6</td>\n",
       "      <td>11</td>\n",
       "      <td>36</td>\n",
       "      <td>28</td>\n",
       "      <td>10</td>\n",
       "      <td>76</td>\n",
       "      <td>26</td>\n",
       "      <td>0</td>\n",
       "      <td>0</td>\n",
       "      <td>0</td>\n",
       "      <td>0</td>\n",
       "      <td>0</td>\n",
       "      <td>0</td>\n",
       "      <td>0</td>\n",
       "      <td>0</td>\n",
       "      <td>0</td>\n",
       "      <td>0</td>\n",
       "    </tr>\n",
       "  </tbody>\n",
       "</table>\n",
       "</div>"
      ],
      "text/plain": [
       "      w_geocode     C000     CA01     CA02     CA03     CE01     CE02  \\\n",
       "        <int64>  <int64>  <int64>  <int64>  <int64>  <int64>  <int64>   \n",
       "0  180010301001      102       17       40       45       15       48   \n",
       "\n",
       "      CE03    CNS01    CNS02    CNS03    CNS04    CNS05    CNS06    CNS07  \\\n",
       "   <int64>  <int64>  <int64>  <int64>  <int64>  <int64>  <int64>  <int64>   \n",
       "0       39        1        0        0       26       62        0        0   \n",
       "\n",
       "     CNS08    CNS09    CNS10    CNS11    CNS12    CNS13    CNS14    CNS15  \\\n",
       "   <int64>  <int64>  <int64>  <int64>  <int64>  <int64>  <int64>  <int64>   \n",
       "0        6        0        0        0        4        0        0        0   \n",
       "\n",
       "     CNS16    CNS17    CNS18    CNS19    CNS20     CR01     CR02     CR03  \\\n",
       "   <int64>  <int64>  <int64>  <int64>  <int64>  <int64>  <int64>  <int64>   \n",
       "0        0        0        0        3        0       99        2        1   \n",
       "\n",
       "      CR04     CR05     CR07     CT01     CT02     CD01     CD02     CD03  \\\n",
       "   <int64>  <int64>  <int64>  <int64>  <int64>  <int64>  <int64>  <int64>   \n",
       "0        0        0        0       96        6       11       36       28   \n",
       "\n",
       "      CD04     CS01     CS02    CFA01    CFA02    CFA03    CFA04    CFA05  \\\n",
       "   <int64>  <int64>  <int64>  <int64>  <int64>  <int64>  <int64>  <int64>   \n",
       "0       10       76       26        0        0        0        0        0   \n",
       "\n",
       "     CFS01    CFS02    CFS03    CFS04    CFS05  \n",
       "   <int64>  <int64>  <int64>  <int64>  <int64>  \n",
       "0        0        0        0        0        0  "
      ]
     },
     "metadata": {},
     "output_type": "display_data"
    }
   ],
   "source": [
    "wac = pd.read_csv(glob(str(P.data) + '/lehd_lodes/wac/*')[0]).disp()"
   ]
  },
  {
   "cell_type": "code",
   "execution_count": 13,
   "id": "6cc6cb74-21e1-4049-8e0e-60e3090534d0",
   "metadata": {},
   "outputs": [
    {
     "name": "stdout",
     "output_type": "stream",
     "text": [
      "1,036,602 rows x 12 cols; Memory: 94.9 MiB\n"
     ]
    },
    {
     "data": {
      "text/html": [
       "<div>\n",
       "<style scoped>\n",
       "    .dataframe tbody tr th:only-of-type {\n",
       "        vertical-align: middle;\n",
       "    }\n",
       "\n",
       "    .dataframe tbody tr th {\n",
       "        vertical-align: top;\n",
       "    }\n",
       "\n",
       "    .dataframe thead th {\n",
       "        text-align: right;\n",
       "    }\n",
       "</style>\n",
       "<table border=\"1\" class=\"dataframe\">\n",
       "  <thead>\n",
       "    <tr style=\"text-align: right;\">\n",
       "      <th></th>\n",
       "      <th>h_geocode</th>\n",
       "      <th>w_geocode</th>\n",
       "      <th>S000</th>\n",
       "      <th>SA01</th>\n",
       "      <th>SA02</th>\n",
       "      <th>SA03</th>\n",
       "      <th>SE01</th>\n",
       "      <th>SE02</th>\n",
       "      <th>SE03</th>\n",
       "      <th>SI01</th>\n",
       "      <th>SI02</th>\n",
       "      <th>SI03</th>\n",
       "    </tr>\n",
       "  </thead>\n",
       "  <tbody>\n",
       "    <tr>\n",
       "      <th></th>\n",
       "      <td>&lt;int64&gt;</td>\n",
       "      <td>&lt;int64&gt;</td>\n",
       "      <td>&lt;int64&gt;</td>\n",
       "      <td>&lt;int64&gt;</td>\n",
       "      <td>&lt;int64&gt;</td>\n",
       "      <td>&lt;int64&gt;</td>\n",
       "      <td>&lt;int64&gt;</td>\n",
       "      <td>&lt;int64&gt;</td>\n",
       "      <td>&lt;int64&gt;</td>\n",
       "      <td>&lt;int64&gt;</td>\n",
       "      <td>&lt;int64&gt;</td>\n",
       "      <td>&lt;int64&gt;</td>\n",
       "    </tr>\n",
       "    <tr>\n",
       "      <th>0</th>\n",
       "      <td>180010301001</td>\n",
       "      <td>180010301001</td>\n",
       "      <td>5</td>\n",
       "      <td>0</td>\n",
       "      <td>1</td>\n",
       "      <td>4</td>\n",
       "      <td>1</td>\n",
       "      <td>4</td>\n",
       "      <td>0</td>\n",
       "      <td>3</td>\n",
       "      <td>1</td>\n",
       "      <td>1</td>\n",
       "    </tr>\n",
       "  </tbody>\n",
       "</table>\n",
       "</div>"
      ],
      "text/plain": [
       "      h_geocode     w_geocode     S000     SA01     SA02     SA03     SE01  \\\n",
       "        <int64>       <int64>  <int64>  <int64>  <int64>  <int64>  <int64>   \n",
       "0  180010301001  180010301001        5        0        1        4        1   \n",
       "\n",
       "      SE02     SE03     SI01     SI02     SI03  \n",
       "   <int64>  <int64>  <int64>  <int64>  <int64>  \n",
       "0        4        0        3        1        1  "
      ]
     },
     "metadata": {},
     "output_type": "display_data"
    }
   ],
   "source": [
    "od = pd.read_csv(glob(str(P.data) + '/lehd_lodes/od/*')[0]).disp()"
   ]
  },
  {
   "cell_type": "code",
   "execution_count": 14,
   "id": "95cda6fb-3bbf-4c42-8207-3ea5c922d84c",
   "metadata": {},
   "outputs": [
    {
     "name": "stderr",
     "output_type": "stream",
     "text": [
      "/tmp/ipykernel_266193/3682522803.py:1: DtypeWarning: Columns (28,29,37) have mixed types. Specify dtype option on import or set low_memory=False.\n",
      "  geom = pd.read_csv(P.data / 'lehd_lodes/in_xwalk.csv.gz').disp()\n"
     ]
    },
    {
     "name": "stdout",
     "output_type": "stream",
     "text": [
      "267,071 rows x 43 cols; Memory: 330.3 MiB\n"
     ]
    },
    {
     "data": {
      "text/html": [
       "<div>\n",
       "<style scoped>\n",
       "    .dataframe tbody tr th:only-of-type {\n",
       "        vertical-align: middle;\n",
       "    }\n",
       "\n",
       "    .dataframe tbody tr th {\n",
       "        vertical-align: top;\n",
       "    }\n",
       "\n",
       "    .dataframe thead th {\n",
       "        text-align: right;\n",
       "    }\n",
       "</style>\n",
       "<table border=\"1\" class=\"dataframe\">\n",
       "  <thead>\n",
       "    <tr style=\"text-align: right;\">\n",
       "      <th></th>\n",
       "      <th>tabblk2010</th>\n",
       "      <th>st</th>\n",
       "      <th>stusps</th>\n",
       "      <th>stname</th>\n",
       "      <th>cty</th>\n",
       "      <th>ctyname</th>\n",
       "      <th>trct</th>\n",
       "      <th>trctname</th>\n",
       "      <th>bgrp</th>\n",
       "      <th>bgrpname</th>\n",
       "      <th>cbsa</th>\n",
       "      <th>cbsaname</th>\n",
       "      <th>zcta</th>\n",
       "      <th>zctaname</th>\n",
       "      <th>stplc</th>\n",
       "      <th>stplcname</th>\n",
       "      <th>ctycsub</th>\n",
       "      <th>ctycsubname</th>\n",
       "      <th>stcd116</th>\n",
       "      <th>stcd116name</th>\n",
       "      <th>stsldl</th>\n",
       "      <th>stsldlname</th>\n",
       "      <th>stsldu</th>\n",
       "      <th>stslduname</th>\n",
       "      <th>stschool</th>\n",
       "      <th>stschoolname</th>\n",
       "      <th>stsecon</th>\n",
       "      <th>stseconname</th>\n",
       "      <th>trib</th>\n",
       "      <th>tribname</th>\n",
       "      <th>tsub</th>\n",
       "      <th>tsubname</th>\n",
       "      <th>stanrc</th>\n",
       "      <th>stanrcname</th>\n",
       "      <th>necta</th>\n",
       "      <th>nectaname</th>\n",
       "      <th>mil</th>\n",
       "      <th>milname</th>\n",
       "      <th>stwib</th>\n",
       "      <th>stwibname</th>\n",
       "      <th>blklatdd</th>\n",
       "      <th>blklondd</th>\n",
       "      <th>createdate</th>\n",
       "    </tr>\n",
       "  </thead>\n",
       "  <tbody>\n",
       "    <tr>\n",
       "      <th></th>\n",
       "      <td>&lt;int64&gt;</td>\n",
       "      <td>&lt;int64&gt;</td>\n",
       "      <td>&lt;object&gt;</td>\n",
       "      <td>&lt;object&gt;</td>\n",
       "      <td>&lt;int64&gt;</td>\n",
       "      <td>&lt;object&gt;</td>\n",
       "      <td>&lt;int64&gt;</td>\n",
       "      <td>&lt;object&gt;</td>\n",
       "      <td>&lt;int64&gt;</td>\n",
       "      <td>&lt;object&gt;</td>\n",
       "      <td>&lt;int64&gt;</td>\n",
       "      <td>&lt;object&gt;</td>\n",
       "      <td>&lt;int64&gt;</td>\n",
       "      <td>&lt;float64&gt;</td>\n",
       "      <td>&lt;int64&gt;</td>\n",
       "      <td>&lt;object&gt;</td>\n",
       "      <td>&lt;int64&gt;</td>\n",
       "      <td>&lt;object&gt;</td>\n",
       "      <td>&lt;int64&gt;</td>\n",
       "      <td>&lt;object&gt;</td>\n",
       "      <td>&lt;int64&gt;</td>\n",
       "      <td>&lt;object&gt;</td>\n",
       "      <td>&lt;int64&gt;</td>\n",
       "      <td>&lt;object&gt;</td>\n",
       "      <td>&lt;int64&gt;</td>\n",
       "      <td>&lt;object&gt;</td>\n",
       "      <td>&lt;int64&gt;</td>\n",
       "      <td>&lt;float64&gt;</td>\n",
       "      <td>&lt;object&gt;</td>\n",
       "      <td>&lt;object&gt;</td>\n",
       "      <td>&lt;int64&gt;</td>\n",
       "      <td>&lt;float64&gt;</td>\n",
       "      <td>&lt;int64&gt;</td>\n",
       "      <td>&lt;float64&gt;</td>\n",
       "      <td>&lt;int64&gt;</td>\n",
       "      <td>&lt;float64&gt;</td>\n",
       "      <td>&lt;float64&gt;</td>\n",
       "      <td>&lt;object&gt;</td>\n",
       "      <td>&lt;int64&gt;</td>\n",
       "      <td>&lt;object&gt;</td>\n",
       "      <td>&lt;float64&gt;</td>\n",
       "      <td>&lt;float64&gt;</td>\n",
       "      <td>&lt;int64&gt;</td>\n",
       "    </tr>\n",
       "    <tr>\n",
       "      <th>0</th>\n",
       "      <td>180010301001049</td>\n",
       "      <td>18</td>\n",
       "      <td>IN</td>\n",
       "      <td>Indiana</td>\n",
       "      <td>18001</td>\n",
       "      <td>Adams County, IN</td>\n",
       "      <td>18001030100</td>\n",
       "      <td>301 (Adams, IN)</td>\n",
       "      <td>180010301001</td>\n",
       "      <td>1 (Tract 301, Adams, IN)</td>\n",
       "      <td>19540</td>\n",
       "      <td>Decatur, IN</td>\n",
       "      <td>46733</td>\n",
       "      <td>46733.0</td>\n",
       "      <td>9999999</td>\n",
       "      <td>NaN</td>\n",
       "      <td>1800161884</td>\n",
       "      <td>Preble township (Adams, IN)</td>\n",
       "      <td>1803</td>\n",
       "      <td>IN-03</td>\n",
       "      <td>18079</td>\n",
       "      <td>State House District 79, IN</td>\n",
       "      <td>18019</td>\n",
       "      <td>State Senate District 19, IN</td>\n",
       "      <td>1807680</td>\n",
       "      <td>North Adams Community Schools, IN</td>\n",
       "      <td>9999999</td>\n",
       "      <td>NaN</td>\n",
       "      <td>99999</td>\n",
       "      <td>NaN</td>\n",
       "      <td>9999999</td>\n",
       "      <td>NaN</td>\n",
       "      <td>9999999</td>\n",
       "      <td>NaN</td>\n",
       "      <td>99999</td>\n",
       "      <td>NaN</td>\n",
       "      <td>NaN</td>\n",
       "      <td>NaN</td>\n",
       "      <td>18180003</td>\n",
       "      <td>Economic Growth Region 3</td>\n",
       "      <td>40.867454</td>\n",
       "      <td>-85.0133</td>\n",
       "      <td>20211018</td>\n",
       "    </tr>\n",
       "  </tbody>\n",
       "</table>\n",
       "</div>"
      ],
      "text/plain": [
       "        tabblk2010       st    stusps    stname      cty           ctyname  \\\n",
       "           <int64>  <int64>  <object>  <object>  <int64>          <object>   \n",
       "0  180010301001049       18        IN   Indiana    18001  Adams County, IN   \n",
       "\n",
       "          trct         trctname          bgrp                  bgrpname  \\\n",
       "       <int64>         <object>       <int64>                  <object>   \n",
       "0  18001030100  301 (Adams, IN)  180010301001  1 (Tract 301, Adams, IN)   \n",
       "\n",
       "      cbsa     cbsaname     zcta   zctaname    stplc stplcname     ctycsub  \\\n",
       "   <int64>     <object>  <int64>  <float64>  <int64>  <object>     <int64>   \n",
       "0    19540  Decatur, IN    46733    46733.0  9999999       NaN  1800161884   \n",
       "\n",
       "                   ctycsubname  stcd116 stcd116name   stsldl  \\\n",
       "                      <object>  <int64>    <object>  <int64>   \n",
       "0  Preble township (Adams, IN)     1803       IN-03    18079   \n",
       "\n",
       "                    stsldlname   stsldu                    stslduname  \\\n",
       "                      <object>  <int64>                      <object>   \n",
       "0  State House District 79, IN    18019  State Senate District 19, IN   \n",
       "\n",
       "  stschool                       stschoolname  stsecon stseconname      trib  \\\n",
       "   <int64>                           <object>  <int64>   <float64>  <object>   \n",
       "0  1807680  North Adams Community Schools, IN  9999999         NaN     99999   \n",
       "\n",
       "   tribname     tsub   tsubname   stanrc stanrcname    necta  nectaname  \\\n",
       "   <object>  <int64>  <float64>  <int64>  <float64>  <int64>  <float64>   \n",
       "0       NaN  9999999        NaN  9999999        NaN    99999        NaN   \n",
       "\n",
       "         mil   milname     stwib                 stwibname   blklatdd  \\\n",
       "   <float64>  <object>   <int64>                  <object>  <float64>   \n",
       "0        NaN       NaN  18180003  Economic Growth Region 3  40.867454   \n",
       "\n",
       "    blklondd createdate  \n",
       "   <float64>    <int64>  \n",
       "0   -85.0133   20211018  "
      ]
     },
     "metadata": {},
     "output_type": "display_data"
    }
   ],
   "source": [
    "geom = pd.read_csv(P.data / 'lehd_lodes/in_xwalk.csv.gz').disp()"
   ]
  },
  {
   "cell_type": "markdown",
   "id": "1d582062-61c2-45f3-af18-400733dc5382",
   "metadata": {
    "tags": []
   },
   "source": [
    "# OSM"
   ]
  },
  {
   "cell_type": "markdown",
   "id": "2c3c8d3a-eaa7-41d0-bb7c-99740f4917f3",
   "metadata": {},
   "source": [
    "## Download from Geofabrik"
   ]
  },
  {
   "cell_type": "raw",
   "id": "4a395b7b-2edf-4f59-adb8-0a0bed0d4bb8",
   "metadata": {},
   "source": [
    "%%time\n",
    "# t=16s\n",
    "!wget https://download.geofabrik.de/north-america/us/indiana-latest-free.shp.zip -P ../data"
   ]
  },
  {
   "cell_type": "raw",
   "id": "d55702fc-fc3a-4fff-b4aa-5d06e4cf5d2d",
   "metadata": {},
   "source": [
    "%%time\n",
    "# t=8s\n",
    "!mkdir -p ../data/osm/raw\n",
    "!unzip ../data/indiana-latest-free.shp.zip -d ../data/osm/raw\n",
    "!rm ../data/indiana-latest-free.shp.zip"
   ]
  },
  {
   "cell_type": "markdown",
   "id": "2cf9864e-7dee-4e4d-938b-fba22c2cd55b",
   "metadata": {},
   "source": [
    "## Clean database\n",
    "- Convert layers to standard geographical CRS (EPSG 4326)\n",
    "- Extract info about each layer's geometry type and \n",
    "- Export as .gpkg files"
   ]
  },
  {
   "cell_type": "code",
   "execution_count": 3,
   "id": "11bfff2e-9c7f-47c0-9494-ac59a34f3aa8",
   "metadata": {},
   "outputs": [],
   "source": [
    "osm_layers = sorted(['natural','landuse','pofw','pois','railways','trafic',\n",
    "                     'transport','water','waterways','buildings','roads'])"
   ]
  },
  {
   "cell_type": "code",
   "execution_count": 4,
   "id": "af47a61c-4599-4bff-83d6-6c0039dcebd2",
   "metadata": {},
   "outputs": [],
   "source": [
    "def clean_layers(layers=osm_layers, inpath=P.data / 'osm/raw',\n",
    "                 outpath=P.data / 'osm'):\n",
    "    layers = tqdm(layers)\n",
    "    get_path = lambda x: inpath / f'gis_osm_{x}_free_1.shp'\n",
    "    for layer in layers:\n",
    "        layers.set_description(layer)\n",
    "        df = []\n",
    "        if get_path(layer).exists():\n",
    "            df.append(gpd.read_file(get_path(layer)))\n",
    "        if get_path(layer + '_a').exists():\n",
    "            df.append(gpd.read_file(get_path(layer + '_a')))\n",
    "        df = pd.concat(df).to_crs(CRS_DEG).rename(columns=str.lower)\n",
    "        info = {'geometry': df.geometry.geom_type.value_counts().to_dict()}\n",
    "        if 'fclass' in df.columns:\n",
    "            info['fclass'] = df['fclass'].value_counts().sort_index().to_dict()\n",
    "        if 'type' in df.columns:\n",
    "            info['fclass'] = df['type'].value_counts().sort_index().to_dict()\n",
    "        P.params.set({'data': {'osm': {layer: info}}})\n",
    "        df.to_file(U.mkdir(outpath) / f'{layer}.gpkg')\n",
    "    \n",
    "# %time clean_layers()  # t=6:37"
   ]
  },
  {
   "cell_type": "code",
   "execution_count": null,
   "id": "4bd4cd0e-58e1-4d07-9351-69852685cbe3",
   "metadata": {},
   "outputs": [],
   "source": []
  }
 ],
 "metadata": {
  "kernelspec": {
   "display_name": "Python 3 (ipykernel)",
   "language": "python",
   "name": "python3"
  },
  "language_info": {
   "codemirror_mode": {
    "name": "ipython",
    "version": 3
   },
   "file_extension": ".py",
   "mimetype": "text/x-python",
   "name": "python",
   "nbconvert_exporter": "python",
   "pygments_lexer": "ipython3",
   "version": "3.9.7"
  },
  "toc-autonumbering": true
 },
 "nbformat": 4,
 "nbformat_minor": 5
}
