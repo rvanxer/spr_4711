{
 "cells": [
  {
   "cell_type": "markdown",
   "id": "45eaa0ac-e3a3-4072-8dd9-c7abc31d3d76",
   "metadata": {},
   "source": [
    "# Setup"
   ]
  },
  {
   "cell_type": "code",
   "execution_count": 1,
   "id": "f900d4f7-b206-430a-9196-39af62f7247b",
   "metadata": {
    "tags": []
   },
   "outputs": [
    {
     "name": "stdout",
     "output_type": "stream",
     "text": [
      "/home/umni2/a/umnilab/users/verma99/mk/spr_4711/code\n"
     ]
    }
   ],
   "source": [
    "!pwd"
   ]
  },
  {
   "cell_type": "code",
   "execution_count": 2,
   "id": "800e40e0-c716-4e1b-8d0c-878d421fc327",
   "metadata": {
    "tags": []
   },
   "outputs": [],
   "source": [
    "from mobilkit.umni import *\n",
    "P = Project('..')"
   ]
  },
  {
   "cell_type": "markdown",
   "id": "63d54636-97f3-42c4-9371-d8f02f224867",
   "metadata": {},
   "source": [
    "# Download data"
   ]
  },
  {
   "cell_type": "code",
   "execution_count": 3,
   "id": "c3afe050-d361-40df-a439-c0c9a30ac91a",
   "metadata": {
    "tags": []
   },
   "outputs": [],
   "source": [
    "import urllib.request"
   ]
  },
  {
   "cell_type": "markdown",
   "id": "6a252dca-6fe5-4f3b-a20a-5826daa26748",
   "metadata": {},
   "source": [
    "Download links taken from https://gaftp.epa.gov/EJSCREEN/2022 (directed from the [Download page](https://www.epa.gov/ejscreen/download-ejscreen-data))."
   ]
  },
  {
   "cell_type": "code",
   "execution_count": 4,
   "id": "22dec712-fa52-4c88-b2d0-a1905160d9b8",
   "metadata": {
    "tags": []
   },
   "outputs": [],
   "source": [
    "links = [\n",
    "    '2022_EJSCREEN_BG_Columns.xlsx',\n",
    "    '2022_EJSCREEN_Supplemental_BG_Columns.xlsx',\n",
    "    '2022_EJSCREEN_Supplemental_Tract_Columns.xlsx',\n",
    "    '2022_EJSCREEN_Tract_Columns.xlsx',\n",
    "    'EJSCREEN_2022_StatePct_with_AS_CNMI_GU_VI.csv.zip',\n",
    "    'EJSCREEN_2022_StatePct_with_AS_CNMI_GU_VI.gdb.zip',\n",
    "    'EJSCREEN_2022_StatePct_with_AS_CNMI_GU_VI_Tracts.csv.zip',\n",
    "    'EJSCREEN_2022_StatePct_with_AS_CNMI_GU_VI_Tracts.gdb.zip',\n",
    "    'EJSCREEN_2022_Supplemental_StatePct_with_AS_CNMI_GU_VI.csv.zip',\n",
    "    'EJSCREEN_2022_Supplemental_StatePct_with_AS_CNMI_GU_VI.gdb.zip',\n",
    "    'EJSCREEN_2022_Supplemental_StatePct_with_AS_CNMI_GU_VI_Tracts.csv.zip',\n",
    "    'EJSCREEN_2022_Supplemental_StatePct_with_AS_CNMI_GU_VI_Tracts.gdb.zip',\n",
    "    'EJSCREEN_2022_Supplemental_with_AS_CNMI_GU_VI.csv.zip',\n",
    "    'EJSCREEN_2022_Supplemental_with_AS_CNMI_GU_VI.gdb.zip',\n",
    "    'EJSCREEN_2022_Supplemental_with_AS_CNMI_GU_VI_Tracts.csv.zip',\n",
    "    'EJSCREEN_2022_Supplemental_with_AS_CNMI_GU_VI_Tracts.gdb.zip',\n",
    "    'EJSCREEN_2022_with_AS_CNMI_GU_VI.csv.zip',\n",
    "    'EJSCREEN_2022_with_AS_CNMI_GU_VI.gdb.zip',\n",
    "    'EJSCREEN_2022_with_AS_CNMI_GU_VI_Tracts.csv.zip',\n",
    "    'EJSCREEN_2022_with_AS_CNMI_GU_VI_Tracts.gdb.zip',\n",
    "]"
   ]
  },
  {
   "cell_type": "code",
   "execution_count": 5,
   "id": "8eb2cf19-1adb-4e96-9dac-a458dac7dfe1",
   "metadata": {
    "tags": []
   },
   "outputs": [],
   "source": [
    "def download_epa_ej(year, fname, root='https://gaftp.epa.gov/EJSCREEN'):\n",
    "    url = f'{root}/{year}/{fname}'\n",
    "    fpath = U.mkfile(P.data / f'ejscreen/{fname}')\n",
    "    urllib.request.urlretrieve(url, fpath)\n",
    "\n",
    "# %time for link in tqdm(links): download_epa_ej(2022, link) # t=3:25"
   ]
  },
  {
   "attachments": {},
   "cell_type": "markdown",
   "id": "ceec3095",
   "metadata": {},
   "source": [
    "# Clean data"
   ]
  },
  {
   "cell_type": "code",
   "execution_count": 6,
   "id": "bbca2b57",
   "metadata": {},
   "outputs": [],
   "source": [
    "cols = Pdf(columns=['ej_or_ses', 'base_or_derived', 'value_or_pctile', 'variable', 'description'], data=[\n",
    "    ('SES', 'Base', 'Value', 'ACSTOTPOP', 'Total population'),\n",
    "    ('SES', 'Base', 'Value', 'ACSIPOVBAS', 'Population for whom poverty status is determined'),\n",
    "    ('SES', 'Base', 'Value', 'ACSEDUCBAS', 'Population 25 years and over'),\n",
    "    ('SES', 'Base', 'Value', 'ACSTOTHH', 'Households (for limited English speaking)'),\n",
    "    ('SES', 'Base', 'Value', 'PRE1960', 'Housing units built before 1960'),\n",
    "    ('SES', 'Base', 'Value', 'ACSUNEMPBAS', 'Unemployment base--persons in civilian labor force (unemployment rate)'),\n",
    "    ('SES', 'Base', 'Value', 'MINORPOP', 'People of color'),\n",
    "    ('SES', 'Base', 'Value', 'LOWINCOME', 'Low income'),\n",
    "    ('SES', 'Base', 'Value', 'UNEMPLOYED', 'Unemployed in civilian labor force'),\n",
    "    ('SES', 'Base', 'Value', 'LINGISO', 'Limited English speaking households'),\n",
    "    ('SES', 'Base', 'Value', 'LESSHS', 'Less than high school education'),\n",
    "    ('SES', 'Base', 'Value', 'UNDER5', 'Under age 5'),\n",
    "    ('SES', 'Base', 'Value', 'OVER64', 'Over age 64'),\n",
    "    ('SES', 'Derived', 'Value', 'MINORPCT', '% people of color'),\n",
    "    ('SES', 'Derived', 'Value', 'LOWINCPCT', '% low income'),\n",
    "    ('SES', 'Derived', 'Value', 'UNEMPPCT', '% unemployed'),\n",
    "    ('SES', 'Derived', 'Value', 'LINGISOPCT', '% Limited English speaking households'),\n",
    "    ('SES', 'Derived', 'Value', 'LESSHSPCT', '% less than high school education'),\n",
    "    ('SES', 'Derived', 'Value', 'UNDER5PCT', '% under age 5'),\n",
    "    ('EJ', 'Base', 'Value', 'PM25', 'Particulate Matter 2.5'),\n",
    "    ('EJ', 'Base', 'Value', 'OZONE', 'Ozone'),\n",
    "    ('EJ', 'Base', 'Value', 'DSLPM', 'Diesel particulate matter'),\n",
    "    ('EJ', 'Base', 'Value', 'CANCER', 'Air toxics cancer risk'),\n",
    "    ('EJ', 'Base', 'Value', 'RESP', 'Air toxics respiratory HI'),\n",
    "    ('EJ', 'Base', 'Value', 'PTRAF', 'Traffic proximity'),\n",
    "    ('EJ', 'Base', 'Value', 'PRE1960PCT', 'Lead Paint'),\n",
    "    ('EJ', 'Base', 'Value', 'PNPL', 'Superfund proximity'),\n",
    "    ('EJ', 'Base', 'Value', 'PRMP', 'RMP facility proximity'),\n",
    "    ('EJ', 'Base', 'Value', 'PTSDF', 'Hazardous waste proximity'),\n",
    "    ('EJ', 'Base', 'Value', 'UST', 'Underground storage tanks'),\n",
    "    ('EJ', 'Base', 'Value', 'PWDIS', 'Wastewater discharge'),\n",
    "    ('EJ', 'Base', 'Value', 'EXCEED_COUNT_80', 'Number of EJ Indexes exceeding 80 percentile'),\n",
    "    ('EJ', 'Base', 'Value', 'NPL_CNT', 'Number of Superfund facilities in the block group'),\n",
    "    ('EJ', 'Base', 'Value', 'TSDF_CNT', 'Number of Hazardous waste facilities in the block group'),\n",
    "    ('EJ', 'Derived', 'Value', 'D_PM25_2', 'EJ Index for Particulate Matter 2.5'),\n",
    "    ('EJ', 'Derived', 'Value', 'D_OZONE_2', 'EJ Index for Ozone'),\n",
    "    ('EJ', 'Derived', 'Value', 'D_DSLPM_2', 'EJ Index for Diesel particulate matter'),\n",
    "    ('EJ', 'Derived', 'Value', 'D_CANCR_2', 'EJ Index for Air toxics cancer risk'),\n",
    "    ('EJ', 'Derived', 'Value', 'D_RESP_2', 'EJ Index for Air toxics respiratory HI'),\n",
    "    ('EJ', 'Derived', 'Value', 'D_PTRAF_2', 'EJ Index for Traffic proximity'),\n",
    "    ('EJ', 'Derived', 'Value', 'D_LDPNT_2', 'EJ Index for Lead paint'),\n",
    "    ('EJ', 'Derived', 'Value', 'D_PNPL_2', 'EJ Index for Superfund Proximity'),\n",
    "    ('EJ', 'Derived', 'Value', 'D_PRMP_2', 'EJ Index for RMP Facility Proximity'),\n",
    "    ('EJ', 'Derived', 'Value', 'D_PTSDF_2', 'EJ Index for Hazardous waste proximity'),\n",
    "    ('EJ', 'Derived', 'Value', 'D_UST_2', 'EJ Index for Underground storage tanks'),\n",
    "    ('EJ', 'Derived', 'Value', 'D_PWDIS_2', 'EJ Index for Wastewater discharge'),\n",
    "    ('SES', 'Derived', 'Percentile', 'P_VULEOPCT', 'Demographic Index'),\n",
    "    ('SES', 'Derived', 'Percentile', 'P_MINORPCT', '% people of color'),\n",
    "    ('SES', 'Derived', 'Percentile', 'P_LWINCPCT', '% low income'),\n",
    "    ('SES', 'Derived', 'Percentile', 'P_UNEMPPCT', 'Unemployed'),\n",
    "    ('SES', 'Derived', 'Percentile', 'P_LNGISPCT', '% limited English speaking'),\n",
    "    ('SES', 'Derived', 'Percentile', 'P_LESHSPCT', '% less than high school education'),\n",
    "    ('SES', 'Derived', 'Percentile', 'P_UNDR5PCT', '% under age 5'),\n",
    "    ('SES', 'Derived', 'Percentile', 'P_OVR64PCT', '% over age 64'),\n",
    "    ('EJ', 'Base', 'Percentile', 'P_PM25', 'Particulate Matter 2.5'),\n",
    "    ('EJ', 'Base', 'Percentile', 'P_OZONE', 'Ozone'),\n",
    "    ('EJ', 'Base', 'Percentile', 'P_DSLPM', ' Diesel particulate matter'),\n",
    "    ('EJ', 'Base', 'Percentile', 'P_CANCR', ' Air toxics cancer risk'),\n",
    "    ('EJ', 'Base', 'Percentile', 'P_RESP', ' Air toxics respiratory HI'),\n",
    "    ('EJ', 'Base', 'Percentile', 'P_PTRAF', 'Traffic proximity'),\n",
    "    ('EJ', 'Base', 'Percentile', 'P_LDPNT', 'Lead paint'),\n",
    "    ('EJ', 'Base', 'Percentile', 'P_PNPL', 'Superfund proximity'),\n",
    "    ('EJ', 'Base', 'Percentile', 'P_PRMP', 'RMP facility proximity'),\n",
    "    ('EJ', 'Base', 'Percentile', 'P_PTSDF', 'Hazardous waste proximity'),\n",
    "    ('EJ', 'Base', 'Percentile', 'P_UST', 'Underground storage tanks'),\n",
    "    ('EJ', 'Base', 'Percentile', 'P_PWDIS', 'Wastewater discharge'),\n",
    "    ('EJ', 'Derived', 'Percentile', 'P_PM25_D2', 'EJ Index for Particulate Matter 2.5'),\n",
    "    ('EJ', 'Derived', 'Percentile', 'P_OZONE_D2', 'EJ Index for Ozone'),\n",
    "    ('EJ', 'Derived', 'Percentile', 'P_DSLPM_D2', 'EJ Index for  Diesel particulate matter'),\n",
    "    ('EJ', 'Derived', 'Percentile', 'P_CANCR_D2', 'EJ Index for  Air toxics cancer risk'),\n",
    "    ('EJ', 'Derived', 'Percentile', 'P_RESP_D2', 'EJ Index for Air toxics respiratory HI'),\n",
    "    ('EJ', 'Derived', 'Percentile', 'P_PTRAF_D2', 'EJ Index for Traffic proximity'),\n",
    "    ('EJ', 'Derived', 'Percentile', 'P_LDPNT_D2', 'EJ Index for Lead paint'),\n",
    "    ('EJ', 'Derived', 'Percentile', 'P_PNPL_D2', 'EJ Index for Superfund proximity'),\n",
    "    ('EJ', 'Derived', 'Percentile', 'P_PRMP_D2', 'EJ Index for RMP Facility Proximity'),\n",
    "    ('EJ', 'Derived', 'Percentile', 'P_PTSDF_D2', 'EJ Index for Hazardous waste proximity'),\n",
    "    ('EJ', 'Derived', 'Percentile', 'P_UST_D2', 'EJ Index for Underground storage tanks'),\n",
    "    ('EJ', 'Derived', 'Percentile', 'P_PWDIS_D2', 'EJ Index for Wastewater discharge'),\n",
    "])"
   ]
  },
  {
   "cell_type": "code",
   "execution_count": 7,
   "id": "eb16ceb1",
   "metadata": {},
   "outputs": [
    {
     "name": "stdout",
     "output_type": "stream",
     "text": [
      "544,908 rows x 8 cols; Memory: 9.0 MiB\n"
     ]
    },
    {
     "data": {
      "text/html": [
       "<div>\n",
       "<style scoped>\n",
       "    .dataframe tbody tr th:only-of-type {\n",
       "        vertical-align: middle;\n",
       "    }\n",
       "\n",
       "    .dataframe tbody tr th {\n",
       "        vertical-align: top;\n",
       "    }\n",
       "\n",
       "    .dataframe thead th {\n",
       "        text-align: right;\n",
       "    }\n",
       "</style>\n",
       "<table border=\"1\" class=\"dataframe\">\n",
       "  <thead>\n",
       "    <tr style=\"text-align: right;\">\n",
       "      <th></th>\n",
       "      <th>scale</th>\n",
       "      <th>ej_or_ses</th>\n",
       "      <th>base_or_derived</th>\n",
       "      <th>value_or_pctile</th>\n",
       "      <th>variable</th>\n",
       "      <th>description</th>\n",
       "      <th>geoid</th>\n",
       "      <th>value</th>\n",
       "    </tr>\n",
       "  </thead>\n",
       "  <tbody>\n",
       "    <tr>\n",
       "      <th></th>\n",
       "      <td>&lt;category&gt;</td>\n",
       "      <td>&lt;category&gt;</td>\n",
       "      <td>&lt;category&gt;</td>\n",
       "      <td>&lt;category&gt;</td>\n",
       "      <td>&lt;category&gt;</td>\n",
       "      <td>&lt;category&gt;</td>\n",
       "      <td>&lt;category&gt;</td>\n",
       "      <td>&lt;float64&gt;</td>\n",
       "    </tr>\n",
       "    <tr>\n",
       "      <th>0</th>\n",
       "      <td>Tract</td>\n",
       "      <td>SES</td>\n",
       "      <td>Base</td>\n",
       "      <td>Value</td>\n",
       "      <td>ACSTOTPOP</td>\n",
       "      <td>Total population</td>\n",
       "      <td>18001030100</td>\n",
       "      <td>4975.0</td>\n",
       "    </tr>\n",
       "  </tbody>\n",
       "</table>\n",
       "</div>"
      ],
      "text/plain": [
       "        scale   ej_or_ses base_or_derived value_or_pctile    variable  \\\n",
       "   <category>  <category>      <category>      <category>  <category>   \n",
       "0       Tract         SES            Base           Value   ACSTOTPOP   \n",
       "\n",
       "        description        geoid      value  \n",
       "         <category>   <category>  <float64>  \n",
       "0  Total population  18001030100     4975.0  "
      ]
     },
     "metadata": {},
     "output_type": "display_data"
    },
    {
     "name": "stdout",
     "output_type": "stream",
     "text": [
      "CPU times: user 6.54 s, sys: 575 ms, total: 7.12 s\n",
      "Wall time: 7.11 s\n"
     ]
    }
   ],
   "source": [
    "%%time\n",
    "# t=0:07\n",
    "df = []\n",
    "for scale, fname in [('Tract', 'EJSCREEN_2022_StatePct_with_AS_CNMI_GU_VI_Tracts.csv.zip'),\n",
    "                      ('BG', 'EJSCREEN_2022_StatePct_with_AS_CNMI_GU_VI.csv.zip')]:\n",
    "    df.append(pd.read_csv(P.data / f'ejscreen/{fname}', usecols=['ID', 'STATE_NAME'] + \n",
    "                          cols['variable'].tolist())\n",
    "                          .query('STATE_NAME == \"Indiana\"').drop(columns='STATE_NAME')\n",
    "                          .melt('ID').astype({'ID': str}).rename(columns={'ID': 'geoid'})\n",
    "                          .merge(cols, on='variable').assign(scale=scale))\n",
    "df = (pd.concat(df).reset_index(drop=True)\n",
    "      [['scale'] + cols.columns.tolist() + ['geoid', 'value']]\n",
    "      .astype({x: 'category' for x in ['geoid', 'scale'] + cols.columns.tolist()})).disp()\n",
    "df.to_parquet(P.data / 'export/ejscreen.parquet')"
   ]
  },
  {
   "cell_type": "code",
   "execution_count": 12,
   "id": "10f3137e",
   "metadata": {},
   "outputs": [
    {
     "name": "stdout",
     "output_type": "stream",
     "text": [
      "SCALE\n",
      "--------------------\n",
      "count     544908\n",
      "unique         2\n",
      "top           BG\n",
      "freq      412620\n",
      "Name: scale, dtype: object\n",
      "--------------------\n",
      "EJ_OR_SES\n",
      "--------------------\n",
      "count     544908\n",
      "unique         2\n",
      "top           EJ\n",
      "freq      356286\n",
      "Name: ej_or_ses, dtype: object\n",
      "--------------------\n",
      "BASE_OR_DERIVED\n",
      "--------------------\n",
      "count     544908\n",
      "unique         2\n",
      "top         Base\n",
      "freq      279440\n",
      "Name: base_or_derived, dtype: object\n",
      "--------------------\n",
      "VALUE_OR_PCTILE\n",
      "--------------------\n",
      "count     544908\n",
      "unique         2\n",
      "top        Value\n",
      "freq      321356\n",
      "Name: value_or_pctile, dtype: object\n",
      "--------------------\n",
      "VARIABLE\n",
      "--------------------\n",
      "count         544908\n",
      "unique            78\n",
      "top       ACSEDUCBAS\n",
      "freq            6986\n",
      "Name: variable, dtype: object\n",
      "--------------------\n",
      "DESCRIPTION\n",
      "--------------------\n",
      "count                                     544908\n",
      "unique                                        57\n",
      "top       EJ Index for Underground storage tanks\n",
      "freq                                       13972\n",
      "Name: description, dtype: object\n",
      "--------------------\n",
      "GEOID\n",
      "--------------------\n",
      "count          544908\n",
      "unique           6986\n",
      "top       18001030100\n",
      "freq               78\n",
      "Name: geoid, dtype: object\n",
      "--------------------\n",
      "VALUE\n",
      "--------------------\n",
      "count    440648.000000\n",
      "mean         67.702296\n",
      "std         337.848077\n",
      "min           0.000000\n",
      "25%           0.385437\n",
      "50%          19.000000\n",
      "75%          57.000000\n",
      "max       17822.595957\n",
      "Name: value, dtype: float64\n",
      "--------------------\n"
     ]
    }
   ],
   "source": [
    "for x in df.columns:\n",
    "    print(x.upper(), df[x].describe(), sep='\\n'+'-'*20+'\\n', end='\\n'+'-'*20+'\\n')"
   ]
  },
  {
   "cell_type": "code",
   "execution_count": null,
   "id": "b94b081b",
   "metadata": {},
   "outputs": [],
   "source": []
  }
 ],
 "metadata": {
  "kernelspec": {
   "display_name": "Python 3 (ipykernel)",
   "language": "python",
   "name": "python3"
  },
  "language_info": {
   "codemirror_mode": {
    "name": "ipython",
    "version": 3
   },
   "file_extension": ".py",
   "mimetype": "text/x-python",
   "name": "python",
   "nbconvert_exporter": "python",
   "pygments_lexer": "ipython3",
   "version": "3.9.7"
  }
 },
 "nbformat": 4,
 "nbformat_minor": 5
}
