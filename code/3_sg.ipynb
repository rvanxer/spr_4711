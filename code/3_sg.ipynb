{
 "cells": [
  {
   "cell_type": "markdown",
   "metadata": {},
   "source": [
    "# 1. Setup"
   ]
  },
  {
   "cell_type": "code",
   "execution_count": 1,
   "metadata": {},
   "outputs": [],
   "source": [
    "from spark import *\n",
    "from utils import *"
   ]
  },
  {
   "cell_type": "markdown",
   "metadata": {},
   "source": [
    "# 2. SafeGraph POIs"
   ]
  },
  {
   "cell_type": "code",
   "execution_count": 2,
   "metadata": {},
   "outputs": [],
   "source": [
    "SG_ROOT = Path('/home/umni2/a/umnilab/data/safegraph')"
   ]
  },
  {
   "cell_type": "code",
   "execution_count": 3,
   "metadata": {},
   "outputs": [
    {
     "name": "stdout",
     "output_type": "stream",
     "text": [
      "19 rows x 2 cols; Memory: 0.0 MiB\n"
     ]
    },
    {
     "data": {
      "text/html": [
       "<div>\n",
       "<style scoped>\n",
       "    .dataframe tbody tr th:only-of-type {\n",
       "        vertical-align: middle;\n",
       "    }\n",
       "\n",
       "    .dataframe tbody tr th {\n",
       "        vertical-align: top;\n",
       "    }\n",
       "\n",
       "    .dataframe thead th {\n",
       "        text-align: right;\n",
       "    }\n",
       "</style>\n",
       "<table border=\"1\" class=\"dataframe\">\n",
       "  <thead>\n",
       "    <tr style=\"text-align: right;\">\n",
       "      <th></th>\n",
       "      <th>kind</th>\n",
       "      <th>top_category</th>\n",
       "    </tr>\n",
       "  </thead>\n",
       "  <tbody>\n",
       "    <tr>\n",
       "      <th></th>\n",
       "      <td>&lt;object&gt;</td>\n",
       "      <td>&lt;object&gt;</td>\n",
       "    </tr>\n",
       "    <tr>\n",
       "      <th>0</th>\n",
       "      <td>Education</td>\n",
       "      <td>Colleges, Universities, and Professional Schools</td>\n",
       "    </tr>\n",
       "  </tbody>\n",
       "</table>\n",
       "</div>"
      ],
      "text/plain": [
       "        kind                                      top_category\n",
       "    <object>                                          <object>\n",
       "0  Education  Colleges, Universities, and Professional Schools"
      ]
     },
     "metadata": {},
     "output_type": "display_data"
    }
   ],
   "source": [
    "with open(DATA / 'opport/poi_categories.yml', 'r') as f:\n",
    "    cats = yaml.safe_load(f)['SafeGraph']\n",
    "cats = Pdf(sum([[D(kind=k, top_category=x) for x in v] \n",
    "                for k, v in cats.items()], [])).disp()"
   ]
  },
  {
   "cell_type": "markdown",
   "metadata": {},
   "source": [
    "## 2.1. POI data"
   ]
  },
  {
   "cell_type": "code",
   "execution_count": 4,
   "metadata": {},
   "outputs": [
    {
     "name": "stdout",
     "output_type": "stream",
     "text": [
      "5,510,037 rows x 4 cols; Memory: 772.5 MiB\n"
     ]
    },
    {
     "data": {
      "text/html": [
       "<div>\n",
       "<style scoped>\n",
       "    .dataframe tbody tr th:only-of-type {\n",
       "        vertical-align: middle;\n",
       "    }\n",
       "\n",
       "    .dataframe tbody tr th {\n",
       "        vertical-align: top;\n",
       "    }\n",
       "\n",
       "    .dataframe thead th {\n",
       "        text-align: right;\n",
       "    }\n",
       "</style>\n",
       "<table border=\"1\" class=\"dataframe\">\n",
       "  <thead>\n",
       "    <tr style=\"text-align: right;\">\n",
       "      <th></th>\n",
       "      <th>placekey</th>\n",
       "      <th>kind</th>\n",
       "      <th>geoid</th>\n",
       "      <th>state</th>\n",
       "    </tr>\n",
       "  </thead>\n",
       "  <tbody>\n",
       "    <tr>\n",
       "      <th></th>\n",
       "      <td>&lt;object&gt;</td>\n",
       "      <td>&lt;category&gt;</td>\n",
       "      <td>&lt;object&gt;</td>\n",
       "      <td>&lt;category&gt;</td>\n",
       "    </tr>\n",
       "    <tr>\n",
       "      <th>0</th>\n",
       "      <td>224-222@8t2-d74-syv</td>\n",
       "      <td>NaN</td>\n",
       "      <td>480219507002</td>\n",
       "      <td>TX</td>\n",
       "    </tr>\n",
       "  </tbody>\n",
       "</table>\n",
       "</div>"
      ],
      "text/plain": [
       "              placekey        kind         geoid       state\n",
       "              <object>  <category>      <object>  <category>\n",
       "0  224-222@8t2-d74-syv         NaN  480219507002          TX"
      ]
     },
     "metadata": {},
     "output_type": "display_data"
    }
   ],
   "source": [
    "def get_pois(categories=cats, overwrite=False):\n",
    "    outpath = DATA / 'opport/pois_2020.parquet'\n",
    "    if (df := file_check(outpath, overwrite)) is not None: return df\n",
    "    inpath = SG_ROOT / 'pois/us/2020-11-06.parquet'\n",
    "    poi = (pd.read_parquet(inpath, columns=[\n",
    "        'placekey', 'top_category', 'region', 'lon', 'lat'])\n",
    "           .merge(categories, 'left', on='top_category')\n",
    "           .drop(columns='top_category')\n",
    "           .rename(columns=D(region='state')))\n",
    "    poi = pdf2gdf(poi, 'lon', 'lat', CRS_DEG).to_crs(CRS_M)\n",
    "    zones = gpd.read_parquet(DATA / 'zones/zones_2020.parquet', filters=[\n",
    "        ('scale', '==', 'BG')], columns=['geoid', 'geometry'])\n",
    "    poi = poi.sjoin(zones, predicate='within').reset_index(drop=1)\n",
    "    poi = poi[['placekey', 'kind', 'geoid', 'state']]\n",
    "    poi = poi.astype(D(kind=CAT, state=CAT))\n",
    "    poi.to_parquet(mkfile(outpath))\n",
    "    return poi\n",
    "\n",
    "poi = get_pois(overwrite=0).disp() # 50s"
   ]
  },
  {
   "cell_type": "markdown",
   "metadata": {},
   "source": [
    "### 2.1.1. Count POIs by kind & BG"
   ]
  },
  {
   "cell_type": "code",
   "execution_count": 5,
   "metadata": {},
   "outputs": [
    {
     "name": "stdout",
     "output_type": "stream",
     "text": [
      "631,861 rows x 4 cols; Memory: 45.2 MiB\n"
     ]
    },
    {
     "data": {
      "text/html": [
       "<div>\n",
       "<style scoped>\n",
       "    .dataframe tbody tr th:only-of-type {\n",
       "        vertical-align: middle;\n",
       "    }\n",
       "\n",
       "    .dataframe tbody tr th {\n",
       "        vertical-align: top;\n",
       "    }\n",
       "\n",
       "    .dataframe thead th {\n",
       "        text-align: right;\n",
       "    }\n",
       "</style>\n",
       "<table border=\"1\" class=\"dataframe\">\n",
       "  <thead>\n",
       "    <tr style=\"text-align: right;\">\n",
       "      <th></th>\n",
       "      <th>kind</th>\n",
       "      <th>state</th>\n",
       "      <th>geoid</th>\n",
       "      <th>nPois</th>\n",
       "    </tr>\n",
       "  </thead>\n",
       "  <tbody>\n",
       "    <tr>\n",
       "      <th></th>\n",
       "      <td>&lt;category&gt;</td>\n",
       "      <td>&lt;category&gt;</td>\n",
       "      <td>&lt;object&gt;</td>\n",
       "      <td>&lt;int32&gt;</td>\n",
       "    </tr>\n",
       "    <tr>\n",
       "      <th>0</th>\n",
       "      <td>Education</td>\n",
       "      <td>AL</td>\n",
       "      <td>010010202001</td>\n",
       "      <td>1</td>\n",
       "    </tr>\n",
       "  </tbody>\n",
       "</table>\n",
       "</div>"
      ],
      "text/plain": [
       "         kind       state         geoid    nPois\n",
       "   <category>  <category>      <object>  <int32>\n",
       "0   Education          AL  010010202001        1"
      ]
     },
     "metadata": {},
     "output_type": "display_data"
    }
   ],
   "source": [
    "totPois = (pd.concat([\n",
    "    poi.groupby(['kind', 'state', 'geoid']).size().reset_index(),\n",
    "    poi.groupby(['state', 'geoid']).size().reset_index().assign(kind='Total')])\n",
    "           .rename(columns={0: 'nPois'}).query('nPois > 0').reset_index(drop=1)\n",
    "           .astype(D(state=CAT, kind=CAT, nPois=I32))).disp()\n",
    "totPois.to_parquet(DATA / 'opport/poi_totals_2020.parquet') # 12s"
   ]
  },
  {
   "cell_type": "code",
   "execution_count": 6,
   "metadata": {},
   "outputs": [
    {
     "data": {
      "text/html": [
       "<div>\n",
       "<style scoped>\n",
       "    .dataframe tbody tr th:only-of-type {\n",
       "        vertical-align: middle;\n",
       "    }\n",
       "\n",
       "    .dataframe tbody tr th {\n",
       "        vertical-align: top;\n",
       "    }\n",
       "\n",
       "    .dataframe thead th {\n",
       "        text-align: right;\n",
       "    }\n",
       "</style>\n",
       "<table border=\"1\" class=\"dataframe\">\n",
       "  <thead>\n",
       "    <tr style=\"text-align: right;\">\n",
       "      <th>kind</th>\n",
       "      <th>Education</th>\n",
       "      <th>Groceries</th>\n",
       "      <th>Medical</th>\n",
       "      <th>Social Support</th>\n",
       "      <th>Total</th>\n",
       "    </tr>\n",
       "  </thead>\n",
       "  <tbody>\n",
       "    <tr>\n",
       "      <th>nPois</th>\n",
       "      <td>197888</td>\n",
       "      <td>151893</td>\n",
       "      <td>625132</td>\n",
       "      <td>147797</td>\n",
       "      <td>5510037</td>\n",
       "    </tr>\n",
       "  </tbody>\n",
       "</table>\n",
       "</div>"
      ],
      "text/plain": [
       "kind   Education  Groceries  Medical  Social Support    Total\n",
       "nPois     197888     151893   625132          147797  5510037"
      ]
     },
     "execution_count": 6,
     "metadata": {},
     "output_type": "execute_result"
    }
   ],
   "source": [
    "totPois.groupby('kind')['nPois'].sum().to_frame().T"
   ]
  },
  {
   "cell_type": "markdown",
   "metadata": {},
   "source": [
    "## 2.2. Visits OD matrix"
   ]
  },
  {
   "cell_type": "code",
   "execution_count": 7,
   "metadata": {},
   "outputs": [
    {
     "name": "stderr",
     "output_type": "stream",
     "text": [
      "Setting default log level to \"WARN\".\n",
      "To adjust logging level use sc.setLogLevel(newLevel). For SparkR, use setLogLevel(newLevel).\n",
      "24/03/17 09:06:06 WARN NativeCodeLoader: Unable to load native-hadoop library for your platform... using builtin-java classes where applicable\n",
      "24/03/17 09:06:06 WARN SparkConf: Note that spark.local.dir will be overridden by the value set by the cluster manager (via SPARK_LOCAL_DIRS in mesos/standalone/kubernetes and LOCAL_DIRS in YARN).\n"
     ]
    }
   ],
   "source": [
    "SP = Spark()"
   ]
  },
  {
   "cell_type": "markdown",
   "metadata": {},
   "source": [
    "### 2.2.1. POI-level"
   ]
  },
  {
   "cell_type": "code",
   "execution_count": 10,
   "metadata": {},
   "outputs": [
    {
     "name": "stdout",
     "output_type": "stream",
     "text": [
      "74,658,050 rows x 5 cols; Memory: 1042.3 MiB\n"
     ]
    },
    {
     "data": {
      "text/html": [
       "<div>\n",
       "<style scoped>\n",
       "    .dataframe tbody tr th:only-of-type {\n",
       "        vertical-align: middle;\n",
       "    }\n",
       "\n",
       "    .dataframe tbody tr th {\n",
       "        vertical-align: top;\n",
       "    }\n",
       "\n",
       "    .dataframe thead th {\n",
       "        text-align: right;\n",
       "    }\n",
       "</style>\n",
       "<table border=\"1\" class=\"dataframe\">\n",
       "  <thead>\n",
       "    <tr style=\"text-align: right;\">\n",
       "      <th></th>\n",
       "      <th>state</th>\n",
       "      <th>src</th>\n",
       "      <th>trg</th>\n",
       "      <th>kind</th>\n",
       "      <th>visitors</th>\n",
       "    </tr>\n",
       "  </thead>\n",
       "  <tbody>\n",
       "    <tr>\n",
       "      <th></th>\n",
       "      <td>&lt;category&gt;</td>\n",
       "      <td>&lt;category&gt;</td>\n",
       "      <td>&lt;category&gt;</td>\n",
       "      <td>&lt;category&gt;</td>\n",
       "      <td>&lt;int32&gt;</td>\n",
       "    </tr>\n",
       "    <tr>\n",
       "      <th>0</th>\n",
       "      <td>WA</td>\n",
       "      <td>530630044004</td>\n",
       "      <td>530630102041</td>\n",
       "      <td>All</td>\n",
       "      <td>4</td>\n",
       "    </tr>\n",
       "  </tbody>\n",
       "</table>\n",
       "</div>"
      ],
      "text/plain": [
       "        state           src           trg        kind visitors\n",
       "   <category>    <category>    <category>  <category>  <int32>\n",
       "0          WA  530630044004  530630102041         All        4"
      ]
     },
     "metadata": {},
     "output_type": "display_data"
    }
   ],
   "source": [
    "def get_poi_flows(overwrite=False):\n",
    "    outpath = DATA / 'opport/poi_visits_2021.parquet'\n",
    "    if (df := file_check(outpath, overwrite)) is not None: return df\n",
    "    poi = SP.read_parquet(DATA / 'opport/pois_2020.parquet')\n",
    "    vis = (SP.read_parquet(SG_ROOT / 'patterns/monthly/2021-04-01')\n",
    "           .select('placekey', F.col('visitor_home_cbgs').alias('od')))\n",
    "    od = vis.select('placekey', F.explode('od').alias('src', 'n'))\n",
    "    od = od.join(poi.withColumnRenamed('geoid', 'trg'), on='placekey')\n",
    "    total = (od.groupBy('state', 'src', 'trg').agg(F.sum('n').alias('n'))\n",
    "             .withColumn('kind', F.lit('All')))\n",
    "    byKind = (od.groupBy('state', 'src', 'trg', 'kind')\n",
    "              .agg(F.sum('n').alias('n')))\n",
    "    od = total.select('state', 'src', 'trg', 'kind', 'n').union(byKind)\n",
    "    od = od.toPandas().rename(columns=D(n='visitors'))\n",
    "    od = od.astype(D(state=CAT, src=CAT, trg=CAT, kind=CAT, visitors=I32))\n",
    "    od.to_parquet(mkfile(outpath), compression='gzip')\n",
    "    return od\n",
    "\n",
    "poiOD = get_poi_flows(overwrite=0).disp() # 4m47s"
   ]
  },
  {
   "cell_type": "code",
   "execution_count": 11,
   "metadata": {},
   "outputs": [
    {
     "data": {
      "text/plain": [
       "kind\n",
       "All               408933330\n",
       "Education          12419148\n",
       "Groceries          25945766\n",
       "Medical            15701996\n",
       "Social Support      3515130\n",
       "Name: visitors, dtype: int32"
      ]
     },
     "execution_count": 11,
     "metadata": {},
     "output_type": "execute_result"
    }
   ],
   "source": [
    "poiOD.groupby('kind')['visitors'].sum()"
   ]
  },
  {
   "cell_type": "code",
   "execution_count": null,
   "metadata": {},
   "outputs": [],
   "source": []
  }
 ],
 "metadata": {
  "kernelspec": {
   "display_name": "mk11",
   "language": "python",
   "name": "python3"
  },
  "language_info": {
   "codemirror_mode": {
    "name": "ipython",
    "version": 3
   },
   "file_extension": ".py",
   "mimetype": "text/x-python",
   "name": "python",
   "nbconvert_exporter": "python",
   "pygments_lexer": "ipython3",
   "version": "3.11.6"
  }
 },
 "nbformat": 4,
 "nbformat_minor": 2
}
