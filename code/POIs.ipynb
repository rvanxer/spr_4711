{
 "cells": [
  {
   "cell_type": "markdown",
   "id": "b395e0bc-99fa-4b56-b809-31c5e86370be",
   "metadata": {},
   "source": [
    "# Setup"
   ]
  },
  {
   "cell_type": "code",
   "execution_count": 2,
   "id": "f4a658f9-30d0-486e-abbd-ed6ea9049b24",
   "metadata": {
    "tags": []
   },
   "outputs": [
    {
     "name": "stdout",
     "output_type": "stream",
     "text": [
      "/home/umni2/a/umnilab/users/verma99/mk/spr_4711/code\n"
     ]
    }
   ],
   "source": [
    "!pwd"
   ]
  },
  {
   "cell_type": "code",
   "execution_count": 1,
   "id": "436ec40f-0e22-4a98-92ef-a22e4c5f69e2",
   "metadata": {
    "tags": []
   },
   "outputs": [],
   "source": [
    "from setup import *"
   ]
  },
  {
   "cell_type": "markdown",
   "id": "4fb2f46e-f06a-4db4-b1bd-2bc8743ebe64",
   "metadata": {},
   "source": [
    "# Get POIs"
   ]
  },
  {
   "cell_type": "markdown",
   "id": "32fdf945-1f4d-468c-b067-934dffefee00",
   "metadata": {},
   "source": [
    "## SafeGraph"
   ]
  },
  {
   "cell_type": "code",
   "execution_count": 3,
   "id": "1e7fca20-db96-483c-8d40-28a41c49b121",
   "metadata": {
    "tags": []
   },
   "outputs": [
    {
     "name": "stderr",
     "output_type": "stream",
     "text": [
      "Setting default log level to \"WARN\".\n",
      "To adjust logging level use sc.setLogLevel(newLevel). For SparkR, use setLogLevel(newLevel).\n"
     ]
    },
    {
     "name": "stdout",
     "output_type": "stream",
     "text": [
      "23/04/02 16:06:22 WARN NativeCodeLoader: Unable to load native-hadoop library for your platform... using builtin-java classes where applicable\n",
      "23/04/02 16:06:23 WARN Utils: Service 'SparkUI' could not bind on port 4040. Attempting port 4041.\n",
      "23/04/02 16:06:23 WARN Utils: Service 'SparkUI' could not bind on port 4041. Attempting port 4042.\n"
     ]
    }
   ],
   "source": [
    "SP.start()"
   ]
  },
  {
   "cell_type": "code",
   "execution_count": 22,
   "id": "979ecbad-7926-4d6e-80fb-aed799c37d0a",
   "metadata": {
    "tags": []
   },
   "outputs": [
    {
     "name": "stderr",
     "output_type": "stream",
     "text": [
      "                                                                                \r"
     ]
    },
    {
     "name": "stdout",
     "output_type": "stream",
     "text": [
      "CPU times: user 945 ms, sys: 184 ms, total: 1.13 s\n",
      "Wall time: 10.3 s\n"
     ]
    }
   ],
   "source": [
    "def read_sg_pois(rgn_code=None):\n",
    "    files = sorted(list((SAFEGRAPH / 'us/poi_211104').glob('*.csv.gz')))\n",
    "    df = SP.read_csv(files, header=True)\n",
    "    if isinstance(rgn_code, str):\n",
    "        df = df.filter(f'region == \"{rgn_code}\"')\n",
    "    df = df.select('location_name', 'brands', 'top_category', \n",
    "                   'sub_category', 'naics_code', 'latitude', \n",
    "                   'longitude', 'street_address', 'city')\n",
    "    return df\n",
    "    \n",
    "x = read_sg_pois('IN')\n",
    "%time x.toPandas().to_csv(U.mkdir(P.data / 'pois/safegraph') / 'indiana.csv', index=False)"
   ]
  },
  {
   "cell_type": "code",
   "execution_count": 27,
   "id": "df419303-1cd3-4f70-98c6-b7f5ba1d756c",
   "metadata": {
    "tags": []
   },
   "outputs": [
    {
     "name": "stdout",
     "output_type": "stream",
     "text": [
      "133,652 rows x 9 cols; Memory: 58.6 MiB\n"
     ]
    },
    {
     "data": {
      "text/html": [
       "<div>\n",
       "<style scoped>\n",
       "    .dataframe tbody tr th:only-of-type {\n",
       "        vertical-align: middle;\n",
       "    }\n",
       "\n",
       "    .dataframe tbody tr th {\n",
       "        vertical-align: top;\n",
       "    }\n",
       "\n",
       "    .dataframe thead th {\n",
       "        text-align: right;\n",
       "    }\n",
       "</style>\n",
       "<table border=\"1\" class=\"dataframe\">\n",
       "  <thead>\n",
       "    <tr style=\"text-align: right;\">\n",
       "      <th></th>\n",
       "      <th>location_name</th>\n",
       "      <th>brands</th>\n",
       "      <th>top_category</th>\n",
       "      <th>sub_category</th>\n",
       "      <th>naics_code</th>\n",
       "      <th>latitude</th>\n",
       "      <th>longitude</th>\n",
       "      <th>street_address</th>\n",
       "      <th>city</th>\n",
       "    </tr>\n",
       "  </thead>\n",
       "  <tbody>\n",
       "    <tr>\n",
       "      <th></th>\n",
       "      <td>&lt;object&gt;</td>\n",
       "      <td>&lt;object&gt;</td>\n",
       "      <td>&lt;object&gt;</td>\n",
       "      <td>&lt;object&gt;</td>\n",
       "      <td>&lt;int64&gt;</td>\n",
       "      <td>&lt;float64&gt;</td>\n",
       "      <td>&lt;float64&gt;</td>\n",
       "      <td>&lt;object&gt;</td>\n",
       "      <td>&lt;object&gt;</td>\n",
       "    </tr>\n",
       "    <tr>\n",
       "      <th>0</th>\n",
       "      <td>Julian Insurance Agency</td>\n",
       "      <td>NaN</td>\n",
       "      <td>Agencies, Brokerages, and Other Insurance Rela...</td>\n",
       "      <td>Insurance Agencies and Brokerages</td>\n",
       "      <td>524210</td>\n",
       "      <td>40.559222</td>\n",
       "      <td>-85.66137</td>\n",
       "      <td>202 W 3rd St</td>\n",
       "      <td>Marion</td>\n",
       "    </tr>\n",
       "  </tbody>\n",
       "</table>\n",
       "</div>"
      ],
      "text/plain": [
       "             location_name    brands  \\\n",
       "                  <object>  <object>   \n",
       "0  Julian Insurance Agency       NaN   \n",
       "\n",
       "                                        top_category  \\\n",
       "                                            <object>   \n",
       "0  Agencies, Brokerages, and Other Insurance Rela...   \n",
       "\n",
       "                        sub_category naics_code   latitude  longitude  \\\n",
       "                            <object>    <int64>  <float64>  <float64>   \n",
       "0  Insurance Agencies and Brokerages     524210  40.559222  -85.66137   \n",
       "\n",
       "  street_address      city  \n",
       "        <object>  <object>  \n",
       "0   202 W 3rd St    Marion  "
      ]
     },
     "metadata": {},
     "output_type": "display_data"
    }
   ],
   "source": [
    "df = pd.read_csv(P.data / 'pois/safegraph/indiana.csv').disp()"
   ]
  },
  {
   "cell_type": "markdown",
   "id": "58c0b8a3-84b1-4265-9df9-64959fb57f25",
   "metadata": {},
   "source": [
    "## OSM"
   ]
  },
  {
   "cell_type": "code",
   "execution_count": 23,
   "id": "aec79858-8193-4bf7-a17a-7cd64d048b50",
   "metadata": {
    "tags": []
   },
   "outputs": [
    {
     "name": "stdout",
     "output_type": "stream",
     "text": [
      "CPU times: user 4.84 s, sys: 195 ms, total: 5.04 s\n",
      "Wall time: 5.18 s\n"
     ]
    },
    {
     "data": {
      "text/html": [
       "<div>\n",
       "<style scoped>\n",
       "    .dataframe tbody tr th:only-of-type {\n",
       "        vertical-align: middle;\n",
       "    }\n",
       "\n",
       "    .dataframe tbody tr th {\n",
       "        vertical-align: top;\n",
       "    }\n",
       "\n",
       "    .dataframe thead th {\n",
       "        text-align: right;\n",
       "    }\n",
       "</style>\n",
       "<table border=\"1\" class=\"dataframe\">\n",
       "  <thead>\n",
       "    <tr style=\"text-align: right;\">\n",
       "      <th></th>\n",
       "      <th>osm_id</th>\n",
       "      <th>code</th>\n",
       "      <th>fclass</th>\n",
       "      <th>name</th>\n",
       "      <th>geometry</th>\n",
       "    </tr>\n",
       "  </thead>\n",
       "  <tbody>\n",
       "    <tr>\n",
       "      <th>0</th>\n",
       "      <td>75423885</td>\n",
       "      <td>2721</td>\n",
       "      <td>attraction</td>\n",
       "      <td>Michigan-Ohio-Indiana tri-state marker</td>\n",
       "      <td>POINT (-84.80598 41.69613)</td>\n",
       "    </tr>\n",
       "    <tr>\n",
       "      <th>1</th>\n",
       "      <td>153753182</td>\n",
       "      <td>2204</td>\n",
       "      <td>park</td>\n",
       "      <td>Neavill's Grove</td>\n",
       "      <td>POINT (-85.50993 38.78209)</td>\n",
       "    </tr>\n",
       "    <tr>\n",
       "      <th>2</th>\n",
       "      <td>153795896</td>\n",
       "      <td>2401</td>\n",
       "      <td>hotel</td>\n",
       "      <td>Waycross Camp and Conference Center</td>\n",
       "      <td>POINT (-86.34408 39.30556)</td>\n",
       "    </tr>\n",
       "    <tr>\n",
       "      <th>3</th>\n",
       "      <td>154353888</td>\n",
       "      <td>2732</td>\n",
       "      <td>ruins</td>\n",
       "      <td>Old Fairfield</td>\n",
       "      <td>POINT (-84.99552 39.51866)</td>\n",
       "    </tr>\n",
       "    <tr>\n",
       "      <th>4</th>\n",
       "      <td>180342873</td>\n",
       "      <td>2204</td>\n",
       "      <td>park</td>\n",
       "      <td>Northgate Community Park</td>\n",
       "      <td>POINT (-87.49814 41.53286)</td>\n",
       "    </tr>\n",
       "    <tr>\n",
       "      <th>...</th>\n",
       "      <td>...</td>\n",
       "      <td>...</td>\n",
       "      <td>...</td>\n",
       "      <td>...</td>\n",
       "      <td>...</td>\n",
       "    </tr>\n",
       "    <tr>\n",
       "      <th>56965</th>\n",
       "      <td>1149302315</td>\n",
       "      <td>2601</td>\n",
       "      <td>bank</td>\n",
       "      <td>Chase</td>\n",
       "      <td>POLYGON ((-87.33700 41.55136, -87.33700 41.551...</td>\n",
       "    </tr>\n",
       "    <tr>\n",
       "      <th>56966</th>\n",
       "      <td>1149305626</td>\n",
       "      <td>2205</td>\n",
       "      <td>playground</td>\n",
       "      <td>None</td>\n",
       "      <td>POLYGON ((-86.00010 39.69550, -86.00000 39.695...</td>\n",
       "    </tr>\n",
       "    <tr>\n",
       "      <th>56967</th>\n",
       "      <td>1149307712</td>\n",
       "      <td>2015</td>\n",
       "      <td>graveyard</td>\n",
       "      <td>Henderson Cemetery</td>\n",
       "      <td>POLYGON ((-85.20349 39.05308, -85.20341 39.053...</td>\n",
       "    </tr>\n",
       "    <tr>\n",
       "      <th>56968</th>\n",
       "      <td>1149448580</td>\n",
       "      <td>2301</td>\n",
       "      <td>restaurant</td>\n",
       "      <td>Clean Eatz</td>\n",
       "      <td>POLYGON ((-85.20574 41.07578, -85.20550 41.075...</td>\n",
       "    </tr>\n",
       "    <tr>\n",
       "      <th>56969</th>\n",
       "      <td>1149448581</td>\n",
       "      <td>2302</td>\n",
       "      <td>fast_food</td>\n",
       "      <td>Penn Station</td>\n",
       "      <td>POLYGON ((-85.20581 41.07547, -85.20574 41.075...</td>\n",
       "    </tr>\n",
       "  </tbody>\n",
       "</table>\n",
       "<p>56970 rows × 5 columns</p>\n",
       "</div>"
      ],
      "text/plain": [
       "           osm_id  code      fclass                                    name  \\\n",
       "0        75423885  2721  attraction  Michigan-Ohio-Indiana tri-state marker   \n",
       "1       153753182  2204        park                         Neavill's Grove   \n",
       "2       153795896  2401       hotel     Waycross Camp and Conference Center   \n",
       "3       154353888  2732       ruins                           Old Fairfield   \n",
       "4       180342873  2204        park                Northgate Community Park   \n",
       "...           ...   ...         ...                                     ...   \n",
       "56965  1149302315  2601        bank                                   Chase   \n",
       "56966  1149305626  2205  playground                                    None   \n",
       "56967  1149307712  2015   graveyard                      Henderson Cemetery   \n",
       "56968  1149448580  2301  restaurant                              Clean Eatz   \n",
       "56969  1149448581  2302   fast_food                            Penn Station   \n",
       "\n",
       "                                                geometry  \n",
       "0                             POINT (-84.80598 41.69613)  \n",
       "1                             POINT (-85.50993 38.78209)  \n",
       "2                             POINT (-86.34408 39.30556)  \n",
       "3                             POINT (-84.99552 39.51866)  \n",
       "4                             POINT (-87.49814 41.53286)  \n",
       "...                                                  ...  \n",
       "56965  POLYGON ((-87.33700 41.55136, -87.33700 41.551...  \n",
       "56966  POLYGON ((-86.00010 39.69550, -86.00000 39.695...  \n",
       "56967  POLYGON ((-85.20349 39.05308, -85.20341 39.053...  \n",
       "56968  POLYGON ((-85.20574 41.07578, -85.20550 41.075...  \n",
       "56969  POLYGON ((-85.20581 41.07547, -85.20574 41.075...  \n",
       "\n",
       "[56970 rows x 5 columns]"
      ]
     },
     "execution_count": 23,
     "metadata": {},
     "output_type": "execute_result"
    }
   ],
   "source": [
    "def read_osm_pois():\n",
    "    df = gpd.read_file(P.data / 'OSM/pois.gpkg')\n",
    "    return df\n",
    "    \n",
    "%time x = read_osm_pois(); x"
   ]
  },
  {
   "cell_type": "code",
   "execution_count": null,
   "id": "292f451a-b6d1-4a51-9887-713f512095c4",
   "metadata": {},
   "outputs": [],
   "source": []
  },
  {
   "cell_type": "code",
   "execution_count": null,
   "id": "9deacb4a-b858-451a-98d0-a83472ed57c7",
   "metadata": {},
   "outputs": [],
   "source": []
  }
 ],
 "metadata": {
  "kernelspec": {
   "display_name": "Python 3 (ipykernel)",
   "language": "python",
   "name": "python3"
  },
  "language_info": {
   "codemirror_mode": {
    "name": "ipython",
    "version": 3
   },
   "file_extension": ".py",
   "mimetype": "text/x-python",
   "name": "python",
   "nbconvert_exporter": "python",
   "pygments_lexer": "ipython3",
   "version": "3.9.7"
  }
 },
 "nbformat": 4,
 "nbformat_minor": 5
}
