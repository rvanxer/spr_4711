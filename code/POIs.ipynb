{
 "cells": [
  {
   "cell_type": "markdown",
   "id": "f35aa1e9",
   "metadata": {},
   "source": [
    "# Setup"
   ]
  },
  {
   "cell_type": "code",
   "execution_count": 1,
   "id": "235ae5b6",
   "metadata": {},
   "outputs": [
    {
     "name": "stdout",
     "output_type": "stream",
     "text": [
      "/home/umni2/a/umnilab/users/verma99/mk/spr_4711/code\n"
     ]
    }
   ],
   "source": [
    "!pwd"
   ]
  },
  {
   "cell_type": "code",
   "execution_count": 2,
   "id": "d7b75ec6",
   "metadata": {},
   "outputs": [],
   "source": [
    "from mobilkit.umni import *"
   ]
  },
  {
   "cell_type": "code",
   "execution_count": 4,
   "id": "52d2bf34",
   "metadata": {},
   "outputs": [],
   "source": [
    "import osmnx\n",
    "import yaml"
   ]
  },
  {
   "cell_type": "code",
   "execution_count": 7,
   "id": "3729c738",
   "metadata": {},
   "outputs": [
    {
     "name": "stderr",
     "output_type": "stream",
     "text": [
      "Setting default log level to \"WARN\".\n",
      "To adjust logging level use sc.setLogLevel(newLevel). For SparkR, use setLogLevel(newLevel).\n",
      "23/09/22 21:15:52 WARN NativeCodeLoader: Unable to load native-hadoop library for your platform... using builtin-java classes where applicable\n",
      "23/09/22 21:15:52 WARN SparkConf: Note that spark.local.dir will be overridden by the value set by the cluster manager (via SPARK_LOCAL_DIRS in mesos/standalone/kubernetes and LOCAL_DIRS in YARN).\n",
      "23/09/22 21:15:53 WARN Utils: Service 'SparkUI' could not bind on port 4040. Attempting port 4041.\n"
     ]
    }
   ],
   "source": [
    "SP.start()"
   ]
  },
  {
   "cell_type": "markdown",
   "id": "845d4dca-7ac5-4c2f-9bb1-16834e50e3db",
   "metadata": {},
   "source": [
    "# Prepare data"
   ]
  },
  {
   "cell_type": "code",
   "execution_count": 5,
   "id": "a4e0bf1d-40a5-4b9f-9f5f-93dcfd0e0e6b",
   "metadata": {
    "tags": []
   },
   "outputs": [
    {
     "name": "stdout",
     "output_type": "stream",
     "text": [
      "64 rows x 3 cols; Memory: 0.0 MiB\n"
     ]
    },
    {
     "data": {
      "text/html": [
       "<div>\n",
       "<style scoped>\n",
       "    .dataframe tbody tr th:only-of-type {\n",
       "        vertical-align: middle;\n",
       "    }\n",
       "\n",
       "    .dataframe tbody tr th {\n",
       "        vertical-align: top;\n",
       "    }\n",
       "\n",
       "    .dataframe thead th {\n",
       "        text-align: right;\n",
       "    }\n",
       "</style>\n",
       "<table border=\"1\" class=\"dataframe\">\n",
       "  <thead>\n",
       "    <tr style=\"text-align: right;\">\n",
       "      <th></th>\n",
       "      <th>source</th>\n",
       "      <th>category</th>\n",
       "      <th>fclass</th>\n",
       "    </tr>\n",
       "  </thead>\n",
       "  <tbody>\n",
       "    <tr>\n",
       "      <th></th>\n",
       "      <td>&lt;object&gt;</td>\n",
       "      <td>&lt;object&gt;</td>\n",
       "      <td>&lt;object&gt;</td>\n",
       "    </tr>\n",
       "    <tr>\n",
       "      <th>0</th>\n",
       "      <td>SafeGraph</td>\n",
       "      <td>Education</td>\n",
       "      <td>Elementary and Secondary Schools</td>\n",
       "    </tr>\n",
       "  </tbody>\n",
       "</table>\n",
       "</div>"
      ],
      "text/plain": [
       "      source   category                            fclass\n",
       "    <object>   <object>                          <object>\n",
       "0  SafeGraph  Education  Elementary and Secondary Schools"
      ]
     },
     "metadata": {},
     "output_type": "display_data"
    }
   ],
   "source": [
    "with open('../data/pois/poi_categories.yml', 'rb') as f:\n",
    "    poi_categories = yaml.safe_load(f)\n",
    "\n",
    "poi_classes = []\n",
    "for source, data in poi_categories.items():\n",
    "    for cat, fclasses in data.items():\n",
    "        for fclass in fclasses:\n",
    "            poi_classes.append((source, cat, fclass))\n",
    "poi_classes = Pdf(poi_classes, columns=['source', 'category', 'fclass']).disp()"
   ]
  },
  {
   "cell_type": "markdown",
   "id": "d2a6d29f-8659-47cd-acdf-45e54227cb12",
   "metadata": {},
   "source": [
    "## OSM"
   ]
  },
  {
   "cell_type": "code",
   "execution_count": 8,
   "id": "a3f99fba-2f43-4b7b-997d-fe9d3a37ca42",
   "metadata": {
    "tags": []
   },
   "outputs": [
    {
     "name": "stderr",
     "output_type": "stream",
     "text": [
      "                                                                                \r"
     ]
    },
    {
     "name": "stdout",
     "output_type": "stream",
     "text": [
      "+---------+------------+---------+------+--------------------+\n",
      "|       id|        name| category|fclass|            geometry|\n",
      "+---------+------------+---------+------+--------------------+\n",
      "|358649475|Black School|Education|school|[01 01 00 00 00 D...|\n",
      "+---------+------------+---------+------+--------------------+\n",
      "only showing top 1 row\n",
      "\n"
     ]
    }
   ],
   "source": [
    "def get_osm_pois(geocode, categories: Pdf, save=True, overwrite=False):\n",
    "    outfile = Path('../data/pois/osm.parquet')\n",
    "    if outfile.exists() and not overwrite:\n",
    "        return SP.read_parquet(outfile)\n",
    "    fclasses = categories.query('source == \"OSM\"')['fclass'].unique().tolist()\n",
    "    df = osmnx.geometries_from_place(geocode, tags={'amenity': fclasses})\n",
    "    df = df.rename(columns={'amenity': 'fclass'}).to_crs(CRS_M)\n",
    "    df.geometry = df.centroid\n",
    "    df = df[['name', 'fclass', 'geometry']].reset_index()\n",
    "    df = df.rename(columns={'osmid': 'id'}).astype({'id': str})\n",
    "    df = df.merge(categories, on='fclass').to_crs(CRS_DEG)\n",
    "    df = df[['id', 'name', 'category', 'fclass', 'geometry']]\n",
    "    if save:\n",
    "        df.to_parquet(U.mkfile(outfile))\n",
    "    return df\n",
    "\n",
    "osm_pois = get_osm_pois('Indiana', poi_classes, overwrite=0).disp() # t=2:11"
   ]
  },
  {
   "cell_type": "markdown",
   "id": "21b65884-1862-4dfb-a217-24cff4ac77fa",
   "metadata": {},
   "source": [
    "## SafeGraph"
   ]
  },
  {
   "cell_type": "code",
   "execution_count": 18,
   "id": "2666e046",
   "metadata": {},
   "outputs": [
    {
     "name": "stdout",
     "output_type": "stream",
     "text": [
      "+-------------------+-------------------+-------------------+----------+------------+--------------------+--------------------+------------+------------+--------------------+--------------------+--------------------+--------------------+--------------------+--------------------+-------+---+\n",
      "|           placekey|            started|              ended|raw_visits|raw_visitors|       visits_by_day|   visitor_home_cbgs|dist_4m_home|median_dwell|         dwell_times|      brand_same_day|    brand_same_month|  popularity_by_hour|   popularity_by_day|visitor_daytime_cbgs|android|ios|\n",
      "+-------------------+-------------------+-------------------+----------+------------+--------------------+--------------------+------------+------------+--------------------+--------------------+--------------------+--------------------+--------------------+--------------------+-------+---+\n",
      "|222-222@8fy-fkc-wx5|2021-04-01 04:00:00|2021-05-01 04:00:00|       226|         173|[13, 7, 13, 7, 2,...|{120690313114 -> ...|       10371|        10.0|[9, 122, 60, 31, ...|{Wendy's -> 66, O...|{Walmart -> 54, W...|[0, 0, 0, 0, 0, 0...|[22, 29, 25, 40, ...|{120690313114 -> ...|     94| 79|\n",
      "+-------------------+-------------------+-------------------+----------+------------+--------------------+--------------------+------------+------------+--------------------+--------------------+--------------------+--------------------+--------------------+--------------------+-------+---+\n",
      "only showing top 1 row\n",
      "\n"
     ]
    }
   ],
   "source": [
    "df = SP.read_parquet(SAFEGRAPH / 'patterns/monthly/2021-04-01').disp()"
   ]
  },
  {
   "cell_type": "code",
   "execution_count": 22,
   "id": "007dfd92-ecd2-4d3d-bef3-7700a421c229",
   "metadata": {
    "tags": []
   },
   "outputs": [
    {
     "name": "stderr",
     "output_type": "stream",
     "text": [
      "                                                                                \r"
     ]
    }
   ],
   "source": [
    "def get_sg_pois(poi_path, pat_path, categories, rgn_code='IN',\n",
    "                save=True, overwrite=False):\n",
    "    outfile = Path('../data/pois/safegraph.parquet')\n",
    "    if outfile.exists() and not overwrite:\n",
    "        return SP.read_parquet(outfile)\n",
    "    df = SP.read_parquet(poi_path)\n",
    "    if isinstance(rgn_code, str):\n",
    "        df = df.filter(f'region == \"{rgn_code}\"')\n",
    "    df = df.select(F.col('placekey').alias('id'), 'name', 'lon', 'lat',\n",
    "                   F.col('top_category').alias('fclass'), 'area_sqft')\n",
    "    pat = SP.read_parquet(pat_path).select(*[\n",
    "        F.col(k).alias(v) for k, v in {\n",
    "            'placekey': 'id', 'raw_visits': 'visits',\n",
    "            'raw_visitors': 'visitors', 'visitor_home_cbgs': 'home_bgs'\n",
    "            }.items()])\n",
    "    df = df.join(pat, on='id', how='left')\n",
    "    cats = categories.query('source == \"SafeGraph\"').drop(columns='source')\n",
    "    df = df.toPandas().merge(cats, on='fclass').drop(columns='fclass')\n",
    "    df = mk.geo.pdf2gdf(df, 'lon', 'lat', CRS_DEG)\n",
    "    if save:\n",
    "        df.to_parquet(U.mkfile(outfile))\n",
    "    return df\n",
    "\n",
    "poi_path = SAFEGRAPH / 'pois/us/2020-11-06.parquet'\n",
    "pat_path = SAFEGRAPH / 'patterns/monthly/2021-04-01'\n",
    "sg_pois = get_sg_pois(poi_path, pat_path, poi_classes, overwrite=1).disp() # t=0:11"
   ]
  },
  {
   "cell_type": "markdown",
   "id": "7e8ca272-0b1e-4ae8-88fa-b9b1f4e48ecb",
   "metadata": {},
   "source": [
    "## Combine POIs"
   ]
  },
  {
   "cell_type": "code",
   "execution_count": 11,
   "id": "5e8b2e41",
   "metadata": {
    "tags": []
   },
   "outputs": [
    {
     "name": "stdout",
     "output_type": "stream",
     "text": [
      "+---------+------------+---------+------+--------------------+------+----+----+---------+------+--------+\n",
      "|       id|        name| category|fclass|            geometry|source| lon| lat|area_sqft|visits|visitors|\n",
      "+---------+------------+---------+------+--------------------+------+----+----+---------+------+--------+\n",
      "|358649475|Black School|Education|school|[01 01 00 00 00 D...|   OSM|null|null|     null|  null|    null|\n",
      "+---------+------------+---------+------+--------------------+------+----+----+---------+------+--------+\n",
      "only showing top 1 row\n",
      "\n"
     ]
    }
   ],
   "source": [
    "def combine_pois(save=True, overwrite=False):\n",
    "    outfile = Path('../data/pois/pois.parquet')\n",
    "    if outfile.exists() and not overwrite:\n",
    "        return SP.read_parquet(outfile)\n",
    "    osm = gpd.read_parquet('../data/pois/osm.parquet')\n",
    "    sg = gpd.read_parquet('../data/pois/safegraph.parquet')\n",
    "    pois = pd.concat([\n",
    "        osm.assign(source='OSM'), sg.assign(source='SafeGraph')\n",
    "    ]).reset_index(drop=True)\n",
    "    if save:\n",
    "        pois.to_parquet(U.mkfile(outfile))\n",
    "    return pois\n",
    "\n",
    "pois = combine_pois(overwrite=0).disp() # t=0:03"
   ]
  },
  {
   "cell_type": "markdown",
   "id": "9cb2172d",
   "metadata": {},
   "source": [
    "# Visualize"
   ]
  },
  {
   "cell_type": "code",
   "execution_count": null,
   "id": "96e7c652",
   "metadata": {},
   "outputs": [],
   "source": []
  }
 ],
 "metadata": {
  "kernelspec": {
   "display_name": "Python 3 (ipykernel)",
   "language": "python",
   "name": "python3"
  },
  "language_info": {
   "codemirror_mode": {
    "name": "ipython",
    "version": 3
   },
   "file_extension": ".py",
   "mimetype": "text/x-python",
   "name": "python",
   "nbconvert_exporter": "python",
   "pygments_lexer": "ipython3",
   "version": "3.11.5"
  },
  "toc-autonumbering": true
 },
 "nbformat": 4,
 "nbformat_minor": 5
}
