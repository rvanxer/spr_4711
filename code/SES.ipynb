{
 "cells": [
  {
   "cell_type": "markdown",
   "metadata": {},
   "source": [
    "# Setup"
   ]
  },
  {
   "cell_type": "code",
   "execution_count": null,
   "metadata": {},
   "outputs": [
    {
     "name": "stdout",
     "output_type": "stream",
     "text": [
      "/home/umni2/a/umnilab/users/verma99/mk/spr_4711/code\n"
     ]
    }
   ],
   "source": [
    "!pwd"
   ]
  },
  {
   "cell_type": "code",
   "execution_count": null,
   "metadata": {},
   "outputs": [],
   "source": [
    "from mobilkit.umni import *"
   ]
  },
  {
   "cell_type": "code",
   "execution_count": null,
   "metadata": {},
   "outputs": [],
   "source": [
    "import urllib.request\n",
    "from zipfile import ZipFile\n",
    "\n",
    "import fiona\n",
    "import osmnx\n",
    "import yaml"
   ]
  },
  {
   "cell_type": "code",
   "execution_count": null,
   "metadata": {},
   "outputs": [],
   "source": [
    "import ssl\n",
    "ssl._create_default_https_context = ssl._create_unverified_context"
   ]
  },
  {
   "cell_type": "code",
   "execution_count": null,
   "metadata": {},
   "outputs": [
    {
     "name": "stderr",
     "output_type": "stream",
     "text": [
      "Setting default log level to \"WARN\".\n",
      "To adjust logging level use sc.setLogLevel(newLevel). For SparkR, use setLogLevel(newLevel).\n",
      "23/09/21 14:20:52 WARN NativeCodeLoader: Unable to load native-hadoop library for your platform... using builtin-java classes where applicable\n",
      "23/09/21 14:20:52 WARN SparkConf: Note that spark.local.dir will be overridden by the value set by the cluster manager (via SPARK_LOCAL_DIRS in mesos/standalone/kubernetes and LOCAL_DIRS in YARN).\n"
     ]
    }
   ],
   "source": [
    "SP.start()"
   ]
  },
  {
   "cell_type": "code",
   "execution_count": null,
   "metadata": {},
   "outputs": [],
   "source": [
    "# spatial scales of the maps\n",
    "SCALES = ('BG', 'COUNTY', 'TRACT')"
   ]
  },
  {
   "cell_type": "markdown",
   "metadata": {},
   "source": [
    "# Zones\n",
    "- The **UMN AAA data** uses the **2010** definitions of the census zones.\n",
    "- **POI accessibility** uses travel times between zone centroids. The travel times obtained from Google Distance Matrix are for the **2010** zones.\n",
    "- The **EJ Screen data** is available from 2015 to 2023. For the analysis, the **2020** data is used."
   ]
  },
  {
   "cell_type": "markdown",
   "metadata": {},
   "source": [
    "## Download\n",
    "<!-- Note that the TIGER/LINE boundaries and ACS data of the subdivisions of Indiana at different scales were already downloaded in [../../spr_4608/code/1_Geometry_ACS.ipynb](../../spr_4608/code/1_Geometry_ACS.ipynb), but they were for the year 2020 (I think). The files were then directly copied from `$MK/spr_4608/data/geometry` to `$MK/spr_4711/data/acs`. -->\n",
    "\n",
    "<!-- However, since the UMN access data used the 2010 definitions, they are downloaded explicitly from the Census website. -->"
   ]
  },
  {
   "cell_type": "code",
   "execution_count": null,
   "metadata": {},
   "outputs": [],
   "source": [
    "def get_tiger_zones(scale, year, state='Indiana', name_col='name',\n",
    "                    save=True, overwrite=False):\n",
    "    old_api = year <= 2015\n",
    "    outfile = Path(f'../data/zones/{scale.lower()}_{year}.parquet')\n",
    "    zipfile = Path(f'../data/tiger_boundary_{scale}.zip')\n",
    "    assert scale in ['TABBLOCK', 'BG', 'TAZ', 'TRACT', 'COUNTY', 'CBSA']\n",
    "    if outfile.exists() and not overwrite:\n",
    "        return\n",
    "    print('Downloading zones at scale:', scale)\n",
    "    fips = mk.geo.US_STATES_FIPS[state.upper()]\n",
    "    if old_api:\n",
    "        year_label = str(year % 2000)\n",
    "        url = (f'https://www2.census.gov/geo/pvs/tiger{year}st/{fips}_{state}/'\n",
    "               f'{fips}/tl_{year}_{fips}_{scale.lower()}{year_label}.zip')\n",
    "    else:\n",
    "        root = f'https://www2.census.gov/geo/tiger/TIGER{year}/{scale}'\n",
    "        base = f'tl_{year}_{fips}_{scale.lower()}.zip'\n",
    "        if scale == 'COUNTY':\n",
    "            base = f'tl_{year}_us_county.zip'\n",
    "        url = f'{root}/{base}'\n",
    "    urllib.request.urlretrieve(url, zipfile)\n",
    "    df = gpd.read_file(zipfile).to_crs(CRS_DEG)\n",
    "    df = df.rename(columns=str.lower)\n",
    "    if old_api:\n",
    "        df = df.rename(columns=lambda x: x.replace(year_label, ''))\n",
    "    if scale == 'COUNTY':\n",
    "        df = df.query(f'statefp == \"{fips}\"').reset_index(drop=True)\n",
    "    df = df[['geoid', name_col, 'aland', 'awater', 'geometry']]\n",
    "    df = df.rename(columns={name_col: 'name'})\n",
    "    if save:\n",
    "        df.to_parquet(U.mkfile(outfile))\n",
    "    zipfile.unlink()\n",
    "    return df"
   ]
  },
  {
   "cell_type": "code",
   "execution_count": null,
   "metadata": {},
   "outputs": [],
   "source": [
    "years = [2010, 2020]\n",
    "scales_names = [('COUNTY', 'name'), ('TRACT', 'namelsad'), ('BG', 'namelsad')]\n",
    "for year, (scale, name_col) in it.product(years, scales_names):\n",
    "    get_tiger_zones(scale, year, name_col=name_col, overwrite=0)"
   ]
  },
  {
   "cell_type": "markdown",
   "metadata": {},
   "source": [
    "## [Relationship files](https://www.census.gov/geographies/reference-files/time-series/geo/relationship-files.2020.html)\n",
    "These files show the mapping between the old (2010) and the new (2020) zones for [block groups](https://www2.census.gov/geo/docs/maps-data/data/rel2020/blkgrp/tab20_blkgrp20_blkgrp10_natl.txt), [tracts](https://www2.census.gov/geo/docs/maps-data/data/rel2020/tract/tab20_tract20_tract10_natl.txt), [counties](https://www2.census.gov/geo/docs/maps-data/data/rel2020/cousub/tab20_cousub20_cousub10_natl.txt)."
   ]
  },
  {
   "cell_type": "raw",
   "metadata": {},
   "source": [
    "%%bash\n",
    "cd ../data/zones\n",
    "wget https://www2.census.gov/geo/docs/maps-data/data/rel2020/blkgrp/tab20_blkgrp20_blkgrp10_natl.txt\n",
    "mv tab20_blkgrp20_blkgrp10_natl.txt xtab-bg-2010-2020.txt\n",
    "wget https://www2.census.gov/geo/docs/maps-data/data/rel2020/tract/tab20_tract20_tract10_natl.txt\n",
    "mv tab20_tract20_tract10_natl.txt xtab-tract-2010-2020.txt\n",
    "wget https://www2.census.gov/geo/docs/maps-data/data/rel2020/cousub/tab20_cousub20_cousub10_natl.txt\n",
    "mv tab20_cousub20_cousub10_natl.txt xtab-county-2010-2020.txt"
   ]
  },
  {
   "cell_type": "code",
   "execution_count": null,
   "metadata": {},
   "outputs": [],
   "source": [
    "def get_census_relationship(scale, keyword, state='Indiana', year1=2010,\n",
    "                            year2=2020, save=True, overwrite=False):\n",
    "    scale = scale.lower()\n",
    "    label = f'{scale}-{year1}-{year2}'\n",
    "    infile = f'../data/zones/xtab-{label}.txt'\n",
    "    outfile = Path(f'../data/zones/relation-{label}.parquet')\n",
    "    if outfile.exists() and not overwrite:\n",
    "        return pd.read_parquet(outfile)\n",
    "    y1, y2 = year1 % 2000, year2 % 2000\n",
    "    df = pd.read_csv(infile, sep='|').rename(columns=str.lower)\n",
    "    df = df.rename(columns=lambda x: x.replace('_' + keyword.lower(), ''))\n",
    "    df = df.astype({f'geoid_{y1}': str, f'geoid_{y2}': str})\n",
    "    max_len = df[f'geoid_{y1}'].str.len().max()\n",
    "    for y in [y1, y2]:\n",
    "        df[f'geoid_{y}'] = df[f'geoid_{y}'].str.zfill(max_len)\n",
    "        df[f'state_{y}'] = df[f'geoid_{y}'].str.slice(0, 2)\n",
    "    fips = f'{mk.geo.US_STATES_FIPS[state.upper()]:02}'\n",
    "    df = df[(df[f'state_{y1}'] == fips) & (df[f'state_{y2}'] == fips)]\n",
    "    df = df[[f'geoid_{y1}', f'geoid_{y2}',\n",
    "             f'arealand_{y1}', f'arealand_{y2}', 'arealand_part',\n",
    "             f'areawater_{y1}', f'areawater_{y2}', 'areawater_part']]\n",
    "    df = df.dropna().reset_index(drop=True)\n",
    "    if save:\n",
    "        df.to_parquet(U.mkfile(outfile))\n",
    "    return df\n",
    "\n",
    "x = get_census_relationship('county', 'cousub', overwrite=0)\n",
    "x = get_census_relationship('tract', 'tract', overwrite=0)\n",
    "x = get_census_relationship('bg', 'blkgrp', overwrite=0)"
   ]
  },
  {
   "cell_type": "code",
   "execution_count": null,
   "metadata": {},
   "outputs": [
    {
     "name": "stdout",
     "output_type": "stream",
     "text": [
      "7,046 rows x 8 cols; Memory: 1.2 MiB\n"
     ]
    },
    {
     "data": {
      "text/html": [
       "<div>\n",
       "<style scoped>\n",
       "    .dataframe tbody tr th:only-of-type {\n",
       "        vertical-align: middle;\n",
       "    }\n",
       "\n",
       "    .dataframe tbody tr th {\n",
       "        vertical-align: top;\n",
       "    }\n",
       "\n",
       "    .dataframe thead th {\n",
       "        text-align: right;\n",
       "    }\n",
       "</style>\n",
       "<table border=\"1\" class=\"dataframe\">\n",
       "  <thead>\n",
       "    <tr style=\"text-align: right;\">\n",
       "      <th></th>\n",
       "      <th>geoid_10</th>\n",
       "      <th>geoid_20</th>\n",
       "      <th>arealand_10</th>\n",
       "      <th>arealand_20</th>\n",
       "      <th>arealand_part</th>\n",
       "      <th>areawater_10</th>\n",
       "      <th>areawater_20</th>\n",
       "      <th>areawater_part</th>\n",
       "    </tr>\n",
       "  </thead>\n",
       "  <tbody>\n",
       "    <tr>\n",
       "      <th></th>\n",
       "      <td>&lt;object&gt;</td>\n",
       "      <td>&lt;object&gt;</td>\n",
       "      <td>&lt;int64&gt;</td>\n",
       "      <td>&lt;int64&gt;</td>\n",
       "      <td>&lt;int64&gt;</td>\n",
       "      <td>&lt;int64&gt;</td>\n",
       "      <td>&lt;int64&gt;</td>\n",
       "      <td>&lt;int64&gt;</td>\n",
       "    </tr>\n",
       "    <tr>\n",
       "      <th>0</th>\n",
       "      <td>180010301001</td>\n",
       "      <td>180010301001</td>\n",
       "      <td>59364016</td>\n",
       "      <td>59364016</td>\n",
       "      <td>59364016</td>\n",
       "      <td>161597</td>\n",
       "      <td>161597</td>\n",
       "      <td>161597</td>\n",
       "    </tr>\n",
       "  </tbody>\n",
       "</table>\n",
       "</div>"
      ],
      "text/plain": [
       "       geoid_10      geoid_20 arealand_10 arealand_20 arealand_part  \\\n",
       "       <object>      <object>     <int64>     <int64>       <int64>   \n",
       "0  180010301001  180010301001    59364016    59364016      59364016   \n",
       "\n",
       "  areawater_10 areawater_20 areawater_part  \n",
       "       <int64>      <int64>        <int64>  \n",
       "0       161597       161597         161597  "
      ]
     },
     "metadata": {},
     "output_type": "display_data"
    }
   ],
   "source": [
    "bg1020 = pd.read_parquet('../data/zones/relation-bg-2010-2020.parquet').disp()"
   ]
  },
  {
   "cell_type": "markdown",
   "metadata": {},
   "source": [
    "# ACS"
   ]
  },
  {
   "cell_type": "code",
   "execution_count": null,
   "metadata": {},
   "outputs": [],
   "source": [
    "def download_acs_shp(scale, state='Indiana', year=2020,\n",
    "                     fields=mk.acs.IMP_FIELDS, outroot='../data/acs',\n",
    "                     save=True, overwrite=False):\n",
    "    geo = {'state': f'{state:02}'} | {\n",
    "        'COUNTY': {'county': '*'},\n",
    "        'TRACT': {'county': '*', 'tract': '*'},\n",
    "        'BG': {'county': '*', 'tract': '*', 'block group': '*'}\n",
    "    }[scale.upper()]\n",
    "    acs = (mk.acs.download(list(geo.items()), list(fields.keys()), year=year)\n",
    "           .rename(columns=fields).reorder_levels(list(geo.keys())))\n",
    "    acs.index = acs.index.map(''.join).rename('geoid')\n",
    "    acs = acs[acs['popu'] > 0]\n",
    "    return acs\n",
    "\n",
    "# %time x = download_acs_shp('bg', year=2013).disp()\n",
    "# x.to_csv('../data/acs/acs_2013.csv')"
   ]
  },
  {
   "cell_type": "code",
   "execution_count": null,
   "metadata": {},
   "outputs": [
    {
     "name": "stdout",
     "output_type": "stream",
     "text": [
      "4,808 rows x 33 cols; Memory: 1.2 MiB\n"
     ]
    },
    {
     "data": {
      "text/html": [
       "<div>\n",
       "<style scoped>\n",
       "    .dataframe tbody tr th:only-of-type {\n",
       "        vertical-align: middle;\n",
       "    }\n",
       "\n",
       "    .dataframe tbody tr th {\n",
       "        vertical-align: top;\n",
       "    }\n",
       "\n",
       "    .dataframe thead th {\n",
       "        text-align: right;\n",
       "    }\n",
       "</style>\n",
       "<table border=\"1\" class=\"dataframe\">\n",
       "  <thead>\n",
       "    <tr style=\"text-align: right;\">\n",
       "      <th></th>\n",
       "      <th>geoid</th>\n",
       "      <th>popu</th>\n",
       "      <th>hh</th>\n",
       "      <th>age_minor</th>\n",
       "      <th>age_adult</th>\n",
       "      <th>age_senior</th>\n",
       "      <th>age_median</th>\n",
       "      <th>sex_female</th>\n",
       "      <th>sex_male</th>\n",
       "      <th>race_white</th>\n",
       "      <th>race_black</th>\n",
       "      <th>edu_eligible</th>\n",
       "      <th>edu_bachelors</th>\n",
       "      <th>employ_total</th>\n",
       "      <th>employ_in_LF</th>\n",
       "      <th>employ_not_in_LF</th>\n",
       "      <th>inc_total</th>\n",
       "      <th>inc_avg</th>\n",
       "      <th>inc_total_hh</th>\n",
       "      <th>inc_median</th>\n",
       "      <th>pop_poor</th>\n",
       "      <th>pop_nonpoor</th>\n",
       "      <th>hh_poor</th>\n",
       "      <th>hh_nonpoor</th>\n",
       "      <th>cm_car</th>\n",
       "      <th>cm_pool</th>\n",
       "      <th>cm_pt</th>\n",
       "      <th>cm_bus</th>\n",
       "      <th>cm_subway</th>\n",
       "      <th>cm_taxi</th>\n",
       "      <th>cm_bike</th>\n",
       "      <th>cm_walk</th>\n",
       "      <th>cm_wfm</th>\n",
       "    </tr>\n",
       "  </thead>\n",
       "  <tbody>\n",
       "    <tr>\n",
       "      <th></th>\n",
       "      <td>&lt;int64&gt;</td>\n",
       "      <td>&lt;float64&gt;</td>\n",
       "      <td>&lt;float64&gt;</td>\n",
       "      <td>&lt;float64&gt;</td>\n",
       "      <td>&lt;float64&gt;</td>\n",
       "      <td>&lt;float64&gt;</td>\n",
       "      <td>&lt;float64&gt;</td>\n",
       "      <td>&lt;float64&gt;</td>\n",
       "      <td>&lt;float64&gt;</td>\n",
       "      <td>&lt;float64&gt;</td>\n",
       "      <td>&lt;float64&gt;</td>\n",
       "      <td>&lt;float64&gt;</td>\n",
       "      <td>&lt;float64&gt;</td>\n",
       "      <td>&lt;float64&gt;</td>\n",
       "      <td>&lt;float64&gt;</td>\n",
       "      <td>&lt;float64&gt;</td>\n",
       "      <td>&lt;float64&gt;</td>\n",
       "      <td>&lt;float64&gt;</td>\n",
       "      <td>&lt;float64&gt;</td>\n",
       "      <td>&lt;float64&gt;</td>\n",
       "      <td>&lt;float64&gt;</td>\n",
       "      <td>&lt;float64&gt;</td>\n",
       "      <td>&lt;float64&gt;</td>\n",
       "      <td>&lt;float64&gt;</td>\n",
       "      <td>&lt;float64&gt;</td>\n",
       "      <td>&lt;float64&gt;</td>\n",
       "      <td>&lt;float64&gt;</td>\n",
       "      <td>&lt;float64&gt;</td>\n",
       "      <td>&lt;float64&gt;</td>\n",
       "      <td>&lt;float64&gt;</td>\n",
       "      <td>&lt;float64&gt;</td>\n",
       "      <td>&lt;float64&gt;</td>\n",
       "      <td>&lt;float64&gt;</td>\n",
       "    </tr>\n",
       "    <tr>\n",
       "      <th>0</th>\n",
       "      <td>180571109041</td>\n",
       "      <td>1567.0</td>\n",
       "      <td>500.0</td>\n",
       "      <td>409.0</td>\n",
       "      <td>1016.0</td>\n",
       "      <td>58.0</td>\n",
       "      <td>39.5</td>\n",
       "      <td>817.0</td>\n",
       "      <td>750.0</td>\n",
       "      <td>1480.0</td>\n",
       "      <td>5.0</td>\n",
       "      <td>970.0</td>\n",
       "      <td>707.0</td>\n",
       "      <td>701.0</td>\n",
       "      <td>725.0</td>\n",
       "      <td>443.0</td>\n",
       "      <td>102434200.0</td>\n",
       "      <td>65370.0</td>\n",
       "      <td>102271000.0</td>\n",
       "      <td>168750.0</td>\n",
       "      <td>NaN</td>\n",
       "      <td>NaN</td>\n",
       "      <td>16.0</td>\n",
       "      <td>484.0</td>\n",
       "      <td>588.0</td>\n",
       "      <td>8.0</td>\n",
       "      <td>0.0</td>\n",
       "      <td>0.0</td>\n",
       "      <td>0.0</td>\n",
       "      <td>0.0</td>\n",
       "      <td>48.0</td>\n",
       "      <td>0.0</td>\n",
       "      <td>596.0</td>\n",
       "    </tr>\n",
       "  </tbody>\n",
       "</table>\n",
       "</div>"
      ],
      "text/plain": [
       "          geoid       popu         hh  age_minor  age_adult age_senior  \\\n",
       "        <int64>  <float64>  <float64>  <float64>  <float64>  <float64>   \n",
       "0  180571109041     1567.0      500.0      409.0     1016.0       58.0   \n",
       "\n",
       "  age_median sex_female   sex_male race_white race_black edu_eligible  \\\n",
       "   <float64>  <float64>  <float64>  <float64>  <float64>    <float64>   \n",
       "0       39.5      817.0      750.0     1480.0        5.0        970.0   \n",
       "\n",
       "  edu_bachelors employ_total employ_in_LF employ_not_in_LF    inc_total  \\\n",
       "      <float64>    <float64>    <float64>        <float64>    <float64>   \n",
       "0         707.0        701.0        725.0            443.0  102434200.0   \n",
       "\n",
       "     inc_avg inc_total_hh inc_median   pop_poor pop_nonpoor    hh_poor  \\\n",
       "   <float64>    <float64>  <float64>  <float64>   <float64>  <float64>   \n",
       "0    65370.0  102271000.0   168750.0        NaN         NaN       16.0   \n",
       "\n",
       "  hh_nonpoor     cm_car    cm_pool      cm_pt     cm_bus  cm_subway  \\\n",
       "   <float64>  <float64>  <float64>  <float64>  <float64>  <float64>   \n",
       "0      484.0      588.0        8.0        0.0        0.0        0.0   \n",
       "\n",
       "     cm_taxi    cm_bike    cm_walk     cm_wfm  \n",
       "   <float64>  <float64>  <float64>  <float64>  \n",
       "0        0.0       48.0        0.0      596.0  "
      ]
     },
     "metadata": {},
     "output_type": "display_data"
    }
   ],
   "source": [
    "acs13 = pd.read_csv('../data/acs/acs_2013.csv').disp()"
   ]
  },
  {
   "cell_type": "code",
   "execution_count": null,
   "metadata": {},
   "outputs": [],
   "source": []
  },
  {
   "cell_type": "code",
   "execution_count": null,
   "metadata": {},
   "outputs": [],
   "source": []
  }
 ],
 "metadata": {
  "kernelspec": {
   "display_name": "mk11",
   "language": "python",
   "name": "python3"
  },
  "language_info": {
   "codemirror_mode": {
    "name": "ipython",
    "version": 3
   },
   "file_extension": ".py",
   "mimetype": "text/x-python",
   "name": "python",
   "nbconvert_exporter": "python",
   "pygments_lexer": "ipython3",
   "version": "3.11.5"
  },
  "orig_nbformat": 4
 },
 "nbformat": 4,
 "nbformat_minor": 2
}
