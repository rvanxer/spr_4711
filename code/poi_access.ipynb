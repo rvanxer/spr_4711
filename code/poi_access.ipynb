{
 "cells": [
  {
   "cell_type": "markdown",
   "metadata": {},
   "source": [
    "# 1. Setup"
   ]
  },
  {
   "cell_type": "code",
   "execution_count": 1,
   "metadata": {},
   "outputs": [],
   "source": [
    "from pqdm.processes import pqdm\n",
    "\n",
    "from utils import *"
   ]
  },
  {
   "cell_type": "markdown",
   "metadata": {},
   "source": [
    "# 2. Prepare data"
   ]
  },
  {
   "cell_type": "markdown",
   "metadata": {},
   "source": [
    "## 2.1. Prepare data"
   ]
  },
  {
   "cell_type": "markdown",
   "metadata": {},
   "source": [
    "### 2.1.1. POI categories\n",
    "Each SafeGraph POI category was manually classified by trip purpose and essentiality."
   ]
  },
  {
   "cell_type": "code",
   "execution_count": 2,
   "metadata": {},
   "outputs": [
    {
     "name": "stdout",
     "output_type": "stream",
     "text": [
      "20 rows x 2 cols; Memory: 0.0 MiB\n"
     ]
    },
    {
     "data": {
      "text/html": [
       "<div>\n",
       "<style scoped>\n",
       "    .dataframe tbody tr th:only-of-type {\n",
       "        vertical-align: middle;\n",
       "    }\n",
       "\n",
       "    .dataframe tbody tr th {\n",
       "        vertical-align: top;\n",
       "    }\n",
       "\n",
       "    .dataframe thead th {\n",
       "        text-align: right;\n",
       "    }\n",
       "</style>\n",
       "<table border=\"1\" class=\"dataframe\">\n",
       "  <thead>\n",
       "    <tr style=\"text-align: right;\">\n",
       "      <th></th>\n",
       "      <th>purpose</th>\n",
       "      <th>top_category</th>\n",
       "    </tr>\n",
       "  </thead>\n",
       "  <tbody>\n",
       "    <tr>\n",
       "      <th></th>\n",
       "      <td>&lt;object&gt;</td>\n",
       "      <td>&lt;object&gt;</td>\n",
       "    </tr>\n",
       "    <tr>\n",
       "      <th>90</th>\n",
       "      <td>Services</td>\n",
       "      <td>Child Day Care Services</td>\n",
       "    </tr>\n",
       "  </tbody>\n",
       "</table>\n",
       "</div>"
      ],
      "text/plain": [
       "     purpose             top_category\n",
       "    <object>                 <object>\n",
       "90  Services  Child Day Care Services"
      ]
     },
     "metadata": {},
     "output_type": "display_data"
    }
   ],
   "source": [
    "with open('../data/pois/poi_categories.yml', 'r') as f:\n",
    "    cats = yaml.safe_load(f)['SafeGraph']\n",
    "cats = Pdf(sum([[D(purpose=k, top_category=x) for x in v] \n",
    "                for k, v in cats.items()], []))\n",
    "cats = cats.query('purpose != \"Overall\"').disp()"
   ]
  },
  {
   "cell_type": "markdown",
   "metadata": {},
   "source": [
    "### 2.1.2. Count POIs by purpose & BG"
   ]
  },
  {
   "cell_type": "code",
   "execution_count": 3,
   "metadata": {},
   "outputs": [
    {
     "name": "stdout",
     "output_type": "stream",
     "text": [
      "681,065 rows x 3 cols; Memory: 91.8 MiB\n"
     ]
    },
    {
     "data": {
      "text/html": [
       "<div>\n",
       "<style scoped>\n",
       "    .dataframe tbody tr th:only-of-type {\n",
       "        vertical-align: middle;\n",
       "    }\n",
       "\n",
       "    .dataframe tbody tr th {\n",
       "        vertical-align: top;\n",
       "    }\n",
       "\n",
       "    .dataframe thead th {\n",
       "        text-align: right;\n",
       "    }\n",
       "</style>\n",
       "<table border=\"1\" class=\"dataframe\">\n",
       "  <thead>\n",
       "    <tr style=\"text-align: right;\">\n",
       "      <th></th>\n",
       "      <th>purpose</th>\n",
       "      <th>cbg</th>\n",
       "      <th>n_pois</th>\n",
       "    </tr>\n",
       "  </thead>\n",
       "  <tbody>\n",
       "    <tr>\n",
       "      <th></th>\n",
       "      <td>&lt;object&gt;</td>\n",
       "      <td>&lt;object&gt;</td>\n",
       "      <td>&lt;int64&gt;</td>\n",
       "    </tr>\n",
       "    <tr>\n",
       "      <th>0</th>\n",
       "      <td>Leisure</td>\n",
       "      <td>010010201001</td>\n",
       "      <td>2</td>\n",
       "    </tr>\n",
       "  </tbody>\n",
       "</table>\n",
       "</div>"
      ],
      "text/plain": [
       "    purpose           cbg   n_pois\n",
       "   <object>      <object>  <int64>\n",
       "0   Leisure  010010201001        2"
      ]
     },
     "metadata": {},
     "output_type": "display_data"
    }
   ],
   "source": [
    "def get_sg_poi_count(categories=cats, year=2020, overwrite=False):\n",
    "    outpath = Path(f'../data/pois/sg_count_{year}.parquet')\n",
    "    if outpath.exists() and not overwrite:\n",
    "        return pd.read_parquet(outpath)\n",
    "    path = '/home/umni2/a/umnilab/data/safegraph/pois/us/2020-11-06.parquet'\n",
    "    poi = pd.read_parquet(path, columns=['top_category', 'lon', 'lat'])\n",
    "    poi = poi.merge(categories, 'left', on='top_category')\n",
    "    poi = pdf2gdf(poi, 'lon', 'lat', CRS_DEG)\n",
    "    bg = gpd.read_parquet(f'../data/zones/us/bg_{year}.parquet')\n",
    "    poi = poi.sjoin(bg[['geoid', 'geometry']], predicate='within')\n",
    "    poi = pd.concat([\n",
    "        poi.groupby(['purpose', 'geoid']).size().reset_index(),\n",
    "        poi.groupby('geoid').size().reset_index().assign(purpose='Overall')\n",
    "    ]).reset_index(drop=1).rename(columns={0: 'n_pois', 'geoid': 'cbg'})\n",
    "    poi.to_parquet(mkfile(outpath))\n",
    "    return poi\n",
    "\n",
    "tot_poi = get_sg_poi_count(overwrite=0).disp() # t=0:44"
   ]
  },
  {
   "cell_type": "code",
   "execution_count": 4,
   "metadata": {},
   "outputs": [
    {
     "data": {
      "text/html": [
       "<div>\n",
       "<style scoped>\n",
       "    .dataframe tbody tr th:only-of-type {\n",
       "        vertical-align: middle;\n",
       "    }\n",
       "\n",
       "    .dataframe tbody tr th {\n",
       "        vertical-align: top;\n",
       "    }\n",
       "\n",
       "    .dataframe thead th {\n",
       "        text-align: right;\n",
       "    }\n",
       "</style>\n",
       "<table border=\"1\" class=\"dataframe\">\n",
       "  <thead>\n",
       "    <tr style=\"text-align: right;\">\n",
       "      <th>purpose</th>\n",
       "      <th>Leisure</th>\n",
       "      <th>Overall</th>\n",
       "      <th>Services</th>\n",
       "      <th>Shopping</th>\n",
       "    </tr>\n",
       "  </thead>\n",
       "  <tbody>\n",
       "    <tr>\n",
       "      <th>n_pois</th>\n",
       "      <td>1040318</td>\n",
       "      <td>5551806</td>\n",
       "      <td>559395</td>\n",
       "      <td>290096</td>\n",
       "    </tr>\n",
       "  </tbody>\n",
       "</table>\n",
       "</div>"
      ],
      "text/plain": [
       "purpose  Leisure  Overall  Services  Shopping\n",
       "n_pois   1040318  5551806    559395    290096"
      ]
     },
     "execution_count": 4,
     "metadata": {},
     "output_type": "execute_result"
    }
   ],
   "source": [
    "tot_poi.groupby('purpose')['n_pois'].sum().to_frame().T"
   ]
  },
  {
   "cell_type": "markdown",
   "metadata": {},
   "source": [
    "### 2.1.3. Impedance function"
   ]
  },
  {
   "cell_type": "code",
   "execution_count": 5,
   "metadata": {},
   "outputs": [
    {
     "name": "stdout",
     "output_type": "stream",
     "text": [
      "12 rows x 4 cols; Memory: 0.0 MiB\n"
     ]
    },
    {
     "data": {
      "text/html": [
       "<div>\n",
       "<style scoped>\n",
       "    .dataframe tbody tr th:only-of-type {\n",
       "        vertical-align: middle;\n",
       "    }\n",
       "\n",
       "    .dataframe tbody tr th {\n",
       "        vertical-align: top;\n",
       "    }\n",
       "\n",
       "    .dataframe thead th {\n",
       "        text-align: right;\n",
       "    }\n",
       "</style>\n",
       "<table border=\"1\" class=\"dataframe\">\n",
       "  <thead>\n",
       "    <tr style=\"text-align: right;\">\n",
       "      <th></th>\n",
       "      <th>mode</th>\n",
       "      <th>purpose</th>\n",
       "      <th>alpha</th>\n",
       "      <th>beta</th>\n",
       "    </tr>\n",
       "  </thead>\n",
       "  <tbody>\n",
       "    <tr>\n",
       "      <th></th>\n",
       "      <td>&lt;object&gt;</td>\n",
       "      <td>&lt;object&gt;</td>\n",
       "      <td>&lt;float64&gt;</td>\n",
       "      <td>&lt;float64&gt;</td>\n",
       "    </tr>\n",
       "    <tr>\n",
       "      <th>0</th>\n",
       "      <td>bike</td>\n",
       "      <td>Services</td>\n",
       "      <td>0.044686</td>\n",
       "      <td>0.981751</td>\n",
       "    </tr>\n",
       "    <tr>\n",
       "      <th>1</th>\n",
       "      <td>bike</td>\n",
       "      <td>Overall</td>\n",
       "      <td>0.025914</td>\n",
       "      <td>1.222447</td>\n",
       "    </tr>\n",
       "  </tbody>\n",
       "</table>\n",
       "</div>"
      ],
      "text/plain": [
       "       mode   purpose      alpha       beta\n",
       "   <object>  <object>  <float64>  <float64>\n",
       "0      bike  Services   0.044686   0.981751\n",
       "1      bike   Overall   0.025914   1.222447"
      ]
     },
     "metadata": {},
     "output_type": "display_data"
    }
   ],
   "source": [
    "imped_params = (\n",
    "    pd.read_csv('../data/nhts/fitted-params-power-exponential.csv')\n",
    "    .query(' & '.join(['mode != \"Transit\"', 'measure == \"Duration\"',\n",
    "                       'parameter != \"r2\"', 'purpose != \"Work\"']))\n",
    "    .pivot_table('value', ['mode', 'purpose'], 'parameter').reset_index()\n",
    "    .assign(mode=lambda df: df['mode'].str.lower()).rename_axis(None, axis=1)\n",
    "    .assign(purpose=lambda df: df['purpose']\n",
    "            .str.replace('Social/Recreational', 'Leisure')\n",
    "            .str.replace('Other', 'Services'))\n",
    ").disp(2)"
   ]
  },
  {
   "cell_type": "markdown",
   "metadata": {},
   "source": [
    "### 2.1.4. Potential accessibility\n",
    "This only requires total jobs at the destination, not the OD flows"
   ]
  },
  {
   "cell_type": "code",
   "execution_count": 6,
   "metadata": {},
   "outputs": [],
   "source": [
    "# travel time thresholds (in minutes)\n",
    "thresholds = (15, 30, 45, 60, 90)"
   ]
  },
  {
   "cell_type": "code",
   "execution_count": 7,
   "metadata": {},
   "outputs": [
    {
     "name": "stdout",
     "output_type": "stream",
     "text": [
      "0 rows x 7 cols; Memory: 0.0 MiB\n"
     ]
    },
    {
     "data": {
      "text/html": [
       "<div>\n",
       "<style scoped>\n",
       "    .dataframe tbody tr th:only-of-type {\n",
       "        vertical-align: middle;\n",
       "    }\n",
       "\n",
       "    .dataframe tbody tr th {\n",
       "        vertical-align: top;\n",
       "    }\n",
       "\n",
       "    .dataframe thead th {\n",
       "        text-align: right;\n",
       "    }\n",
       "</style>\n",
       "<table border=\"1\" class=\"dataframe\">\n",
       "  <thead>\n",
       "    <tr style=\"text-align: right;\">\n",
       "      <th></th>\n",
       "      <th>region</th>\n",
       "      <th>scale</th>\n",
       "      <th>mode</th>\n",
       "      <th>thresh</th>\n",
       "      <th>kind</th>\n",
       "      <th>geoid</th>\n",
       "      <th>opport</th>\n",
       "    </tr>\n",
       "  </thead>\n",
       "  <tbody>\n",
       "    <tr>\n",
       "      <th></th>\n",
       "      <td>&lt;object&gt;</td>\n",
       "      <td>&lt;object&gt;</td>\n",
       "      <td>&lt;object&gt;</td>\n",
       "      <td>&lt;object&gt;</td>\n",
       "      <td>&lt;object&gt;</td>\n",
       "      <td>&lt;object&gt;</td>\n",
       "      <td>&lt;object&gt;</td>\n",
       "    </tr>\n",
       "  </tbody>\n",
       "</table>\n",
       "</div>"
      ],
      "text/plain": [
       "    region     scale      mode    thresh      kind     geoid    opport\n",
       "  <object>  <object>  <object>  <object>  <object>  <object>  <object>"
      ]
     },
     "metadata": {},
     "output_type": "display_data"
    }
   ],
   "source": [
    "def get_potential_access(level, region, scale, mode, thresh,\n",
    "                         year=2020, params=imped_params):\n",
    "    cols = 'region scale mode thresh kind geoid opport'.split()\n",
    "    try:\n",
    "        pois = get_sg_poi_count(year=year)\n",
    "        pois['geoid'] = pois['cbg'].str[:D(county=5, tract=11, bg=12)[scale]]\n",
    "        pois = pois.groupby(['purpose', 'geoid'])['n_pois'].sum().reset_index()\n",
    "        # read travel time between the zones of given scale by given mode\n",
    "        tt_file = Path(f'../data/osrm/{level}/{region}/{scale}_{mode}_{year}.parquet')\n",
    "        tt_cols = D(src_geoid='src', trg_geoid='trg', duration='time')\n",
    "        tt = pd.read_parquet(tt_file, columns=tt_cols.keys()).rename(columns=tt_cols)\n",
    "        zones = tt['src'].unique()\n",
    "        tt = pd.concat([tt, Pdf(D(src=zones, trg=zones, time=0))])\n",
    "        tt = tt.set_index(['src', 'trg'])['time'] / 60 # travel time in minutes\n",
    "        t = tt[tt <= thresh] # travel times for filtered OD pairs\n",
    "        dfs = []\n",
    "        params = params.query(f'mode == \"{mode}\"')\n",
    "        assert set(params.purpose) == set(pois.purpose), \"Purposes don't match\"\n",
    "        for _, r in params.iterrows(): # for each purpose\n",
    "            od = np.exp(-r.alpha * t ** r.beta).rename('weight').reset_index()\n",
    "            od = od.merge(pois[pois.purpose == r.purpose],\n",
    "                        left_on='trg', right_on='geoid')\n",
    "            od['wtd_pois'] = od['n_pois'] * od['weight']\n",
    "            dfs.append(od)\n",
    "        xs = (pd.concat(dfs).groupby(['src', 'purpose'])['wtd_pois'].sum()\n",
    "              .reset_index().rename(columns=D(src='geoid'))\n",
    "              .assign(region=region, scale=scale, mode=mode, thresh=str(thresh))\n",
    "              [cols].rename(columns=D(purpose='kind', wtd_pois='opport')))\n",
    "    except Exception:\n",
    "        xs = Pdf([], columns=cols)\n",
    "    return xs\n",
    "\n",
    "x = get_potential_access('state', '01-alabama', 'tract', 'drive', 60).disp()\n",
    "# x = get_potential_access('msa', '29820-las-vegas', 'bg', 'drive', 30); x"
   ]
  },
  {
   "cell_type": "code",
   "execution_count": 8,
   "metadata": {},
   "outputs": [
    {
     "data": {
      "application/vnd.jupyter.widget-view+json": {
       "model_id": "1357320f83764a4da325b32f2680e547",
       "version_major": 2,
       "version_minor": 0
      },
      "text/plain": [
       "QUEUEING TASKS | :   0%|          | 0/2100 [00:00<?, ?it/s]"
      ]
     },
     "metadata": {},
     "output_type": "display_data"
    },
    {
     "data": {
      "application/vnd.jupyter.widget-view+json": {
       "model_id": "9bdfffcaa40c4f15bd93c8a0c8ea1cb7",
       "version_major": 2,
       "version_minor": 0
      },
      "text/plain": [
       "PROCESSING TASKS | :   0%|          | 0/2100 [00:00<?, ?it/s]"
      ]
     },
     "metadata": {},
     "output_type": "display_data"
    }
   ],
   "source": [
    "def get_potential_access_all(level, year=2020, thresholds=thresholds,\n",
    "                             njobs=4, overwrite=False):\n",
    "    outpath = Path(f'../data/access/poi_{level}_{year}.parquet')\n",
    "    if outpath.exists() and not overwrite:\n",
    "        return pd.read_parquet(outpath)\n",
    "    files = Path(f'../data/osrm/{level}').glob(f'*/*_{year}.parquet')\n",
    "    cases = sum([[D(level=level, region=f.parent.stem,\n",
    "                    scale=f.stem.split('_')[0], mode=f.stem.split('_')[1],\n",
    "                    thresh=t, year=year) for t in thresholds]\n",
    "                 for f in files], [])\n",
    "    np.random.shuffle(cases) # shuffle to hopefully reduce parallel load\n",
    "    dfs = pqdm(cases, get_potential_access, n_jobs=njobs, argument_type='kwargs')\n",
    "    cat_cols = 'region scale mode thresh purpose geoid'.split()\n",
    "    access = (pd.concat(dfs).astype(D(wtd_pois=np.int32))\n",
    "              .sort_values(cat_cols).reset_index(drop=1)\n",
    "              .astype({x: CAT for x in cat_cols})[cat_cols + ['wtd_pois']])\n",
    "    access.to_parquet(mkfile(outpath))\n",
    "    return access\n",
    "\n",
    "# xs_st = get_potential_access_all('state', overwrite=0, njobs=16).disp() # t=2:36\n",
    "xs_msa = get_potential_access_all('msa', overwrite=1, njobs=16).disp() # t=30:08"
   ]
  },
  {
   "cell_type": "markdown",
   "metadata": {},
   "source": [
    "# 3. Visualize"
   ]
  },
  {
   "cell_type": "code",
   "execution_count": null,
   "metadata": {},
   "outputs": [],
   "source": []
  }
 ],
 "metadata": {
  "kernelspec": {
   "display_name": "mk11",
   "language": "python",
   "name": "python3"
  },
  "language_info": {
   "codemirror_mode": {
    "name": "ipython",
    "version": 3
   },
   "file_extension": ".py",
   "mimetype": "text/x-python",
   "name": "python",
   "nbconvert_exporter": "python",
   "pygments_lexer": "ipython3",
   "version": "3.11.6"
  }
 },
 "nbformat": 4,
 "nbformat_minor": 2
}
