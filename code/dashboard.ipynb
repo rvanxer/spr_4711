{
 "cells": [
  {
   "cell_type": "markdown",
   "metadata": {},
   "source": [
    "# 1. Setup"
   ]
  },
  {
   "cell_type": "code",
   "execution_count": null,
   "metadata": {},
   "outputs": [
    {
     "name": "stdout",
     "output_type": "stream",
     "text": [
      "/home/umni2/a/umnilab/users/verma99/mk/spr_4711/code\n"
     ]
    }
   ],
   "source": [
    "!pwd"
   ]
  },
  {
   "cell_type": "code",
   "execution_count": null,
   "metadata": {},
   "outputs": [],
   "source": [
    "from mobilkit.umni import *\n",
    "from project import *"
   ]
  },
  {
   "cell_type": "markdown",
   "metadata": {},
   "source": [
    "# 2. Process data"
   ]
  },
  {
   "cell_type": "markdown",
   "metadata": {},
   "source": [
    "## 2.1. Zones\n",
    "Simplify geometry for faster loading and processing in the dashboard."
   ]
  },
  {
   "cell_type": "code",
   "execution_count": 1,
   "metadata": {},
   "outputs": [
    {
     "ename": "NameError",
     "evalue": "name 'gpd' is not defined",
     "output_type": "error",
     "traceback": [
      "\u001b[0;31m---------------------------------------------------------------------------\u001b[0m",
      "\u001b[0;31mNameError\u001b[0m                                 Traceback (most recent call last)",
      "\u001b[1;32m/home/umni2/a/umnilab/users/verma99/mk/spr_4711/code/dashboard.ipynb Cell 6\u001b[0m line \u001b[0;36m1\n\u001b[0;32m----> <a href='vscode-notebook-cell://ssh-remote%2Bumni5/home/umni2/a/umnilab/users/verma99/mk/spr_4711/code/dashboard.ipynb#W5sdnNjb2RlLXJlbW90ZQ%3D%3D?line=0'>1</a>\u001b[0m zones \u001b[39m=\u001b[39m gpd\u001b[39m.\u001b[39mread_parquet(\u001b[39m'\u001b[39m\u001b[39m../data/zones/zones2010.parquet\u001b[39m\u001b[39m'\u001b[39m)\u001b[39m.\u001b[39mset_crs(CRS_DEG)\n\u001b[1;32m      <a href='vscode-notebook-cell://ssh-remote%2Bumni5/home/umni2/a/umnilab/users/verma99/mk/spr_4711/code/dashboard.ipynb#W5sdnNjb2RlLXJlbW90ZQ%3D%3D?line=1'>2</a>\u001b[0m zones[\u001b[39m'\u001b[39m\u001b[39mscale\u001b[39m\u001b[39m'\u001b[39m] \u001b[39m=\u001b[39m zones[\u001b[39m'\u001b[39m\u001b[39mscale\u001b[39m\u001b[39m'\u001b[39m]\u001b[39m.\u001b[39mmap(D(COUNTY\u001b[39m=\u001b[39m\u001b[39m'\u001b[39m\u001b[39mCounty\u001b[39m\u001b[39m'\u001b[39m, TRACT\u001b[39m=\u001b[39m\u001b[39m'\u001b[39m\u001b[39mTract\u001b[39m\u001b[39m'\u001b[39m, BG\u001b[39m=\u001b[39m\u001b[39m'\u001b[39m\u001b[39mBlock Group\u001b[39m\u001b[39m'\u001b[39m))\n\u001b[1;32m      <a href='vscode-notebook-cell://ssh-remote%2Bumni5/home/umni2/a/umnilab/users/verma99/mk/spr_4711/code/dashboard.ipynb#W5sdnNjb2RlLXJlbW90ZQ%3D%3D?line=2'>3</a>\u001b[0m zones \u001b[39m=\u001b[39m zones[[\u001b[39m'\u001b[39m\u001b[39mscale\u001b[39m\u001b[39m'\u001b[39m, \u001b[39m'\u001b[39m\u001b[39mgeoid\u001b[39m\u001b[39m'\u001b[39m, \u001b[39m'\u001b[39m\u001b[39mname\u001b[39m\u001b[39m'\u001b[39m, \u001b[39m'\u001b[39m\u001b[39mgeometry\u001b[39m\u001b[39m'\u001b[39m]]\u001b[39m.\u001b[39mdisp()\n",
      "\u001b[0;31mNameError\u001b[0m: name 'gpd' is not defined"
     ]
    }
   ],
   "source": [
    "zones = gpd.read_parquet('../data/zones/zones2010.parquet').set_crs(CRS_DEG)\n",
    "zones['scale'] = zones['scale'].map(D(COUNTY='County', TRACT='Tract', BG='Block Group'))\n",
    "zones = zones[['scale', 'geoid', 'name', 'geometry']].disp()"
   ]
  },
  {
   "cell_type": "code",
   "execution_count": 81,
   "metadata": {},
   "outputs": [
    {
     "data": {
      "text/html": [
       "<div>\n",
       "<style scoped>\n",
       "    .dataframe tbody tr th:only-of-type {\n",
       "        vertical-align: middle;\n",
       "    }\n",
       "\n",
       "    .dataframe tbody tr th {\n",
       "        vertical-align: top;\n",
       "    }\n",
       "\n",
       "    .dataframe thead th {\n",
       "        text-align: right;\n",
       "    }\n",
       "</style>\n",
       "<table border=\"1\" class=\"dataframe\">\n",
       "  <thead>\n",
       "    <tr style=\"text-align: right;\">\n",
       "      <th></th>\n",
       "      <th>geoid</th>\n",
       "      <th>name</th>\n",
       "    </tr>\n",
       "  </thead>\n",
       "  <tbody>\n",
       "    <tr>\n",
       "      <th>0</th>\n",
       "      <td>18083</td>\n",
       "      <td>Knox</td>\n",
       "    </tr>\n",
       "    <tr>\n",
       "      <th>1</th>\n",
       "      <td>18175</td>\n",
       "      <td>Washington</td>\n",
       "    </tr>\n",
       "    <tr>\n",
       "      <th>2</th>\n",
       "      <td>18081</td>\n",
       "      <td>Johnson</td>\n",
       "    </tr>\n",
       "    <tr>\n",
       "      <th>3</th>\n",
       "      <td>18075</td>\n",
       "      <td>Jay</td>\n",
       "    </tr>\n",
       "    <tr>\n",
       "      <th>4</th>\n",
       "      <td>18039</td>\n",
       "      <td>Elkhart</td>\n",
       "    </tr>\n",
       "    <tr>\n",
       "      <th>...</th>\n",
       "      <td>...</td>\n",
       "      <td>...</td>\n",
       "    </tr>\n",
       "    <tr>\n",
       "      <th>6412</th>\n",
       "      <td>18097</td>\n",
       "      <td>Marion</td>\n",
       "    </tr>\n",
       "    <tr>\n",
       "      <th>6413</th>\n",
       "      <td>18097</td>\n",
       "      <td>Marion</td>\n",
       "    </tr>\n",
       "    <tr>\n",
       "      <th>6414</th>\n",
       "      <td>18097</td>\n",
       "      <td>Marion</td>\n",
       "    </tr>\n",
       "    <tr>\n",
       "      <th>6415</th>\n",
       "      <td>18097</td>\n",
       "      <td>Marion</td>\n",
       "    </tr>\n",
       "    <tr>\n",
       "      <th>6416</th>\n",
       "      <td>18097</td>\n",
       "      <td>Marion</td>\n",
       "    </tr>\n",
       "  </tbody>\n",
       "</table>\n",
       "<p>6417 rows × 2 columns</p>\n",
       "</div>"
      ],
      "text/plain": [
       "      geoid        name\n",
       "0     18083        Knox\n",
       "1     18175  Washington\n",
       "2     18081     Johnson\n",
       "3     18075         Jay\n",
       "4     18039     Elkhart\n",
       "...     ...         ...\n",
       "6412  18097      Marion\n",
       "6413  18097      Marion\n",
       "6414  18097      Marion\n",
       "6415  18097      Marion\n",
       "6416  18097      Marion\n",
       "\n",
       "[6417 rows x 2 columns]"
      ]
     },
     "execution_count": 81,
     "metadata": {},
     "output_type": "execute_result"
    }
   ],
   "source": [
    "zones.geoid.str[:5].to_frame().merge(zones[['geoid', 'name']], 'left', 'geoid')"
   ]
  },
  {
   "cell_type": "code",
   "execution_count": null,
   "metadata": {},
   "outputs": [],
   "source": [
    "zones.geometry = zones.geometry.simplify(0.005)\n",
    "zones.to_file(U.mkfile('../data/dashboard/zones.shp.zip'), driver='ESRI Shapefile')"
   ]
  },
  {
   "cell_type": "markdown",
   "metadata": {},
   "source": [
    "## 2.2. SES"
   ]
  },
  {
   "cell_type": "code",
   "execution_count": 51,
   "metadata": {},
   "outputs": [
    {
     "name": "stdout",
     "output_type": "stream",
     "text": [
      "6,407 rows x 25 cols; Memory: 1.5 MiB\n"
     ]
    },
    {
     "data": {
      "text/html": [
       "<div>\n",
       "<style scoped>\n",
       "    .dataframe tbody tr th:only-of-type {\n",
       "        vertical-align: middle;\n",
       "    }\n",
       "\n",
       "    .dataframe tbody tr th {\n",
       "        vertical-align: top;\n",
       "    }\n",
       "\n",
       "    .dataframe thead th {\n",
       "        text-align: right;\n",
       "    }\n",
       "</style>\n",
       "<table border=\"1\" class=\"dataframe\">\n",
       "  <thead>\n",
       "    <tr style=\"text-align: right;\">\n",
       "      <th></th>\n",
       "      <th>scale</th>\n",
       "      <th>geoid</th>\n",
       "      <th>popu</th>\n",
       "      <th>pop_density</th>\n",
       "      <th>p_minor</th>\n",
       "      <th>p_poc</th>\n",
       "      <th>p_nocollege</th>\n",
       "      <th>m_income</th>\n",
       "      <th>p_pov</th>\n",
       "      <th>p_pov150</th>\n",
       "      <th>p_pov200</th>\n",
       "      <th>p_snap</th>\n",
       "      <th>p_unemploy</th>\n",
       "      <th>p_noinsur</th>\n",
       "      <th>p_disabled</th>\n",
       "      <th>p_lowenglish</th>\n",
       "      <th>p_snglparent</th>\n",
       "      <th>p_crowded</th>\n",
       "      <th>p_renter</th>\n",
       "      <th>p_mobilehome</th>\n",
       "      <th>p_noveh</th>\n",
       "      <th>m_hhperveh</th>\n",
       "      <th>p_nowfh</th>\n",
       "      <th>p_transit</th>\n",
       "      <th>p_walkbike</th>\n",
       "    </tr>\n",
       "  </thead>\n",
       "  <tbody>\n",
       "    <tr>\n",
       "      <th></th>\n",
       "      <td>&lt;object&gt;</td>\n",
       "      <td>&lt;int64&gt;</td>\n",
       "      <td>&lt;float64&gt;</td>\n",
       "      <td>&lt;float64&gt;</td>\n",
       "      <td>&lt;float64&gt;</td>\n",
       "      <td>&lt;float64&gt;</td>\n",
       "      <td>&lt;float64&gt;</td>\n",
       "      <td>&lt;float64&gt;</td>\n",
       "      <td>&lt;float64&gt;</td>\n",
       "      <td>&lt;float64&gt;</td>\n",
       "      <td>&lt;float64&gt;</td>\n",
       "      <td>&lt;float64&gt;</td>\n",
       "      <td>&lt;float64&gt;</td>\n",
       "      <td>&lt;float64&gt;</td>\n",
       "      <td>&lt;float64&gt;</td>\n",
       "      <td>&lt;float64&gt;</td>\n",
       "      <td>&lt;float64&gt;</td>\n",
       "      <td>&lt;float64&gt;</td>\n",
       "      <td>&lt;float64&gt;</td>\n",
       "      <td>&lt;float64&gt;</td>\n",
       "      <td>&lt;float64&gt;</td>\n",
       "      <td>&lt;float64&gt;</td>\n",
       "      <td>&lt;float64&gt;</td>\n",
       "      <td>&lt;float64&gt;</td>\n",
       "      <td>&lt;float64&gt;</td>\n",
       "    </tr>\n",
       "  </tbody>\n",
       "</table>\n",
       "</div>"
      ],
      "text/plain": [
       "     scale    geoid       popu pop_density    p_minor      p_poc p_nocollege  \\\n",
       "  <object>  <int64>  <float64>   <float64>  <float64>  <float64>   <float64>   \n",
       "\n",
       "   m_income      p_pov   p_pov150   p_pov200     p_snap p_unemploy  p_noinsur  \\\n",
       "  <float64>  <float64>  <float64>  <float64>  <float64>  <float64>  <float64>   \n",
       "\n",
       " p_disabled p_lowenglish p_snglparent  p_crowded   p_renter p_mobilehome  \\\n",
       "  <float64>    <float64>    <float64>  <float64>  <float64>    <float64>   \n",
       "\n",
       "    p_noveh m_hhperveh    p_nowfh  p_transit p_walkbike  \n",
       "  <float64>  <float64>  <float64>  <float64>  <float64>  "
      ]
     },
     "metadata": {},
     "output_type": "display_data"
    }
   ],
   "source": [
    "ses = pd.read_csv('../data/acs/acs2019.csv').disp(0)"
   ]
  },
  {
   "cell_type": "code",
   "execution_count": 83,
   "metadata": {},
   "outputs": [],
   "source": [
    "ses_cols = D(\n",
    "    popu='Population',\n",
    "    pop_density='Population Density',\n",
    "    p_minor='Proportion Minors',\n",
    "    p_poc='People of Color',\n",
    "    p_nocollege='Low Education',\n",
    "    m_income='Income Disadvantage',\n",
    "    p_pov='Poverty Rate',\n",
    "    p_pov150='1.5x Poverty Rate',\n",
    "    p_pov200='2x Poverty Rate',\n",
    "    p_snap='SNAP Recipients',\n",
    "    p_unemploy='Unemployment Rate',\n",
    "    p_noinsur='No Health Insurance',\n",
    "    p_disabled='People with Disabilites',\n",
    "    p_lowenglish='Limited English Speaking',\n",
    "    p_snglparent='Single-Parent Households',\n",
    "    p_crowded='High-Occupancy Households',\n",
    "    p_renter='Rented Households',\n",
    "    p_mobilehome='Mobile Homes',\n",
    "    p_novehicle='No Vehicle Households',\n",
    "    m_hhperveh='Vehicle Availability',\n",
    "    p_nowfh='Commuters',\n",
    "    p_transit='Transit Commuters',\n",
    "    p_walkbike='Walk/Bike Commuters',\n",
    ")"
   ]
  },
  {
   "cell_type": "code",
   "execution_count": 84,
   "metadata": {},
   "outputs": [
    {
     "name": "stdout",
     "output_type": "stream",
     "text": [
      "294,722 rows x 4 cols; Memory: 4.0 MiB\n"
     ]
    },
    {
     "data": {
      "text/html": [
       "<div>\n",
       "<style scoped>\n",
       "    .dataframe tbody tr th:only-of-type {\n",
       "        vertical-align: middle;\n",
       "    }\n",
       "\n",
       "    .dataframe tbody tr th {\n",
       "        vertical-align: top;\n",
       "    }\n",
       "\n",
       "    .dataframe thead th {\n",
       "        text-align: right;\n",
       "    }\n",
       "</style>\n",
       "<table border=\"1\" class=\"dataframe\">\n",
       "  <thead>\n",
       "    <tr style=\"text-align: right;\">\n",
       "      <th></th>\n",
       "      <th>geoid</th>\n",
       "      <th>indicator</th>\n",
       "      <th>percentile</th>\n",
       "      <th>value</th>\n",
       "    </tr>\n",
       "  </thead>\n",
       "  <tbody>\n",
       "    <tr>\n",
       "      <th></th>\n",
       "      <td>&lt;category&gt;</td>\n",
       "      <td>&lt;category&gt;</td>\n",
       "      <td>&lt;category&gt;</td>\n",
       "      <td>&lt;float64&gt;</td>\n",
       "    </tr>\n",
       "    <tr>\n",
       "      <th>0</th>\n",
       "      <td>18069</td>\n",
       "      <td>Population</td>\n",
       "      <td>False</td>\n",
       "      <td>36359.0</td>\n",
       "    </tr>\n",
       "  </tbody>\n",
       "</table>\n",
       "</div>"
      ],
      "text/plain": [
       "        geoid   indicator  percentile      value\n",
       "   <category>  <category>  <category>  <float64>\n",
       "0       18069  Population       False    36359.0"
      ]
     },
     "metadata": {},
     "output_type": "display_data"
    }
   ],
   "source": [
    "ses2 = (\n",
    "    ses.astype({'geoid': str})\n",
    "    .melt(['scale', 'geoid'], var_name='indicator', value_name='value')\n",
    "    .assign(indicator=lambda df: df.indicator.map(ses_cols))\n",
    "    .assign(percentile=lambda df: 100 * (1 - df.groupby(['scale', 'indicator'])\n",
    "                            ['value'].rank(pct=True).rename('rank')))\n",
    "    .rename(columns=D(value=False, percentile=True))\n",
    "    .drop(columns='scale').melt(['geoid', 'indicator'], var_name='percentile')\n",
    "    .astype({x: CAT for x in ['geoid', 'indicator', 'percentile']})\n",
    ").disp()"
   ]
  },
  {
   "cell_type": "code",
   "execution_count": 85,
   "metadata": {},
   "outputs": [],
   "source": [
    "# ses2.to_csv('../data/dashboard/ses.csv', index=False)\n",
    "ses2.to_parquet('../data/dashboard/ses.parquet')"
   ]
  },
  {
   "cell_type": "markdown",
   "metadata": {},
   "source": [
    "## 2.3. EJ"
   ]
  },
  {
   "cell_type": "code",
   "execution_count": 82,
   "metadata": {},
   "outputs": [
    {
     "name": "stdout",
     "output_type": "stream",
     "text": [
      "356,286 rows x 7 cols; Memory: 5.8 MiB\n"
     ]
    },
    {
     "data": {
      "text/html": [
       "<div>\n",
       "<style scoped>\n",
       "    .dataframe tbody tr th:only-of-type {\n",
       "        vertical-align: middle;\n",
       "    }\n",
       "\n",
       "    .dataframe tbody tr th {\n",
       "        vertical-align: top;\n",
       "    }\n",
       "\n",
       "    .dataframe thead th {\n",
       "        text-align: right;\n",
       "    }\n",
       "</style>\n",
       "<table border=\"1\" class=\"dataframe\">\n",
       "  <thead>\n",
       "    <tr style=\"text-align: right;\">\n",
       "      <th></th>\n",
       "      <th>scale</th>\n",
       "      <th>is_ses</th>\n",
       "      <th>is_derived</th>\n",
       "      <th>is_pctile</th>\n",
       "      <th>variable</th>\n",
       "      <th>geoid</th>\n",
       "      <th>value</th>\n",
       "    </tr>\n",
       "  </thead>\n",
       "  <tbody>\n",
       "    <tr>\n",
       "      <th></th>\n",
       "      <td>&lt;category&gt;</td>\n",
       "      <td>&lt;bool&gt;</td>\n",
       "      <td>&lt;bool&gt;</td>\n",
       "      <td>&lt;bool&gt;</td>\n",
       "      <td>&lt;category&gt;</td>\n",
       "      <td>&lt;category&gt;</td>\n",
       "      <td>&lt;float64&gt;</td>\n",
       "    </tr>\n",
       "    <tr>\n",
       "      <th>0</th>\n",
       "      <td>TRACT</td>\n",
       "      <td>True</td>\n",
       "      <td>False</td>\n",
       "      <td>False</td>\n",
       "      <td>Total: Population</td>\n",
       "      <td>18001030100</td>\n",
       "      <td>4826.0</td>\n",
       "    </tr>\n",
       "  </tbody>\n",
       "</table>\n",
       "</div>"
      ],
      "text/plain": [
       "        scale  is_ses is_derived is_pctile           variable        geoid  \\\n",
       "   <category>  <bool>     <bool>    <bool>         <category>   <category>   \n",
       "0       TRACT    True      False     False  Total: Population  18001030100   \n",
       "\n",
       "       value  \n",
       "   <float64>  \n",
       "0     4826.0  "
      ]
     },
     "metadata": {},
     "output_type": "display_data"
    }
   ],
   "source": [
    "ejs = pd.read_parquet('../data/ejs/ejs.parquet').disp()"
   ]
  },
  {
   "cell_type": "code",
   "execution_count": null,
   "metadata": {},
   "outputs": [],
   "source": []
  },
  {
   "cell_type": "code",
   "execution_count": null,
   "metadata": {},
   "outputs": [],
   "source": []
  }
 ],
 "metadata": {
  "kernelspec": {
   "display_name": "mk11",
   "language": "python",
   "name": "python3"
  },
  "language_info": {
   "codemirror_mode": {
    "name": "ipython",
    "version": 3
   },
   "file_extension": ".py",
   "mimetype": "text/x-python",
   "name": "python",
   "nbconvert_exporter": "python",
   "pygments_lexer": "ipython3",
   "version": "3.11.5"
  }
 },
 "nbformat": 4,
 "nbformat_minor": 2
}
