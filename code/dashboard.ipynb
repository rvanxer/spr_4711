{
 "cells": [
  {
   "cell_type": "markdown",
   "metadata": {},
   "source": [
    "# 1. Setup"
   ]
  },
  {
   "cell_type": "code",
   "execution_count": 1,
   "metadata": {},
   "outputs": [
    {
     "name": "stdout",
     "output_type": "stream",
     "text": [
      "/home/umni2/a/umnilab/users/verma99/mk/spr_4711/code\n"
     ]
    }
   ],
   "source": [
    "!pwd"
   ]
  },
  {
   "cell_type": "code",
   "execution_count": 2,
   "metadata": {},
   "outputs": [],
   "source": [
    "from mobilkit.umni import *"
   ]
  },
  {
   "cell_type": "markdown",
   "metadata": {},
   "source": [
    "# 2. Process data"
   ]
  },
  {
   "cell_type": "markdown",
   "metadata": {},
   "source": [
    "## 2.1. Zones\n",
    "Simplify geometry for faster loading and processing in the dashboard."
   ]
  },
  {
   "cell_type": "code",
   "execution_count": 14,
   "metadata": {},
   "outputs": [
    {
     "name": "stdout",
     "output_type": "stream",
     "text": [
      "6,407 rows x 8 cols; Memory: 1.8 MiB; CRS: EPSG:4326\n"
     ]
    },
    {
     "data": {
      "text/html": [
       "<div>\n",
       "<style scoped>\n",
       "    .dataframe tbody tr th:only-of-type {\n",
       "        vertical-align: middle;\n",
       "    }\n",
       "\n",
       "    .dataframe tbody tr th {\n",
       "        vertical-align: top;\n",
       "    }\n",
       "\n",
       "    .dataframe thead th {\n",
       "        text-align: right;\n",
       "    }\n",
       "</style>\n",
       "<table border=\"1\" class=\"dataframe\">\n",
       "  <thead>\n",
       "    <tr style=\"text-align: right;\">\n",
       "      <th></th>\n",
       "      <th>GEOID</th>\n",
       "      <th>SCALE</th>\n",
       "      <th>COUNTY</th>\n",
       "      <th>CBSA</th>\n",
       "      <th>ALAND</th>\n",
       "      <th>AWATER</th>\n",
       "      <th>geometry</th>\n",
       "      <th>POPU</th>\n",
       "    </tr>\n",
       "  </thead>\n",
       "  <tbody>\n",
       "    <tr>\n",
       "      <th></th>\n",
       "      <td>&lt;object&gt;</td>\n",
       "      <td>&lt;object&gt;</td>\n",
       "      <td>&lt;object&gt;</td>\n",
       "      <td>&lt;object&gt;</td>\n",
       "      <td>&lt;int64&gt;</td>\n",
       "      <td>&lt;int64&gt;</td>\n",
       "      <td>&lt;geometry&gt;</td>\n",
       "      <td>&lt;int32&gt;</td>\n",
       "    </tr>\n",
       "    <tr>\n",
       "      <th>0</th>\n",
       "      <td>18083</td>\n",
       "      <td>County</td>\n",
       "      <td>Knox</td>\n",
       "      <td></td>\n",
       "      <td>1336514262</td>\n",
       "      <td>20755159</td>\n",
       "      <td>POLYGON ((-87.506221 38.733533, -87.495799 38....</td>\n",
       "      <td>37065</td>\n",
       "    </tr>\n",
       "  </tbody>\n",
       "</table>\n",
       "</div>"
      ],
      "text/plain": [
       "      GEOID     SCALE    COUNTY      CBSA       ALAND    AWATER  \\\n",
       "   <object>  <object>  <object>  <object>     <int64>   <int64>   \n",
       "0     18083    County      Knox            1336514262  20755159   \n",
       "\n",
       "                                            geometry     POPU  \n",
       "                                          <geometry>  <int32>  \n",
       "0  POLYGON ((-87.506221 38.733533, -87.495799 38....    37065  "
      ]
     },
     "metadata": {},
     "output_type": "display_data"
    }
   ],
   "source": [
    "zones = (\n",
    "    gpd.read_parquet('../data/zones/zones2010.parquet')\n",
    "    .assign(scale=lambda df: df['scale'].map(\n",
    "        D(COUNTY='County', TRACT='Tract', BG='Block Group')))\n",
    "    .assign(geometry=lambda df: df.geometry.simplify(0.005))\n",
    "    .merge(pd.read_csv('../data/acs/acs2019.csv')\n",
    "           .astype({'geoid': str, 'popu': np.int32})[['geoid', 'popu']])\n",
    "    .rename(columns=lambda x: x.upper() if x != 'geometry' else x)\n",
    ").set_crs(CRS_DEG).disp()"
   ]
  },
  {
   "cell_type": "code",
   "execution_count": 15,
   "metadata": {},
   "outputs": [],
   "source": [
    "zones.to_file('../data/dashboard/zones.shp.zip', driver='ESRI Shapefile')"
   ]
  },
  {
   "cell_type": "markdown",
   "metadata": {},
   "source": [
    "## 2.2. SES\n",
    "The column labels and descriptions were manually created in `data/acs/ses_cols.csv`."
   ]
  },
  {
   "cell_type": "code",
   "execution_count": 5,
   "metadata": {},
   "outputs": [
    {
     "name": "stdout",
     "output_type": "stream",
     "text": [
      "23 rows x 4 cols; Memory: 0.0 MiB\n"
     ]
    },
    {
     "data": {
      "text/html": [
       "<div>\n",
       "<style scoped>\n",
       "    .dataframe tbody tr th:only-of-type {\n",
       "        vertical-align: middle;\n",
       "    }\n",
       "\n",
       "    .dataframe tbody tr th {\n",
       "        vertical-align: top;\n",
       "    }\n",
       "\n",
       "    .dataframe thead th {\n",
       "        text-align: right;\n",
       "    }\n",
       "</style>\n",
       "<table border=\"1\" class=\"dataframe\">\n",
       "  <thead>\n",
       "    <tr style=\"text-align: right;\">\n",
       "      <th></th>\n",
       "      <th>code</th>\n",
       "      <th>label</th>\n",
       "      <th>category</th>\n",
       "      <th>description</th>\n",
       "    </tr>\n",
       "  </thead>\n",
       "  <tbody>\n",
       "    <tr>\n",
       "      <th></th>\n",
       "      <td>&lt;object&gt;</td>\n",
       "      <td>&lt;object&gt;</td>\n",
       "      <td>&lt;object&gt;</td>\n",
       "      <td>&lt;object&gt;</td>\n",
       "    </tr>\n",
       "    <tr>\n",
       "      <th>0</th>\n",
       "      <td>popu</td>\n",
       "      <td>Population</td>\n",
       "      <td>Demographics</td>\n",
       "      <td>Total population</td>\n",
       "    </tr>\n",
       "    <tr>\n",
       "      <th>1</th>\n",
       "      <td>pop_density</td>\n",
       "      <td>Population Density</td>\n",
       "      <td>Demographics</td>\n",
       "      <td>Population density (per sq. mi.)</td>\n",
       "    </tr>\n",
       "  </tbody>\n",
       "</table>\n",
       "</div>"
      ],
      "text/plain": [
       "          code               label      category  \\\n",
       "      <object>            <object>      <object>   \n",
       "0         popu          Population  Demographics   \n",
       "1  pop_density  Population Density  Demographics   \n",
       "\n",
       "                        description  \n",
       "                           <object>  \n",
       "0                  Total population  \n",
       "1  Population density (per sq. mi.)  "
      ]
     },
     "metadata": {},
     "output_type": "display_data"
    }
   ],
   "source": [
    "ses_cols = pd.read_csv('../data/acs/ses_cols.csv').disp(2)"
   ]
  },
  {
   "cell_type": "code",
   "execution_count": 6,
   "metadata": {},
   "outputs": [
    {
     "name": "stdout",
     "output_type": "stream",
     "text": [
      "6,407 rows x 25 cols; Memory: 1.5 MiB\n"
     ]
    },
    {
     "data": {
      "text/html": [
       "<div>\n",
       "<style scoped>\n",
       "    .dataframe tbody tr th:only-of-type {\n",
       "        vertical-align: middle;\n",
       "    }\n",
       "\n",
       "    .dataframe tbody tr th {\n",
       "        vertical-align: top;\n",
       "    }\n",
       "\n",
       "    .dataframe thead th {\n",
       "        text-align: right;\n",
       "    }\n",
       "</style>\n",
       "<table border=\"1\" class=\"dataframe\">\n",
       "  <thead>\n",
       "    <tr style=\"text-align: right;\">\n",
       "      <th></th>\n",
       "      <th>scale</th>\n",
       "      <th>geoid</th>\n",
       "      <th>popu</th>\n",
       "      <th>pop_density</th>\n",
       "      <th>p_minor</th>\n",
       "      <th>p_poc</th>\n",
       "      <th>p_lowedu</th>\n",
       "      <th>m_income</th>\n",
       "      <th>p_pov</th>\n",
       "      <th>p_pov150</th>\n",
       "      <th>p_pov200</th>\n",
       "      <th>p_snap</th>\n",
       "      <th>p_unemploy</th>\n",
       "      <th>p_noinsur</th>\n",
       "      <th>p_disabled</th>\n",
       "      <th>p_lowenglish</th>\n",
       "      <th>p_snglparent</th>\n",
       "      <th>p_crowded</th>\n",
       "      <th>p_renter</th>\n",
       "      <th>p_mobilehome</th>\n",
       "      <th>p_noveh</th>\n",
       "      <th>m_hhperveh</th>\n",
       "      <th>p_nowfh</th>\n",
       "      <th>p_transit</th>\n",
       "      <th>p_walkbike</th>\n",
       "    </tr>\n",
       "  </thead>\n",
       "  <tbody>\n",
       "    <tr>\n",
       "      <th></th>\n",
       "      <td>&lt;object&gt;</td>\n",
       "      <td>&lt;int64&gt;</td>\n",
       "      <td>&lt;float64&gt;</td>\n",
       "      <td>&lt;float64&gt;</td>\n",
       "      <td>&lt;float64&gt;</td>\n",
       "      <td>&lt;float64&gt;</td>\n",
       "      <td>&lt;float64&gt;</td>\n",
       "      <td>&lt;float64&gt;</td>\n",
       "      <td>&lt;float64&gt;</td>\n",
       "      <td>&lt;float64&gt;</td>\n",
       "      <td>&lt;float64&gt;</td>\n",
       "      <td>&lt;float64&gt;</td>\n",
       "      <td>&lt;float64&gt;</td>\n",
       "      <td>&lt;float64&gt;</td>\n",
       "      <td>&lt;float64&gt;</td>\n",
       "      <td>&lt;float64&gt;</td>\n",
       "      <td>&lt;float64&gt;</td>\n",
       "      <td>&lt;float64&gt;</td>\n",
       "      <td>&lt;float64&gt;</td>\n",
       "      <td>&lt;float64&gt;</td>\n",
       "      <td>&lt;float64&gt;</td>\n",
       "      <td>&lt;float64&gt;</td>\n",
       "      <td>&lt;float64&gt;</td>\n",
       "      <td>&lt;float64&gt;</td>\n",
       "      <td>&lt;float64&gt;</td>\n",
       "    </tr>\n",
       "  </tbody>\n",
       "</table>\n",
       "</div>"
      ],
      "text/plain": [
       "     scale    geoid       popu pop_density    p_minor      p_poc   p_lowedu  \\\n",
       "  <object>  <int64>  <float64>   <float64>  <float64>  <float64>  <float64>   \n",
       "\n",
       "   m_income      p_pov   p_pov150   p_pov200     p_snap p_unemploy  p_noinsur  \\\n",
       "  <float64>  <float64>  <float64>  <float64>  <float64>  <float64>  <float64>   \n",
       "\n",
       " p_disabled p_lowenglish p_snglparent  p_crowded   p_renter p_mobilehome  \\\n",
       "  <float64>    <float64>    <float64>  <float64>  <float64>    <float64>   \n",
       "\n",
       "    p_noveh m_hhperveh    p_nowfh  p_transit p_walkbike  \n",
       "  <float64>  <float64>  <float64>  <float64>  <float64>  "
      ]
     },
     "metadata": {},
     "output_type": "display_data"
    },
    {
     "name": "stdout",
     "output_type": "stream",
     "text": [
      "281,908 rows x 6 cols; Memory: 4.4 MiB\n"
     ]
    },
    {
     "data": {
      "text/html": [
       "<div>\n",
       "<style scoped>\n",
       "    .dataframe tbody tr th:only-of-type {\n",
       "        vertical-align: middle;\n",
       "    }\n",
       "\n",
       "    .dataframe tbody tr th {\n",
       "        vertical-align: top;\n",
       "    }\n",
       "\n",
       "    .dataframe thead th {\n",
       "        text-align: right;\n",
       "    }\n",
       "</style>\n",
       "<table border=\"1\" class=\"dataframe\">\n",
       "  <thead>\n",
       "    <tr style=\"text-align: right;\">\n",
       "      <th></th>\n",
       "      <th>GEOID</th>\n",
       "      <th>CATEGORY</th>\n",
       "      <th>INDICATOR</th>\n",
       "      <th>DESCRIPTION</th>\n",
       "      <th>IS_PCTILE</th>\n",
       "      <th>VALUE</th>\n",
       "    </tr>\n",
       "  </thead>\n",
       "  <tbody>\n",
       "    <tr>\n",
       "      <th></th>\n",
       "      <td>&lt;category&gt;</td>\n",
       "      <td>&lt;category&gt;</td>\n",
       "      <td>&lt;category&gt;</td>\n",
       "      <td>&lt;category&gt;</td>\n",
       "      <td>&lt;bool&gt;</td>\n",
       "      <td>&lt;float64&gt;</td>\n",
       "    </tr>\n",
       "    <tr>\n",
       "      <th>0</th>\n",
       "      <td>18069</td>\n",
       "      <td>Demographics</td>\n",
       "      <td>Population</td>\n",
       "      <td>Total population</td>\n",
       "      <td>False</td>\n",
       "      <td>36359.0</td>\n",
       "    </tr>\n",
       "  </tbody>\n",
       "</table>\n",
       "</div>"
      ],
      "text/plain": [
       "        GEOID      CATEGORY   INDICATOR       DESCRIPTION IS_PCTILE      VALUE\n",
       "   <category>    <category>  <category>        <category>    <bool>  <float64>\n",
       "0       18069  Demographics  Population  Total population     False    36359.0"
      ]
     },
     "metadata": {},
     "output_type": "display_data"
    }
   ],
   "source": [
    "ses = (\n",
    "    pd.read_csv('../data/acs/acs2019.csv').disp(0)\n",
    "    .astype({'geoid': str})\n",
    "    .melt(['scale', 'geoid'], var_name=['indicator'], value_name='value')\n",
    "    .merge(ses_cols, left_on='indicator', right_on='code')\n",
    "    .drop(columns=['code', 'indicator']).rename(columns={'label': 'indicator'})\n",
    "    .assign(percentile=lambda df: (100 * (\n",
    "        df.groupby(['scale', 'indicator'])['value']\n",
    "        .rank(pct=True))).fillna(0).astype(int).rename('rank'))\n",
    "    .rename(columns=D(value=False, percentile=True)).drop(columns='scale')\n",
    "    .melt(['geoid', 'category', 'indicator', 'description'], var_name='is_pctile')\n",
    "    .astype({'geoid': CAT, 'category': CAT, 'indicator': CAT, 'description': CAT, 'is_pctile': bool})\n",
    "    .rename(columns=str.upper)\n",
    ").disp()"
   ]
  },
  {
   "cell_type": "code",
   "execution_count": 7,
   "metadata": {},
   "outputs": [],
   "source": [
    "# ses.to_csv('../data/dashboard/ses.csv', index=False)\n",
    "ses.to_parquet('../data/dashboard/ses.parquet')"
   ]
  },
  {
   "cell_type": "markdown",
   "metadata": {},
   "source": [
    "## 2.3. EJ"
   ]
  },
  {
   "cell_type": "code",
   "execution_count": 8,
   "metadata": {},
   "outputs": [
    {
     "name": "stdout",
     "output_type": "stream",
     "text": [
      "64,170 rows x 6 cols; Memory: 1.5 MiB\n"
     ]
    },
    {
     "data": {
      "text/html": [
       "<div>\n",
       "<style scoped>\n",
       "    .dataframe tbody tr th:only-of-type {\n",
       "        vertical-align: middle;\n",
       "    }\n",
       "\n",
       "    .dataframe tbody tr th {\n",
       "        vertical-align: top;\n",
       "    }\n",
       "\n",
       "    .dataframe thead th {\n",
       "        text-align: right;\n",
       "    }\n",
       "</style>\n",
       "<table border=\"1\" class=\"dataframe\">\n",
       "  <thead>\n",
       "    <tr style=\"text-align: right;\">\n",
       "      <th></th>\n",
       "      <th>geoid</th>\n",
       "      <th>scale</th>\n",
       "      <th>category</th>\n",
       "      <th>indicator</th>\n",
       "      <th>description</th>\n",
       "      <th>value</th>\n",
       "    </tr>\n",
       "  </thead>\n",
       "  <tbody>\n",
       "    <tr>\n",
       "      <th></th>\n",
       "      <td>&lt;category&gt;</td>\n",
       "      <td>&lt;category&gt;</td>\n",
       "      <td>&lt;category&gt;</td>\n",
       "      <td>&lt;category&gt;</td>\n",
       "      <td>&lt;category&gt;</td>\n",
       "      <td>&lt;float64&gt;</td>\n",
       "    </tr>\n",
       "  </tbody>\n",
       "</table>\n",
       "</div>"
      ],
      "text/plain": [
       "       geoid       scale    category   indicator description      value\n",
       "  <category>  <category>  <category>  <category>  <category>  <float64>"
      ]
     },
     "metadata": {},
     "output_type": "display_data"
    },
    {
     "name": "stdout",
     "output_type": "stream",
     "text": [
      "128,340 rows x 6 cols; Memory: 2.4 MiB\n"
     ]
    },
    {
     "data": {
      "text/html": [
       "<div>\n",
       "<style scoped>\n",
       "    .dataframe tbody tr th:only-of-type {\n",
       "        vertical-align: middle;\n",
       "    }\n",
       "\n",
       "    .dataframe tbody tr th {\n",
       "        vertical-align: top;\n",
       "    }\n",
       "\n",
       "    .dataframe thead th {\n",
       "        text-align: right;\n",
       "    }\n",
       "</style>\n",
       "<table border=\"1\" class=\"dataframe\">\n",
       "  <thead>\n",
       "    <tr style=\"text-align: right;\">\n",
       "      <th></th>\n",
       "      <th>GEOID</th>\n",
       "      <th>CATEGORY</th>\n",
       "      <th>INDICATOR</th>\n",
       "      <th>DESCRIPTION</th>\n",
       "      <th>IS_PCTILE</th>\n",
       "      <th>VALUE</th>\n",
       "    </tr>\n",
       "  </thead>\n",
       "  <tbody>\n",
       "    <tr>\n",
       "      <th></th>\n",
       "      <td>&lt;category&gt;</td>\n",
       "      <td>&lt;category&gt;</td>\n",
       "      <td>&lt;category&gt;</td>\n",
       "      <td>&lt;category&gt;</td>\n",
       "      <td>&lt;bool&gt;</td>\n",
       "      <td>&lt;float64&gt;</td>\n",
       "    </tr>\n",
       "    <tr>\n",
       "      <th>0</th>\n",
       "      <td>180010301001</td>\n",
       "      <td>Transportation</td>\n",
       "      <td>Diesel PM</td>\n",
       "      <td>Diesel particulate matter level in air</td>\n",
       "      <td>False</td>\n",
       "      <td>0.24585</td>\n",
       "    </tr>\n",
       "  </tbody>\n",
       "</table>\n",
       "</div>"
      ],
      "text/plain": [
       "          GEOID        CATEGORY   INDICATOR  \\\n",
       "     <category>      <category>  <category>   \n",
       "0  180010301001  Transportation   Diesel PM   \n",
       "\n",
       "                              DESCRIPTION IS_PCTILE      VALUE  \n",
       "                               <category>    <bool>  <float64>  \n",
       "0  Diesel particulate matter level in air     False    0.24585  "
      ]
     },
     "metadata": {},
     "output_type": "display_data"
    }
   ],
   "source": [
    "ejs = (\n",
    "    pd.read_parquet('../data/ejs/ejs.parquet').disp(0)\n",
    "    .assign(percentile=lambda df: (100 * (\n",
    "        df.groupby(['scale', 'indicator'])['value']\n",
    "        .rank(pct=True))).fillna(0).astype(int).rename('rank'))\n",
    "    .rename(columns=D(value=False, percentile=True)).drop(columns='scale')\n",
    "    .melt(['geoid', 'category', 'indicator', 'description'], var_name='is_pctile')\n",
    "    .astype({'is_pctile': bool})\n",
    "    .rename(columns=str.upper)\n",
    ").disp()"
   ]
  },
  {
   "cell_type": "code",
   "execution_count": 9,
   "metadata": {},
   "outputs": [],
   "source": [
    "ejs.to_parquet('../data/dashboard/ej.parquet')"
   ]
  },
  {
   "cell_type": "markdown",
   "metadata": {},
   "source": [
    "# 3. Miscellaneous"
   ]
  },
  {
   "cell_type": "markdown",
   "metadata": {},
   "source": [
    "## 3.1. Long to wide\n",
    "For David"
   ]
  },
  {
   "cell_type": "code",
   "execution_count": 10,
   "metadata": {},
   "outputs": [
    {
     "name": "stdout",
     "output_type": "stream",
     "text": [
      "6,417 rows x 10 cols; Memory: 1.2 MiB\n"
     ]
    },
    {
     "data": {
      "text/html": [
       "<div>\n",
       "<style scoped>\n",
       "    .dataframe tbody tr th:only-of-type {\n",
       "        vertical-align: middle;\n",
       "    }\n",
       "\n",
       "    .dataframe tbody tr th {\n",
       "        vertical-align: top;\n",
       "    }\n",
       "\n",
       "    .dataframe thead th {\n",
       "        text-align: right;\n",
       "    }\n",
       "</style>\n",
       "<table border=\"1\" class=\"dataframe\">\n",
       "  <thead>\n",
       "    <tr style=\"text-align: right;\">\n",
       "      <th>indicator</th>\n",
       "      <th>Air Toxics Cancer</th>\n",
       "      <th>Air Toxics Respiratory HI</th>\n",
       "      <th>Diesel PM</th>\n",
       "      <th>Ozone</th>\n",
       "      <th>PM2.5</th>\n",
       "      <th>Proximity to NPL</th>\n",
       "      <th>Proximity to RMP</th>\n",
       "      <th>Proximity to TSDF</th>\n",
       "      <th>Proximity to Traffic</th>\n",
       "      <th>Water Discharge</th>\n",
       "    </tr>\n",
       "  </thead>\n",
       "  <tbody>\n",
       "    <tr>\n",
       "      <th>geoid</th>\n",
       "      <td>&lt;float64&gt;</td>\n",
       "      <td>&lt;float64&gt;</td>\n",
       "      <td>&lt;float64&gt;</td>\n",
       "      <td>&lt;float64&gt;</td>\n",
       "      <td>&lt;float64&gt;</td>\n",
       "      <td>&lt;float64&gt;</td>\n",
       "      <td>&lt;float64&gt;</td>\n",
       "      <td>&lt;float64&gt;</td>\n",
       "      <td>&lt;float64&gt;</td>\n",
       "      <td>&lt;float64&gt;</td>\n",
       "    </tr>\n",
       "    <tr>\n",
       "      <th>18001</th>\n",
       "      <td>635.60506</td>\n",
       "      <td>7.94658</td>\n",
       "      <td>7.50542</td>\n",
       "      <td>1333.715654</td>\n",
       "      <td>259.173035</td>\n",
       "      <td>0.85877</td>\n",
       "      <td>21.12884</td>\n",
       "      <td>54.02471</td>\n",
       "      <td>6896.231984</td>\n",
       "      <td>0.042906</td>\n",
       "    </tr>\n",
       "  </tbody>\n",
       "</table>\n",
       "</div>"
      ],
      "text/plain": [
       "indicator Air Toxics Cancer Air Toxics Respiratory HI  Diesel PM        Ozone  \\\n",
       "geoid             <float64>                 <float64>  <float64>    <float64>   \n",
       "18001             635.60506                   7.94658    7.50542  1333.715654   \n",
       "\n",
       "indicator       PM2.5 Proximity to NPL Proximity to RMP Proximity to TSDF  \\\n",
       "geoid       <float64>        <float64>        <float64>         <float64>   \n",
       "18001      259.173035          0.85877         21.12884          54.02471   \n",
       "\n",
       "indicator Proximity to Traffic Water Discharge  \n",
       "geoid                <float64>       <float64>  \n",
       "18001              6896.231984        0.042906  "
      ]
     },
     "metadata": {},
     "output_type": "display_data"
    }
   ],
   "source": [
    "(pd.read_parquet('../data/ejs/ejs.parquet')\n",
    " .pivot_table('value', 'geoid', 'indicator').disp()\n",
    " .to_csv(U.mkfile('../data/dashboard/david/ej.csv')))"
   ]
  },
  {
   "cell_type": "code",
   "execution_count": 11,
   "metadata": {},
   "outputs": [
    {
     "name": "stdout",
     "output_type": "stream",
     "text": [
      "6,407 rows x 25 cols; Memory: 1.5 MiB\n"
     ]
    },
    {
     "data": {
      "text/html": [
       "<div>\n",
       "<style scoped>\n",
       "    .dataframe tbody tr th:only-of-type {\n",
       "        vertical-align: middle;\n",
       "    }\n",
       "\n",
       "    .dataframe tbody tr th {\n",
       "        vertical-align: top;\n",
       "    }\n",
       "\n",
       "    .dataframe thead th {\n",
       "        text-align: right;\n",
       "    }\n",
       "</style>\n",
       "<table border=\"1\" class=\"dataframe\">\n",
       "  <thead>\n",
       "    <tr style=\"text-align: right;\">\n",
       "      <th></th>\n",
       "      <th>scale</th>\n",
       "      <th>geoid</th>\n",
       "      <th>popu</th>\n",
       "      <th>pop_density</th>\n",
       "      <th>p_minor</th>\n",
       "      <th>p_poc</th>\n",
       "      <th>p_lowedu</th>\n",
       "      <th>m_income</th>\n",
       "      <th>p_pov</th>\n",
       "      <th>p_pov150</th>\n",
       "      <th>p_pov200</th>\n",
       "      <th>p_snap</th>\n",
       "      <th>p_unemploy</th>\n",
       "      <th>p_noinsur</th>\n",
       "      <th>p_disabled</th>\n",
       "      <th>p_lowenglish</th>\n",
       "      <th>p_snglparent</th>\n",
       "      <th>p_crowded</th>\n",
       "      <th>p_renter</th>\n",
       "      <th>p_mobilehome</th>\n",
       "      <th>p_noveh</th>\n",
       "      <th>m_hhperveh</th>\n",
       "      <th>p_nowfh</th>\n",
       "      <th>p_transit</th>\n",
       "      <th>p_walkbike</th>\n",
       "    </tr>\n",
       "  </thead>\n",
       "  <tbody>\n",
       "    <tr>\n",
       "      <th></th>\n",
       "      <td>&lt;object&gt;</td>\n",
       "      <td>&lt;int64&gt;</td>\n",
       "      <td>&lt;float64&gt;</td>\n",
       "      <td>&lt;float64&gt;</td>\n",
       "      <td>&lt;float64&gt;</td>\n",
       "      <td>&lt;float64&gt;</td>\n",
       "      <td>&lt;float64&gt;</td>\n",
       "      <td>&lt;float64&gt;</td>\n",
       "      <td>&lt;float64&gt;</td>\n",
       "      <td>&lt;float64&gt;</td>\n",
       "      <td>&lt;float64&gt;</td>\n",
       "      <td>&lt;float64&gt;</td>\n",
       "      <td>&lt;float64&gt;</td>\n",
       "      <td>&lt;float64&gt;</td>\n",
       "      <td>&lt;float64&gt;</td>\n",
       "      <td>&lt;float64&gt;</td>\n",
       "      <td>&lt;float64&gt;</td>\n",
       "      <td>&lt;float64&gt;</td>\n",
       "      <td>&lt;float64&gt;</td>\n",
       "      <td>&lt;float64&gt;</td>\n",
       "      <td>&lt;float64&gt;</td>\n",
       "      <td>&lt;float64&gt;</td>\n",
       "      <td>&lt;float64&gt;</td>\n",
       "      <td>&lt;float64&gt;</td>\n",
       "      <td>&lt;float64&gt;</td>\n",
       "    </tr>\n",
       "  </tbody>\n",
       "</table>\n",
       "</div>"
      ],
      "text/plain": [
       "     scale    geoid       popu pop_density    p_minor      p_poc   p_lowedu  \\\n",
       "  <object>  <int64>  <float64>   <float64>  <float64>  <float64>  <float64>   \n",
       "\n",
       "   m_income      p_pov   p_pov150   p_pov200     p_snap p_unemploy  p_noinsur  \\\n",
       "  <float64>  <float64>  <float64>  <float64>  <float64>  <float64>  <float64>   \n",
       "\n",
       " p_disabled p_lowenglish p_snglparent  p_crowded   p_renter p_mobilehome  \\\n",
       "  <float64>    <float64>    <float64>  <float64>  <float64>    <float64>   \n",
       "\n",
       "    p_noveh m_hhperveh    p_nowfh  p_transit p_walkbike  \n",
       "  <float64>  <float64>  <float64>  <float64>  <float64>  "
      ]
     },
     "metadata": {},
     "output_type": "display_data"
    }
   ],
   "source": [
    "(pd.read_csv('../data/acs/acs2019.csv').disp(0)\n",
    " .to_csv(U.mkfile('../data/dashboard/david/ses.csv'), index=False))"
   ]
  },
  {
   "cell_type": "code",
   "execution_count": null,
   "metadata": {},
   "outputs": [],
   "source": []
  }
 ],
 "metadata": {
  "kernelspec": {
   "display_name": "mk11",
   "language": "python",
   "name": "python3"
  },
  "language_info": {
   "codemirror_mode": {
    "name": "ipython",
    "version": 3
   },
   "file_extension": ".py",
   "mimetype": "text/x-python",
   "name": "python",
   "nbconvert_exporter": "python",
   "pygments_lexer": "ipython3",
   "version": "3.11.6"
  }
 },
 "nbformat": 4,
 "nbformat_minor": 2
}
