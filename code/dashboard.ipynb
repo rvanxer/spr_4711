{
 "cells": [
  {
   "cell_type": "markdown",
   "metadata": {},
   "source": [
    "# 1. Setup"
   ]
  },
  {
   "cell_type": "code",
   "execution_count": 1,
   "metadata": {},
   "outputs": [],
   "source": [
    "from mobilkit.umni import *\n",
    "\n",
    "warnings.simplefilter(action='ignore', category=FutureWarning)"
   ]
  },
  {
   "cell_type": "markdown",
   "metadata": {},
   "source": [
    "# 2. Process data"
   ]
  },
  {
   "cell_type": "markdown",
   "metadata": {},
   "source": [
    "## 2.1. Zones\n",
    "Simplify geometry for faster loading and processing in the dashboard."
   ]
  },
  {
   "cell_type": "code",
   "execution_count": 2,
   "metadata": {},
   "outputs": [],
   "source": [
    "# CBSAs for which the zones are not to be simplified (remain in HD)\n",
    "hd_cbsas = (\n",
    "    'Indianapolis-Carmel-Greenwood, IN',\n",
    "    'Chicago-Naperville-Elgin, IL-IN',\n",
    "    'Fort Wayne, IN',\n",
    "    'South Bend-Mishawaka, IN-MI'\n",
    ")"
   ]
  },
  {
   "cell_type": "code",
   "execution_count": 16,
   "metadata": {},
   "outputs": [
    {
     "name": "stdout",
     "output_type": "stream",
     "text": [
      "6,407 rows x 6 cols; Memory: 1.7 MiB; CRS: EPSG:4326\n"
     ]
    },
    {
     "data": {
      "text/html": [
       "<div>\n",
       "<style scoped>\n",
       "    .dataframe tbody tr th:only-of-type {\n",
       "        vertical-align: middle;\n",
       "    }\n",
       "\n",
       "    .dataframe tbody tr th {\n",
       "        vertical-align: top;\n",
       "    }\n",
       "\n",
       "    .dataframe thead th {\n",
       "        text-align: right;\n",
       "    }\n",
       "</style>\n",
       "<table border=\"1\" class=\"dataframe\">\n",
       "  <thead>\n",
       "    <tr style=\"text-align: right;\">\n",
       "      <th></th>\n",
       "      <th>GEOID</th>\n",
       "      <th>SCALE</th>\n",
       "      <th>COUNTY</th>\n",
       "      <th>CBSA</th>\n",
       "      <th>POPU</th>\n",
       "      <th>geometry</th>\n",
       "    </tr>\n",
       "  </thead>\n",
       "  <tbody>\n",
       "    <tr>\n",
       "      <th></th>\n",
       "      <td>&lt;object&gt;</td>\n",
       "      <td>&lt;object&gt;</td>\n",
       "      <td>&lt;object&gt;</td>\n",
       "      <td>&lt;object&gt;</td>\n",
       "      <td>&lt;int32&gt;</td>\n",
       "      <td>&lt;geometry&gt;</td>\n",
       "    </tr>\n",
       "    <tr>\n",
       "      <th>0</th>\n",
       "      <td>18001</td>\n",
       "      <td>County</td>\n",
       "      <td>Adams</td>\n",
       "      <td>Decatur, IN</td>\n",
       "      <td>35376</td>\n",
       "      <td>POLYGON ((-84.80234 40.834685, -84.802336 40.8...</td>\n",
       "    </tr>\n",
       "  </tbody>\n",
       "</table>\n",
       "</div>"
      ],
      "text/plain": [
       "      GEOID     SCALE    COUNTY         CBSA     POPU  \\\n",
       "   <object>  <object>  <object>     <object>  <int32>   \n",
       "0     18001    County     Adams  Decatur, IN    35376   \n",
       "\n",
       "                                            geometry  \n",
       "                                          <geometry>  \n",
       "0  POLYGON ((-84.80234 40.834685, -84.802336 40.8...  "
      ]
     },
     "metadata": {},
     "output_type": "display_data"
    }
   ],
   "source": [
    "zones = (\n",
    "    gpd.read_parquet('../data/zones/in_2010.parquet')\n",
    "    .assign(scale=lambda df: df['scale'].map(\n",
    "        D(COUNTY='County', TRACT='Tract', BG='Block Group')))\n",
    "    # .assign(geometry=lambda df: df.geometry.simplify(0.005))\n",
    "    .merge(pd.read_parquet('../data/ses/acs_in_2019.parquet')\n",
    "           .astype({'popu': np.int32})[['geoid', 'popu']])\n",
    "    [['geoid', 'scale', 'county', 'cbsa', 'popu', 'geometry']]\n",
    "    .rename(columns=lambda x: x.upper() if x != 'geometry' else x)\n",
    ").set_crs(CRS_DEG).disp()\n",
    "hd_idx = zones.CBSA.isin(hd_cbsas)\n",
    "for i, level in [(hd_idx, 0.002), (~hd_idx, 0.005)]:\n",
    "    zones.loc[i, 'geometry'] = zones.loc[i, 'geometry'].simplify(level)"
   ]
  },
  {
   "cell_type": "code",
   "execution_count": 17,
   "metadata": {},
   "outputs": [],
   "source": [
    "zones.to_file('../data/dashboard/zones.shp.zip', driver='ESRI Shapefile')"
   ]
  },
  {
   "cell_type": "markdown",
   "metadata": {},
   "source": [
    "## 2.2. SES\n",
    "The column labels and descriptions were manually created in `data/acs/ses_cols.csv`."
   ]
  },
  {
   "cell_type": "code",
   "execution_count": 5,
   "metadata": {},
   "outputs": [
    {
     "name": "stdout",
     "output_type": "stream",
     "text": [
      "23 rows x 4 cols; Memory: 0.0 MiB\n"
     ]
    },
    {
     "data": {
      "text/html": [
       "<div>\n",
       "<style scoped>\n",
       "    .dataframe tbody tr th:only-of-type {\n",
       "        vertical-align: middle;\n",
       "    }\n",
       "\n",
       "    .dataframe tbody tr th {\n",
       "        vertical-align: top;\n",
       "    }\n",
       "\n",
       "    .dataframe thead th {\n",
       "        text-align: right;\n",
       "    }\n",
       "</style>\n",
       "<table border=\"1\" class=\"dataframe\">\n",
       "  <thead>\n",
       "    <tr style=\"text-align: right;\">\n",
       "      <th></th>\n",
       "      <th>code</th>\n",
       "      <th>label</th>\n",
       "      <th>category</th>\n",
       "      <th>description</th>\n",
       "    </tr>\n",
       "  </thead>\n",
       "  <tbody>\n",
       "    <tr>\n",
       "      <th></th>\n",
       "      <td>&lt;object&gt;</td>\n",
       "      <td>&lt;object&gt;</td>\n",
       "      <td>&lt;object&gt;</td>\n",
       "      <td>&lt;object&gt;</td>\n",
       "    </tr>\n",
       "    <tr>\n",
       "      <th>0</th>\n",
       "      <td>popu</td>\n",
       "      <td>Population</td>\n",
       "      <td>Demographics</td>\n",
       "      <td>Total population</td>\n",
       "    </tr>\n",
       "  </tbody>\n",
       "</table>\n",
       "</div>"
      ],
      "text/plain": [
       "       code       label      category       description\n",
       "   <object>    <object>      <object>          <object>\n",
       "0      popu  Population  Demographics  Total population"
      ]
     },
     "metadata": {},
     "output_type": "display_data"
    }
   ],
   "source": [
    "ses_cols = pd.read_csv('../data/ses/ses_cols.csv').disp()"
   ]
  },
  {
   "cell_type": "code",
   "execution_count": 6,
   "metadata": {},
   "outputs": [
    {
     "name": "stdout",
     "output_type": "stream",
     "text": [
      "6,407 rows x 25 cols; Memory: 1.9 MiB\n"
     ]
    },
    {
     "data": {
      "text/html": [
       "<div>\n",
       "<style scoped>\n",
       "    .dataframe tbody tr th:only-of-type {\n",
       "        vertical-align: middle;\n",
       "    }\n",
       "\n",
       "    .dataframe tbody tr th {\n",
       "        vertical-align: top;\n",
       "    }\n",
       "\n",
       "    .dataframe thead th {\n",
       "        text-align: right;\n",
       "    }\n",
       "</style>\n",
       "<table border=\"1\" class=\"dataframe\">\n",
       "  <thead>\n",
       "    <tr style=\"text-align: right;\">\n",
       "      <th></th>\n",
       "      <th>scale</th>\n",
       "      <th>geoid</th>\n",
       "      <th>popu</th>\n",
       "      <th>pop_density</th>\n",
       "      <th>p_minor</th>\n",
       "      <th>p_poc</th>\n",
       "      <th>p_lowedu</th>\n",
       "      <th>m_income</th>\n",
       "      <th>p_pov</th>\n",
       "      <th>p_pov150</th>\n",
       "      <th>p_pov200</th>\n",
       "      <th>p_snap</th>\n",
       "      <th>p_unemploy</th>\n",
       "      <th>p_noinsur</th>\n",
       "      <th>p_disabled</th>\n",
       "      <th>p_lowenglish</th>\n",
       "      <th>p_snglparent</th>\n",
       "      <th>p_crowded</th>\n",
       "      <th>p_renter</th>\n",
       "      <th>p_mobilehome</th>\n",
       "      <th>p_noveh</th>\n",
       "      <th>m_hhperveh</th>\n",
       "      <th>p_nowfh</th>\n",
       "      <th>p_transit</th>\n",
       "      <th>p_walkbike</th>\n",
       "    </tr>\n",
       "  </thead>\n",
       "  <tbody>\n",
       "    <tr>\n",
       "      <th></th>\n",
       "      <td>&lt;object&gt;</td>\n",
       "      <td>&lt;object&gt;</td>\n",
       "      <td>&lt;float64&gt;</td>\n",
       "      <td>&lt;float64&gt;</td>\n",
       "      <td>&lt;float64&gt;</td>\n",
       "      <td>&lt;float64&gt;</td>\n",
       "      <td>&lt;float64&gt;</td>\n",
       "      <td>&lt;float64&gt;</td>\n",
       "      <td>&lt;float64&gt;</td>\n",
       "      <td>&lt;float64&gt;</td>\n",
       "      <td>&lt;float64&gt;</td>\n",
       "      <td>&lt;float64&gt;</td>\n",
       "      <td>&lt;float64&gt;</td>\n",
       "      <td>&lt;float64&gt;</td>\n",
       "      <td>&lt;float64&gt;</td>\n",
       "      <td>&lt;float64&gt;</td>\n",
       "      <td>&lt;float64&gt;</td>\n",
       "      <td>&lt;float64&gt;</td>\n",
       "      <td>&lt;float64&gt;</td>\n",
       "      <td>&lt;float64&gt;</td>\n",
       "      <td>&lt;float64&gt;</td>\n",
       "      <td>&lt;float64&gt;</td>\n",
       "      <td>&lt;float64&gt;</td>\n",
       "      <td>&lt;float64&gt;</td>\n",
       "      <td>&lt;float64&gt;</td>\n",
       "    </tr>\n",
       "  </tbody>\n",
       "</table>\n",
       "</div>"
      ],
      "text/plain": [
       "     scale     geoid       popu pop_density    p_minor      p_poc   p_lowedu  \\\n",
       "  <object>  <object>  <float64>   <float64>  <float64>  <float64>  <float64>   \n",
       "\n",
       "   m_income      p_pov   p_pov150   p_pov200     p_snap p_unemploy  p_noinsur  \\\n",
       "  <float64>  <float64>  <float64>  <float64>  <float64>  <float64>  <float64>   \n",
       "\n",
       " p_disabled p_lowenglish p_snglparent  p_crowded   p_renter p_mobilehome  \\\n",
       "  <float64>    <float64>    <float64>  <float64>  <float64>    <float64>   \n",
       "\n",
       "    p_noveh m_hhperveh    p_nowfh  p_transit p_walkbike  \n",
       "  <float64>  <float64>  <float64>  <float64>  <float64>  "
      ]
     },
     "metadata": {},
     "output_type": "display_data"
    },
    {
     "name": "stdout",
     "output_type": "stream",
     "text": [
      "281,908 rows x 6 cols; Memory: 4.4 MiB\n"
     ]
    },
    {
     "data": {
      "text/html": [
       "<div>\n",
       "<style scoped>\n",
       "    .dataframe tbody tr th:only-of-type {\n",
       "        vertical-align: middle;\n",
       "    }\n",
       "\n",
       "    .dataframe tbody tr th {\n",
       "        vertical-align: top;\n",
       "    }\n",
       "\n",
       "    .dataframe thead th {\n",
       "        text-align: right;\n",
       "    }\n",
       "</style>\n",
       "<table border=\"1\" class=\"dataframe\">\n",
       "  <thead>\n",
       "    <tr style=\"text-align: right;\">\n",
       "      <th></th>\n",
       "      <th>GEOID</th>\n",
       "      <th>CATEGORY</th>\n",
       "      <th>INDICATOR</th>\n",
       "      <th>DESCRIPTION</th>\n",
       "      <th>IS_PCTILE</th>\n",
       "      <th>VALUE</th>\n",
       "    </tr>\n",
       "  </thead>\n",
       "  <tbody>\n",
       "    <tr>\n",
       "      <th></th>\n",
       "      <td>&lt;category&gt;</td>\n",
       "      <td>&lt;category&gt;</td>\n",
       "      <td>&lt;category&gt;</td>\n",
       "      <td>&lt;category&gt;</td>\n",
       "      <td>&lt;bool&gt;</td>\n",
       "      <td>&lt;float64&gt;</td>\n",
       "    </tr>\n",
       "    <tr>\n",
       "      <th>0</th>\n",
       "      <td>18069</td>\n",
       "      <td>Demographics</td>\n",
       "      <td>Population</td>\n",
       "      <td>Total population</td>\n",
       "      <td>False</td>\n",
       "      <td>36359.0</td>\n",
       "    </tr>\n",
       "  </tbody>\n",
       "</table>\n",
       "</div>"
      ],
      "text/plain": [
       "        GEOID      CATEGORY   INDICATOR       DESCRIPTION IS_PCTILE      VALUE\n",
       "   <category>    <category>  <category>        <category>    <bool>  <float64>\n",
       "0       18069  Demographics  Population  Total population     False    36359.0"
      ]
     },
     "metadata": {},
     "output_type": "display_data"
    }
   ],
   "source": [
    "ses = (\n",
    "    pd.read_parquet('../data/ses/acs_in_2019.parquet').disp(0)\n",
    "    .melt(['scale', 'geoid'], var_name='indicator', value_name='value')\n",
    "    .merge(ses_cols, left_on='indicator', right_on='code')\n",
    "    .drop(columns=['code', 'indicator']).rename(columns={'label': 'indicator'})\n",
    "    .assign(percentile=lambda df: (100 * (\n",
    "        df.groupby(['scale', 'indicator'])['value']\n",
    "        .rank(pct=True))).fillna(0).astype(int).rename('rank'))\n",
    "    .rename(columns=D(value=False, percentile=True)).drop(columns='scale')\n",
    "    .melt(['geoid', 'category', 'indicator', 'description'], var_name='is_pctile')\n",
    "    .astype(D(geoid=CAT, category=CAT, indicator=CAT, description=CAT, is_pctile=bool))\n",
    "    .rename(columns=str.upper)\n",
    ").disp()"
   ]
  },
  {
   "cell_type": "code",
   "execution_count": 7,
   "metadata": {},
   "outputs": [],
   "source": [
    "# ses.to_csv('../data/dashboard/ses.csv', index=False)\n",
    "ses.to_parquet('../data/dashboard/ses.parquet')"
   ]
  },
  {
   "cell_type": "markdown",
   "metadata": {},
   "source": [
    "## 2.3. EJ"
   ]
  },
  {
   "cell_type": "code",
   "execution_count": 8,
   "metadata": {},
   "outputs": [
    {
     "name": "stdout",
     "output_type": "stream",
     "text": [
      "64,170 rows x 6 cols; Memory: 1.5 MiB\n"
     ]
    },
    {
     "data": {
      "text/html": [
       "<div>\n",
       "<style scoped>\n",
       "    .dataframe tbody tr th:only-of-type {\n",
       "        vertical-align: middle;\n",
       "    }\n",
       "\n",
       "    .dataframe tbody tr th {\n",
       "        vertical-align: top;\n",
       "    }\n",
       "\n",
       "    .dataframe thead th {\n",
       "        text-align: right;\n",
       "    }\n",
       "</style>\n",
       "<table border=\"1\" class=\"dataframe\">\n",
       "  <thead>\n",
       "    <tr style=\"text-align: right;\">\n",
       "      <th></th>\n",
       "      <th>geoid</th>\n",
       "      <th>scale</th>\n",
       "      <th>category</th>\n",
       "      <th>indicator</th>\n",
       "      <th>description</th>\n",
       "      <th>value</th>\n",
       "    </tr>\n",
       "  </thead>\n",
       "  <tbody>\n",
       "    <tr>\n",
       "      <th></th>\n",
       "      <td>&lt;category&gt;</td>\n",
       "      <td>&lt;category&gt;</td>\n",
       "      <td>&lt;category&gt;</td>\n",
       "      <td>&lt;category&gt;</td>\n",
       "      <td>&lt;category&gt;</td>\n",
       "      <td>&lt;float64&gt;</td>\n",
       "    </tr>\n",
       "  </tbody>\n",
       "</table>\n",
       "</div>"
      ],
      "text/plain": [
       "       geoid       scale    category   indicator description      value\n",
       "  <category>  <category>  <category>  <category>  <category>  <float64>"
      ]
     },
     "metadata": {},
     "output_type": "display_data"
    },
    {
     "name": "stdout",
     "output_type": "stream",
     "text": [
      "128,140 rows x 6 cols; Memory: 1.9 MiB\n"
     ]
    },
    {
     "data": {
      "text/html": [
       "<div>\n",
       "<style scoped>\n",
       "    .dataframe tbody tr th:only-of-type {\n",
       "        vertical-align: middle;\n",
       "    }\n",
       "\n",
       "    .dataframe tbody tr th {\n",
       "        vertical-align: top;\n",
       "    }\n",
       "\n",
       "    .dataframe thead th {\n",
       "        text-align: right;\n",
       "    }\n",
       "</style>\n",
       "<table border=\"1\" class=\"dataframe\">\n",
       "  <thead>\n",
       "    <tr style=\"text-align: right;\">\n",
       "      <th></th>\n",
       "      <th>GEOID</th>\n",
       "      <th>CATEGORY</th>\n",
       "      <th>INDICATOR</th>\n",
       "      <th>DESCRIPTION</th>\n",
       "      <th>IS_PCTILE</th>\n",
       "      <th>VALUE</th>\n",
       "    </tr>\n",
       "  </thead>\n",
       "  <tbody>\n",
       "    <tr>\n",
       "      <th></th>\n",
       "      <td>&lt;category&gt;</td>\n",
       "      <td>&lt;category&gt;</td>\n",
       "      <td>&lt;category&gt;</td>\n",
       "      <td>&lt;category&gt;</td>\n",
       "      <td>&lt;bool&gt;</td>\n",
       "      <td>&lt;float32&gt;</td>\n",
       "    </tr>\n",
       "    <tr>\n",
       "      <th>0</th>\n",
       "      <td>180010301001</td>\n",
       "      <td>Transportation</td>\n",
       "      <td>Diesel PM</td>\n",
       "      <td>Diesel particulate matter level in air</td>\n",
       "      <td>False</td>\n",
       "      <td>0.24585</td>\n",
       "    </tr>\n",
       "  </tbody>\n",
       "</table>\n",
       "</div>"
      ],
      "text/plain": [
       "          GEOID        CATEGORY   INDICATOR  \\\n",
       "     <category>      <category>  <category>   \n",
       "0  180010301001  Transportation   Diesel PM   \n",
       "\n",
       "                              DESCRIPTION IS_PCTILE      VALUE  \n",
       "                               <category>    <bool>  <float32>  \n",
       "0  Diesel particulate matter level in air     False    0.24585  "
      ]
     },
     "metadata": {},
     "output_type": "display_data"
    }
   ],
   "source": [
    "ejs = (\n",
    "    pd.read_parquet('../data/ejs/ejs.parquet').disp(0)\n",
    "    .merge(zones.rename(columns=str.lower)[['geoid']])\n",
    "    .assign(percentile=lambda df: (100 * (\n",
    "        df.groupby(['scale', 'indicator'])['value']\n",
    "        .rank(pct=True))).fillna(0).astype(int))\n",
    "    .rename(columns=D(value=False, percentile=True)).drop(columns='scale')\n",
    "    .melt(['geoid', 'category', 'indicator', 'description'], var_name='is_pctile')\n",
    "    .astype(D(geoid=CAT, is_pctile=bool, value=np.float32))\n",
    "    .rename(columns=str.upper)\n",
    ").disp()"
   ]
  },
  {
   "cell_type": "code",
   "execution_count": 9,
   "metadata": {},
   "outputs": [],
   "source": [
    "ejs.to_parquet('../data/dashboard/ej.parquet')"
   ]
  },
  {
   "cell_type": "markdown",
   "metadata": {},
   "source": [
    "## 2.4. Accessibility"
   ]
  },
  {
   "cell_type": "markdown",
   "metadata": {},
   "source": [
    "### 2.4.1. Jobs"
   ]
  },
  {
   "cell_type": "code",
   "execution_count": 10,
   "metadata": {},
   "outputs": [
    {
     "name": "stdout",
     "output_type": "stream",
     "text": [
      "718,032 rows x 7 cols; Memory: 10.9 MiB\n"
     ]
    },
    {
     "data": {
      "text/html": [
       "<div>\n",
       "<style scoped>\n",
       "    .dataframe tbody tr th:only-of-type {\n",
       "        vertical-align: middle;\n",
       "    }\n",
       "\n",
       "    .dataframe tbody tr th {\n",
       "        vertical-align: top;\n",
       "    }\n",
       "\n",
       "    .dataframe thead th {\n",
       "        text-align: right;\n",
       "    }\n",
       "</style>\n",
       "<table border=\"1\" class=\"dataframe\">\n",
       "  <thead>\n",
       "    <tr style=\"text-align: right;\">\n",
       "      <th></th>\n",
       "      <th>scale</th>\n",
       "      <th>mode</th>\n",
       "      <th>tmax</th>\n",
       "      <th>geoid</th>\n",
       "      <th>category</th>\n",
       "      <th>njobs</th>\n",
       "      <th>is_rac</th>\n",
       "    </tr>\n",
       "  </thead>\n",
       "  <tbody>\n",
       "    <tr>\n",
       "      <th></th>\n",
       "      <td>&lt;category&gt;</td>\n",
       "      <td>&lt;category&gt;</td>\n",
       "      <td>&lt;category&gt;</td>\n",
       "      <td>&lt;category&gt;</td>\n",
       "      <td>&lt;category&gt;</td>\n",
       "      <td>&lt;float64&gt;</td>\n",
       "      <td>&lt;bool&gt;</td>\n",
       "    </tr>\n",
       "  </tbody>\n",
       "</table>\n",
       "</div>"
      ],
      "text/plain": [
       "       scale        mode        tmax       geoid    category      njobs  \\\n",
       "  <category>  <category>  <category>  <category>  <category>  <float64>   \n",
       "\n",
       "  is_rac  \n",
       "  <bool>  "
      ]
     },
     "metadata": {},
     "output_type": "display_data"
    },
    {
     "name": "stdout",
     "output_type": "stream",
     "text": [
      "615,072 rows x 8 cols; Memory: 143.3 MiB\n"
     ]
    },
    {
     "data": {
      "text/html": [
       "<div>\n",
       "<style scoped>\n",
       "    .dataframe tbody tr th:only-of-type {\n",
       "        vertical-align: middle;\n",
       "    }\n",
       "\n",
       "    .dataframe tbody tr th {\n",
       "        vertical-align: top;\n",
       "    }\n",
       "\n",
       "    .dataframe thead th {\n",
       "        text-align: right;\n",
       "    }\n",
       "</style>\n",
       "<table border=\"1\" class=\"dataframe\">\n",
       "  <thead>\n",
       "    <tr style=\"text-align: right;\">\n",
       "      <th></th>\n",
       "      <th>GEOID</th>\n",
       "      <th>CATEGORY</th>\n",
       "      <th>MODE</th>\n",
       "      <th>THRESH</th>\n",
       "      <th>PER_PERSON</th>\n",
       "      <th>IS_PCTILE</th>\n",
       "      <th>VALUE</th>\n",
       "      <th>TARGET</th>\n",
       "    </tr>\n",
       "  </thead>\n",
       "  <tbody>\n",
       "    <tr>\n",
       "      <th></th>\n",
       "      <td>&lt;object&gt;</td>\n",
       "      <td>&lt;object&gt;</td>\n",
       "      <td>&lt;category&gt;</td>\n",
       "      <td>&lt;category&gt;</td>\n",
       "      <td>&lt;bool&gt;</td>\n",
       "      <td>&lt;object&gt;</td>\n",
       "      <td>&lt;float64&gt;</td>\n",
       "      <td>&lt;object&gt;</td>\n",
       "    </tr>\n",
       "    <tr>\n",
       "      <th>0</th>\n",
       "      <td>18001</td>\n",
       "      <td>Overall</td>\n",
       "      <td>BIKE</td>\n",
       "      <td>15</td>\n",
       "      <td>False</td>\n",
       "      <td>False</td>\n",
       "      <td>1186.442203</td>\n",
       "      <td>Jobs</td>\n",
       "    </tr>\n",
       "  </tbody>\n",
       "</table>\n",
       "</div>"
      ],
      "text/plain": [
       "      GEOID  CATEGORY        MODE      THRESH PER_PERSON IS_PCTILE  \\\n",
       "   <object>  <object>  <category>  <category>     <bool>  <object>   \n",
       "0     18001   Overall        BIKE          15      False     False   \n",
       "\n",
       "         VALUE    TARGET  \n",
       "     <float64>  <object>  \n",
       "0  1186.442203      Jobs  "
      ]
     },
     "metadata": {},
     "output_type": "display_data"
    }
   ],
   "source": [
    "aaa = (\n",
    "    pd.read_parquet('../data/aaa/in_aaa.parquet').disp(0)\n",
    "    .query('is_rac').drop(columns=['is_rac'])\n",
    "    .merge(zones.rename(columns=str.lower)[['geoid', 'popu']])\n",
    "    .rename(columns=D(tmax='thresh'))\n",
    "    .assign(category=lambda df: df.category.map(D(\n",
    "        TOTAL='Overall', SALARY_LOW='Low earnings',\n",
    "        SALARY_HIGH='High earnings'))).dropna()\n",
    "    .assign(per_person=lambda df: df['njobs'] / df.pop('popu'))\n",
    "    .melt(['geoid', 'scale', 'category', 'mode', 'thresh'])\n",
    "    .assign(per_person=lambda df: df.pop('variable').map({\n",
    "        'per_person': True, 'njobs': False}))\n",
    "    .assign(percentile=lambda df: 100 - (100 * (\n",
    "        df.groupby(['scale', 'category', 'mode', 'thresh', 'per_person'])['value']\n",
    "        .rank(pct=True))).fillna(0).astype(int))\n",
    "    .rename(columns=D(value=False, percentile=True)).drop(columns='scale')\n",
    "    .melt(['geoid', 'category', 'mode', 'thresh', 'per_person'], var_name='is_pctile')\n",
    "    .assign(target='Jobs').rename(columns=str.upper)\n",
    ").disp()"
   ]
  },
  {
   "cell_type": "markdown",
   "metadata": {},
   "source": [
    "### 2.4.2. POIs"
   ]
  },
  {
   "cell_type": "code",
   "execution_count": 11,
   "metadata": {},
   "outputs": [
    {
     "name": "stdout",
     "output_type": "stream",
     "text": [
      "5,370,400 rows x 8 cols; Memory: 62.1 MiB\n"
     ]
    },
    {
     "data": {
      "text/html": [
       "<div>\n",
       "<style scoped>\n",
       "    .dataframe tbody tr th:only-of-type {\n",
       "        vertical-align: middle;\n",
       "    }\n",
       "\n",
       "    .dataframe tbody tr th {\n",
       "        vertical-align: top;\n",
       "    }\n",
       "\n",
       "    .dataframe thead th {\n",
       "        text-align: right;\n",
       "    }\n",
       "</style>\n",
       "<table border=\"1\" class=\"dataframe\">\n",
       "  <thead>\n",
       "    <tr style=\"text-align: right;\">\n",
       "      <th></th>\n",
       "      <th>purpose</th>\n",
       "      <th>kind</th>\n",
       "      <th>mode</th>\n",
       "      <th>thresh</th>\n",
       "      <th>geoid</th>\n",
       "      <th>wt_decay</th>\n",
       "      <th>per_person</th>\n",
       "      <th>access</th>\n",
       "    </tr>\n",
       "  </thead>\n",
       "  <tbody>\n",
       "    <tr>\n",
       "      <th></th>\n",
       "      <td>&lt;category&gt;</td>\n",
       "      <td>&lt;category&gt;</td>\n",
       "      <td>&lt;category&gt;</td>\n",
       "      <td>&lt;category&gt;</td>\n",
       "      <td>&lt;category&gt;</td>\n",
       "      <td>&lt;bool&gt;</td>\n",
       "      <td>&lt;bool&gt;</td>\n",
       "      <td>&lt;float32&gt;</td>\n",
       "    </tr>\n",
       "  </tbody>\n",
       "</table>\n",
       "</div>"
      ],
      "text/plain": [
       "     purpose        kind        mode      thresh       geoid wt_decay  \\\n",
       "  <category>  <category>  <category>  <category>  <category>   <bool>   \n",
       "\n",
       " per_person     access  \n",
       "     <bool>  <float32>  "
      ]
     },
     "metadata": {},
     "output_type": "display_data"
    },
    {
     "name": "stdout",
     "output_type": "stream",
     "text": [
      "1,166,016 rows x 8 cols; Memory: 280.0 MiB\n"
     ]
    },
    {
     "data": {
      "text/html": [
       "<div>\n",
       "<style scoped>\n",
       "    .dataframe tbody tr th:only-of-type {\n",
       "        vertical-align: middle;\n",
       "    }\n",
       "\n",
       "    .dataframe tbody tr th {\n",
       "        vertical-align: top;\n",
       "    }\n",
       "\n",
       "    .dataframe thead th {\n",
       "        text-align: right;\n",
       "    }\n",
       "</style>\n",
       "<table border=\"1\" class=\"dataframe\">\n",
       "  <thead>\n",
       "    <tr style=\"text-align: right;\">\n",
       "      <th></th>\n",
       "      <th>GEOID</th>\n",
       "      <th>CATEGORY</th>\n",
       "      <th>MODE</th>\n",
       "      <th>THRESH</th>\n",
       "      <th>PER_PERSON</th>\n",
       "      <th>IS_PCTILE</th>\n",
       "      <th>VALUE</th>\n",
       "      <th>TARGET</th>\n",
       "    </tr>\n",
       "  </thead>\n",
       "  <tbody>\n",
       "    <tr>\n",
       "      <th></th>\n",
       "      <td>&lt;object&gt;</td>\n",
       "      <td>&lt;object&gt;</td>\n",
       "      <td>&lt;category&gt;</td>\n",
       "      <td>&lt;category&gt;</td>\n",
       "      <td>&lt;bool&gt;</td>\n",
       "      <td>&lt;object&gt;</td>\n",
       "      <td>&lt;float64&gt;</td>\n",
       "      <td>&lt;object&gt;</td>\n",
       "    </tr>\n",
       "    <tr>\n",
       "      <th>0</th>\n",
       "      <td>18001</td>\n",
       "      <td>Overall</td>\n",
       "      <td>DRIVE</td>\n",
       "      <td>15</td>\n",
       "      <td>False</td>\n",
       "      <td>False</td>\n",
       "      <td>1353.0</td>\n",
       "      <td>Non-work</td>\n",
       "    </tr>\n",
       "  </tbody>\n",
       "</table>\n",
       "</div>"
      ],
      "text/plain": [
       "      GEOID  CATEGORY        MODE      THRESH PER_PERSON IS_PCTILE      VALUE  \\\n",
       "   <object>  <object>  <category>  <category>     <bool>  <object>  <float64>   \n",
       "0     18001   Overall       DRIVE          15      False     False     1353.0   \n",
       "\n",
       "     TARGET  \n",
       "   <object>  \n",
       "0  Non-work  "
      ]
     },
     "metadata": {},
     "output_type": "display_data"
    }
   ],
   "source": [
    "poi = (\n",
    "    pd.read_parquet('../data/access/in_poi_2010.parquet').disp(0)\n",
    "    .query('wt_decay').drop(columns=['wt_decay'])\n",
    "    .pipe(lambda df: df[(df.thresh.isin(['15', '30', '45', '60']))])\n",
    "    .merge(Pdf(columns=['purpose', 'kind', 'category'], data=[\n",
    "        ('Overall', 'Overall', 'Overall'),\n",
    "        ('Services', 'Primary', 'Essential Services'),\n",
    "        ('Shopping', 'Essential', 'Essential Shopping')\n",
    "    ]), on=('purpose', 'kind')).drop(columns=['purpose', 'kind'])\n",
    "    .merge(zones.rename(columns=str.lower)[['geoid', 'scale']], on='geoid')\n",
    "    .rename(columns=D(access='value'))\n",
    "    .assign(percentile=lambda df: 100 - (100 * (\n",
    "        df.groupby(['scale', 'category', 'mode', 'thresh', 'per_person'])['value']\n",
    "        .rank(pct=True))).fillna(0).astype(int))\n",
    "    .rename(columns=D(value=False, percentile=True)).drop(columns='scale')\n",
    "    .melt(['geoid', 'category', 'mode', 'thresh', 'per_person'], var_name='is_pctile')\n",
    "    .assign(target='Non-work').rename(columns=str.upper)\n",
    ").disp()"
   ]
  },
  {
   "cell_type": "markdown",
   "metadata": {},
   "source": [
    "### 2.4.3. Combine"
   ]
  },
  {
   "cell_type": "code",
   "execution_count": 12,
   "metadata": {},
   "outputs": [
    {
     "name": "stdout",
     "output_type": "stream",
     "text": [
      "1,781,088 rows x 8 cols; Memory: 34.6 MiB\n"
     ]
    },
    {
     "data": {
      "text/html": [
       "<div>\n",
       "<style scoped>\n",
       "    .dataframe tbody tr th:only-of-type {\n",
       "        vertical-align: middle;\n",
       "    }\n",
       "\n",
       "    .dataframe tbody tr th {\n",
       "        vertical-align: top;\n",
       "    }\n",
       "\n",
       "    .dataframe thead th {\n",
       "        text-align: right;\n",
       "    }\n",
       "</style>\n",
       "<table border=\"1\" class=\"dataframe\">\n",
       "  <thead>\n",
       "    <tr style=\"text-align: right;\">\n",
       "      <th></th>\n",
       "      <th>GEOID</th>\n",
       "      <th>CATEGORY</th>\n",
       "      <th>MODE</th>\n",
       "      <th>THRESH</th>\n",
       "      <th>PER_PERSON</th>\n",
       "      <th>IS_PCTILE</th>\n",
       "      <th>VALUE</th>\n",
       "      <th>TARGET</th>\n",
       "    </tr>\n",
       "  </thead>\n",
       "  <tbody>\n",
       "    <tr>\n",
       "      <th></th>\n",
       "      <td>&lt;category&gt;</td>\n",
       "      <td>&lt;category&gt;</td>\n",
       "      <td>&lt;category&gt;</td>\n",
       "      <td>&lt;category&gt;</td>\n",
       "      <td>&lt;bool&gt;</td>\n",
       "      <td>&lt;bool&gt;</td>\n",
       "      <td>&lt;float32&gt;</td>\n",
       "      <td>&lt;category&gt;</td>\n",
       "    </tr>\n",
       "    <tr>\n",
       "      <th>0</th>\n",
       "      <td>18001</td>\n",
       "      <td>Overall</td>\n",
       "      <td>Bike</td>\n",
       "      <td>15</td>\n",
       "      <td>False</td>\n",
       "      <td>False</td>\n",
       "      <td>1186.442261</td>\n",
       "      <td>Jobs</td>\n",
       "    </tr>\n",
       "  </tbody>\n",
       "</table>\n",
       "</div>"
      ],
      "text/plain": [
       "        GEOID    CATEGORY        MODE      THRESH PER_PERSON IS_PCTILE  \\\n",
       "   <category>  <category>  <category>  <category>     <bool>    <bool>   \n",
       "0       18001     Overall        Bike          15      False     False   \n",
       "\n",
       "         VALUE      TARGET  \n",
       "     <float32>  <category>  \n",
       "0  1186.442261        Jobs  "
      ]
     },
     "metadata": {},
     "output_type": "display_data"
    }
   ],
   "source": [
    "# t=0:03\n",
    "access = (\n",
    "    pd.concat([aaa, poi]).rename(columns=str.lower)\n",
    "    .assign(mode=lambda df: df['mode'].str.title())\n",
    "    .astype(D(target=CAT, category=CAT, mode=CAT, thresh=CAT,\n",
    "              geoid=CAT, is_pctile=bool, value=np.float32))\n",
    "    .rename(columns=str.upper)\n",
    ").disp()"
   ]
  },
  {
   "cell_type": "code",
   "execution_count": 13,
   "metadata": {},
   "outputs": [],
   "source": [
    "access.to_parquet('../data/dashboard/access.parquet')"
   ]
  },
  {
   "cell_type": "code",
   "execution_count": 22,
   "metadata": {},
   "outputs": [
    {
     "name": "stdout",
     "output_type": "stream",
     "text": [
      "GEOID\n",
      "18001           288\n",
      "180973517003    288\n",
      "180973517001    288\n",
      "18097351700     288\n",
      "180973516002    288\n",
      "               ... \n",
      "181770107001    180\n",
      "181630106002    180\n",
      "181359521001    172\n",
      "180759629002    172\n",
      "180290802021    168\n",
      "Name: count, Length: 6407, dtype: int64 \n",
      "\n",
      "CATEGORY\n",
      "Overall               614216\n",
      "Essential Services    378896\n",
      "Essential Shopping    377928\n",
      "High earnings         205024\n",
      "Low earnings          205024\n",
      "Name: count, dtype: int64 \n",
      "\n",
      "MODE\n",
      "Bike       608248\n",
      "Transit    586872\n",
      "Drive      307376\n",
      "Walk       278592\n",
      "Name: count, dtype: int64 \n",
      "\n",
      "THRESH\n",
      "60    451648\n",
      "45    449368\n",
      "30    445220\n",
      "15    434852\n",
      "Name: count, dtype: int64 \n",
      "\n",
      "TARGET\n",
      "Non-work    1166016\n",
      "Jobs         615072\n",
      "Name: count, dtype: int64 \n",
      "\n"
     ]
    }
   ],
   "source": [
    "for x in access.select_dtypes(CAT): print(access[x].value_counts(), '\\n')"
   ]
  },
  {
   "cell_type": "markdown",
   "metadata": {},
   "source": [
    "# 3. Miscellaneous"
   ]
  },
  {
   "cell_type": "markdown",
   "metadata": {},
   "source": [
    "## 3.1. Long to wide\n",
    "For David"
   ]
  },
  {
   "cell_type": "code",
   "execution_count": 14,
   "metadata": {},
   "outputs": [
    {
     "name": "stdout",
     "output_type": "stream",
     "text": [
      "6,417 rows x 10 cols; Memory: 1.2 MiB\n"
     ]
    },
    {
     "data": {
      "text/html": [
       "<div>\n",
       "<style scoped>\n",
       "    .dataframe tbody tr th:only-of-type {\n",
       "        vertical-align: middle;\n",
       "    }\n",
       "\n",
       "    .dataframe tbody tr th {\n",
       "        vertical-align: top;\n",
       "    }\n",
       "\n",
       "    .dataframe thead th {\n",
       "        text-align: right;\n",
       "    }\n",
       "</style>\n",
       "<table border=\"1\" class=\"dataframe\">\n",
       "  <thead>\n",
       "    <tr style=\"text-align: right;\">\n",
       "      <th>indicator</th>\n",
       "      <th>Air Toxics Cancer</th>\n",
       "      <th>Air Toxics Respiratory HI</th>\n",
       "      <th>Diesel PM</th>\n",
       "      <th>Ozone</th>\n",
       "      <th>PM2.5</th>\n",
       "      <th>Proximity to NPL</th>\n",
       "      <th>Proximity to RMP</th>\n",
       "      <th>Proximity to TSDF</th>\n",
       "      <th>Proximity to Traffic</th>\n",
       "      <th>Water Discharge</th>\n",
       "    </tr>\n",
       "  </thead>\n",
       "  <tbody>\n",
       "    <tr>\n",
       "      <th>geoid</th>\n",
       "      <td>&lt;float64&gt;</td>\n",
       "      <td>&lt;float64&gt;</td>\n",
       "      <td>&lt;float64&gt;</td>\n",
       "      <td>&lt;float64&gt;</td>\n",
       "      <td>&lt;float64&gt;</td>\n",
       "      <td>&lt;float64&gt;</td>\n",
       "      <td>&lt;float64&gt;</td>\n",
       "      <td>&lt;float64&gt;</td>\n",
       "      <td>&lt;float64&gt;</td>\n",
       "      <td>&lt;float64&gt;</td>\n",
       "    </tr>\n",
       "    <tr>\n",
       "      <th>18001</th>\n",
       "      <td>635.60506</td>\n",
       "      <td>7.94658</td>\n",
       "      <td>7.50542</td>\n",
       "      <td>1333.715654</td>\n",
       "      <td>259.173035</td>\n",
       "      <td>0.85877</td>\n",
       "      <td>21.12884</td>\n",
       "      <td>54.02471</td>\n",
       "      <td>6896.231984</td>\n",
       "      <td>0.042906</td>\n",
       "    </tr>\n",
       "  </tbody>\n",
       "</table>\n",
       "</div>"
      ],
      "text/plain": [
       "indicator Air Toxics Cancer Air Toxics Respiratory HI  Diesel PM        Ozone  \\\n",
       "geoid             <float64>                 <float64>  <float64>    <float64>   \n",
       "18001             635.60506                   7.94658    7.50542  1333.715654   \n",
       "\n",
       "indicator       PM2.5 Proximity to NPL Proximity to RMP Proximity to TSDF  \\\n",
       "geoid       <float64>        <float64>        <float64>         <float64>   \n",
       "18001      259.173035          0.85877         21.12884          54.02471   \n",
       "\n",
       "indicator Proximity to Traffic Water Discharge  \n",
       "geoid                <float64>       <float64>  \n",
       "18001              6896.231984        0.042906  "
      ]
     },
     "metadata": {},
     "output_type": "display_data"
    }
   ],
   "source": [
    "(pd.read_parquet('../data/ejs/ejs.parquet')\n",
    " .pivot_table('value', 'geoid', 'indicator').disp()\n",
    " .to_csv(U.mkfile('../data/dashboard/david/ej.csv')))"
   ]
  },
  {
   "cell_type": "code",
   "execution_count": 18,
   "metadata": {},
   "outputs": [],
   "source": [
    "# (pd.read_csv('../data/acs/acs2019.csv').disp(0)\n",
    "#  .to_csv(U.mkfile('../data/dashboard/david/ses.csv'), index=False))"
   ]
  },
  {
   "cell_type": "code",
   "execution_count": null,
   "metadata": {},
   "outputs": [],
   "source": []
  }
 ],
 "metadata": {
  "kernelspec": {
   "display_name": "mk11",
   "language": "python",
   "name": "python3"
  },
  "language_info": {
   "codemirror_mode": {
    "name": "ipython",
    "version": 3
   },
   "file_extension": ".py",
   "mimetype": "text/x-python",
   "name": "python",
   "nbconvert_exporter": "python",
   "pygments_lexer": "ipython3",
   "version": "3.11.6"
  }
 },
 "nbformat": 4,
 "nbformat_minor": 2
}
