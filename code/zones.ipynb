{
 "cells": [
  {
   "cell_type": "markdown",
   "metadata": {},
   "source": [
    "# 1. Setup"
   ]
  },
  {
   "cell_type": "code",
   "execution_count": 1,
   "metadata": {},
   "outputs": [
    {
     "name": "stdout",
     "output_type": "stream",
     "text": [
      "/home/umni2/a/umnilab/users/verma99/mk/spr_4711/code\n"
     ]
    }
   ],
   "source": [
    "!pwd"
   ]
  },
  {
   "cell_type": "code",
   "execution_count": 2,
   "metadata": {},
   "outputs": [],
   "source": [
    "from mobilkit.umni import *\n",
    "from project import *"
   ]
  },
  {
   "cell_type": "code",
   "execution_count": 3,
   "metadata": {},
   "outputs": [],
   "source": [
    "import ssl\n",
    "import urllib.request\n",
    "ssl._create_default_https_context = ssl._create_unverified_context"
   ]
  },
  {
   "cell_type": "markdown",
   "metadata": {},
   "source": [
    "# 2. Zones\n",
    "- The **UMN AAA data** uses the **2010** definitions of the census zones.\n",
    "- **POI accessibility** uses travel times between zone centroids. The travel times obtained from Google Distance Matrix are for the **2010** zones.\n",
    "- The **EJ Screen data** is available from 2015 to 2023. For the analysis, the **2020** data is used."
   ]
  },
  {
   "cell_type": "markdown",
   "metadata": {},
   "source": [
    "## 2.1. Download\n",
    "<!-- Note that the TIGER/LINE boundaries and ACS data of the subdivisions of Indiana at different scales were already downloaded in [../../spr_4608/code/1_Geometry_ACS.ipynb](../../spr_4608/code/1_Geometry_ACS.ipynb), but they were for the year 2020 (I think). The files were then directly copied from `$MK/spr_4608/data/geometry` to `$MK/spr_4711/data/acs`. -->\n",
    "\n",
    "<!-- However, since the UMN access data used the 2010 definitions, they are downloaded explicitly from the Census website. -->"
   ]
  },
  {
   "cell_type": "code",
   "execution_count": 4,
   "metadata": {},
   "outputs": [],
   "source": [
    "def get_tiger_zones(scale, year, state='Indiana', name_col='name',\n",
    "                    save=True, overwrite=False):\n",
    "    old_api = year <= 2015\n",
    "    outfile = Path(f'../data/zones/{scale.lower()}_{year}.parquet')\n",
    "    zipfile = Path(f'../data/tiger_boundary_{scale}.zip')\n",
    "    assert scale in ['TABBLOCK', 'BG', 'TAZ', 'TRACT', 'COUNTY', 'CBSA']\n",
    "    if outfile.exists() and not overwrite:\n",
    "        return\n",
    "    print('Downloading zones at scale:', scale)\n",
    "    fips = mk.geo.US_STATES_FIPS[state.upper()]\n",
    "    if old_api:\n",
    "        year_label = str(year % 2000)\n",
    "        url = (f'https://www2.census.gov/geo/pvs/tiger{year}st/{fips}_{state}/'\n",
    "               f'{fips}/tl_{year}_{fips}_{scale.lower()}{year_label}.zip')\n",
    "    else:\n",
    "        root = f'https://www2.census.gov/geo/tiger/TIGER{year}/{scale}'\n",
    "        base = f'tl_{year}_{fips}_{scale.lower()}.zip'\n",
    "        if scale == 'COUNTY':\n",
    "            base = f'tl_{year}_us_county.zip'\n",
    "        url = f'{root}/{base}'\n",
    "    urllib.request.urlretrieve(url, zipfile)\n",
    "    df = gpd.read_file(zipfile).to_crs(CRS_DEG)\n",
    "    df = df.rename(columns=str.lower)\n",
    "    if old_api:\n",
    "        df = df.rename(columns=lambda x: x.replace(year_label, ''))\n",
    "    if scale == 'COUNTY':\n",
    "        df = df.query(f'statefp == \"{fips}\"').reset_index(drop=True)\n",
    "    df = df[['geoid', name_col, 'aland', 'awater', 'geometry']]\n",
    "    df = df.rename(columns={name_col: 'name'})\n",
    "    if save:\n",
    "        df.to_parquet(U.mkfile(outfile))\n",
    "    zipfile.unlink()\n",
    "    return df"
   ]
  },
  {
   "cell_type": "code",
   "execution_count": 5,
   "metadata": {},
   "outputs": [],
   "source": [
    "years = [2010, 2020]\n",
    "scales_names = [('COUNTY', 'name'), ('TRACT', 'namelsad'), ('BG', 'namelsad')]\n",
    "for year, (scale, name_col) in it.product(years, scales_names):\n",
    "    get_tiger_zones(scale, year, name_col=name_col, overwrite=0)"
   ]
  },
  {
   "cell_type": "markdown",
   "metadata": {},
   "source": [
    "## 2.2. Combine table"
   ]
  },
  {
   "cell_type": "code",
   "execution_count": 8,
   "metadata": {},
   "outputs": [
    {
     "name": "stdout",
     "output_type": "stream",
     "text": [
      "6,417 rows x 6 cols; Memory: 1.4 MiB; CRS: EPSG:4326\n"
     ]
    },
    {
     "data": {
      "text/html": [
       "<div>\n",
       "<style scoped>\n",
       "    .dataframe tbody tr th:only-of-type {\n",
       "        vertical-align: middle;\n",
       "    }\n",
       "\n",
       "    .dataframe tbody tr th {\n",
       "        vertical-align: top;\n",
       "    }\n",
       "\n",
       "    .dataframe thead th {\n",
       "        text-align: right;\n",
       "    }\n",
       "</style>\n",
       "<table border=\"1\" class=\"dataframe\">\n",
       "  <thead>\n",
       "    <tr style=\"text-align: right;\">\n",
       "      <th></th>\n",
       "      <th>geoid</th>\n",
       "      <th>name</th>\n",
       "      <th>aland</th>\n",
       "      <th>awater</th>\n",
       "      <th>geometry</th>\n",
       "      <th>scale</th>\n",
       "    </tr>\n",
       "  </thead>\n",
       "  <tbody>\n",
       "    <tr>\n",
       "      <th></th>\n",
       "      <td>&lt;object&gt;</td>\n",
       "      <td>&lt;object&gt;</td>\n",
       "      <td>&lt;int64&gt;</td>\n",
       "      <td>&lt;int64&gt;</td>\n",
       "      <td>&lt;geometry&gt;</td>\n",
       "      <td>&lt;object&gt;</td>\n",
       "    </tr>\n",
       "    <tr>\n",
       "      <th>0</th>\n",
       "      <td>18083</td>\n",
       "      <td>Knox</td>\n",
       "      <td>1336514262</td>\n",
       "      <td>20755159</td>\n",
       "      <td>POLYGON ((-87.506221 38.733533, -87.506172 38....</td>\n",
       "      <td>COUNTY</td>\n",
       "    </tr>\n",
       "  </tbody>\n",
       "</table>\n",
       "</div>"
      ],
      "text/plain": [
       "      geoid      name       aland    awater  \\\n",
       "   <object>  <object>     <int64>   <int64>   \n",
       "0     18083      Knox  1336514262  20755159   \n",
       "\n",
       "                                            geometry     scale  \n",
       "                                          <geometry>  <object>  \n",
       "0  POLYGON ((-87.506221 38.733533, -87.506172 38....    COUNTY  "
      ]
     },
     "metadata": {},
     "output_type": "display_data"
    }
   ],
   "source": [
    "def get_zones(scales=SCALES, year=2010, overwrite=False):\n",
    "    outfile = Path(f'../data/zones/zones{year}.parquet')\n",
    "    if outfile.exists() and not overwrite:\n",
    "        return gpd.read_parquet(outfile)\n",
    "    df = pd.concat([\n",
    "        gpd.read_parquet(f'../data/zones/{scale.lower()}{year}.parquet')\n",
    "        .assign(scale=scale) for scale in scales\n",
    "    ]).reset_index(drop=True)\n",
    "    df.to_parquet(U.mkfile(outfile))\n",
    "    return df\n",
    "\n",
    "zones = get_zones(overwrite=0).set_crs(CRS_DEG).disp()"
   ]
  },
  {
   "cell_type": "markdown",
   "metadata": {},
   "source": [
    "# 3. [Relationship files](https://www.census.gov/geographies/reference-files/time-series/geo/relationship-files.2020.html)\n",
    "These files show the mapping between the old (2010) and the new (2020) zones for [block groups](https://www2.census.gov/geo/docs/maps-data/data/rel2020/blkgrp/tab20_blkgrp20_blkgrp10_natl.txt), [tracts](https://www2.census.gov/geo/docs/maps-data/data/rel2020/tract/tab20_tract20_tract10_natl.txt), [counties](https://www2.census.gov/geo/docs/maps-data/data/rel2020/cousub/tab20_cousub20_cousub10_natl.txt)."
   ]
  },
  {
   "cell_type": "raw",
   "metadata": {},
   "source": [
    "%%bash\n",
    "cd ../data/zones\n",
    "wget https://www2.census.gov/geo/docs/maps-data/data/rel2020/blkgrp/tab20_blkgrp20_blkgrp10_natl.txt\n",
    "mv tab20_blkgrp20_blkgrp10_natl.txt xtab-bg-2010-2020.txt\n",
    "wget https://www2.census.gov/geo/docs/maps-data/data/rel2020/tract/tab20_tract20_tract10_natl.txt\n",
    "mv tab20_tract20_tract10_natl.txt xtab-tract-2010-2020.txt\n",
    "wget https://www2.census.gov/geo/docs/maps-data/data/rel2020/cousub/tab20_cousub20_cousub10_natl.txt\n",
    "mv tab20_cousub20_cousub10_natl.txt xtab-county-2010-2020.txt"
   ]
  },
  {
   "cell_type": "code",
   "execution_count": 7,
   "metadata": {},
   "outputs": [],
   "source": [
    "def get_census_relationship(scale, keyword, state='Indiana', year1=2010,\n",
    "                            year2=2020, save=True, overwrite=False):\n",
    "    scale = scale.lower()\n",
    "    label = f'{scale}-{year1}-{year2}'\n",
    "    infile = f'../data/zones/xtab-{label}.txt'\n",
    "    outfile = Path(f'../data/zones/relation-{label}.parquet')\n",
    "    if outfile.exists() and not overwrite:\n",
    "        return pd.read_parquet(outfile)\n",
    "    y1, y2 = year1 % 2000, year2 % 2000\n",
    "    df = pd.read_csv(infile, sep='|').rename(columns=str.lower)\n",
    "    df = df.rename(columns=lambda x: x.replace('_' + keyword.lower(), ''))\n",
    "    df = df.astype({f'geoid_{y1}': str, f'geoid_{y2}': str})\n",
    "    max_len = df[f'geoid_{y1}'].str.len().max()\n",
    "    for y in [y1, y2]:\n",
    "        df[f'geoid_{y}'] = df[f'geoid_{y}'].str.zfill(max_len)\n",
    "        df[f'state_{y}'] = df[f'geoid_{y}'].str.slice(0, 2)\n",
    "    fips = f'{mk.geo.US_STATES_FIPS[state.upper()]:02}'\n",
    "    df = df[(df[f'state_{y1}'] == fips) & (df[f'state_{y2}'] == fips)]\n",
    "    df = df[[f'geoid_{y1}', f'geoid_{y2}',\n",
    "             f'arealand_{y1}', f'arealand_{y2}', 'arealand_part',\n",
    "             f'areawater_{y1}', f'areawater_{y2}', 'areawater_part']]\n",
    "    df = df.dropna().reset_index(drop=True)\n",
    "    if save:\n",
    "        df.to_parquet(U.mkfile(outfile))\n",
    "    return df\n",
    "\n",
    "x = get_census_relationship('county', 'cousub', overwrite=0)\n",
    "x = get_census_relationship('tract', 'tract', overwrite=0)\n",
    "x = get_census_relationship('bg', 'blkgrp', overwrite=0)"
   ]
  },
  {
   "cell_type": "code",
   "execution_count": 8,
   "metadata": {},
   "outputs": [
    {
     "name": "stdout",
     "output_type": "stream",
     "text": [
      "7,046 rows x 8 cols; Memory: 1.2 MiB\n"
     ]
    },
    {
     "data": {
      "text/html": [
       "<div>\n",
       "<style scoped>\n",
       "    .dataframe tbody tr th:only-of-type {\n",
       "        vertical-align: middle;\n",
       "    }\n",
       "\n",
       "    .dataframe tbody tr th {\n",
       "        vertical-align: top;\n",
       "    }\n",
       "\n",
       "    .dataframe thead th {\n",
       "        text-align: right;\n",
       "    }\n",
       "</style>\n",
       "<table border=\"1\" class=\"dataframe\">\n",
       "  <thead>\n",
       "    <tr style=\"text-align: right;\">\n",
       "      <th></th>\n",
       "      <th>geoid_10</th>\n",
       "      <th>geoid_20</th>\n",
       "      <th>arealand_10</th>\n",
       "      <th>arealand_20</th>\n",
       "      <th>arealand_part</th>\n",
       "      <th>areawater_10</th>\n",
       "      <th>areawater_20</th>\n",
       "      <th>areawater_part</th>\n",
       "    </tr>\n",
       "  </thead>\n",
       "  <tbody>\n",
       "    <tr>\n",
       "      <th></th>\n",
       "      <td>&lt;object&gt;</td>\n",
       "      <td>&lt;object&gt;</td>\n",
       "      <td>&lt;int64&gt;</td>\n",
       "      <td>&lt;int64&gt;</td>\n",
       "      <td>&lt;int64&gt;</td>\n",
       "      <td>&lt;int64&gt;</td>\n",
       "      <td>&lt;int64&gt;</td>\n",
       "      <td>&lt;int64&gt;</td>\n",
       "    </tr>\n",
       "    <tr>\n",
       "      <th>0</th>\n",
       "      <td>180010301001</td>\n",
       "      <td>180010301001</td>\n",
       "      <td>59364016</td>\n",
       "      <td>59364016</td>\n",
       "      <td>59364016</td>\n",
       "      <td>161597</td>\n",
       "      <td>161597</td>\n",
       "      <td>161597</td>\n",
       "    </tr>\n",
       "  </tbody>\n",
       "</table>\n",
       "</div>"
      ],
      "text/plain": [
       "       geoid_10      geoid_20 arealand_10 arealand_20 arealand_part  \\\n",
       "       <object>      <object>     <int64>     <int64>       <int64>   \n",
       "0  180010301001  180010301001    59364016    59364016      59364016   \n",
       "\n",
       "  areawater_10 areawater_20 areawater_part  \n",
       "       <int64>      <int64>        <int64>  \n",
       "0       161597       161597         161597  "
      ]
     },
     "metadata": {},
     "output_type": "display_data"
    }
   ],
   "source": [
    "bg1020 = pd.read_parquet('../data/zones/relation-bg-2010-2020.parquet').disp()"
   ]
  },
  {
   "cell_type": "markdown",
   "metadata": {},
   "source": [
    "# 4. Visualize"
   ]
  },
  {
   "cell_type": "code",
   "execution_count": 9,
   "metadata": {},
   "outputs": [
    {
     "data": {
      "image/png": "[encoded data removed]",
      "text/plain": [
       "<Figure size 1500x450 with 3 Axes>"
      ]
     },
     "metadata": {},
     "output_type": "display_data"
    }
   ],
   "source": [
    "fig, axes = plt.subplots(1, 3, figsize=(10, 3), dpi=150)\n",
    "for i, (scale, df) in enumerate(zones.groupby('scale')):\n",
    "    ax = U.plot(axes[i], title=scale, xlab='Land area (sq. mi.)', ylab='No. of zones')\n",
    "    (df.aland * U.SQM2SQMI).hist(ax=ax, bins=50, color=sns.color_palette('Set1', 3)[i])\n",
    "plt.tight_layout()"
   ]
  },
  {
   "cell_type": "code",
   "execution_count": null,
   "metadata": {},
   "outputs": [],
   "source": []
  }
 ],
 "metadata": {
  "kernelspec": {
   "display_name": "mk11",
   "language": "python",
   "name": "python3"
  },
  "language_info": {
   "codemirror_mode": {
    "name": "ipython",
    "version": 3
   },
   "file_extension": ".py",
   "mimetype": "text/x-python",
   "name": "python",
   "nbconvert_exporter": "python",
   "pygments_lexer": "ipython3",
   "version": "3.11.5"
  },
  "orig_nbformat": 4
 },
 "nbformat": 4,
 "nbformat_minor": 2
}
