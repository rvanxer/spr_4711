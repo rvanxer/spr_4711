{
 "cells": [
  {
   "cell_type": "markdown",
   "id": "40f1521f",
   "metadata": {},
   "source": [
    "# 1. Setup"
   ]
  },
  {
   "cell_type": "code",
   "execution_count": 1,
   "id": "7aa6f1a2",
   "metadata": {
    "tags": []
   },
   "outputs": [],
   "source": [
    "from pqdm.processes import pqdm\n",
    "from scipy.spatial import KDTree\n",
    "\n",
    "from utils import *"
   ]
  },
  {
   "cell_type": "markdown",
   "id": "6ef72052",
   "metadata": {},
   "source": [
    "# 2. Compute access"
   ]
  },
  {
   "cell_type": "markdown",
   "id": "4c3ee805",
   "metadata": {},
   "source": [
    "## 2.1. Load data"
   ]
  },
  {
   "cell_type": "markdown",
   "id": "a06f3bf9",
   "metadata": {},
   "source": [
    "### 2.1.1. Zone boundaries"
   ]
  },
  {
   "cell_type": "code",
   "execution_count": 2,
   "id": "aaba9b8a",
   "metadata": {},
   "outputs": [
    {
     "name": "stdout",
     "output_type": "stream",
     "text": [
      "144,489 rows x 5 cols; Memory: 10.4 MiB\n"
     ]
    },
    {
     "data": {
      "text/html": [
       "<div>\n",
       "<style scoped>\n",
       "    .dataframe tbody tr th:only-of-type {\n",
       "        vertical-align: middle;\n",
       "    }\n",
       "\n",
       "    .dataframe tbody tr th {\n",
       "        vertical-align: top;\n",
       "    }\n",
       "\n",
       "    .dataframe thead th {\n",
       "        text-align: right;\n",
       "    }\n",
       "</style>\n",
       "<table border=\"1\" class=\"dataframe\">\n",
       "  <thead>\n",
       "    <tr style=\"text-align: right;\">\n",
       "      <th></th>\n",
       "      <th>geoid</th>\n",
       "      <th>scale</th>\n",
       "      <th>state</th>\n",
       "      <th>msa</th>\n",
       "      <th>aland</th>\n",
       "    </tr>\n",
       "  </thead>\n",
       "  <tbody>\n",
       "    <tr>\n",
       "      <th></th>\n",
       "      <td>&lt;object&gt;</td>\n",
       "      <td>&lt;category&gt;</td>\n",
       "      <td>&lt;category&gt;</td>\n",
       "      <td>&lt;category&gt;</td>\n",
       "      <td>&lt;float32&gt;</td>\n",
       "    </tr>\n",
       "    <tr>\n",
       "      <th>0</th>\n",
       "      <td>04013</td>\n",
       "      <td>County</td>\n",
       "      <td>AZ</td>\n",
       "      <td>Phoenix</td>\n",
       "      <td>9201.749023</td>\n",
       "    </tr>\n",
       "  </tbody>\n",
       "</table>\n",
       "</div>"
      ],
      "text/plain": [
       "      geoid       scale       state         msa        aland\n",
       "   <object>  <category>  <category>  <category>    <float32>\n",
       "0     04013      County          AZ     Phoenix  9201.749023"
      ]
     },
     "metadata": {},
     "output_type": "display_data"
    }
   ],
   "source": [
    "zoneMSA = pd.read_parquet(DATA / 'zones/zones_2020.parquet', filters=[\n",
    "    ('top_msa', '==', True)], columns=['geoid', 'scale', 'state', 'msa', 'aland']).disp()"
   ]
  },
  {
   "cell_type": "code",
   "execution_count": 3,
   "id": "4953dc1a",
   "metadata": {},
   "outputs": [
    {
     "name": "stdout",
     "output_type": "stream",
     "text": [
      "7,078 rows x 4 cols; Memory: 0.7 MiB\n"
     ]
    },
    {
     "data": {
      "text/html": [
       "<div>\n",
       "<style scoped>\n",
       "    .dataframe tbody tr th:only-of-type {\n",
       "        vertical-align: middle;\n",
       "    }\n",
       "\n",
       "    .dataframe tbody tr th {\n",
       "        vertical-align: top;\n",
       "    }\n",
       "\n",
       "    .dataframe thead th {\n",
       "        text-align: right;\n",
       "    }\n",
       "</style>\n",
       "<table border=\"1\" class=\"dataframe\">\n",
       "  <thead>\n",
       "    <tr style=\"text-align: right;\">\n",
       "      <th></th>\n",
       "      <th>geoid</th>\n",
       "      <th>scale</th>\n",
       "      <th>county</th>\n",
       "      <th>aland</th>\n",
       "    </tr>\n",
       "  </thead>\n",
       "  <tbody>\n",
       "    <tr>\n",
       "      <th></th>\n",
       "      <td>&lt;object&gt;</td>\n",
       "      <td>&lt;category&gt;</td>\n",
       "      <td>&lt;category&gt;</td>\n",
       "      <td>&lt;float32&gt;</td>\n",
       "    </tr>\n",
       "    <tr>\n",
       "      <th>0</th>\n",
       "      <td>18001</td>\n",
       "      <td>County</td>\n",
       "      <td>Adams</td>\n",
       "      <td>338.924896</td>\n",
       "    </tr>\n",
       "  </tbody>\n",
       "</table>\n",
       "</div>"
      ],
      "text/plain": [
       "      geoid       scale      county       aland\n",
       "   <object>  <category>  <category>   <float32>\n",
       "0     18001      County       Adams  338.924896"
      ]
     },
     "metadata": {},
     "output_type": "display_data"
    }
   ],
   "source": [
    "zoneIN20 = pd.read_parquet(DATA / 'zones/zones_2020.parquet', filters=[\n",
    "    ('state', '==', 'IN')], columns=['geoid', 'scale', 'county', 'aland']).disp()"
   ]
  },
  {
   "cell_type": "markdown",
   "id": "1b5afc9c",
   "metadata": {},
   "source": [
    "### 2.1.2. Population"
   ]
  },
  {
   "cell_type": "code",
   "execution_count": 4,
   "id": "7730237f",
   "metadata": {},
   "outputs": [
    {
     "name": "stdout",
     "output_type": "stream",
     "text": [
      "322,202 rows x 3 cols; Memory: 26.0 MiB\n"
     ]
    },
    {
     "data": {
      "text/html": [
       "<div>\n",
       "<style scoped>\n",
       "    .dataframe tbody tr th:only-of-type {\n",
       "        vertical-align: middle;\n",
       "    }\n",
       "\n",
       "    .dataframe tbody tr th {\n",
       "        vertical-align: top;\n",
       "    }\n",
       "\n",
       "    .dataframe thead th {\n",
       "        text-align: right;\n",
       "    }\n",
       "</style>\n",
       "<table border=\"1\" class=\"dataframe\">\n",
       "  <thead>\n",
       "    <tr style=\"text-align: right;\">\n",
       "      <th></th>\n",
       "      <th>geoid</th>\n",
       "      <th>popu</th>\n",
       "      <th>labor</th>\n",
       "    </tr>\n",
       "  </thead>\n",
       "  <tbody>\n",
       "    <tr>\n",
       "      <th></th>\n",
       "      <td>&lt;object&gt;</td>\n",
       "      <td>&lt;float64&gt;</td>\n",
       "      <td>&lt;float64&gt;</td>\n",
       "    </tr>\n",
       "    <tr>\n",
       "      <th>0</th>\n",
       "      <td>01001</td>\n",
       "      <td>58239.0</td>\n",
       "      <td>27550.0</td>\n",
       "    </tr>\n",
       "  </tbody>\n",
       "</table>\n",
       "</div>"
      ],
      "text/plain": [
       "      geoid       popu      labor\n",
       "   <object>  <float64>  <float64>\n",
       "0     01001    58239.0    27550.0"
      ]
     },
     "metadata": {},
     "output_type": "display_data"
    }
   ],
   "source": [
    "popu = pd.read_parquet(DATA / 'ses/acs/acs_2021.parquet',\n",
    "                       columns=['geoid', 'popu', 'labor']).disp()"
   ]
  },
  {
   "cell_type": "markdown",
   "id": "4d138c5c",
   "metadata": {},
   "source": [
    "### 2.1.3. Opportunities"
   ]
  },
  {
   "cell_type": "code",
   "execution_count": 5,
   "id": "a6759f79",
   "metadata": {},
   "outputs": [],
   "source": [
    "jobs = (pd.read_parquet(DATA / 'opport/job_totals_2021.parquet')\n",
    "        .rename(columns=D(nJobs='opport')).assign(purpose='Work'))"
   ]
  },
  {
   "cell_type": "code",
   "execution_count": 6,
   "id": "a75fe927",
   "metadata": {},
   "outputs": [],
   "source": [
    "pois = (pd.read_parquet(DATA / 'opport/poi_totals_2020.parquet')\n",
    "        .rename(columns=D(nPois='opport')).assign(purpose='Non-work'))"
   ]
  },
  {
   "cell_type": "code",
   "execution_count": 7,
   "id": "4f478f15",
   "metadata": {},
   "outputs": [
    {
     "name": "stdout",
     "output_type": "stream",
     "text": [
      "2,253,050 rows x 5 cols; Memory: 70.1 MiB\n"
     ]
    },
    {
     "data": {
      "text/html": [
       "<div>\n",
       "<style scoped>\n",
       "    .dataframe tbody tr th:only-of-type {\n",
       "        vertical-align: middle;\n",
       "    }\n",
       "\n",
       "    .dataframe tbody tr th {\n",
       "        vertical-align: top;\n",
       "    }\n",
       "\n",
       "    .dataframe thead th {\n",
       "        text-align: right;\n",
       "    }\n",
       "</style>\n",
       "<table border=\"1\" class=\"dataframe\">\n",
       "  <thead>\n",
       "    <tr style=\"text-align: right;\">\n",
       "      <th></th>\n",
       "      <th>geoid</th>\n",
       "      <th>scale</th>\n",
       "      <th>kind</th>\n",
       "      <th>opport</th>\n",
       "      <th>purpose</th>\n",
       "    </tr>\n",
       "  </thead>\n",
       "  <tbody>\n",
       "    <tr>\n",
       "      <th></th>\n",
       "      <td>&lt;category&gt;</td>\n",
       "      <td>&lt;category&gt;</td>\n",
       "      <td>&lt;category&gt;</td>\n",
       "      <td>&lt;int32&gt;</td>\n",
       "      <td>&lt;category&gt;</td>\n",
       "    </tr>\n",
       "    <tr>\n",
       "      <th>0</th>\n",
       "      <td>01001</td>\n",
       "      <td>County</td>\n",
       "      <td>All</td>\n",
       "      <td>12318</td>\n",
       "      <td>Work</td>\n",
       "    </tr>\n",
       "  </tbody>\n",
       "</table>\n",
       "</div>"
      ],
      "text/plain": [
       "        geoid       scale        kind   opport     purpose\n",
       "   <category>  <category>  <category>  <int32>  <category>\n",
       "0       01001      County         All    12318        Work"
      ]
     },
     "metadata": {},
     "output_type": "display_data"
    }
   ],
   "source": [
    "opport = pd.concat([jobs, pois]).astype(\n",
    "    D(geoid=CAT, scale=CAT, purpose=CAT, kind=CAT)).disp()"
   ]
  },
  {
   "cell_type": "code",
   "execution_count": 8,
   "id": "93547815",
   "metadata": {},
   "outputs": [
    {
     "data": {
      "text/plain": [
       "purpose   kind          \n",
       "Non-work  Education         178400\n",
       "          Groceries         153054\n",
       "          Medical           178731\n",
       "          Social Support    149092\n",
       "          Total             317536\n",
       "Work      All               322685\n",
       "          Low edu           321444\n",
       "          Low wage          319231\n",
       "          POC               312877\n",
       "dtype: int64"
      ]
     },
     "execution_count": 8,
     "metadata": {},
     "output_type": "execute_result"
    }
   ],
   "source": [
    "opport.groupby(['purpose', 'kind']).size().pipe(lambda x: x[x > 0])"
   ]
  },
  {
   "cell_type": "markdown",
   "id": "1ce22151",
   "metadata": {},
   "source": [
    "### 2.1.4. Impedance function"
   ]
  },
  {
   "cell_type": "code",
   "execution_count": 9,
   "id": "8b977144",
   "metadata": {},
   "outputs": [
    {
     "name": "stdout",
     "output_type": "stream",
     "text": [
      "8 rows x 5 cols; Memory: 0.0 MiB\n"
     ]
    },
    {
     "data": {
      "text/html": [
       "<div>\n",
       "<style scoped>\n",
       "    .dataframe tbody tr th:only-of-type {\n",
       "        vertical-align: middle;\n",
       "    }\n",
       "\n",
       "    .dataframe tbody tr th {\n",
       "        vertical-align: top;\n",
       "    }\n",
       "\n",
       "    .dataframe thead th {\n",
       "        text-align: right;\n",
       "    }\n",
       "</style>\n",
       "<table border=\"1\" class=\"dataframe\">\n",
       "  <thead>\n",
       "    <tr style=\"text-align: right;\">\n",
       "      <th></th>\n",
       "      <th>mode</th>\n",
       "      <th>purpose</th>\n",
       "      <th>alpha</th>\n",
       "      <th>beta</th>\n",
       "      <th>r2</th>\n",
       "    </tr>\n",
       "  </thead>\n",
       "  <tbody>\n",
       "    <tr>\n",
       "      <th></th>\n",
       "      <td>&lt;object&gt;</td>\n",
       "      <td>&lt;object&gt;</td>\n",
       "      <td>&lt;float64&gt;</td>\n",
       "      <td>&lt;float64&gt;</td>\n",
       "      <td>&lt;float64&gt;</td>\n",
       "    </tr>\n",
       "    <tr>\n",
       "      <th>0</th>\n",
       "      <td>Drive</td>\n",
       "      <td>Work</td>\n",
       "      <td>-0.00747</td>\n",
       "      <td>1.489207</td>\n",
       "      <td>0.998287</td>\n",
       "    </tr>\n",
       "    <tr>\n",
       "      <th>1</th>\n",
       "      <td>Drive</td>\n",
       "      <td>Non-work</td>\n",
       "      <td>-0.021925</td>\n",
       "      <td>1.33594</td>\n",
       "      <td>0.995546</td>\n",
       "    </tr>\n",
       "    <tr>\n",
       "      <th>2</th>\n",
       "      <td>Transit</td>\n",
       "      <td>Work</td>\n",
       "      <td>-0.000169</td>\n",
       "      <td>2.092834</td>\n",
       "      <td>0.999156</td>\n",
       "    </tr>\n",
       "    <tr>\n",
       "      <th>3</th>\n",
       "      <td>Transit</td>\n",
       "      <td>Non-work</td>\n",
       "      <td>-0.002089</td>\n",
       "      <td>1.605494</td>\n",
       "      <td>0.998025</td>\n",
       "    </tr>\n",
       "    <tr>\n",
       "      <th>4</th>\n",
       "      <td>Walk</td>\n",
       "      <td>Work</td>\n",
       "      <td>-0.05766</td>\n",
       "      <td>1.062567</td>\n",
       "      <td>0.998082</td>\n",
       "    </tr>\n",
       "    <tr>\n",
       "      <th>5</th>\n",
       "      <td>Walk</td>\n",
       "      <td>Non-work</td>\n",
       "      <td>-0.062539</td>\n",
       "      <td>0.986936</td>\n",
       "      <td>0.998743</td>\n",
       "    </tr>\n",
       "    <tr>\n",
       "      <th>6</th>\n",
       "      <td>Bike</td>\n",
       "      <td>Work</td>\n",
       "      <td>-0.007948</td>\n",
       "      <td>1.581497</td>\n",
       "      <td>0.994165</td>\n",
       "    </tr>\n",
       "    <tr>\n",
       "      <th>7</th>\n",
       "      <td>Bike</td>\n",
       "      <td>Non-work</td>\n",
       "      <td>-0.029389</td>\n",
       "      <td>1.133436</td>\n",
       "      <td>0.992023</td>\n",
       "    </tr>\n",
       "  </tbody>\n",
       "</table>\n",
       "</div>"
      ],
      "text/plain": [
       "       mode   purpose      alpha       beta         r2\n",
       "   <object>  <object>  <float64>  <float64>  <float64>\n",
       "0     Drive      Work   -0.00747   1.489207   0.998287\n",
       "1     Drive  Non-work  -0.021925    1.33594   0.995546\n",
       "2   Transit      Work  -0.000169   2.092834   0.999156\n",
       "3   Transit  Non-work  -0.002089   1.605494   0.998025\n",
       "4      Walk      Work   -0.05766   1.062567   0.998082\n",
       "5      Walk  Non-work  -0.062539   0.986936   0.998743\n",
       "6      Bike      Work  -0.007948   1.581497   0.994165\n",
       "7      Bike  Non-work  -0.029389   1.133436   0.992023"
      ]
     },
     "metadata": {},
     "output_type": "display_data"
    }
   ],
   "source": [
    "impedParams = pd.read_csv(DATA / 'impedance/fitted-params-2.csv').disp(None)"
   ]
  },
  {
   "cell_type": "markdown",
   "id": "781bcb08",
   "metadata": {},
   "source": [
    "## 2.2. Travel times"
   ]
  },
  {
   "cell_type": "markdown",
   "id": "6a89a4a5",
   "metadata": {},
   "source": [
    "### 2.2.1. Indiana (GDM)"
   ]
  },
  {
   "cell_type": "code",
   "execution_count": 10,
   "id": "b87b8471",
   "metadata": {},
   "outputs": [
    {
     "name": "stdout",
     "output_type": "stream",
     "text": [
      "8,578,746 rows x 5 cols; Memory: 148.7 MiB\n"
     ]
    },
    {
     "data": {
      "text/html": [
       "<div>\n",
       "<style scoped>\n",
       "    .dataframe tbody tr th:only-of-type {\n",
       "        vertical-align: middle;\n",
       "    }\n",
       "\n",
       "    .dataframe tbody tr th {\n",
       "        vertical-align: top;\n",
       "    }\n",
       "\n",
       "    .dataframe thead th {\n",
       "        text-align: right;\n",
       "    }\n",
       "</style>\n",
       "<table border=\"1\" class=\"dataframe\">\n",
       "  <thead>\n",
       "    <tr style=\"text-align: right;\">\n",
       "      <th></th>\n",
       "      <th>scale</th>\n",
       "      <th>mode</th>\n",
       "      <th>src</th>\n",
       "      <th>trg</th>\n",
       "      <th>time</th>\n",
       "    </tr>\n",
       "  </thead>\n",
       "  <tbody>\n",
       "    <tr>\n",
       "      <th></th>\n",
       "      <td>&lt;category&gt;</td>\n",
       "      <td>&lt;category&gt;</td>\n",
       "      <td>&lt;category&gt;</td>\n",
       "      <td>&lt;category&gt;</td>\n",
       "      <td>&lt;float32&gt;</td>\n",
       "    </tr>\n",
       "    <tr>\n",
       "      <th>0</th>\n",
       "      <td>Tract</td>\n",
       "      <td>Transit</td>\n",
       "      <td>18105001304</td>\n",
       "      <td>18105001301</td>\n",
       "      <td>54.466667</td>\n",
       "    </tr>\n",
       "  </tbody>\n",
       "</table>\n",
       "</div>"
      ],
      "text/plain": [
       "        scale        mode          src          trg       time\n",
       "   <category>  <category>   <category>   <category>  <float32>\n",
       "0       Tract     Transit  18105001304  18105001301  54.466667"
      ]
     },
     "metadata": {},
     "output_type": "display_data"
    }
   ],
   "source": [
    "ttIN = pd.read_parquet(DATA / 'od_cost/gdm_2020.parquet',\n",
    "                       filters=[('time', '<=', 90 * 60)],\n",
    "                       columns='scale mode src trg time'.split())\n",
    "ttIN.time /= 60 # convert to minutes\n",
    "sameZone = (ttIN[['scale', 'mode', 'src']].drop_duplicates()\n",
    "            .assign(trg=lambda df: df.src, time=0.))\n",
    "ttIN = pd.concat([ttIN, sameZone]).astype(\n",
    "    D(scale=CAT, mode=CAT, src=CAT, trg=CAT, time=F32)).disp()"
   ]
  },
  {
   "cell_type": "markdown",
   "id": "be245c70",
   "metadata": {},
   "source": [
    "### 2.2.2. Top 50 MSAs (OSRM)"
   ]
  },
  {
   "cell_type": "code",
   "execution_count": 11,
   "id": "49a915f2",
   "metadata": {},
   "outputs": [
    {
     "name": "stdout",
     "output_type": "stream",
     "text": [
      "2,537,638 rows x 5 cols; Memory: 24.6 MiB\n"
     ]
    },
    {
     "data": {
      "text/html": [
       "<div>\n",
       "<style scoped>\n",
       "    .dataframe tbody tr th:only-of-type {\n",
       "        vertical-align: middle;\n",
       "    }\n",
       "\n",
       "    .dataframe tbody tr th {\n",
       "        vertical-align: top;\n",
       "    }\n",
       "\n",
       "    .dataframe thead th {\n",
       "        text-align: right;\n",
       "    }\n",
       "</style>\n",
       "<table border=\"1\" class=\"dataframe\">\n",
       "  <thead>\n",
       "    <tr style=\"text-align: right;\">\n",
       "      <th></th>\n",
       "      <th>scale</th>\n",
       "      <th>mode</th>\n",
       "      <th>src</th>\n",
       "      <th>trg</th>\n",
       "      <th>time</th>\n",
       "    </tr>\n",
       "  </thead>\n",
       "  <tbody>\n",
       "    <tr>\n",
       "      <th></th>\n",
       "      <td>&lt;category&gt;</td>\n",
       "      <td>&lt;category&gt;</td>\n",
       "      <td>&lt;category&gt;</td>\n",
       "      <td>&lt;category&gt;</td>\n",
       "      <td>&lt;float32&gt;</td>\n",
       "    </tr>\n",
       "    <tr>\n",
       "      <th>0</th>\n",
       "      <td>BG</td>\n",
       "      <td>Drive</td>\n",
       "      <td>480219501011</td>\n",
       "      <td>480219501011</td>\n",
       "      <td>0.0</td>\n",
       "    </tr>\n",
       "  </tbody>\n",
       "</table>\n",
       "</div>"
      ],
      "text/plain": [
       "        scale        mode           src           trg       time\n",
       "   <category>  <category>    <category>    <category>  <float32>\n",
       "0          BG       Drive  480219501011  480219501011        0.0"
      ]
     },
     "metadata": {},
     "output_type": "display_data"
    }
   ],
   "source": [
    "def get_tt_msa(msa):\n",
    "    res = []\n",
    "    cols = D(src_geoid='src', trg_geoid='trg', duration='time')\n",
    "    for mode in ['drive', 'bike', 'walk']:\n",
    "        fpath = DATA / f'od_cost/osrm/msa/{msa}/bg_{mode}_2020.parquet'\n",
    "        df = pd.read_parquet(fpath, columns=list(cols))\n",
    "        df.duration /= 60 # convert to minutes\n",
    "        res.append(df.rename(columns=cols).assign(mode=mode.title()))\n",
    "    df = pd.concat(res).reset_index(drop=1)#.astype(D(mode=CAT))\n",
    "    res = [df.assign(scale='BG')]\n",
    "    for scale, nChar in D(County=5, Tract=11).items():\n",
    "        d = df.assign(src=df.src.str[:nChar], trg=df.trg.str[:nChar])\n",
    "        d = d.groupby(['src', 'trg', 'mode'])['time'].agg(np.median)\n",
    "        res.append(d.reset_index().assign(scale=scale))\n",
    "    df = pd.concat(res).reset_index(drop=1)\n",
    "    catCols = ['scale', 'mode', 'src', 'trg']\n",
    "    df = df.astype({x: CAT for x in catCols})[catCols + ['time']]\n",
    "    return df\n",
    "\n",
    "df = get_tt_msa('austin').disp()"
   ]
  },
  {
   "cell_type": "markdown",
   "id": "ff44df54",
   "metadata": {},
   "source": [
    "## 2.3. Compute accessibility"
   ]
  },
  {
   "cell_type": "markdown",
   "id": "777fd049",
   "metadata": {},
   "source": [
    "- Impedance weight: $$ w_{i,j}^{k,m} = f_{k,m}(c_{m,i,j}) = c_{m,i,j}^{\\alpha_{k,m}} e^{\\beta_{k,m} c_{m,i,j}} $$\n",
    "- Contour: $$ A_i^{k,m,t} = \\sum_{j\\in C_i(t)} o_j^k $$\n",
    "- Gravity: $$ A_i^{k,m,t} = \\sum_{j\\in C_i(t)} o_j^k\\cdot w_{i,j}^{k,m} $$\n",
    "- Competition: $$ A_i^{k,m,t} = \\sum_{j\\in C_i(t)} \\frac{o_j^k\\cdot w_{i,j}^{k,m}}{\\sum_{l\\in C_j(t)} p_j^k\\cdot w_{i,j}^{k,m}} $$"
   ]
  },
  {
   "cell_type": "code",
   "execution_count": 12,
   "id": "ae1651d2",
   "metadata": {},
   "outputs": [],
   "source": [
    "thresholds = (15, 30, 45, 60, 90) # travel time thresholds (minutes)"
   ]
  },
  {
   "cell_type": "code",
   "execution_count": 13,
   "id": "0ecf300a",
   "metadata": {},
   "outputs": [],
   "source": [
    "def get_access(fname, times, opport=opport, popu=popu, params=impedParams,\n",
    "               thresholds=thresholds, overwrite=False):\n",
    "    outpath = DATA / f'access/{fname}.parquet'\n",
    "    if (df := file_check(outpath, overwrite)) is not None: return df\n",
    "    res = []\n",
    "    times = times.astype(D(src=str, trg=str))\n",
    "    opport_grps = opport.groupby(['kind', 'purpose'])\n",
    "    for thresh in tqdm(thresholds):\n",
    "        tt = times[times.time <= thresh].copy()\n",
    "        for (scale, mode), od_ in tt.groupby(['scale', 'mode']):\n",
    "            for (kind, purp), df in opport_grps:\n",
    "                df = df[df['scale'] == scale]\n",
    "                r = params.query(f'mode==\"{mode}\" & purpose==\"{purp}\"').iloc[0]\n",
    "                od = od_[['src', 'trg', 'time']].copy()\n",
    "                od['weight'] = np.exp(r.alpha * od.pop('time') ** r.beta)\n",
    "                od = od.merge(df.rename(columns=D(geoid='trg'))[['trg', 'opport']])\n",
    "                od['numer'] = od['opport'] * od['weight']\n",
    "                xs = (od.groupby('src')[['opport', 'numer']].sum()\n",
    "                      .rename(columns=D(opport='Contour', numer='Gravity'))\n",
    "                      .astype(F32).rename_axis('geoid').reset_index()\n",
    "                      .melt('geoid', var_name='measure', value_name='access'))\n",
    "                fca = od.merge(popu, left_on='src', right_on='geoid')\n",
    "                dmd_col = 'labor' if purp == 'Work' else 'popu'\n",
    "                fca['denom'] = fca[dmd_col] * fca['weight']\n",
    "                denom = fca.groupby('trg')['denom'].sum().reset_index()\n",
    "                od = od.merge(denom, on='trg')\n",
    "                od['ratio'] = od['numer'] / od['denom']\n",
    "                fca = (od.groupby('src')['ratio'].sum().rename('access')\n",
    "                       .astype(F32).rename_axis('geoid')\n",
    "                       .reset_index().assign(measure='Competition'))\n",
    "                res.append(pd.concat([xs, fca]).assign(\n",
    "                    scale=scale, mode=mode, purpose=purp,\n",
    "                    kind=kind, thresh=str(thresh)))\n",
    "    xs = pd.concat(res).reset_index(drop=1)\n",
    "    catCols = 'measure purpose kind mode thresh scale geoid'.split()\n",
    "    xs = xs.astype({x: CAT for x in catCols} | D(access=F32))\n",
    "    xs = xs[catCols + ['access']]\n",
    "    xs.to_parquet(mkfile(outpath))\n",
    "    return xs\n",
    "\n",
    "# xs = get_access('base/msa/birmingham', overwrite=0); xs # 58s"
   ]
  },
  {
   "cell_type": "markdown",
   "id": "2b8dba02",
   "metadata": {},
   "source": [
    "### 2.3.1. Indiana (GDM)"
   ]
  },
  {
   "cell_type": "code",
   "execution_count": 14,
   "id": "661da347",
   "metadata": {},
   "outputs": [
    {
     "name": "stdout",
     "output_type": "stream",
     "text": [
      "3,496,399 rows x 8 cols; Memory: 40.7 MiB\n"
     ]
    },
    {
     "data": {
      "text/html": [
       "<div>\n",
       "<style scoped>\n",
       "    .dataframe tbody tr th:only-of-type {\n",
       "        vertical-align: middle;\n",
       "    }\n",
       "\n",
       "    .dataframe tbody tr th {\n",
       "        vertical-align: top;\n",
       "    }\n",
       "\n",
       "    .dataframe thead th {\n",
       "        text-align: right;\n",
       "    }\n",
       "</style>\n",
       "<table border=\"1\" class=\"dataframe\">\n",
       "  <thead>\n",
       "    <tr style=\"text-align: right;\">\n",
       "      <th></th>\n",
       "      <th>measure</th>\n",
       "      <th>purpose</th>\n",
       "      <th>kind</th>\n",
       "      <th>mode</th>\n",
       "      <th>thresh</th>\n",
       "      <th>scale</th>\n",
       "      <th>geoid</th>\n",
       "      <th>access</th>\n",
       "    </tr>\n",
       "  </thead>\n",
       "  <tbody>\n",
       "    <tr>\n",
       "      <th></th>\n",
       "      <td>&lt;category&gt;</td>\n",
       "      <td>&lt;category&gt;</td>\n",
       "      <td>&lt;category&gt;</td>\n",
       "      <td>&lt;category&gt;</td>\n",
       "      <td>&lt;category&gt;</td>\n",
       "      <td>&lt;category&gt;</td>\n",
       "      <td>&lt;category&gt;</td>\n",
       "      <td>&lt;float32&gt;</td>\n",
       "    </tr>\n",
       "    <tr>\n",
       "      <th>0</th>\n",
       "      <td>Contour</td>\n",
       "      <td>Work</td>\n",
       "      <td>All</td>\n",
       "      <td>Bike</td>\n",
       "      <td>15</td>\n",
       "      <td>BG</td>\n",
       "      <td>180010301001</td>\n",
       "      <td>90.0</td>\n",
       "    </tr>\n",
       "  </tbody>\n",
       "</table>\n",
       "</div>"
      ],
      "text/plain": [
       "      measure     purpose        kind        mode      thresh       scale  \\\n",
       "   <category>  <category>  <category>  <category>  <category>  <category>   \n",
       "0     Contour        Work         All        Bike          15          BG   \n",
       "\n",
       "          geoid     access  \n",
       "     <category>  <float32>  \n",
       "0  180010301001       90.0  "
      ]
     },
     "metadata": {},
     "output_type": "display_data"
    }
   ],
   "source": [
    "xsIN = get_access('base/indiana', ttIN, overwrite=0).disp() # 3m18s"
   ]
  },
  {
   "cell_type": "markdown",
   "id": "889f9aa7",
   "metadata": {},
   "source": [
    "### 2.3.2. Top MSAs (OSRM)"
   ]
  },
  {
   "cell_type": "code",
   "execution_count": 15,
   "id": "0a4ca971",
   "metadata": {},
   "outputs": [],
   "source": [
    "def get_access_msa(msa):\n",
    "    times = get_tt_msa(msa)\n",
    "    return get_access(f'base/msa/{msa}', times)\n",
    "\n",
    "msas = os.listdir(f'{DATA}/od_cost/osrm/msa')\n",
    "# %time pqdm(msas, get_access_msa, n_jobs=25); # 2h30m2s"
   ]
  },
  {
   "cell_type": "markdown",
   "id": "9e69832a",
   "metadata": {},
   "source": [
    "## Export for publication"
   ]
  },
  {
   "cell_type": "code",
   "execution_count": 16,
   "id": "e8031e68",
   "metadata": {},
   "outputs": [],
   "source": [
    "def export_access_msa1(path):\n",
    "    df = pd.read_parquet(path, columns=[\n",
    "        'measure', 'kind', 'mode', 'thresh', 'geoid', 'access'])\n",
    "    df.measure = df.measure.astype(str).map(\n",
    "        D(Contour='C', Gravity='G', Competition='F'))\n",
    "    df.measure += (df['mode'].str[0] + df['thresh'].astype(str))\n",
    "    df.kind = df.kind.astype(str).map({v: k for k, v in D(\n",
    "        J0='All', JE='Low edu', JR='POC', JW='Low wage',\n",
    "        P0='Total', PE='Education', PG='Groceries',\n",
    "        PM='Medical', PS='Social Support').items()})\n",
    "    combs = [x + y for x, y in it.product(\n",
    "        'CGF', 'D15 D30 D45 D60 W15 W30 B15 B30'.split())]\n",
    "    df = df[df.measure.isin(combs)]\n",
    "    df.measure += df.kind\n",
    "    df = df.pivot_table('access', 'geoid', 'measure')\n",
    "    df = df.fillna(0).astype(F32)\n",
    "    return df\n",
    "\n",
    "# x = export_access_msa1(DATA / 'access/base/msa/austin.parquet'); x"
   ]
  },
  {
   "cell_type": "code",
   "execution_count": 17,
   "id": "23d835b8",
   "metadata": {},
   "outputs": [
    {
     "name": "stdout",
     "output_type": "stream",
     "text": [
      "140,890 rows x 220 cols; Memory: 258.0 MiB\n"
     ]
    },
    {
     "data": {
      "text/html": [
       "<div>\n",
       "<style scoped>\n",
       "    .dataframe tbody tr th:only-of-type {\n",
       "        vertical-align: middle;\n",
       "    }\n",
       "\n",
       "    .dataframe tbody tr th {\n",
       "        vertical-align: top;\n",
       "    }\n",
       "\n",
       "    .dataframe thead th {\n",
       "        text-align: right;\n",
       "    }\n",
       "</style>\n",
       "<table border=\"1\" class=\"dataframe\">\n",
       "  <thead>\n",
       "    <tr style=\"text-align: right;\">\n",
       "      <th></th>\n",
       "      <th>FIPS</th>\n",
       "      <th>SCALE</th>\n",
       "      <th>STATE</th>\n",
       "      <th>CITY</th>\n",
       "      <th>CB15J0</th>\n",
       "      <th>CB15JE</th>\n",
       "      <th>CB15JR</th>\n",
       "      <th>CB15JW</th>\n",
       "      <th>CB15P0</th>\n",
       "      <th>CB15PE</th>\n",
       "      <th>...</th>\n",
       "      <th>GW15PS</th>\n",
       "      <th>GW30J0</th>\n",
       "      <th>GW30JE</th>\n",
       "      <th>GW30JR</th>\n",
       "      <th>GW30JW</th>\n",
       "      <th>GW30P0</th>\n",
       "      <th>GW30PE</th>\n",
       "      <th>GW30PG</th>\n",
       "      <th>GW30PM</th>\n",
       "      <th>GW30PS</th>\n",
       "    </tr>\n",
       "  </thead>\n",
       "  <tbody>\n",
       "    <tr>\n",
       "      <th></th>\n",
       "      <td>&lt;int64&gt;</td>\n",
       "      <td>&lt;object&gt;</td>\n",
       "      <td>&lt;object&gt;</td>\n",
       "      <td>&lt;object&gt;</td>\n",
       "      <td>&lt;float64&gt;</td>\n",
       "      <td>&lt;float64&gt;</td>\n",
       "      <td>&lt;float64&gt;</td>\n",
       "      <td>&lt;float64&gt;</td>\n",
       "      <td>&lt;float64&gt;</td>\n",
       "      <td>&lt;float64&gt;</td>\n",
       "      <td>...</td>\n",
       "      <td>&lt;float64&gt;</td>\n",
       "      <td>&lt;float64&gt;</td>\n",
       "      <td>&lt;float64&gt;</td>\n",
       "      <td>&lt;float64&gt;</td>\n",
       "      <td>&lt;float64&gt;</td>\n",
       "      <td>&lt;float64&gt;</td>\n",
       "      <td>&lt;float64&gt;</td>\n",
       "      <td>&lt;float64&gt;</td>\n",
       "      <td>&lt;float64&gt;</td>\n",
       "      <td>&lt;float64&gt;</td>\n",
       "    </tr>\n",
       "    <tr>\n",
       "      <th>0</th>\n",
       "      <td>40130101022</td>\n",
       "      <td>BG</td>\n",
       "      <td>AZ</td>\n",
       "      <td>Phoenix</td>\n",
       "      <td>203.0</td>\n",
       "      <td>72.0</td>\n",
       "      <td>8.0</td>\n",
       "      <td>21.0</td>\n",
       "      <td>6.0</td>\n",
       "      <td>0.0</td>\n",
       "      <td>...</td>\n",
       "      <td>0.0</td>\n",
       "      <td>203.0</td>\n",
       "      <td>72.0</td>\n",
       "      <td>8.0</td>\n",
       "      <td>21.0</td>\n",
       "      <td>6.0</td>\n",
       "      <td>0.0</td>\n",
       "      <td>0.0</td>\n",
       "      <td>0.0</td>\n",
       "      <td>0.0</td>\n",
       "    </tr>\n",
       "  </tbody>\n",
       "</table>\n",
       "<p>2 rows × 220 columns</p>\n",
       "</div>"
      ],
      "text/plain": [
       "          FIPS     SCALE     STATE      CITY     CB15J0     CB15JE     CB15JR  \\\n",
       "       <int64>  <object>  <object>  <object>  <float64>  <float64>  <float64>   \n",
       "0  40130101022        BG        AZ   Phoenix      203.0       72.0        8.0   \n",
       "\n",
       "      CB15JW     CB15P0     CB15PE  ...     GW15PS     GW30J0     GW30JE  \\\n",
       "   <float64>  <float64>  <float64>  ...  <float64>  <float64>  <float64>   \n",
       "0       21.0        6.0        0.0  ...        0.0      203.0       72.0   \n",
       "\n",
       "      GW30JR     GW30JW     GW30P0     GW30PE     GW30PG     GW30PM     GW30PS  \n",
       "   <float64>  <float64>  <float64>  <float64>  <float64>  <float64>  <float64>  \n",
       "0        8.0       21.0        6.0        0.0        0.0        0.0        0.0  \n",
       "\n",
       "[2 rows x 220 columns]"
      ]
     },
     "metadata": {},
     "output_type": "display_data"
    }
   ],
   "source": [
    "# 39s\n",
    "# paths = list((DATA / 'access/base/msa').glob('*.parquet'))\n",
    "# xsMSApub = pd.concat(pqdm(paths, export_access_msa1, n_jobs=40))\n",
    "# xsMSApub = (zoneMSA.drop(columns='aland').merge(xsMSApub, on='geoid')\n",
    "#             .sort_values(['scale', 'geoid']).reset_index(drop=1)\n",
    "#             .rename(columns=D(geoid='fips', msa='city'))\n",
    "#             .rename(columns=str.upper)).disp()\n",
    "# xsMSApub.to_csv(DATA / 'access/export_us_msa_access.csv', index=False)\n",
    "xsMSApub = pd.read_csv(DATA / 'access/export_us_msa_access.csv').disp()"
   ]
  },
  {
   "cell_type": "markdown",
   "id": "015a56e6",
   "metadata": {},
   "source": [
    "## 2.4. Maximum accessibility"
   ]
  },
  {
   "cell_type": "code",
   "execution_count": 18,
   "id": "6da43fb9",
   "metadata": {},
   "outputs": [],
   "source": [
    "maxSpeeds = {k: v * MPH2MPS for k, v in D(\n",
    "    Drive=70, Walk=3.1, Bike=16, Transit=20).items()}\n",
    "maxTime = 60 * 60 # maximum allowed time (seconds)"
   ]
  },
  {
   "cell_type": "code",
   "execution_count": 19,
   "id": "ae699175",
   "metadata": {},
   "outputs": [
    {
     "name": "stdout",
     "output_type": "stream",
     "text": [
      "9,821,504 rows x 5 cols; Memory: 95.1 MiB\n"
     ]
    },
    {
     "data": {
      "text/html": [
       "<div>\n",
       "<style scoped>\n",
       "    .dataframe tbody tr th:only-of-type {\n",
       "        vertical-align: middle;\n",
       "    }\n",
       "\n",
       "    .dataframe tbody tr th {\n",
       "        vertical-align: top;\n",
       "    }\n",
       "\n",
       "    .dataframe thead th {\n",
       "        text-align: right;\n",
       "    }\n",
       "</style>\n",
       "<table border=\"1\" class=\"dataframe\">\n",
       "  <thead>\n",
       "    <tr style=\"text-align: right;\">\n",
       "      <th></th>\n",
       "      <th>scale</th>\n",
       "      <th>mode</th>\n",
       "      <th>src</th>\n",
       "      <th>trg</th>\n",
       "      <th>time</th>\n",
       "    </tr>\n",
       "  </thead>\n",
       "  <tbody>\n",
       "    <tr>\n",
       "      <th></th>\n",
       "      <td>&lt;category&gt;</td>\n",
       "      <td>&lt;category&gt;</td>\n",
       "      <td>&lt;category&gt;</td>\n",
       "      <td>&lt;category&gt;</td>\n",
       "      <td>&lt;float32&gt;</td>\n",
       "    </tr>\n",
       "    <tr>\n",
       "      <th>0</th>\n",
       "      <td>BG</td>\n",
       "      <td>Drive</td>\n",
       "      <td>181270511021</td>\n",
       "      <td>181270511021</td>\n",
       "      <td>0.0</td>\n",
       "    </tr>\n",
       "  </tbody>\n",
       "</table>\n",
       "</div>"
      ],
      "text/plain": [
       "        scale        mode           src           trg       time\n",
       "   <category>  <category>    <category>    <category>  <float32>\n",
       "0          BG       Drive  181270511021  181270511021        0.0"
      ]
     },
     "metadata": {},
     "output_type": "display_data"
    }
   ],
   "source": [
    "def get_max_tt(query, maxSpeeds=maxSpeeds, maxTime=maxTime):\n",
    "    filters = [(k, '==', v) for k, v in query.items()]\n",
    "    zones = gpd.read_parquet(\n",
    "        DATA / 'zones/zones_2020.parquet',\n",
    "        filters=filters, columns=['geoid', 'scale', 'geometry'])\n",
    "    xy = zones.centroid.get_coordinates() # columns=['x','y']\n",
    "    allZones = pd.concat([zones[['geoid', 'scale']], xy], axis=1)\n",
    "    res = []\n",
    "    for scale, zones in allZones.groupby('scale'):\n",
    "        zones = zones.reset_index(drop=1)\n",
    "        tree = KDTree(zones[['x', 'y']])\n",
    "        for mode, maxSpeed in maxSpeeds.items():\n",
    "            maxDist = maxTime * maxSpeed\n",
    "            src, trg = [zones.loc[idx].reset_index(drop=1) for idx in \n",
    "                        tree.query_pairs(maxDist, output_type='ndarray').T]\n",
    "            dist = ((src.x - trg.x) ** 2 + (src.y - trg.y) ** 2) ** 0.5\n",
    "            time = dist / maxSpeed\n",
    "            src, trg = src.geoid.values, trg.geoid.values\n",
    "            nodes = list(set(src) | set(trg))\n",
    "            times = pd.concat([Pdf(D(src=nodes, trg=nodes, time=0)),\n",
    "                               Pdf(D(src=src, trg=trg, time=time)),\n",
    "                               Pdf(D(src=trg, trg=src, time=time))])\n",
    "            res.append(times.assign(scale=scale, mode=mode))\n",
    "    times = pd.concat(res).reset_index(drop=1).astype(D(time=F32))\n",
    "    times.time = (times.time / 60).astype(F32) # convert to minutes\n",
    "    catCols = ['scale', 'mode', 'src', 'trg']\n",
    "    times = times[catCols + ['time']].astype({x: CAT for x in catCols})\n",
    "    return times\n",
    "\n",
    "ttMaxIN = get_max_tt(D(state='IN')).disp() # 19s"
   ]
  },
  {
   "cell_type": "markdown",
   "id": "ba643c78",
   "metadata": {},
   "source": [
    "### 2.4.1. Indiana"
   ]
  },
  {
   "cell_type": "code",
   "execution_count": 20,
   "id": "4f375e2b",
   "metadata": {},
   "outputs": [
    {
     "name": "stdout",
     "output_type": "stream",
     "text": [
      "3,496,399 rows x 8 cols; Memory: 40.7 MiB\n"
     ]
    },
    {
     "data": {
      "text/html": [
       "<div>\n",
       "<style scoped>\n",
       "    .dataframe tbody tr th:only-of-type {\n",
       "        vertical-align: middle;\n",
       "    }\n",
       "\n",
       "    .dataframe tbody tr th {\n",
       "        vertical-align: top;\n",
       "    }\n",
       "\n",
       "    .dataframe thead th {\n",
       "        text-align: right;\n",
       "    }\n",
       "</style>\n",
       "<table border=\"1\" class=\"dataframe\">\n",
       "  <thead>\n",
       "    <tr style=\"text-align: right;\">\n",
       "      <th></th>\n",
       "      <th>measure</th>\n",
       "      <th>purpose</th>\n",
       "      <th>kind</th>\n",
       "      <th>mode</th>\n",
       "      <th>thresh</th>\n",
       "      <th>scale</th>\n",
       "      <th>geoid</th>\n",
       "      <th>access</th>\n",
       "    </tr>\n",
       "  </thead>\n",
       "  <tbody>\n",
       "    <tr>\n",
       "      <th></th>\n",
       "      <td>&lt;category&gt;</td>\n",
       "      <td>&lt;category&gt;</td>\n",
       "      <td>&lt;category&gt;</td>\n",
       "      <td>&lt;category&gt;</td>\n",
       "      <td>&lt;category&gt;</td>\n",
       "      <td>&lt;category&gt;</td>\n",
       "      <td>&lt;category&gt;</td>\n",
       "      <td>&lt;float32&gt;</td>\n",
       "    </tr>\n",
       "    <tr>\n",
       "      <th>0</th>\n",
       "      <td>Contour</td>\n",
       "      <td>Work</td>\n",
       "      <td>All</td>\n",
       "      <td>Bike</td>\n",
       "      <td>15</td>\n",
       "      <td>BG</td>\n",
       "      <td>180010301001</td>\n",
       "      <td>90.0</td>\n",
       "    </tr>\n",
       "  </tbody>\n",
       "</table>\n",
       "</div>"
      ],
      "text/plain": [
       "      measure     purpose        kind        mode      thresh       scale  \\\n",
       "   <category>  <category>  <category>  <category>  <category>  <category>   \n",
       "0     Contour        Work         All        Bike          15          BG   \n",
       "\n",
       "          geoid     access  \n",
       "     <category>  <float32>  \n",
       "0  180010301001       90.0  "
      ]
     },
     "metadata": {},
     "output_type": "display_data"
    }
   ],
   "source": [
    "xsMaxIN = get_access('max/indiana', ttMaxIN, overwrite=0).disp() # 6m19s"
   ]
  },
  {
   "cell_type": "markdown",
   "id": "d09bcfc7",
   "metadata": {},
   "source": [
    "### 2.4.2. Top MSAs"
   ]
  },
  {
   "cell_type": "code",
   "execution_count": 21,
   "id": "447ccc07",
   "metadata": {
    "tags": []
   },
   "outputs": [],
   "source": [
    "# def get_max_access_msa(msa):\n",
    "#     name = msa.replace('-', ' ').title()\n",
    "#     times = get_max_tt(D(msa=name))\n",
    "#     return get_access(f'max/msa/{msa}', times)\n",
    "\n",
    "# msas = tqdm(sorted(os.listdir(f'{DATA}/od_cost/osrm/msa')))\n",
    "# # x = get_max_access_msa('austin'); x # 2m39s\n",
    "# print(f'Started: {dt.datetime.now()}')\n",
    "# for msa in tqdm(msas):\n",
    "#     msas.set_description(msa)\n",
    "#     try:\n",
    "#         get_max_access_msa(msa)\n",
    "#     except Exception as e:\n",
    "#         print(f'ERROR in {msa}: {e}')\n",
    "# print(f'Ended: {dt.datetime.now()}')"
   ]
  },
  {
   "cell_type": "markdown",
   "metadata": {},
   "source": [
    "## 2.5. Derived access"
   ]
  },
  {
   "cell_type": "code",
   "execution_count": 22,
   "id": "b916d7cb",
   "metadata": {},
   "outputs": [
    {
     "name": "stdout",
     "output_type": "stream",
     "text": [
      "3,570,660 rows x 7 cols; Memory: 38.2 MiB\n"
     ]
    },
    {
     "data": {
      "text/html": [
       "<div>\n",
       "<style scoped>\n",
       "    .dataframe tbody tr th:only-of-type {\n",
       "        vertical-align: middle;\n",
       "    }\n",
       "\n",
       "    .dataframe tbody tr th {\n",
       "        vertical-align: top;\n",
       "    }\n",
       "\n",
       "    .dataframe thead th {\n",
       "        text-align: right;\n",
       "    }\n",
       "</style>\n",
       "<table border=\"1\" class=\"dataframe\">\n",
       "  <thead>\n",
       "    <tr style=\"text-align: right;\">\n",
       "      <th></th>\n",
       "      <th>measure</th>\n",
       "      <th>mode</th>\n",
       "      <th>thresh</th>\n",
       "      <th>scale</th>\n",
       "      <th>geoid</th>\n",
       "      <th>kind</th>\n",
       "      <th>access</th>\n",
       "    </tr>\n",
       "  </thead>\n",
       "  <tbody>\n",
       "    <tr>\n",
       "      <th></th>\n",
       "      <td>&lt;category&gt;</td>\n",
       "      <td>&lt;category&gt;</td>\n",
       "      <td>&lt;category&gt;</td>\n",
       "      <td>&lt;category&gt;</td>\n",
       "      <td>&lt;category&gt;</td>\n",
       "      <td>&lt;category&gt;</td>\n",
       "      <td>&lt;float32&gt;</td>\n",
       "    </tr>\n",
       "    <tr>\n",
       "      <th>0</th>\n",
       "      <td>Competition</td>\n",
       "      <td>Bike</td>\n",
       "      <td>15</td>\n",
       "      <td>BG</td>\n",
       "      <td>180010301001</td>\n",
       "      <td>Jobs</td>\n",
       "      <td>0.165441</td>\n",
       "    </tr>\n",
       "  </tbody>\n",
       "</table>\n",
       "</div>"
      ],
      "text/plain": [
       "       measure        mode      thresh       scale         geoid        kind  \\\n",
       "    <category>  <category>  <category>  <category>    <category>  <category>   \n",
       "0  Competition        Bike          15          BG  180010301001        Jobs   \n",
       "\n",
       "      access  \n",
       "   <float32>  \n",
       "0   0.165441  "
      ]
     },
     "metadata": {},
     "output_type": "display_data"
    }
   ],
   "source": [
    "def get_derived_access(fname, overwrite=False):\n",
    "    outpath = DATA / f'access/derived/{fname}.parquet'\n",
    "    if (df := file_check(outpath, overwrite)) is not None: return df\n",
    "    xs = pd.read_parquet(DATA / f'access/base/{fname}.parquet')\n",
    "    xs.kind = xs.kind.astype(str) + xs.pop('purpose').astype(str).map(\n",
    "        {'Work': ' jobs', 'Non-work': ' POIs'})\n",
    "    grpCols = ['measure', 'mode', 'thresh', 'scale', 'geoid']\n",
    "    xs = xs.pivot_table('access', grpCols, 'kind')\n",
    "    xs = xs.fillna(0).reset_index().rename_axis(None, axis=1)\n",
    "    xs = xs.rename(columns={'All jobs': 'Jobs', 'Total POIs': 'POIs'})\n",
    "    xs['% Low-wage Jobs'] = xs.pop('Low wage jobs') / xs['Jobs'] * 100\n",
    "    xs['% Jobs for Low-edu'] = xs.pop('Low edu jobs') / xs['Jobs'] * 100\n",
    "    xs['% Jobs for POC'] = xs.pop('POC jobs') / xs['Jobs'] * 100\n",
    "    xs['% Education Facilities'] = xs.pop('Education POIs') / xs['POIs'] * 100\n",
    "    xs['% Grocery Stores'] = xs.pop('Groceries POIs') / xs['POIs'] * 100\n",
    "    xs['% Medical Facilities'] = xs.pop('Medical POIs') / xs['POIs'] * 100\n",
    "    xs['% Social Support'] = xs.pop('Social Support POIs') / xs['POIs'] * 100\n",
    "    xs = xs.melt(grpCols, var_name='kind', value_name='access')\n",
    "    xs = xs.astype({x: CAT for x in grpCols} | D(kind=CAT, access=F32))\n",
    "    xs.to_parquet(mkfile(outpath))\n",
    "    return xs\n",
    "\n",
    "xsIN2 = get_derived_access('indiana').disp() # 7s"
   ]
  },
  {
   "cell_type": "code",
   "execution_count": null,
   "id": "645bc73d",
   "metadata": {},
   "outputs": [],
   "source": []
  }
 ],
 "metadata": {
  "kernelspec": {
   "display_name": "Python 3 (ipykernel)",
   "language": "python",
   "name": "python3"
  },
  "language_info": {
   "codemirror_mode": {
    "name": "ipython",
    "version": 3
   },
   "file_extension": ".py",
   "mimetype": "text/x-python",
   "name": "python",
   "nbconvert_exporter": "python",
   "pygments_lexer": "ipython3",
   "version": "3.11.6"
  }
 },
 "nbformat": 4,
 "nbformat_minor": 5
}
